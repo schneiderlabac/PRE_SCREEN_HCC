{
 "cells": [
  {
   "cell_type": "markdown",
   "id": "0",
   "metadata": {},
   "source": [
    "# Helpers"
   ]
  },
  {
   "cell_type": "code",
   "execution_count": null,
   "id": "1",
   "metadata": {},
   "outputs": [],
   "source": [
    "# Load \"config.R\" for utility functions. \n",
    "#Will also triggger loading of \n",
    "    \n",
    "    # user_config.JSON (including key for project_config)\n",
    "    # project_config.JSON\n",
    "    # preprocessing_visualizations.R\n",
    "    # preprocessing_functions.R\n",
    "\n",
    "user <- \"Jan\" \n",
    "source(\"config.r\")\n",
    "\n",
    "\n",
    "\n",
    "#If certain packages not installed yet via requirements.txt, install them here via\n",
    "# install.packages(\"package_name\")"
   ]
  },
  {
   "cell_type": "markdown",
   "id": "2",
   "metadata": {},
   "source": [
    "# Load raw diagnosis data and reduce its size\n",
    "As not one person but one visit (including blood drawn) is treated as entity, we will mask/reveal the diagnosis dependent on the year of blood withdrawal of a patient. So we will merge blood + diagnosis"
   ]
  },
  {
   "cell_type": "markdown",
   "id": "3",
   "metadata": {},
   "source": [
    "## Load head"
   ]
  },
  {
   "cell_type": "code",
   "execution_count": null,
   "id": "4",
   "metadata": {},
   "outputs": [],
   "source": [
    "# Expect head of df_diagnosis\n",
    "df5 <- fread(paste0(data_path, \"/dataframes/df_diagnosis.txt\"), nrows=5)\n",
    "head(df5)\n"
   ]
  },
  {
   "cell_type": "markdown",
   "id": "5",
   "metadata": {},
   "source": [
    "## Load all"
   ]
  },
  {
   "cell_type": "code",
   "execution_count": null,
   "id": "6",
   "metadata": {},
   "outputs": [],
   "source": [
    "#Load (huge) df_diagnosis\n",
    "df_diagnosis <- fread(paste0(data_path, \"/dataframes/df_diagnosis.txt\"))\n",
    "\n",
    "head(df_diagnosis)\n"
   ]
  },
  {
   "cell_type": "markdown",
   "id": "7",
   "metadata": {},
   "source": [
    "## Reduce huge diagnosis dataset"
   ]
  },
  {
   "cell_type": "code",
   "execution_count": null,
   "id": "8",
   "metadata": {},
   "outputs": [],
   "source": [
    "# =============================================================================\n",
    "# Filtering 12 gb diagnosis dataframe to \"relevant columns only\" and \"first report of ICD code per patient only\", \n",
    "#reducing it to 1GB\n",
    "# That reduced df can then be used for processing, e.g. selecting relevant ICD codes stored in ICD Dict/Excel file above, \n",
    "#without heavy CPU load\n",
    "# =============================================================================\n",
    "\n",
    "filter_earliest_diagnoses <- function(df) {\n",
    "  cat(\"Filtering for earliest diagnosis per person and ICD code...\\n\")\n",
    "  cat(\"Input data dimensions:\", nrow(df), \"rows,\", ncol(df), \"columns\\n\")\n",
    "  \n",
    "  # Convert to data.table if not already\n",
    "  if (!is.data.table(df)) {\n",
    "    df <- as.data.table(df)\n",
    "  }\n",
    "  \n",
    "  # Convert condition_start_datetime to proper datetime if it's character\n",
    "  if (is.character(df$condition_start_datetime)) {\n",
    "    df[, condition_start_datetime := as.POSIXct(condition_start_datetime)]\n",
    "  }\n",
    "  \n",
    "  # Check for required columns\n",
    "  required_cols <- c(\"person_id\", \"source_concept_code\", \"condition_start_datetime\")\n",
    "  missing_cols <- required_cols[!required_cols %in% names(df)]\n",
    "  \n",
    "  if (length(missing_cols) > 0) {\n",
    "    stop(\"Missing required columns: \", paste(missing_cols, collapse = \", \"))\n",
    "  }\n",
    "  \n",
    "  # Remove rows with missing key information\n",
    "  initial_rows <- nrow(df)\n",
    "  df <- df[!is.na(person_id) & !is.na(source_concept_code) & !is.na(condition_start_datetime)]\n",
    "  rows_removed <- initial_rows - nrow(df)\n",
    "  \n",
    "  if (rows_removed > 0) {\n",
    "    cat(\"Removed\", rows_removed, \"rows with missing person_id, source_concept_code, or condition_start_datetime\\n\")\n",
    "  }\n",
    "  \n",
    "  # Filter for earliest occurrence per person and ICD code\n",
    "  # Using data.table syntax for efficiency\n",
    "  df_earliest <- df[order(condition_start_datetime), \n",
    "                    .SD[1], \n",
    "                    by = .(person_id, source_concept_code)]\n",
    "  \n",
    "  # Drop specified columns\n",
    "  columns_to_drop <- c(\"condition_type\", \"source_concept_name\", \"source_vocabulary\")\n",
    "  existing_cols_to_drop <- columns_to_drop[columns_to_drop %in% names(df_earliest)]\n",
    "  \n",
    "  if (length(existing_cols_to_drop) > 0) {\n",
    "    df_earliest <- df_earliest[, !..existing_cols_to_drop]\n",
    "    cat(\"Dropped columns:\", paste(existing_cols_to_drop, collapse = \", \"), \"\\n\")\n",
    "  } else {\n",
    "    cat(\"Note: None of the specified columns to drop were found in the dataset\\n\")\n",
    "  }\n",
    "  \n",
    "  cat(\"Output data dimensions:\", nrow(df_earliest), \"rows,\", ncol(df_earliest), \"columns\\n\")\n",
    "  cat(\"Reduction:\", round((1 - nrow(df_earliest)/nrow(df)) * 100, 1), \"% of rows removed\\n\")\n",
    "  \n",
    "  return(df_earliest)\n",
    "}\n",
    "\n",
    "\n",
    "df_earliest_dt <- filter_earliest_diagnoses(df_diagnosis)\n",
    "\n",
    "head(df_earliest_dt)\n",
    "dim(df_earliest_dt)\n",
    "\n",
    "write_csv(df_earliest_dt, paste0(data_path, \"/dataframes/df_diagnosis_reduced.csv\"))"
   ]
  },
  {
   "cell_type": "markdown",
   "id": "9",
   "metadata": {},
   "source": [
    "# Dataloader: \n",
    "\n",
    "Load data that has previously been reduced to maintain only the first instance of a particular ICD for a particular patient,\n",
    "In the section below, we then further subset the dataframe to maintain only the relevant ICD codes from ICD_groups and ICD_Singles (the ones you want to further explore).\n",
    "\n",
    "Two Options\n",
    "-A: Subset prospectively (for every instance, just the diagnosis that were made before or during time of assessment will be kept, the rest will be ommitted (default for all prospective modelling)\n",
    "\n",
    "-B: Subset all entries, for time-agnostic analysisi"
   ]
  },
  {
   "cell_type": "markdown",
   "id": "10",
   "metadata": {},
   "source": [
    "## Load metadata"
   ]
  },
  {
   "cell_type": "code",
   "execution_count": null,
   "id": "11",
   "metadata": {},
   "outputs": [],
   "source": [
    "# Load metadata (file with columns/ICD codes to investigate)\n",
    "icd_dict_path <- paste0(data_path, \"/Features_AOU.xlsx\")\n",
    "\n",
    "ICD_Groups <- read_excel(icd_dict_path, sheet = \"ICD_Groups\") %>% select(-c(\"n\", \"Summe\"))\n",
    "ICD_Singles <- read_excel(icd_dict_path, sheet = \"ICD_Singles\") %>% select(-c(\"n\", \"Summe\"))\n",
    "\n",
    "#Patients_at_risk <- read_excel(icd_dict_path, sheet = \"Patients at risk\") #relevant for PAR subsetting only"
   ]
  },
  {
   "cell_type": "markdown",
   "id": "12",
   "metadata": {},
   "source": [
    "## Combine metadata to vector"
   ]
  },
  {
   "cell_type": "code",
   "execution_count": null,
   "id": "13",
   "metadata": {},
   "outputs": [],
   "source": [
    "# Combine all ICD codes from both sources\n",
    "icd_codes_groups <- unique(ICD_Groups$ICD10)\n",
    "icd_codes_singles <- unique(ICD_Singles$ICD10)\n",
    "all_icd_codes <- unique(c(icd_codes_groups, icd_codes_singles))\n",
    "\n",
    "# Remove any NA values\n",
    "all_icd_codes <- all_icd_codes[!is.na(all_icd_codes)]\n",
    "\n",
    "cat(\"ICD codes from Groups:\", length(icd_codes_groups), \"\\n\")\n",
    "cat(\"ICD codes from Singles:\", length(icd_codes_singles), \"\\n\")\n",
    "cat(\"Total unique ICD codes:\", length(all_icd_codes), \"\\n\")\n",
    "\n",
    "# Print the vector of ICD codes\n",
    "cat(\"\\nAll ICD codes of interest:\\n\")\n",
    "print(all_icd_codes)"
   ]
  },
  {
   "cell_type": "markdown",
   "id": "14",
   "metadata": {},
   "source": [
    "## Load df_diagnosis (reduced to first instance per diag per patient)"
   ]
  },
  {
   "cell_type": "code",
   "execution_count": null,
   "id": "15",
   "metadata": {},
   "outputs": [],
   "source": [
    "df_diagnosis <- read_csv(paste0(data_path, \"/dataframes/df_diagnosis_reduced.csv\"))\n",
    "df_diagnosis$source_concept_code <- gsub(\"\\\\.\", \"\", df_diagnosis$source_concept_code) #removes the dot in the ICD codes\n",
    "head(df_diagnosis)\n",
    "dim(df_diagnosis)"
   ]
  },
  {
   "cell_type": "markdown",
   "id": "16",
   "metadata": {},
   "source": [
    "## Load Blood data"
   ]
  },
  {
   "cell_type": "code",
   "execution_count": null,
   "id": "17",
   "metadata": {},
   "outputs": [],
   "source": [
    "\n",
    "\n",
    "# Load blood dates\n",
    "df_blood_dates <- read_csv(paste0(data_path, \"/dataframes/df_blood_raw.csv\")) %>% select(\"person_id\", \"year\", \"person_id_year\")\n",
    "\n",
    "df_blood_dates"
   ]
  },
  {
   "cell_type": "markdown",
   "id": "18",
   "metadata": {},
   "source": [
    "# Merge diagnosis_data (prognostic)\n",
    "As not one person but one visit (including blood drawn) is treated as entity, we will mask/reveal the diagnosis dependent on the year of blood withdrawal of a patient. So we will merge blood + diagnosis"
   ]
  },
  {
   "cell_type": "markdown",
   "id": "19",
   "metadata": {},
   "source": [
    "## Filter for relevant ICD codes only"
   ]
  },
  {
   "cell_type": "code",
   "execution_count": null,
   "id": "20",
   "metadata": {},
   "outputs": [],
   "source": [
    "# =============================================================================\n",
    "# STEP 1: FILTER DIAGNOSIS DATA FOR RELEVANT ICD CODES ONLY\n",
    "# =============================================================================\n",
    "\n",
    "cat(\"\\nOriginal diagnosis data dimensions:\", nrow(df_diagnosis), \"rows\\n\")\n",
    "\n",
    "# Create pattern for filtering (codes that START WITH any of our ICD codes)\n",
    "pattern <- paste0(\"^(\", paste(all_icd_codes, collapse = \"|\"), \")\")\n",
    "\n",
    "# Filter diagnosis data\n",
    "df_diagnosis_filtered <- df_diagnosis %>%\n",
    "  filter(grepl(pattern, source_concept_code, perl = TRUE))\n",
    "\n",
    "cat(\"Filtered diagnosis data dimensions:\", nrow(df_diagnosis_filtered), \"rows\\n\")\n",
    "cat(\"Reduction:\", round((1 - nrow(df_diagnosis_filtered)/nrow(df_diagnosis)) * 100, 1), \"% removed\\n\")\n",
    "\n",
    "# Show what ICD codes we actually have in the filtered data\n",
    "filtered_codes <- unique(df_diagnosis_filtered$source_concept_code)\n",
    "cat(\"Unique ICD codes found in filtered data:\", length(filtered_codes), \"\\n\")"
   ]
  },
  {
   "cell_type": "markdown",
   "id": "21",
   "metadata": {},
   "source": [
    "## Merge diagnosis data with blood data"
   ]
  },
  {
   "cell_type": "code",
   "execution_count": null,
   "id": "22",
   "metadata": {},
   "outputs": [],
   "source": [
    "# =============================================================================\n",
    "# STEP 2: SIMPLE MERGE WITH BLOOD DATA\n",
    "# =============================================================================\n",
    "\n",
    "# First, rename year column in blood data to avoid confusion\n",
    "df_blood_dates <- df_blood_dates %>%\n",
    "  rename(blood_year = year)\n",
    "\n",
    "cat(\"\\nMerging blood and diagnosis data...\\n\")\n",
    "cat(\"Blood data dimensions:\", nrow(df_blood_dates), \"rows\\n\")\n",
    "cat(\"Filtered diagnosis dimensions:\", nrow(df_diagnosis_filtered), \"rows\\n\")\n",
    "\n",
    "# Simple merge by person_id (keep all blood measurements)\n",
    "df_diag_blood <- merge(df_blood_dates, df_diagnosis_filtered, by = \"person_id\", all.x = TRUE, allow.cartesian=TRUE)\n",
    "\n",
    "cat(\"Merged data dimensions:\", nrow(df_diag_blood), \"rows\\n\")\n",
    "\n"
   ]
  },
  {
   "cell_type": "markdown",
   "id": "23",
   "metadata": {},
   "source": [
    "## Calculate difftime (year of diag and year of blood measurement)"
   ]
  },
  {
   "cell_type": "code",
   "execution_count": null,
   "id": "24",
   "metadata": {},
   "outputs": [],
   "source": [
    "# =============================================================================\n",
    "# STEP 3: CALCULATE TIME DIFFERENCES AND FILTER\n",
    "# =============================================================================\n",
    "\n",
    "# Add diagnosis year column\n",
    "df_diag_blood <- df_diag_blood %>%\n",
    "  mutate(\n",
    "    diagnosis_year = year(condition_start_datetime),\n",
    "    difftime = blood_year - diagnosis_year\n",
    "  )\n",
    "\n",
    "cat(\"\\nCalculating time differences...\\n\")\n",
    "cat(\"Rows before time filtering:\", nrow(df_diag_blood), \"\\n\")\n",
    "\n",
    "# Define timeframe (e.g., 5 years). Default is the project_config configuration for the current entitiy that is being expored\n",
    "# Check out project_configs-> cca-> timeframe\n",
    "timeframe <- timeframe\n",
    "\n",
    "# Filter: keep only diagnoses that occurred within timeframe years before blood measurement\n",
    "# difftime >= -(timeframe) means: diagnosis_year >= (blood_year - timeframe)\n",
    "# This keeps diagnoses from (blood_year - timeframe) to blood_year\n",
    "df_merged <- df_diag_blood %>%\n",
    "  filter(difftime >= -(timeframe))\n",
    "\n",
    "cat(\"Rows after time filtering (within\", timeframe, \"years):\", nrow(df_merged), \"\\n\")\n",
    "\n",
    "# =============================================================================\n",
    "# STEP 5: DATA QUALITY CHECKS\n",
    "# =============================================================================\n",
    "\n",
    "cat(\"\\n=== DATA QUALITY CHECKS ===\\n\")\n",
    "\n",
    "# Check for any missing values in key columns\n",
    "cat(\"Missing person_id:\", sum(is.na(df_merged$person_id)), \"\\n\")\n",
    "cat(\"Missing person_id_year:\", sum(is.na(df_merged$person_id_year)), \"\\n\")\n",
    "cat(\"Missing source_concept_code:\", sum(is.na(df_merged$source_concept_code)), \"\\n\")\n",
    "cat(\"Missing blood_year:\", sum(is.na(df_merged$blood_year)), \"\\n\")\n",
    "cat(\"Missing diagnosis_year:\", sum(is.na(df_merged$diagnosis_year)), \"\\n\")\n",
    "\n",
    "# Show time difference distribution\n",
    "cat(\"\\nTime difference distribution (blood_year - diagnosis_year):\\n\")\n",
    "print(summary(df_merged$difftime))\n",
    "\n",
    "# Show how many unique person_id_year combinations we have\n",
    "cat(\"Unique person_id_year combinations:\", n_distinct(df_merged$person_id_year), \"\\n\")\n",
    "cat(\"Unique persons:\", n_distinct(df_merged$person_id), \"\\n\")\n",
    "cat(\"Unique ICD codes in final data:\", n_distinct(df_merged$source_concept_code), \"\\n\")\n",
    "\n",
    "# =============================================================================\n",
    "# STEP 6: PREVIEW RESULTS\n",
    "# =============================================================================\n",
    "\n",
    "cat(\"\\n=== PREVIEW OF MERGED DATA ===\\n\")\n",
    "print(head(df_merged, 10))\n",
    "\n",
    "cat(\"\\nColumn names in final merged data:\\n\")\n",
    "print(colnames(df_merged))\n",
    "\n",
    "cat(\"\\nData is ready for ICD Groups and ICD Singles processing!\\n\")"
   ]
  },
  {
   "cell_type": "markdown",
   "id": "25",
   "metadata": {},
   "source": [
    "## Merge on individual ICD Codes"
   ]
  },
  {
   "cell_type": "markdown",
   "id": "26",
   "metadata": {},
   "source": [
    "### ICD Groups (Multiple codes together for one final feature, n to 1)"
   ]
  },
  {
   "cell_type": "code",
   "execution_count": null,
   "id": "27",
   "metadata": {},
   "outputs": [],
   "source": [
    "# Merge df_diagnosis onto ICD_Groups metadata, inspect single ICD codes (sum_groups_before) \n",
    "# and then merge the codes as defined by the groups (sum_groups_after). \n",
    "\n",
    "pat_icds_labelled <- left_join(x= ICD_Groups, y= df_merged, by = c(\"ICD10\" = \"source_concept_code\")) %>% distinct()\n",
    "\n",
    "\n",
    "df_icd_groups_before <- pat_icds_labelled %>% group_by(Diagnosis, person_id) %>% summarise(occurence = n()) %>% spread(Diagnosis, occurence) \n",
    "\n",
    "sum_groups_before <- as.data.frame(colSums(df_icd_groups_before, na.rm=TRUE))\n",
    "sum_groups_before$Diagnosis <- rownames(sum_groups_before) #rownames as column\n",
    "sum_groups_before <- sum_groups_before %>% \n",
    "  filter(Diagnosis != \"person_id\") %>%\n",
    "  rename(\"Occurrence\" = `colSums(df_icd_groups_before, na.rm = TRUE)`) %>%\n",
    "    mutate(\n",
    "        Occurrence = ifelse(\n",
    "          as.numeric(Occurrence) < 20,\n",
    "          \"<20\",\n",
    "          as.character(Occurrence)\n",
    "        )\n",
    "      )\n",
    "\n",
    "\n",
    "sum_groups_before <- sum_groups_before[, c(\"Diagnosis\", \"Occurrence\")]\n",
    "\n",
    "\n",
    "# #groupby + summarises sortiert Dataset nach Diagnosegruppen und eid,  spread macht aus langem schmalen Dataset ein breites mit logical/boolean values\n",
    "df_icd_groups <- pat_icds_labelled %>% group_by(Group, person_id) %>% summarise(occurence = n()) %>% spread(Group, occurence) \n",
    "df_icd_groups[df_icd_groups > 1 & df_icd_groups < 100]<- 1 \n",
    "df_icd_groups[is.na(df_icd_groups)] <- 0\n",
    "\n",
    "sum_groups_after <- as.data.frame(colSums(df_icd_groups))\n",
    "sum_groups_after$Diagnosis <- rownames(sum_groups_after) #rownames as column\n",
    "sum_groups_after <- sum_groups_after[, c(\"Diagnosis\", \"colSums(df_icd_groups)\")] %>%\n",
    "  filter(Diagnosis != \"person_id\") %>%\n",
    "  rename(\"Occurrence\" = \"colSums(df_icd_groups)\") %>%\n",
    "    mutate(\n",
    "        Occurrence = ifelse(\n",
    "          as.numeric(Occurrence) < 20,\n",
    "          \"<20\",\n",
    "          as.character(Occurrence)\n",
    "        )\n",
    "      )\n",
    "\n",
    "\n",
    "sum_groups_before \n",
    "sum_groups_after\n",
    "\n",
    "write_xlsx(sum_groups_before, file.path(suppl_path, \"/Sum_Group_Diagnosis_Distinct_AOU.xlsx\"))\n",
    "write_xlsx(sum_groups_after, file.path(suppl_path, \"/Sum_Group_Diagnosis_Summarized_AOU.xlsx\"))"
   ]
  },
  {
   "cell_type": "markdown",
   "id": "28",
   "metadata": {},
   "source": [
    "### ICD Singles"
   ]
  },
  {
   "cell_type": "code",
   "execution_count": null,
   "id": "29",
   "metadata": {},
   "outputs": [],
   "source": [
    "pat_icds_labelled <- left_join(x= ICD_Singles, df_merged, by = c(\"ICD10\" = \"source_concept_code\")) %>%  distinct() \n",
    "\n",
    "# #groupby + summarises sortiert Dataset nach Diagnosegruppen und eid,  spread macht aus langem schmalen Dataset ein breites mit logical/boolean values\n",
    "df_icd_singles <- pat_icds_labelled %>% group_by(Diagnosis, person_id) %>% summarise(occurence = n()) %>% spread(Diagnosis, occurence) \n",
    "df_icd_singles[df_icd_singles > 1 & df_icd_singles < 10000]<- 1 \n",
    "df_icd_singles[is.na(df_icd_singles)] <- 0\n",
    "sum_singles <- as.data.frame(colSums(df_icd_singles))\n",
    "\n",
    "\n",
    "sum_singles$Diagnosis <- rownames(sum_singles) #rownames as column\n",
    "sum_singles <- sum_singles[, c(\"Diagnosis\", \"colSums(df_icd_singles)\")] %>%\n",
    "  filter(Diagnosis != \"person_id\") %>%\n",
    "  rename(\"Occurrence\" = \"colSums(df_icd_singles)\") %>%\n",
    "    mutate(\n",
    "        Occurrence = ifelse(\n",
    "          as.numeric(Occurrence) < 20,\n",
    "          \"<20\",\n",
    "          as.character(Occurrence)\n",
    "        )\n",
    "      )\n",
    "\n",
    "sum_singles\n",
    "\n",
    "write_xlsx(sum_singles, file.path(suppl_path, \"/Sum_Single_Diagnosis_AOU.xlsx\"))"
   ]
  },
  {
   "cell_type": "markdown",
   "id": "30",
   "metadata": {},
   "source": [
    "### Merge Singles and Groups"
   ]
  },
  {
   "cell_type": "code",
   "execution_count": null,
   "id": "31",
   "metadata": {},
   "outputs": [],
   "source": [
    "# Inspect raw df_diagnosis dataframes\n",
    "\n",
    "#df_icd_singles\n",
    "#df_icd_groups\n",
    "df_icd <- full_join(df_icd_singles, df_icd_groups, by = \"person_id\") %>%\n",
    "  mutate(across(everything(), ~replace_na(.x, 0)))\n",
    "df_icd"
   ]
  },
  {
   "cell_type": "markdown",
   "id": "32",
   "metadata": {},
   "source": [
    "## Export Prospective df_icd"
   ]
  },
  {
   "cell_type": "code",
   "execution_count": null,
   "id": "33",
   "metadata": {},
   "outputs": [],
   "source": [
    "write_csv(df_icd, paste0(data_path, \"/dataframes/df_diagnosis_filtered.csv\"))"
   ]
  },
  {
   "cell_type": "markdown",
   "id": "34",
   "metadata": {},
   "source": [
    "# Export df_diagnosis (time-agnostic)\n",
    "\n"
   ]
  }
 ],
 "metadata": {
  "kernelspec": {
   "display_name": "R",
   "language": "R",
   "name": "ir"
  },
  "language_info": {
   "codemirror_mode": "r",
   "file_extension": ".r",
   "mimetype": "text/x-r-source",
   "name": "R",
   "pygments_lexer": "r",
   "version": "4.5.0"
  },
  "toc": {
   "base_numbering": 1,
   "nav_menu": {},
   "number_sections": true,
   "sideBar": true,
   "skip_h1_title": false,
   "title_cell": "Table of Contents",
   "title_sidebar": "Contents",
   "toc_cell": false,
   "toc_position": {
    "height": "calc(100% - 180px)",
    "left": "10px",
    "top": "150px",
    "width": "512px"
   },
   "toc_section_display": true,
   "toc_window_display": true
  }
 },
 "nbformat": 4,
 "nbformat_minor": 5
}
