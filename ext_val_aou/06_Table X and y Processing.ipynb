{
 "cells": [
  {
   "cell_type": "markdown",
   "metadata": {},
   "source": [
    "# Helpers"
   ]
  },
  {
   "cell_type": "code",
   "execution_count": null,
   "metadata": {
    "vscode": {
     "languageId": "r"
    }
   },
   "outputs": [],
   "source": [
    "# Load \"config.R\" for utility functions. \n",
    "#Will also triggger loading of \n",
    "    \n",
    "    # user_config.JSON (including key for project_config)\n",
    "    # project_config.JSON\n",
    "    # preprocessing_visualizations.R\n",
    "    # preprocessing_functions.R\n",
    "\n",
    "user <- \"Jan\" \n",
    "source(\"config.r\")\n",
    "\n",
    "\n",
    "\n",
    "#If certain packages not installed yet via requirements.txt, install them here via\n",
    "# install.packages(\"package_name\")"
   ]
  },
  {
   "cell_type": "markdown",
   "metadata": {},
   "source": [
    "## Functions"
   ]
  },
  {
   "cell_type": "code",
   "execution_count": null,
   "metadata": {
    "vscode": {
     "languageId": "r"
    }
   },
   "outputs": [],
   "source": [
    "# All functions in preprocessing_functions.R are available now."
   ]
  },
  {
   "cell_type": "markdown",
   "metadata": {},
   "source": [
    "# Generate dataframes"
   ]
  },
  {
   "cell_type": "markdown",
   "metadata": {},
   "source": [
    "### Prelim dfs for NA removal"
   ]
  },
  {
   "cell_type": "code",
   "execution_count": null,
   "metadata": {
    "vscode": {
     "languageId": "r"
    }
   },
   "outputs": [],
   "source": [
    "# Load dataframes preliminarily here to check which rows to keep/to remove. This will create the \"df_nan\" used later on.\n",
    "# Define a priori the maximum number of NAs allowed per row\n",
    "max_na_threshold <- 25\n",
    "\n",
    "df_y <- data.table::fread(\"data/df_case_controls.txt\", sep=\"\\t\")\n",
    "df_covariates <- data.table::fread(\"data/df_covariates_1.7.txt\", sep=\"\\t\")\n",
    "df_diagnosis <- data.table::fread(\"data/df_diagnosis.txt\", sep=\"\\t\")\n",
    "df_blood <- data.table::fread(\"data/df_blood.txt\", sep=\"\\t\")\n",
    "\n",
    "#df_x_temp <- merge_dataframes(filter_par = FALSE)\n",
    "\n",
    "dfs_to_merge <- list(df_covariates, df_diagnosis, df_blood, df_y)\n",
    "df_x_temp <- Reduce(function(x, y) merge(x, y, by = \"person_id\", all = FALSE), dfs_to_merge)\n",
    "all_na <- summarize_na(df_x_temp)\n",
    "print(all_na)\n",
    "write_xlsx(all_na, 'data/all_na.xlsx')\n",
    "\n",
    "\n",
    "df_x_temp2 <- omit.NA(df_x_temp, max_na_threshold)\n",
    "#str(df_all_cleaned)\n",
    "df_nan <- df_x_temp2 %>% select(\"person_id\") #df containing all rows with less than X NaN per row, used for subsetting later\n",
    "write_xlsx(df_nan, \"data/df_nan.xlsx\")\n",
    "summarize_na(df_x_temp2)\n",
    "\n",
    "print(paste(\"Positive cases before removal of rows with >X NAs:\", sum(df_x_temp$status)))\n",
    "print(paste(\"Positive cases after removal of rows with >X NAs:\", sum(df_x_temp2$status)))\n",
    "                    \n",
    "print(paste(\"Total rows before removal of rows with >X NAs:\", nrow(df_x_temp)))\n",
    "print(paste(\"Total rows after removal of rows with >X NAs:\", nrow(df_x_temp2)))\n",
    "                    \n",
    "na_analysis <- analyze_na_thresholds(df_x_temp, max_threshold = 30, step = 5)\n",
    "print(na_analysis)\n",
    "\n",
    "# Optionally, you can write this to an Excel file\n",
    "\n",
    "write_xlsx(na_analysis, \"NA_threshold_analysis.xlsx\")\n",
    "\n"
   ]
  },
  {
   "cell_type": "code",
   "execution_count": null,
   "metadata": {
    "vscode": {
     "languageId": "r"
    }
   },
   "outputs": [],
   "source": [
    "# Create an improved plot\n",
    "ggplot(na_analysis, aes(x = NA_Threshold)) +\n",
    "  geom_line(aes(y = Total_Rows, color = \"Total Rows\"), size = 1) +\n",
    "  geom_point(aes(y = Total_Rows, color = \"Total Rows\"), size = 3) +\n",
    "  geom_text(aes(y = Total_Rows, label = comma(Total_Rows)), \n",
    "            vjust = -0.5, size = 3, color = \"black\") +\n",
    "  geom_line(aes(y = Positive_Cases * (max(Total_Rows) / max(Positive_Cases)), \n",
    "                color = \"Positive Cases\"), size = 1) +\n",
    "  geom_point(aes(y = Positive_Cases * (max(Total_Rows) / max(Positive_Cases)), \n",
    "                 color = \"Positive Cases\"), size = 3) +\n",
    "  geom_text(aes(y = Positive_Cases * (max(Total_Rows) / max(Positive_Cases)), \n",
    "                label = comma(Positive_Cases)),\n",
    "            vjust = 1.5, size = 3, color = \"black\") +\n",
    "  scale_y_continuous(name = \"Total Rows\",\n",
    "                     sec.axis = sec_axis(~. * (max(na_analysis$Positive_Cases) / max(na_analysis$Total_Rows)), \n",
    "                                         name = \"Positive Cases\")) +\n",
    "  scale_color_manual(values = c(\"Total Rows\" = \"blue\", \"Positive Cases\" = \"red\")) +\n",
    "  labs(title = \"Impact of NA Threshold on Dataset Size\",\n",
    "       x = \"NA Threshold\",\n",
    "       color = \"Metric\") +\n",
    "  theme_minimal() +\n",
    "  theme(legend.position = \"bottom\",\n",
    "        axis.text.y.right = element_text(color = \"red\"),\n",
    "        axis.title.y.right = element_text(color = \"red\"))\n",
    "\n",
    "ggsave(\"visuals/NA_threshold_analysis_plot.png\", width = 10, height = 6, dpi = 300)"
   ]
  },
  {
   "cell_type": "markdown",
   "metadata": {},
   "source": [
    "## DOI"
   ]
  },
  {
   "cell_type": "code",
   "execution_count": null,
   "metadata": {
    "vscode": {
     "languageId": "r"
    }
   },
   "outputs": [],
   "source": [
    "df_nan <- read_xlsx(\"data/df_nan.xlsx\") %>%  rename(\"eid\" = \"person_id\")\n",
    "\n",
    "dim(df_nan)\n",
    "head(df_nan)"
   ]
  },
  {
   "cell_type": "code",
   "execution_count": null,
   "metadata": {
    "vscode": {
     "languageId": "r"
    }
   },
   "outputs": [],
   "source": [
    "df_y <- read_csv(file.path(data_path, \"dataframes/df_y.csv\")) %>%  rename(\"eid\" = \"person_id\")\n",
    "df_y\n",
    "\n",
    "head(df_y)\n",
    "dim(df_y)\n",
    "sum(df_y$status)"
   ]
  },
  {
   "cell_type": "markdown",
   "metadata": {},
   "source": [
    "## Covariates"
   ]
  },
  {
   "cell_type": "markdown",
   "metadata": {},
   "source": [
    "### Import"
   ]
  },
  {
   "cell_type": "code",
   "execution_count": null,
   "metadata": {},
   "outputs": [],
   "source": [
    "df_covariates <- fread(file.path(data_path, \"dataframes/df_covariates_1.7.txt\"), sep=\"\\t\") %>%  rename(\"eid\" = \"person_id\")\n",
    "df_covariates\n",
    "\n",
    "df_covariates$SEX <- factor(df_covariates$SEX, levels = c(\"Female\", \"Male\"), labels = c(\"0\", \"1\"))\n",
    "df_covariates$'Ever smoked' <- factor(df_covariates$'Ever smoked', levels = c(\"No\", \"Yes\"), labels = c(\"0\", \"1\"))\n",
    "\n",
    "dim(df_covariates)\n",
    "head(df_covariates)\n",
    "\n",
    "covariates_list <- colnames(df_covariates)[-1]\n",
    "\n",
    "#check_missing_positives(df_covariates)\n",
    "str(df_covariates)\n",
    "summary(df_covariates)"
   ]
  },
  {
   "cell_type": "markdown",
   "metadata": {},
   "source": [
    "### Cut to physiol. limits"
   ]
  },
  {
   "cell_type": "code",
   "execution_count": null,
   "metadata": {
    "vscode": {
     "languageId": "r"
    }
   },
   "outputs": [],
   "source": [
    "mapper <- read_excel(file.path(data_path, \"unit_mapper_ukb_aou.xlsx\"), sheet = \"Mapper\")\n",
    "result <- limit_df(df_covariates, mapper)\n",
    "df_covariates <- result$df\n",
    "summary(df_covariates)"
   ]
  },
  {
   "cell_type": "markdown",
   "metadata": {},
   "source": [
    "## Diagnosis"
   ]
  },
  {
   "cell_type": "code",
   "execution_count": null,
   "metadata": {
    "vscode": {
     "languageId": "r"
    }
   },
   "outputs": [],
   "source": [
    "df_diagnosis <- read_csv(file.path(data_path, \"dataframes/df_diagnosis_filtered.csv\")) %>% rename(\"eid\" = \"person_id\") \n",
    "\n",
    "dim(df_diagnosis)\n",
    "head(df_diagnosis)\n",
    "\n",
    "diagnosis_list <- colnames(df_diagnosis)[-1]\n",
    "\n",
    "\n",
    "diag_na <- summarize_na(df_diagnosis, rule=TRUE)\n",
    "print(diag_na)\n",
    "check_missing_positives(df_diagnosis)\n"
   ]
  },
  {
   "cell_type": "markdown",
   "metadata": {},
   "source": [
    "## Blood"
   ]
  },
  {
   "cell_type": "markdown",
   "metadata": {},
   "source": [
    "### Load and impute"
   ]
  },
  {
   "cell_type": "code",
   "execution_count": null,
   "metadata": {
    "vscode": {
     "languageId": "r"
    }
   },
   "outputs": [],
   "source": [
    "# Create a single df blood from the separate timeframes\n",
    "\n",
    "df_blood_pre2010  <- read_csv(file.path(data_path, \"dataframes/df_blood_pre2010_i.csv\"))\n",
    "df_blood2010_2015 <- read_csv(file.path(data_path, \"dataframes/df_blood2010_2015_i.csv\"))\n",
    "df_blood2015_2020 <- read_csv(file.path(data_path, \"dataframes/df_blood2015_2020_i.csv\"))\n",
    "df_blood2020_2025 <- read_csv(file.path(data_path, \"dataframes/df_blood2015_2020_i.csv\"))\n",
    "\n",
    "df_blood <- rbindlist(list(\n",
    "  as.data.table(df_blood_pre2010),\n",
    "  as.data.table(df_blood2010_2015),\n",
    "  as.data.table(df_blood2015_2020)\n",
    "), use.names = TRUE, fill = TRUE)\n",
    "\n",
    "df_blood <- df_blood %>% select(-(c(\"SEX\", \"AGE\", \"BMI\"))) %>%  rename(\"eid\" = \"person_id\")# %>%\n",
    " # semi_join(df_nan, by = \"eid\")\n",
    "\n",
    "\n",
    "head(df_blood)\n",
    "dim(df_blood)\n"
   ]
  },
  {
   "cell_type": "code",
   "execution_count": null,
   "metadata": {
    "vscode": {
     "languageId": "r"
    }
   },
   "outputs": [],
   "source": [
    "map_and_align <- function(df, mapper_df) {\n",
    "  \n",
    "  # Create a named vector for renaming, excluding NA mappings\n",
    "  rename_vector <- setNames(mapper_df$column_ukb, mapper_df$column_aou)\n",
    "  rename_vector <- rename_vector[!is.na(rename_vector) & !is.na(names(rename_vector))]\n",
    "    \n",
    "    # Keep only mappings for columns actually in df\n",
    "  rename_vector <- rename_vector[names(rename_vector) %in% names(df)]\n",
    "  \n",
    "  # Identify columns to remove (those with NA in column_ukb or column_aou)\n",
    "  columns_to_remove <- unique(c(\n",
    "    mapper_df$column_aou[is.na(mapper_df$column_ukb)],\n",
    "    mapper_df$column_aou[is.na(mapper_df$column_aou)]\n",
    "  ))\n",
    "  columns_to_remove <- columns_to_remove[!is.na(columns_to_remove)]  # Remove NA values\n",
    "  \n",
    "  # Rename columns\n",
    "  df_renamed <- df %>%\n",
    "    rename_with(~ ifelse(.x %in% names(rename_vector), rename_vector[.x], .x), everything())\n",
    "  \n",
    "  # Remove columns with NA mappings\n",
    "  df_final <- df_renamed %>%\n",
    "    select(-any_of(intersect(columns_to_remove, names(df_renamed))))\n",
    "  \n",
    "  # Identify columns that weren't renamed (no mapping found)\n",
    "  unmapped_cols <- setdiff(names(df_final), mapper_df$column_ukb[!is.na(mapper_df$column_ukb)])\n",
    "  \n",
    "  # Print summary\n",
    "  cat(\"Summary of map_and_align:\\n\")\n",
    "  cat(sprintf(\"- %d columns renamed\\n\", sum(names(df) %in% names(rename_vector))))\n",
    "  cat(sprintf(\"- %d columns identified for removal due to NA mapping\\n\", length(columns_to_remove)))\n",
    "  cat(sprintf(\"- %d columns actually removed\\n\", ncol(df_renamed) - ncol(df_final)))\n",
    "  cat(sprintf(\"- %d columns left unmapped\\n\", length(unmapped_cols)))\n",
    "  \n",
    "  # Print removed columns\n",
    "  if (length(columns_to_remove) > 0) {\n",
    "    cat(\"\\nColumns identified for removal due to NA mapping:\\n\")\n",
    "    print(columns_to_remove)\n",
    "  }\n",
    "  \n",
    "  # Print unmapped columns\n",
    "  if (length(unmapped_cols) > 0) {\n",
    "    cat(\"\\nColumns not renamed (no mapping found):\\n\")\n",
    "    print(unmapped_cols)\n",
    "  }\n",
    "  \n",
    "  return(df_final)\n",
    "}"
   ]
  },
  {
   "cell_type": "code",
   "execution_count": null,
   "metadata": {
    "vscode": {
     "languageId": "r"
    }
   },
   "outputs": [],
   "source": [
    "mapper <- read_excel(file.path(data_path, \"unit_mapper_ukb_aou.xlsx\"), sheet = \"Mapper\")\n",
    "\n",
    "df_blood <- map_and_align(df_blood, mapper_df=mapper)\n",
    "\n",
    "dim(df_blood)\n",
    "head(df_blood)\n",
    "\n",
    "blood_list <- colnames(df_blood)[-1]\n",
    "#df_blood <- impute_continuous(df_blood)\n",
    "summarize_na(df_blood)\n",
    "vec_blood <- setdiff(colnames(df_blood), \"eid\")\n",
    "vec_blood\n"
   ]
  },
  {
   "cell_type": "markdown",
   "metadata": {},
   "source": [
    "### Blood unit conversion and outlier adjustment"
   ]
  },
  {
   "cell_type": "code",
   "execution_count": null,
   "metadata": {
    "vscode": {
     "languageId": "r"
    }
   },
   "outputs": [],
   "source": [
    "mapper <- read_excel(file.path(data_path, \"unit_mapper_ukb_aou.xlsx\"), sheet = \"Mapper\")\n",
    "conversion_table <- read_xlsx(\"data/Master_Table_JC.xlsx\", sheet=\"Mapper\")\n",
    "df_blood <- convert_units(df_blood, mapper)"
   ]
  },
  {
   "cell_type": "code",
   "execution_count": null,
   "metadata": {
    "vscode": {
     "languageId": "r"
    }
   },
   "outputs": [],
   "source": [
    "df_blood_adjusted <- adjust_outlier_to_ukb(df_blood, conversion_table)"
   ]
  },
  {
   "cell_type": "code",
   "execution_count": null,
   "metadata": {
    "vscode": {
     "languageId": "r"
    }
   },
   "outputs": [],
   "source": [
    "df_summary_ukb <- read_xlsx(\"data/UKB_MinMax.xlsx\")\n",
    "#df_summary_ukb\n",
    "df_summary_aou_blood <- summarize_continuous_columns(df_blood_adjusted)\n",
    "#df_summary_aou_blood\n",
    "\n",
    "df_summary_blood <- inner_join(df_summary_ukb, df_summary_aou_blood, by= \"column\", suffix = c(\"_ukb\", \"_aou\")) %>%\n",
    "  select(column, sort(setdiff(names(.), \"column\")))\n",
    "df_summary_blood\n",
    "write_xlsx(df_summary_blood, \"tables/df_summary_blood_ukb_aou.xlsx\")"
   ]
  },
  {
   "cell_type": "markdown",
   "metadata": {},
   "source": [
    "### Check blood_nas individually"
   ]
  },
  {
   "cell_type": "code",
   "execution_count": null,
   "metadata": {
    "vscode": {
     "languageId": "r"
    }
   },
   "outputs": [],
   "source": [
    "df_blood_y <- inner_join(df_blood, df_y, by = \"eid\") %>% filter(status == 1)\n",
    "\n",
    "dim(df_blood_y)\n",
    "head(df_blood_y)\n",
    "\n",
    "blood_na <- summarize_na(df_blood_y)\n",
    "print(blood_na)\n"
   ]
  },
  {
   "cell_type": "markdown",
   "metadata": {},
   "source": [
    "## Genetics"
   ]
  },
  {
   "cell_type": "code",
   "execution_count": null,
   "metadata": {
    "vscode": {
     "languageId": "r"
    }
   },
   "outputs": [],
   "source": [
    "df_snp <- data.table::fread(\"data/SNPs.raw\", sep=\"\\t\")\n",
    "\n",
    "df_snp <- df_snp %>%\n",
    "    select(-FID, -PAT, -MAT, -SEX, -PHENOTYPE) %>%\n",
    "    rename(person_id = IID)\n",
    "\n",
    "dim(df_snp)\n",
    "head(df_snp)\n",
    "\n",
    "snp_list <- colnames(df_snp)[-1]\n"
   ]
  },
  {
   "cell_type": "code",
   "execution_count": null,
   "metadata": {
    "vscode": {
     "languageId": "r"
    }
   },
   "outputs": [],
   "source": [
    "colnames(df_all)"
   ]
  },
  {
   "cell_type": "markdown",
   "metadata": {},
   "source": [
    "## Merge, normalize and save"
   ]
  },
  {
   "cell_type": "markdown",
   "metadata": {},
   "source": [
    "### Merge X"
   ]
  },
  {
   "cell_type": "code",
   "execution_count": null,
   "metadata": {
    "vscode": {
     "languageId": "r"
    }
   },
   "outputs": [],
   "source": [
    "df_x_all_raw <- merge_dataframes(filter_par = FALSE)\n",
    "\n",
    "dim(df_x_all_raw)\n",
    "head(df_x_all_raw)\n",
    "colnames(df_x_all_raw)"
   ]
  },
  {
   "cell_type": "code",
   "execution_count": null,
   "metadata": {
    "vscode": {
     "languageId": "r"
    }
   },
   "outputs": [],
   "source": [
    "df_y"
   ]
  },
  {
   "cell_type": "code",
   "execution_count": null,
   "metadata": {
    "vscode": {
     "languageId": "r"
    }
   },
   "outputs": [],
   "source": [
    "str(df_y$year_of_diag)\n",
    "str(df_x_all_raw$year)"
   ]
  },
  {
   "cell_type": "code",
   "execution_count": null,
   "metadata": {
    "vscode": {
     "languageId": "r"
    }
   },
   "outputs": [],
   "source": [
    "df_x_all_raw$year"
   ]
  },
  {
   "cell_type": "markdown",
   "metadata": {},
   "source": [
    "### Merge with y"
   ]
  },
  {
   "cell_type": "code",
   "execution_count": null,
   "metadata": {
    "vscode": {
     "languageId": "r"
    }
   },
   "outputs": [],
   "source": [
    "df_x_all_raw\n",
    "colnames(df_x_all_raw)\n",
    "\n",
    "df_y\n",
    "colnames(df_y)"
   ]
  },
  {
   "cell_type": "code",
   "execution_count": null,
   "metadata": {
    "vscode": {
     "languageId": "r"
    }
   },
   "outputs": [],
   "source": [
    "#df_all <- df_x_all_raw %>% inner_join(df_y, by = \"eid\")  #Merge with DOI cases\n",
    "\n",
    "df_all <- assign_labels_with_horizon(df_x_all_raw, df_y, horizon = 5)\n",
    "\n",
    "\n",
    "dim(df_all)\n",
    "head(df_all)\n",
    "colnames(df_all)\n"
   ]
  },
  {
   "cell_type": "code",
   "execution_count": null,
   "metadata": {
    "vscode": {
     "languageId": "r"
    }
   },
   "outputs": [],
   "source": [
    "df_all_overview <- df_all %>%\n",
    "  group_by(status) %>%\n",
    "  slice_sample(n = 5) %>%\n",
    "  ungroup() %>%\n",
    "  select(eid, year, year_of_diag, year_diff, status)\n",
    "\n",
    "# Print the preview\n",
    "print(df_all_overview)"
   ]
  },
  {
   "cell_type": "code",
   "execution_count": null,
   "metadata": {
    "vscode": {
     "languageId": "r"
    }
   },
   "outputs": [],
   "source": [
    "DOI"
   ]
  },
  {
   "cell_type": "code",
   "execution_count": null,
   "metadata": {
    "vscode": {
     "languageId": "r"
    }
   },
   "outputs": [],
   "source": [
    "# Plot bar chart of included and discarded cases\n",
    "plot_included_discarded_cases(\n",
    "  df = df_all,\n",
    "  year_col = \"year_of_diag\",\n",
    "  target_col = \"status\",\n",
    "  include_value = 1,\n",
    "  discard_value = 2,\n",
    "  base_size = 30\n",
    ")\n",
    "\n",
    "\n",
    "# Remove cases with status 2 (discarded because event (=DOI) before assessment visit)\n",
    "df_all <- subset(df_all[df_all$status!=2])"
   ]
  },
  {
   "cell_type": "code",
   "execution_count": null,
   "metadata": {
    "vscode": {
     "languageId": "r"
    }
   },
   "outputs": [],
   "source": [
    "# Remove rows with status == 2 for further analysis\n",
    "df_all <- df_all[df_all$status != 2, ]\n",
    "\n",
    "# Check summary of status column\n",
    "sum(df_all$status)\n",
    "\n",
    "dim(df_all)"
   ]
  },
  {
   "cell_type": "code",
   "execution_count": null,
   "metadata": {
    "vscode": {
     "languageId": "r"
    }
   },
   "outputs": [],
   "source": [
    "df_par <- df_all"
   ]
  },
  {
   "cell_type": "markdown",
   "metadata": {},
   "source": [
    "## Prepare PAR Dataframe"
   ]
  },
  {
   "cell_type": "code",
   "execution_count": null,
   "metadata": {
    "vscode": {
     "languageId": "r"
    }
   },
   "outputs": [],
   "source": [
    "# Read PAR requirements\n",
    "par_index <- read_excel(\"data/Master_Table_JC.xlsx\", sheet= \"Patients at risk\")\n",
    "\n",
    "par_index"
   ]
  },
  {
   "cell_type": "code",
   "execution_count": null,
   "metadata": {
    "vscode": {
     "languageId": "r"
    }
   },
   "outputs": [],
   "source": [
    "df_par <- df_par %>%\n",
    "  mutate(\n",
    "    Elevated_AST = if_else(SEX == \"0\" & `Aspartate aminotransferase` > 35 | SEX == \"1\" & `Aspartate aminotransferase` > 50, 1, 0),\n",
    "    Elevated_ALT = if_else(SEX == \"0\" & `Alanine aminotransferase` > 35 | SEX == \"1\" & `Alanine aminotransferase` > 50, 1, 0),\n",
    "  ) %>%\n",
    "  mutate(Elevated_Liver_Enzymes = if_else(Elevated_AST == 1 | Elevated_ALT == 1, 1, 0))\n",
    "  \n",
    "df_par"
   ]
  },
  {
   "cell_type": "code",
   "execution_count": null,
   "metadata": {
    "vscode": {
     "languageId": "r"
    }
   },
   "outputs": [],
   "source": [
    "#Adjust your par subset to the preferred groups you would like to set as inclusion criteria\n",
    "par_subset <- c(\"CLD\", \"Cirrhosis\", \"Viral Hepatitis\", \"Blood_Parameters\")\n",
    "\n",
    "df_par <- filter_rows_with_pos_entries(df_par)"
   ]
  },
  {
   "cell_type": "markdown",
   "metadata": {},
   "source": [
    "### Normalization execution df_all"
   ]
  },
  {
   "cell_type": "code",
   "execution_count": null,
   "metadata": {
    "vscode": {
     "languageId": "r"
    }
   },
   "outputs": [],
   "source": [
    "vec_covariates <- c(\"MultipleDeprivationIndex\", \"Pack years\", \"Waist circumference\", # Columns for \"simple\" Minmax in covariates\n",
    "                  \"Weight\", \"Standing height\", \"Alk_g_d\", \"Bloodpressure_sys\", \"Bloodpressure_dia\", \"BMI\", \"AGE\")\n",
    "\n",
    "vec_blood <- setdiff(colnames(df_blood), \"eid\")\n",
    "\n",
    "vec_all <- unique(c(vec_covariates, vec_blood)) \n",
    "vec_all\n",
    "\n",
    "\n",
    "\n",
    "\n",
    "df_x_all_normalized <- normalize_data_ukb(df_all, conversion_table, vec_blood) %>%\n",
    "    normalize_data_aou(vec_covariates) %>%\n",
    "    select(-(c(\"status\", \"year_of_diag\", \"year_diff\")))\n",
    "    \n",
    "\n",
    "head(df_x_all_normalized)\n",
    "str(df_x_all_normalized)\n",
    "summary(df_x_all_normalized)"
   ]
  },
  {
   "cell_type": "markdown",
   "metadata": {},
   "source": [
    "### Normalization execution df_all"
   ]
  },
  {
   "cell_type": "code",
   "execution_count": null,
   "metadata": {
    "vscode": {
     "languageId": "r"
    }
   },
   "outputs": [],
   "source": [
    "vec_covariates <- c(\"MultipleDeprivationIndex\", \"Pack years\", \"Waist circumference\", # Columns for \"simple\" Minmax in covariates\n",
    "                  \"Weight\", \"Standing height\", \"Alk_g_d\", \"Bloodpressure_sys\", \"Bloodpressure_dia\", \"BMI\", \"AGE\")\n",
    "\n",
    "vec_blood <- setdiff(colnames(df_blood), \"eid\")\n",
    "\n",
    "vec_all <- unique(c(vec_covariates, vec_blood)) \n",
    "vec_all\n",
    "\n",
    "\n",
    "\n",
    "\n",
    "df_x_par_normalized <- normalize_data_ukb(df_par, conversion_table, vec_blood) %>%\n",
    "    normalize_data_aou(vec_covariates) %>%\n",
    "    select(-(c(\"status\", \"year_of_diag\", \"year_diff\")))\n",
    "    \n",
    "\n",
    "head(df_x_par_normalized)\n",
    "str(df_x_par_normalized)\n",
    "summary(df_x_par_normalized)"
   ]
  },
  {
   "cell_type": "markdown",
   "metadata": {},
   "source": [
    "### Sort out dataframes and remove columns\n"
   ]
  },
  {
   "cell_type": "markdown",
   "metadata": {},
   "source": [
    "### Check y"
   ]
  },
  {
   "cell_type": "code",
   "execution_count": null,
   "metadata": {
    "vscode": {
     "languageId": "r"
    }
   },
   "outputs": [],
   "source": [
    "#All\n",
    "df_y_all <- df_all %>% select(\"eid\", \"status\", \"year_diff\", \"year_of_diag\", \"year\", \"person_id_year\")\n",
    "\n",
    "\n",
    "head(df_y_all)\n",
    "str(df_y_all)\n",
    "sum(df_y_all$status)\n",
    "nrow(df_y_all) == nrow(df_x_all_normalized)"
   ]
  },
  {
   "cell_type": "code",
   "execution_count": null,
   "metadata": {
    "vscode": {
     "languageId": "r"
    }
   },
   "outputs": [],
   "source": [
    "#PAR\n",
    "df_y_par <- df_par %>% select(\"eid\", \"status\", \"year_diff\", \"year_of_diag\", \"year\", \"person_id_year\")\n",
    "\n",
    "\n",
    "head(df_y_par)\n",
    "str(df_y_par)\n",
    "sum(df_y_par$status)\n",
    "nrow(df_y_par) == nrow(df_x_par_normalized)"
   ]
  },
  {
   "cell_type": "markdown",
   "metadata": {},
   "source": [
    "### Export preparation"
   ]
  },
  {
   "cell_type": "code",
   "execution_count": null,
   "metadata": {
    "vscode": {
     "languageId": "r"
    }
   },
   "outputs": [],
   "source": [
    "# ALL\n",
    "col_subset <- \"basic\"\n",
    "layer <- \"outer\"\n",
    "\n",
    "# Create a dated folder name (e.g., \"15_04_2025\")\n",
    "today <- format(Sys.Date(), \"%d_%m_%Y\")\n",
    "output_dir <- paste0(\"data/\", today)\n",
    "\n",
    "# Create the directory if it doesn't exist\n",
    "if (!dir.exists(output_dir)) {\n",
    "  dir.create(output_dir, recursive = TRUE)\n",
    "}\n"
   ]
  },
  {
   "cell_type": "markdown",
   "metadata": {},
   "source": [
    "### Export df_all"
   ]
  },
  {
   "cell_type": "code",
   "execution_count": null,
   "metadata": {
    "vscode": {
     "languageId": "r"
    }
   },
   "outputs": [],
   "source": [
    "# All\n",
    "\n",
    "subset_name <- \"all\"\n",
    "write_csv(df_x_all_normalized, file=paste0(output_dir, \"/X_\", layer, \"_\", col_subset, \"_\", subset_name, \".csv\"))\n",
    "write_csv(df_y_all, file=paste0(output_dir, \"/y_\", layer, \"_\", col_subset, \"_\", subset_name, \".csv\"))\n",
    "write_csv(df_all, file=paste0(output_dir, \"/df_all_\", layer, \"_\", col_subset, \"_\", subset_name, \".csv\"))"
   ]
  },
  {
   "cell_type": "markdown",
   "metadata": {},
   "source": [
    "### Export df_par"
   ]
  },
  {
   "cell_type": "code",
   "execution_count": null,
   "metadata": {
    "vscode": {
     "languageId": "r"
    }
   },
   "outputs": [],
   "source": [
    "# PAR\n",
    "\n",
    "subset_name <- \"par\"\n",
    "write_csv(df_x_par_normalized, file=paste0(output_dir, \"/X_\", layer, \"_\", col_subset, \"_\", subset_name, \".csv\"))\n",
    "write_csv(df_y_par, file=paste0(output_dir, \"/y_\", layer, \"_\", col_subset, \"_\", subset_name, \".csv\"))\n",
    "write_csv(df_par, file=paste0(output_dir, \"/df_par_\", layer, \"_\", col_subset, \"_\", subset_name, \".csv\"))"
   ]
  },
  {
   "cell_type": "code",
   "execution_count": null,
   "metadata": {
    "vscode": {
     "languageId": "r"
    }
   },
   "outputs": [],
   "source": [
    "# In case you start here, load df_all again\n",
    "output_dir <- \"data/24_04_2025\"\n",
    "col_subset <- \"basic\"\n",
    "subset_name_input <- \"all\"\n",
    "layer <- \"outer\"\n",
    "\n",
    "#df_all <- read.csv(file=paste0(output_dir, \"/df_all_\", layer, \"_\", col_subset, \"_\", subset_name_input, \".csv\")) %>% select(-starts_with(\"...\"))"
   ]
  },
  {
   "cell_type": "code",
   "execution_count": null,
   "metadata": {
    "vscode": {
     "languageId": "r"
    }
   },
   "outputs": [],
   "source": [
    "head(df_all)\n",
    "dim(df_all)"
   ]
  },
  {
   "cell_type": "code",
   "execution_count": null,
   "metadata": {
    "vscode": {
     "languageId": "r"
    }
   },
   "outputs": [],
   "source": [
    "df_par <- filter_rows_with_pos_entries(df_all) # Filter the \"population at risk (par) by a prespecified if required\n",
    "\n",
    "head(df_par)\n",
    "dim(df_par)\n",
    "summary(df_par$status)"
   ]
  },
  {
   "cell_type": "markdown",
   "metadata": {},
   "source": [
    "# Summary tables"
   ]
  },
  {
   "cell_type": "markdown",
   "metadata": {},
   "source": [
    "## Installing dependencies"
   ]
  },
  {
   "cell_type": "code",
   "execution_count": null,
   "metadata": {
    "vscode": {
     "languageId": "r"
    }
   },
   "outputs": [],
   "source": [
    "#install.packages(\"gtsummary\")\n",
    "#install.packages(\"flextable\")\n",
    "#install.packages(\"officer\")\n",
    "#remotes::install_version(\"glue\", version = \"1.8.0\")\n",
    "install.packages(\"cardx\")"
   ]
  },
  {
   "cell_type": "markdown",
   "metadata": {},
   "source": [
    "## Function load"
   ]
  },
  {
   "cell_type": "code",
   "execution_count": null,
   "metadata": {
    "vscode": {
     "languageId": "r"
    }
   },
   "outputs": [],
   "source": [
    "library(gtsummary)\n",
    "library(flextable)\n",
    "library(officer)\n",
    "library(cardx)\n",
    "library(gt)\n",
    "\n",
    "create_binary_list <- function(df) {\n",
    "    binary_cols <- sapply(df, function(x) all(x %in% c(0, 1)))\n",
    "    names <- names(df)[binary_cols]\n",
    "\n",
    "    return(names)\n",
    "}\n",
    "\n",
    "#Helper function to mask items with absolute < 20\n",
    "categorical_stat <- function(x) {\n",
    "    n <- sum(x == \"1\" | x == 1, na.rm = TRUE)\n",
    "    N <- sum(!is.na(x))\n",
    "    count_display <- if(n < 20) \"<20\" else as.character(n)\n",
    "    sprintf(\"%s (%.1f%%)\", count_display, n/N * 100)\n",
    "}                          \n",
    "                          \n",
    "                          \n",
    "# https://www.danieldsjoberg.com/gtsummary/articles/tbl_summary.html\n",
    "\n",
    "create_table <- function(df_tbl, table_name, table_name_prefix=\"All\", export_RDS=FALSE, head_only=FALSE, remove_SEX=TRUE, enforced_order=FALSE, biobank_key=biobank_key, create_binary_table=FALSE, adjust_p_values=TRUE, column_order = FALSE) {\n",
    "    \n",
    "    categorical_stat_fmt <- \"{n} ({p}%)\"\n",
    "  \n",
    "    if (remove_SEX) {\n",
    "        df_tbl <- df_tbl %>% select(-SEX)\n",
    "    }\n",
    "  \n",
    "    if (!isFALSE(enforced_order)) {\n",
    "        df_tbl <- df_tbl %>% select(status, all_of(enforced_order))\n",
    "    }\n",
    "  \n",
    "    if (isFALSE(enforced_order)) {\n",
    "        names <- sort(colnames(df_tbl))\n",
    "        df_tbl <- df_tbl %>% select(all_of(names)) \n",
    "    }\n",
    "  \n",
    "    if (head_only) {\n",
    "        df_tbl <- df_tbl %>% select(1:5, status)\n",
    "    }\n",
    "  \n",
    "    if (create_binary_table) {\n",
    "        names <- create_binary_list(df_tbl)\n",
    "        value_list <- lapply(names, function(name) {\n",
    "            formula <- as.formula(paste0(\"`\", name, \"` ~ '1'\"))\n",
    "            environment(formula) <- emptyenv()\n",
    "            return(formula)\n",
    "        })\n",
    "\n",
    "        label_list <- lapply(names, function(name) {\n",
    "            formula <- as.formula(paste0(\"`\", name, \"` ~ '\", name, \"'\"))\n",
    "            environment(formula) <- emptyenv()\n",
    "            return(formula)\n",
    "        })\n",
    "    } else {\n",
    "        value_list <- NULL\n",
    "    }\n",
    "  \n",
    "    if (!isFALSE(column_order)) {\n",
    "        df_tbl$status <- factor(df_tbl$status, levels = column_order)\n",
    "    }\n",
    "    \n",
    "    distinct_status_values <- df_tbl %>% distinct(status) %>% pull(status) %>% sort()\n",
    "  \n",
    "    continuous_columns <- c(\"Pack years\", \"Basophill (%)\", \"Eosinophill (%)\", \"Monocyte percentage\", \"Neutrophill count\", \"Total protein\")\n",
    "    continuous_columns_present <- continuous_columns[continuous_columns %in% colnames(df_tbl)]\n",
    "    type_list <- if (length(continuous_columns_present) > 0) {\n",
    "        lapply(continuous_columns_present, function(col) {\n",
    "            as.formula(paste0(\"`\", col, \"` ~ 'continuous'\"))\n",
    "        })\n",
    "    } else {\n",
    "        NULL\n",
    "    }\n",
    "  \n",
    "    \n",
    "    \n",
    "Table_gtsummary <- df_tbl %>%\n",
    "    tbl_summary(\n",
    "        by = status,\n",
    "        type = type_list,\n",
    "        value = value_list,\n",
    "        label = label_list,\n",
    "        statistic = list(\n",
    "            all_continuous() ~ \"{mean} (±{sd})\",\n",
    "            all_categorical() ~ categorical_stat_fmt\n",
    "        ),\n",
    "        digits = all_continuous() ~ 1,\n",
    "    ) %>%\n",
    "    add_overall() %>%\n",
    "    modify_table_body(\n",
    "            ~ .x %>%\n",
    "                mutate(\n",
    "                    across(starts_with(\"stat_\"), ~ case_when(\n",
    "                        # Mask counts <20 in categorical columns and remove percentage\n",
    "                        str_detect(., \"^\\\\d+,?\\\\d* \\\\(\") & \n",
    "                        as.numeric(gsub(\",\", \"\", str_extract(., \"^\\\\d+,?\\\\d*\"))) < 20 ~ \n",
    "                            str_replace(., \"^\\\\d+,?\\\\d* \\\\(.*?\\\\)\", \"<20\"),  # Removes count and percentage\n",
    "                        TRUE ~ .\n",
    "                    ))\n",
    "                )\n",
    "        ) %>%\n",
    "    add_p(\n",
    "        test = list(\n",
    "            all_continuous() ~ \"t.test\",\n",
    "            all_categorical() ~ \"chisq.test\"\n",
    "        )\n",
    "    ) %>%\n",
    "        \n",
    "        bold_labels() %>%\n",
    "        italicize_levels() %>%\n",
    "        bold_p() %>%\n",
    "        modify_header(update = list(\n",
    "            stat_0 ~ \"**Overall** \\n \\n N = {N}\",\n",
    "            !!sym(paste0(\"stat_\", 1)) ~ paste0(\"**\", distinct_status_values[1], \"** \\n\\n n = {n}\"),\n",
    "            !!sym(paste0(\"stat_\", 2)) ~ paste0(\"**\", distinct_status_values[2], \"** \\n\\n n = {n}\")\n",
    "        ), text_interpret = \"md\")\n",
    "  \n",
    "    if (adjust_p_values) {\n",
    "        Table_gtsummary <- Table_gtsummary %>%\n",
    "            add_q(method = \"bonferroni\")\n",
    "    }\n",
    "  \n",
    "    Table_gt <- as_gt(Table_gtsummary) %>%\n",
    "      fmt_number(\n",
    "          columns = c(-contains(\"p.value\"), -contains(\"q.value\")),  # Exclude p-value and q-value columns\n",
    "          decimals = 2,\n",
    "          locale = \"en\"  # Locale enforces '.' for decimals and ',' for thousands\n",
    "    )\n",
    "    print(Table_gt)\n",
    "  \n",
    "    if (export_RDS) {\n",
    "        saveRDS(Table_gtsummary, file = paste0(\"tables/\", table_name, \".RDS\"))\n",
    "    }\n",
    "  \n",
    "    gt::gtsave(Table_gt, filename = paste0(\"tables/\", table_name, \".html\"))\n",
    "  \n",
    "    #Table_gtsummary %>%\n",
    "     #   as_flex_table() %>%\n",
    "      #  save_as_docx(path = paste0(\"tables/\", table_name, \"_\", biobank_key, \".docx\"))\n",
    "}\n",
    "     \n",
    "                          \n",
    "                          \n",
    "                          \n",
    "                          \n",
    "split_create_merge_tables <- function(df, feature, table_name, enforced_order=FALSE, head_only=FALSE, remove_SEX=TRUE, export_RDS=FALSE, create_binary_table = FALSE, adjust_p_values=TRUE) {\n",
    "    \n",
    "  \n",
    "    # Split the dataframe by the specified feature\n",
    "    split_dfs <- split(df, df[[feature]])\n",
    "  \n",
    "    if (!isFALSE(enforced_order)) {\n",
    "        enforced_order <- table1_order[table1_order != feature] #Remove feature to stratify from the order list\n",
    "    }\n",
    "  \n",
    "    # Iterate over each split dataframe\n",
    "    table_files <- c() # To store filenames of the saved tables for potential merging\n",
    "  \n",
    "    for (split_name in names(split_dfs)) {\n",
    "        # Define table name based on prefix and split name\n",
    "        merged_name <- paste(table_name, feature, split_name, sep=\"_\")\n",
    "        #table_files <- c(table_files, paste0(table_name, \"_\", Sys.Date(), \".RDS\"))\n",
    "\n",
    "        # Use create_table to generate and save each table\n",
    "    \n",
    "        create_table(df_tbl = split_dfs[[split_name]], \n",
    "                     table_name = merged_name, \n",
    "                     export_RDS = export_RDS, \n",
    "                     head_only = head_only, \n",
    "                     remove_SEX = remove_SEX, \n",
    "                     enforced_order = enforced_order,\n",
    "                     create_binary_table = create_binary_table,\n",
    "                     adjust_p_values = adjust_p_values)\n",
    "    }\n",
    "  \n",
    "    # Optionally merge the tables if more than one split\n",
    "    #if(export_RDS) {\n",
    "    #  tab_spanner <- names(split_dfs)\n",
    "    #  merge_saved_tables(table_files, project_path, tab_spanner)\n",
    "    #}\n",
    "\n",
    "    #gt::gtsave(Table_1_stratified, filename = paste0(project_path, \"/tables/Table_stratified\", table_name, \"_\", biobank_key, \"_\", Sys.Date(), \".html\"))\n",
    "}   \n",
    "                          \n",
    "                          \n",
    "                          \n",
    "import_merge_tables <- function(table_name, feature, levels,  tab_spanner) {\n",
    "    \n",
    "  \n",
    "    # Initialize an empty list to store the imported tables\n",
    "    imported_tables <- list()\n",
    "  \n",
    "    # Loop through each level and import the corresponding RDS file\n",
    "    for (level in levels) {\n",
    "        file_path <- paste0(\"tables/\", table_name, \"_\", feature, \"_\", level, \".RDS\")\n",
    "        print(file_path)\n",
    "\n",
    "        imported_table <- readRDS(file_path)\n",
    "        #imported_table <- imported_table %>% filter(Variable != feature)\n",
    "        imported_tables[[level]] <- imported_table\n",
    "    }\n",
    "\n",
    "    # Merge the imported tables\n",
    "    merged_table <- tbl_merge(\n",
    "        tbls = imported_tables,\n",
    "        tab_spanner = levels\n",
    "    )\n",
    "    \n",
    "    print(merged_table)\n",
    "    merged_table <- as_gt(merged_table)\n",
    "    gt::gtsave(merged_table, filename = paste0(\"tables/\", table_name, \"_\", feature, \".html\"))\n",
    "    # Return the merged table\n",
    "    return(merged_table)\n",
    "}\n"
   ]
  },
  {
   "cell_type": "markdown",
   "metadata": {},
   "source": [
    "## Load data"
   ]
  },
  {
   "cell_type": "code",
   "execution_count": null,
   "metadata": {
    "vscode": {
     "languageId": "r"
    }
   },
   "outputs": [],
   "source": [
    "df_all <- read_csv(\"data/24_04_2025/df_all_outer_basic_all.csv\") %>% select(-starts_with(\"...\"))\n",
    "head(df_all)\n",
    "colnames(df_all)\n",
    "\n",
    "columnmapper <- read_excel(\"data/columnmapper_ukb_aou.xlsx\")\n",
    "blood_list <- columnmapper$column_ukb[columnmapper$source_df==\"df_blood\"]\n",
    "diagnosis_list <-columnmapper$column_ukb[columnmapper$source_df==\"df_diagnosis\"]"
   ]
  },
  {
   "cell_type": "markdown",
   "metadata": {},
   "source": [
    "## Define labels, orders, load additional data"
   ]
  },
  {
   "cell_type": "code",
   "execution_count": null,
   "metadata": {
    "vscode": {
     "languageId": "r"
    }
   },
   "outputs": [],
   "source": [
    "label_list <- list(\n",
    "  AGE = \"Age [years]\",\n",
    "  location_name = \"Location\",\n",
    "  location_country = \"Country\",\n",
    "  Family_diabetes = \"Family Diabetes\",\n",
    "  DM = \"Diabetes mellitus\",\n",
    "  Alk_g_d = \"Alcohol [g/d]\",\n",
    "  High_Alk = \"High Alcohol Consumption\",\n",
    "  Path_Alk = \"Pathological Alcohol Consumption\",\n",
    "  BMI_cat = \"BMI Categories\",\n",
    "  Bloodpressure_sys = \"Bloodpressure sys. [mmHg]\",\n",
    "  Weight = \"Weight [kg]\",\n",
    "  'Standing height' = \"Standing height [cm]\",\n",
    "  'Waist circumference' = \"Waist circumference [cm]\",\n",
    "  race_ethnicity = \"Self-reported ethnicity\"\n",
    ")\n",
    "\n",
    "table1_order <- c(\n",
    "  \"AGE\", \"SEX\", \"BMI\", \"Waist circumference\", \n",
    "  \"Weight\", \"Standing height\", \"race_ethnicity\", \n",
    "  \"MultipleDeprivationIndex\", \"Bloodpressure_sys\", \"Medication\", \"DM\",\n",
    "  \"Family_diabetes\", \"Pack years\", \"Alk_g_d\" # Continue as necessary\n",
    ")\n",
    "\n",
    "#df_all <- df_x_all_raw %>% inner_join(df_y, by = \"eid\")\n",
    "df_ethnicity <- read_csv(\"data/df_ethnicity.csv\")\n",
    "\n",
    "df_table <- df_all %>% merge(df_ethnicity %>% select(eid, race_ethnicity), by = \"eid\")\n",
    "\n",
    "print(length(df_table[df_table$status==2]))\n",
    "\n",
    "df_table <- df_table  %>%\n",
    "  filter(status != 2) %>%\n",
    "  arrange(eid, desc(status)) %>%  # 1 comes before 0 because descending\n",
    "  group_by(eid) %>%\n",
    "  slice_head(n = 1) %>%  # Take the first row (after ordering by status)\n",
    "  ungroup()\n",
    "\n",
    "df_table <- df_table %>%\n",
    "  mutate(\n",
    "    SEX = case_when(\n",
    "      SEX == \"0\" ~ \"Female\",\n",
    "      SEX == \"1\" ~ \"Male\",\n",
    "      TRUE ~ as.character(SEX)\n",
    "    ),\n",
    "    status = case_when(\n",
    "      status == 0 ~ paste0(\"No \", DOI),    # Removed quotes since status is numeric\n",
    "      status == 1 ~ DOI,       # Removed quotes since status is numeric\n",
    "      TRUE ~ as.character(status)  # Convert to character for consistency\n",
    "    )\n",
    "  )\n",
    "\n",
    "nrow(df_table)\n",
    "dim(df_table)\n",
    "head(df_table)"
   ]
  },
  {
   "cell_type": "code",
   "execution_count": null,
   "metadata": {
    "vscode": {
     "languageId": "r"
    }
   },
   "outputs": [],
   "source": [
    "table(df_table$SEX)"
   ]
  },
  {
   "cell_type": "markdown",
   "metadata": {},
   "source": [
    "## Create Tables"
   ]
  },
  {
   "cell_type": "markdown",
   "metadata": {},
   "source": [
    "### Non-stratified Tables"
   ]
  },
  {
   "cell_type": "code",
   "execution_count": null,
   "metadata": {
    "vscode": {
     "languageId": "r"
    }
   },
   "outputs": [],
   "source": [
    "df_tbl_1 <- df_table %>%\n",
    "  select(!any_of(c(blood_list, setdiff(diagnosis_list, \"DM\"), \"eid\", \"Date of assessment\")))\n",
    "  #elect(!any_of(c(blood_list, diagnosis_list, \"eid\", \"Date of assessment\", snp_list)))\n",
    "create_table(df_tbl_1, \"Table 1\", export_RDS=FALSE, head_only=FALSE, remove_SEX=FALSE,  enforced_order=table1_order)"
   ]
  },
  {
   "cell_type": "code",
   "execution_count": null,
   "metadata": {
    "vscode": {
     "languageId": "r"
    }
   },
   "outputs": [],
   "source": [
    "df_tbl_blood <- df_table %>%\n",
    "  select(any_of(c(\"status\", \"SEX\", blood_list)))\n",
    "\n",
    "create_table(df_tbl_blood, \"Table Blood\", export_RDS=FALSE, head_only=FALSE)\n"
   ]
  },
  {
   "cell_type": "code",
   "execution_count": null,
   "metadata": {
    "vscode": {
     "languageId": "r"
    }
   },
   "outputs": [],
   "source": [
    "df_tbl_icd <- df_table %>%\n",
    "  select(any_of(c(\"status\", \"SEX\", diagnosis_list)))\n",
    "\n",
    "# Remove codes with 0 cases\n",
    "#dim(df_tbl_icd)\n",
    "#missing_codes <- names(df_tbl_icd[,3:ncol(df_tbl_icd)])[colSums(df_tbl_icd[,3:ncol(df_tbl_icd)]) == 0]\n",
    "#print(missing_codes) #Dengue fever, oesophageal varices, yellow fever\n",
    "#df_tbl_icd <- df_tbl_icd %>% select(-any_of(missing_codes))\n",
    "#dim(df_tbl_icd)\n",
    "\n",
    "Table_ICD <- create_table(df_tbl_icd, \"Table ICD\", export_RDS=TRUE, head_only=FALSE, create_binary_table = FALSE)\n"
   ]
  },
  {
   "cell_type": "code",
   "execution_count": null,
   "metadata": {
    "vscode": {
     "languageId": "r"
    }
   },
   "outputs": [],
   "source": [
    "df_tbl_snp <- df_table %>%\n",
    "  select(any_of(c(\"status\", \"SEX\", snp_list)))\n",
    "\n",
    "create_table(df_tbl_snp, \"Table SNP\", export_RDS=FALSE, head_only=FALSE)\n"
   ]
  },
  {
   "cell_type": "markdown",
   "metadata": {},
   "source": [
    "### Stratified tables (after sex)"
   ]
  },
  {
   "cell_type": "code",
   "execution_count": null,
   "metadata": {
    "vscode": {
     "languageId": "r"
    }
   },
   "outputs": [],
   "source": [
    "# Table 1 Sex-Stratified\n",
    "\n",
    "df_tbl_1 <- df_table %>%\n",
    "  select(!any_of(c(blood_list, setdiff(diagnosis_list, \"DM\"), \"eid\", \"Date of assessment\")))\n",
    "split_create_merge_tables(df_tbl_1, table_name=\"Table1\", feature=\"SEX\", enforced_order=table1_order, remove_SEX=TRUE, export_RDS=TRUE)\n",
    "Table_1_stratified <- import_merge_tables(table_name= \"Table1\", feature=\"SEX\", levels = c(\"Female\", \"Male\"))"
   ]
  },
  {
   "cell_type": "code",
   "execution_count": null,
   "metadata": {
    "vscode": {
     "languageId": "r"
    }
   },
   "outputs": [],
   "source": [
    "# Table ICD Sex-Stratified\n",
    "\n",
    "df_tbl_icd <- df_table %>%\n",
    "  select(any_of(c(\"status\", \"SEX\", diagnosis_list)))\n",
    "\n",
    "\n",
    "split_create_merge_tables(df_tbl_icd, table_name=\"Table_ICD\", feature=\"SEX\", enforced_order=FALSE, remove_SEX=TRUE, head_only=FALSE, export_RDS=TRUE)\n",
    "Table_ICD_stratified <- import_merge_tables(table_name= \"Table_ICD\", feature=\"SEX\", levels = c(\"Female\", \"Male\"))\n",
    "\n"
   ]
  },
  {
   "cell_type": "code",
   "execution_count": null,
   "metadata": {
    "vscode": {
     "languageId": "r"
    }
   },
   "outputs": [],
   "source": [
    "# Table Blood Sex-Stratified\n",
    "\n",
    "df_tbl_blood <- df_table %>%\n",
    "  select(any_of(c(\"status\", \"SEX\", blood_list)))\n",
    "\n",
    "\n",
    "split_create_merge_tables(df_tbl_blood, table_name=\"Table_Blood\", feature=\"SEX\", enforced_order=FALSE, remove_SEX=TRUE, head_only=FALSE, export_RDS=TRUE)\n",
    "Table_Blood_stratified <- import_merge_tables(table_name= \"Table_Blood\", feature=\"SEX\", levels = c(\"Female\", \"Male\"))\n",
    "\n"
   ]
  },
  {
   "cell_type": "markdown",
   "metadata": {},
   "source": [
    "## Compare AOU with UKB Predictions (only run this after modelling)"
   ]
  },
  {
   "cell_type": "code",
   "execution_count": null,
   "metadata": {
    "vscode": {
     "languageId": "r"
    }
   },
   "outputs": [],
   "source": [
    "pred_val"
   ]
  },
  {
   "cell_type": "code",
   "execution_count": null,
   "metadata": {
    "vscode": {
     "languageId": "r"
    }
   },
   "outputs": [],
   "source": [
    "df_tbl_TP <- df_table %>%\n",
    "  select(!any_of(c(blood_list, setdiff(diagnosis_list, c(\"DM\",\"Liver cirrhosis\")), \"Date of assessment\", \"status\", \"race_ethnicity\")))\n",
    "\n",
    "df_tbl_TP <- df_tbl_TP %>%\n",
    "    left_join(df_ethnicity %>% select(eid, ethnicity_ukb_aligned), by = \"eid\")\n",
    "\n",
    "\n",
    "col_subset <- \"Model_TOP15\"\n",
    "row_subset <- \"all\"\n",
    "\n",
    "pred_val <- read_excel(\"combined_output/val/Prediction_values_combined.xlsx\", sheet= paste0(row_subset, \"_\", col_subset))  #Change sheet as desired by changing col/row subset variables\n",
    "\n",
    "\n",
    "pred_val <- inner_join(pred_val, df_tbl_TP, by=\"eid\")\n",
    "\n",
    "pred_val <- pred_val %>% select(-(\"eid\"))\n",
    "\n",
    " \n",
    "\n",
    "#Define thresholds and create classes\n",
    "low_threshold <- 0.55\n",
    "\n",
    "pred_val <- pred_val %>%\n",
    "  mutate(\n",
    "    TP = if_else(status == 1 & y_pred > low_threshold, 1, 0),    #Add columns with TP TN etc each as boolean\n",
    "    TN = if_else(status == 0 & y_pred < low_threshold, 1, 0),\n",
    "    FP = if_else(status == 0 & y_pred > low_threshold, 1, 0),\n",
    "    FN = if_else(status == 1 & y_pred < low_threshold, 1, 0)\n",
    "  )\n",
    "\n",
    "pred_val <- pred_val %>%\n",
    "  mutate(status = case_when(\n",
    "      TP == 1 ~ \"TP\",\n",
    "      TN == 1 ~ \"TN\",\n",
    "      FP == 1 ~ \"FP\",\n",
    "      FN == 1 ~ \"FN\",\n",
    "      TRUE ~ NA_character_\n",
    "    )\n",
    "  )\n",
    "\n",
    "pred_val$Medication <- factor(pred_val$Medication, \n",
    "                               levels = sort(unique(pred_val$Medication)))\n",
    "\n",
    "pred_val <- pred_val %>%\n",
    "    mutate(ethnicity_ukb_aligned = factor(ethnicity_ukb_aligned,\n",
    "                                          levels = c(\"Asian\", \"Black\", \"Caucasian\", \"Latinx\", \"Other/Unknown\"))) %>%\n",
    "    rename(Ethnicity = ethnicity_ukb_aligned)\n"
   ]
  },
  {
   "cell_type": "code",
   "execution_count": null,
   "metadata": {
    "vscode": {
     "languageId": "r"
    }
   },
   "outputs": [],
   "source": [
    "pred_val"
   ]
  },
  {
   "cell_type": "markdown",
   "metadata": {},
   "source": [
    "## Variable Preparation"
   ]
  },
  {
   "cell_type": "code",
   "execution_count": null,
   "metadata": {
    "vscode": {
     "languageId": "r"
    }
   },
   "outputs": [],
   "source": [
    "\n",
    "table_tp_order <- c(\n",
    "  \"y_pred\", \"AGE\", \"SEX\", \"Ethnicity\",  \"BMI\", \"Waist circumference\", \n",
    "  \"Weight\", \"Standing height\",\n",
    "  \"MultipleDeprivationIndex\", \"Bloodpressure_sys\", \"Medication\", \"DM\",\n",
    "  \"Family_diabetes\", \"Pack years\", \"Alk_g_d\", \"Liver cirrhosis\" # Continue as necessary\n",
    ")\n",
    "\n",
    "\n",
    "label_list <- list(\n",
    "  AGE = \"Age [years]\",\n",
    "  location_name = \"Location\",\n",
    "  location_country = \"Country\",\n",
    "  Family_diabetes = \"Family Diabetes\",\n",
    "  DM = \"Diabetes mellitus\",\n",
    "  Alk_g_d = \"Alcohol [g/d]\",\n",
    "  High_Alk = \"High Alcohol Consumption\",\n",
    "  Path_Alk = \"Pathological Alcohol Consumption\",\n",
    "  BMI_cat = \"BMI Categories\",\n",
    "  Bloodpressure_sys = \"Bloodpressure sys. [mmHg]\",\n",
    "  Weight = \"Weight [kg]\",\n",
    "  'Standing height' = \"Standing height [cm]\",\n",
    "  'Waist circumference' = \"Waist circumference [cm]\",\n",
    "  y_pred = \"Prediction Score\",\n",
    "  Alk_g_d = \"Alcohol [g/d]\",\n",
    "  Ethnicity = \"Ethnicity\"\n",
    ")\n",
    "\n",
    "head_only = FALSE\n",
    "\n",
    "table_name = paste0(\"All TP TN Options_threshold_\", low_threshold, \"_AOU\")"
   ]
  },
  {
   "cell_type": "code",
   "execution_count": null,
   "metadata": {
    "vscode": {
     "languageId": "r"
    }
   },
   "outputs": [],
   "source": [
    "#Create the TP FN Table for AOU and save as RDS\n",
    "create_table(pred_val, table_name, export_RDS=TRUE, head_only=FALSE, remove_SEX=FALSE,  enforced_order=table_tp_order, column_order = c(\"FN\", \"TP\", \"FP\", \"TN\"))\n",
    "\n",
    "\n"
   ]
  },
  {
   "cell_type": "code",
   "execution_count": null,
   "metadata": {
    "vscode": {
     "languageId": "r"
    }
   },
   "outputs": [],
   "source": [
    "# Function to merge the two RDS files\n",
    "## Make sure that not only the visible names align, but also the actual names of the underlying columns of the dataframe, otherwise this does not work (and the rows will be attached below)\n",
    "fuse_biobank_tables <- function(table_name, biobanks = c(\"UKB\", \"AOU\")) {\n",
    "  low_threshold <- get(\"low_threshold\", envir = .GlobalEnv)\n",
    "  \n",
    "  # Initialize an empty list to store the imported tables\n",
    "  imported_tables <- list()\n",
    "  \n",
    "  # Loop through each level and import the corresponding RDS file\n",
    "  for (biobank in biobanks) {\n",
    "    file_path <- paste0(\"tables/\", table_name, \"_\", low_threshold, \"_\", biobank, \".RDS\")\n",
    "    print(file_path)\n",
    "    \n",
    "    imported_table <- readRDS(file_path)\n",
    "    # Set the locale to ensure consistent number formatting\n",
    "    Sys.setlocale(\"LC_NUMERIC\", \"en_US.UTF-8\")\n",
    "    imported_tables[[biobank]] <- imported_table\n",
    "  }\n",
    "  \n",
    "  # Merge the tables with modified options\n",
    "  merged_table <- tbl_merge(\n",
    "    tbls = imported_tables,\n",
    "    tab_spanner = biobanks\n",
    "  )\n",
    "  \n",
    "  # First print the gtsummary object\n",
    "  print(merged_table)\n",
    "  \n",
    "  # Save as HTML using as_flex_table\n",
    "  html_path <- paste0(\"tables/\", table_name, \"_merged_\", paste(biobanks, collapse=\"_\"), \"_threshold_\", low_threshold, \".html\")\n",
    "  \n",
    "  # Try to save using flextable\n",
    "  merged_table_gt <- as_gt(merged_table)\n",
    "  gt::gtsave(merged_table_gt, filename = html_path)\n",
    "  \n",
    "  return(merged_table)\n",
    "}\n",
    "\n",
    "# Test the function\n",
    "Table_TPFN_stratified <- fuse_biobank_tables(\n",
    "  table_name = \"All TP TN Options_threshold\", \n",
    "  biobanks = c(\"UKB\", \"AOU\")\n",
    ")"
   ]
  },
  {
   "cell_type": "markdown",
   "metadata": {},
   "source": [
    "New heading"
   ]
  },
  {
   "cell_type": "markdown",
   "metadata": {},
   "source": [
    "# Create literature benchmark scores"
   ]
  },
  {
   "cell_type": "code",
   "execution_count": null,
   "metadata": {
    "vscode": {
     "languageId": "r"
    }
   },
   "outputs": [],
   "source": [
    "df_all <- read_csv(\"data/24_04_2025/df_all_outer_basic_all.csv\") %>% select(-starts_with(\"...\"))\n",
    "head(df_all)"
   ]
  },
  {
   "cell_type": "code",
   "execution_count": null,
   "metadata": {
    "vscode": {
     "languageId": "r"
    }
   },
   "outputs": [],
   "source": [
    "df_early_cirrhosis <- read_csv(\"data/df_early_cirrhosis.csv\")\n",
    "\n",
    "df_early_cirrhosis <- df_early_cirrhosis %>%\n",
    "    rename(eid = person_id) %>%\n",
    "    merge(df_all %>% select(eid), by = c(\"eid\"), all=TRUE) %>%\n",
    "    mutate(cirrhosis = coalesce(cirrhosis, 0))"
   ]
  },
  {
   "cell_type": "markdown",
   "metadata": {},
   "source": [
    "## AMAP Score"
   ]
  },
  {
   "cell_type": "code",
   "execution_count": null,
   "metadata": {
    "vscode": {
     "languageId": "r"
    }
   },
   "outputs": [],
   "source": [
    "df_amap <- df_all %>%\n",
    "    select(c(\"eid\", \"person_id_year\", \"SEX\", \"AGE\", \"Platelet count\", \"Albumin\", \"Total bilirubin\", \"status\")) %>%\n",
    "    rename(\n",
    "    bilirubin = `Total bilirubin`,\n",
    "    platelet_count = `Platelet count`,\n",
    "    albumin = `Albumin`\n",
    "  )\n",
    "\n",
    "df_amap$SEX <- as.character(df_amap$SEX)\n",
    "df_amap$SEX <- as.numeric(df_amap$SEX)\n",
    "\n",
    "summary(df_amap)\n",
    "df_amap$aMAP <- ((df_amap$AGE * 0.06 + df_amap$SEX * 0.89 + 0.48 * ((log10(df_amap$bilirubin) * 0.66) + (df_amap$albumin * -0.085)) - 0.01 * df_amap$platelet_count) + 7.4) / 14.77 * 100\n",
    "head(df_amap)\n",
    "df_amap <- df_amap %>% \n",
    "  select(c(\"eid\", \"person_id_year\", \"aMAP\", \"SEX\", \"status\")) %>%\n",
    "  mutate(\n",
    "    aMAP = as.numeric(aMAP) / 100,  # Ensure numeric before division\n",
    "    aMAP = ifelse(is.infinite(aMAP), NA, aMAP)  # Replace Inf with NA\n",
    "  )\n",
    "summary(df_amap)\n",
    "\n",
    "df_amap <- df_amap %>%\n",
    "  mutate(\n",
    "  aMAP = as.numeric(round(aMAP, 3))\n",
    "  )  # Round to 2 decimal places)\n",
    "\n",
    "head(df_amap, 10)\n",
    "str(df_amap$'Total')\n",
    "summary(df_amap)\n",
    "write.csv(df_amap, file=paste(\"data/df_amap.csv\", sep=''))"
   ]
  },
  {
   "cell_type": "markdown",
   "metadata": {},
   "source": [
    "## Fib-4"
   ]
  },
  {
   "cell_type": "code",
   "execution_count": null,
   "metadata": {
    "vscode": {
     "languageId": "r"
    }
   },
   "outputs": [],
   "source": [
    "df_fib4 <- df_all %>% select(\"eid\", \"person_id_year\", \"AGE\", AST = `Aspartate aminotransferase`,\n",
    "                     ALT = `Alanine aminotransferase`,\n",
    "                     PLT = `Platelet count`)\n",
    "\n",
    "df_fib4 <- df_fib4 %>%\n",
    "  mutate(\n",
    "    FIB4_orig = (AGE * AST) / (PLT * (ALT * 0.5))\n",
    "  )\n",
    "\n",
    "df_fib4 <- adjust_outliers(df_fib4, \"FIB4_orig\")\n",
    "\n",
    "\n",
    "# Calculate normalized FIB-4 score (0 to 1)\n",
    "df_fib4 <- df_fib4 %>%\n",
    "  mutate(\n",
    "    FIB4 = (FIB4_orig - min(FIB4_orig, na.rm = TRUE)) / (max(FIB4_orig, na.rm = TRUE) - min(FIB4_orig, na.rm = TRUE))\n",
    "  )\n",
    "head(df_fib4)\n",
    "sum(is.na(df_fib4$FIB4))\n",
    "summary(df_fib4)\n",
    "hist(df_fib4$FIB4_orig)"
   ]
  },
  {
   "cell_type": "code",
   "execution_count": null,
   "metadata": {
    "vscode": {
     "languageId": "r"
    }
   },
   "outputs": [],
   "source": [
    "df_apri <- df_all %>% select(\"eid\", \"person_id_year\", \"SEX\", AST = `Aspartate aminotransferase`,\n",
    "                     PLT = `Platelet count`)\n",
    "\n",
    "summary(df_apri)\n",
    "\n",
    "df_apri <- df_apri %>%\n",
    "  mutate(\n",
    "    ULN_AST = case_when(\n",
    "      SEX == \"0\" ~ 35,\n",
    "      SEX == \"1\" ~ 50,\n",
    "      TRUE ~ NA_real_\n",
    "    ),\n",
    "    APRI_orig = (AST / ULN_AST) / (PLT / 100)\n",
    "  )\n",
    "df_apri <- adjust_outliers(df_apri, \"APRI_orig\")\n",
    "summary(df_apri)\n",
    "\n",
    "# Normalize APRI score (0 to 1)\n",
    "df_apri <- df_apri %>%\n",
    "  mutate(\n",
    "    APRI = (APRI_orig - min(APRI_orig, na.rm = TRUE)) / (max(APRI_orig, na.rm = TRUE) - min(APRI_orig, na.rm = TRUE))\n",
    "  )\n",
    "\n",
    "# Summary of APRI scores\n",
    "summary(df_apri$APRI)"
   ]
  },
  {
   "cell_type": "markdown",
   "metadata": {},
   "source": [
    "## NFS Score"
   ]
  },
  {
   "cell_type": "code",
   "execution_count": null,
   "metadata": {
    "vscode": {
     "languageId": "r"
    }
   },
   "outputs": [],
   "source": [
    "df_nfs <- df_all %>% select(eid, \"person_id_year\", SEX, BMI, AGE, DM, AST = `Aspartate aminotransferase`,\n",
    "                     ALT = `Alanine aminotransferase`,\n",
    "                     PLT = `Platelet count`,\n",
    "                    Albumin)\n",
    "\n",
    "df_nfs <- df_nfs %>%\n",
    "  mutate(\n",
    "    DM_numeric = as.numeric(DM),\n",
    "    AST_ALT_ratio = ifelse(ALT == 0 | is.na(ALT), NA, AST / ALT),\n",
    "    NFS_orig = -1.675 + 0.037 * AGE + 0.094 * BMI + 1.13 * ifelse(DM_numeric == 1, 1, 0) + \n",
    "          0.99 * AST_ALT_ratio - 0.013 * PLT - 0.66 * Albumin\n",
    "  )\n",
    "\n",
    "summary(df_nfs$NFS_orig)\n",
    "range(df_nfs$NFS_orig, na.rm = TRUE)\n",
    "unique(df_nfs$NFS_orig)\n",
    "\n",
    "df_nfs$NFS_orig[is.infinite(df_nfs$NFS_orig)] <- NA\n",
    "\n",
    "# Normalize NFS score (0 to 1)\n",
    "df_nfs <- df_nfs %>%\n",
    "  mutate(\n",
    "    NFS = (NFS_orig - min(NFS_orig, na.rm = TRUE)) / (max(NFS_orig, na.rm = TRUE) - min(NFS_orig, na.rm = TRUE))\n",
    "  )\n",
    "\n",
    "# Summary of NFS scores\n",
    "summary(df_nfs$NFS)\n",
    "head(df_nfs)"
   ]
  },
  {
   "cell_type": "code",
   "execution_count": null,
   "metadata": {
    "vscode": {
     "languageId": "r"
    }
   },
   "outputs": [],
   "source": [
    "check_zero_to_one <- function(x, column_name) {\n",
    "  if (!is.numeric(x)) {\n",
    "    cat(column_name, \"is not numeric.\\n\")\n",
    "    return(FALSE)\n",
    "  }\n",
    "  \n",
    "  values_in_range <- x >= 0 & x <= 1\n",
    "  all_in_range <- all(values_in_range, na.rm = TRUE)\n",
    "  \n",
    "  cat(column_name, \"check:\\n\")\n",
    "  cat(\"  All values between 0 and 1:\", all_in_range, \"\\n\")\n",
    "  cat(\"  Number of NA values:\", sum(is.na(x)), \"\\n\")\n",
    "  \n",
    "  if (!all_in_range) {\n",
    "    out_of_range <- x[!values_in_range & !is.na(x)]\n",
    "    cat(\"  Values out of range:\", out_of_range, \"\\n\")\n",
    "  }\n",
    "  \n",
    "  cat(\"\\n\")\n",
    "  return(all_in_range)\n",
    "}\n",
    "\n",
    "# Check \"status\" column\n",
    "status_check <- check_zero_to_one(df_amap$status, \"status\")\n",
    "\n",
    "# Check \"aMAP\" column\n",
    "amap_check <- check_zero_to_one(df_amap$aMAP, \"aMAP\")\n",
    "\n",
    "# Overall result\n",
    "if (status_check && amap_check) {\n",
    "  cat(\"Both 'status' and 'aMAP' columns contain only values between 0 and 1.\\n\")\n",
    "} else {\n",
    "  cat(\"At least one column contains values outside the range 0 to 1 or is not numeric.\\n\")\n",
    "}"
   ]
  },
  {
   "cell_type": "markdown",
   "metadata": {},
   "source": [
    "## Benchmarks together"
   ]
  },
  {
   "cell_type": "code",
   "execution_count": null,
   "metadata": {
    "vscode": {
     "languageId": "r"
    }
   },
   "outputs": [],
   "source": [
    "\n",
    "\n",
    "df_benchmark <- df_amap %>%\n",
    "  select(eid, person_id_year, aMAP) %>%\n",
    "  inner_join(df_apri %>% select(person_id_year, APRI), by = \"person_id_year\") %>%\n",
    "  inner_join(df_fib4 %>% select(person_id_year, FIB4), by = \"person_id_year\") %>%\n",
    "  inner_join(df_nfs %>% select(person_id_year, NFS), by = \"person_id_year\") %>%\n",
    "  inner_join(df_early_cirrhosis, by = \"eid\")\n",
    "\n",
    "df_y <- df_y %>% select(person_id_year, status, year_diff, year_of_diag, year)\n",
    "\n",
    "df_benchmark <- merge(df_benchmark, df_y, by=\"person_id_year\") %>% filter(status !=2)\n",
    "\n",
    "# Summary of the benchmark dataframe\n",
    "summary(df_benchmark)\n",
    "write_csv(df_benchmark, file=\"data/df_benchmark.csv\")"
   ]
  },
  {
   "cell_type": "code",
   "execution_count": null,
   "metadata": {
    "vscode": {
     "languageId": "r"
    }
   },
   "outputs": [],
   "source": [
    "colnames(df_y)"
   ]
  }
 ],
 "metadata": {
  "kernelspec": {
   "display_name": "R",
   "language": "R",
   "name": "ir"
  },
  "language_info": {
   "codemirror_mode": "r",
   "file_extension": ".r",
   "mimetype": "text/x-r-source",
   "name": "R",
   "pygments_lexer": "r",
   "version": "4.5.0"
  },
  "toc": {
   "base_numbering": 1,
   "nav_menu": {
    "height": "493px",
    "width": "274px"
   },
   "number_sections": true,
   "sideBar": true,
   "skip_h1_title": false,
   "title_cell": "Table of Contents",
   "title_sidebar": "Contents",
   "toc_cell": false,
   "toc_position": {
    "height": "calc(100% - 180px)",
    "left": "10px",
    "top": "150px",
    "width": "283.656px"
   },
   "toc_section_display": true,
   "toc_window_display": true
  }
 },
 "nbformat": 4,
 "nbformat_minor": 2
}
