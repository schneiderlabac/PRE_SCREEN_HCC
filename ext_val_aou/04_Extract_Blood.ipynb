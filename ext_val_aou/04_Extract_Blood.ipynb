{
 "cells": [
  {
   "cell_type": "code",
   "execution_count": null,
   "metadata": {
    "vscode": {
     "languageId": "r"
    }
   },
   "outputs": [],
   "source": [
    "### Script that applies the following qc metrics to AoU labs\n",
    "### ****Uses similar workflow as https://genomemedicine.biomedcentral.com/articles/10.1186/s13073-020-00820-8\n",
    "###\n",
    "### - Filter for INPATIENT/OUTPATIENT labs (removes EMERGENCY and NULL)\n",
    "### - Remove NAs, NULLs, infinite, non-numeric, <0 when inappropriate\n",
    "### - Remove duplicates\n",
    "### - Remove outliers (>4 SDs)\n",
    "###\n",
    "### Later\n",
    "### - Calculate min, median, max\n",
    "### - Inverse normal quantile transformation (https://www.ncbi.nlm.nih.gov/pmc/articles/PMC8643141/)"
   ]
  },
  {
   "cell_type": "code",
   "execution_count": null,
   "metadata": {},
   "outputs": [],
   "source": [
    "# Load \"config.R\" for utility functions. \n",
    "#Will also triggger loading of \n",
    "    \n",
    "    # user_config.JSON (including key for project_config)\n",
    "    # project_config.JSON\n",
    "    # preprocessing_visualizations.R\n",
    "    # preprocessing_functions.R\n",
    "\n",
    "user <- \"Jan\" \n",
    "source(\"config.r\")\n",
    "\n",
    "\n",
    "\n",
    "#If certain packages not installed yet via requirements.txt, install them here via\n",
    "# install.packages(\"package_name\")"
   ]
  },
  {
   "cell_type": "markdown",
   "metadata": {},
   "source": [
    "# Setup"
   ]
  },
  {
   "cell_type": "markdown",
   "metadata": {},
   "source": [
    "## Extract pt demographics"
   ]
  },
  {
   "cell_type": "code",
   "execution_count": null,
   "metadata": {
    "vscode": {
     "languageId": "r"
    }
   },
   "outputs": [],
   "source": [
    "library(tidyverse)\n",
    "library(bigrquery)\n",
    "\n",
    "# This query represents dataset \"All participants demographics\" for domain \"person\" and was generated for All of Us Controlled Tier Dataset v8\n",
    "dataset_74259454_person_sql <- paste(\"\n",
    "    SELECT\n",
    "        person.person_id,\n",
    "        person.gender_concept_id,\n",
    "        p_gender_concept.concept_name as gender,\n",
    "        person.birth_datetime as date_of_birth,\n",
    "        person.race_concept_id,\n",
    "        p_race_concept.concept_name as race,\n",
    "        person.ethnicity_concept_id,\n",
    "        p_ethnicity_concept.concept_name as ethnicity,\n",
    "        person.sex_at_birth_concept_id,\n",
    "        p_sex_at_birth_concept.concept_name as sex_at_birth \n",
    "    FROM\n",
    "        `person` person \n",
    "    LEFT JOIN\n",
    "        `concept` p_gender_concept \n",
    "            ON person.gender_concept_id = p_gender_concept.concept_id \n",
    "    LEFT JOIN\n",
    "        `concept` p_race_concept \n",
    "            ON person.race_concept_id = p_race_concept.concept_id \n",
    "    LEFT JOIN\n",
    "        `concept` p_ethnicity_concept \n",
    "            ON person.ethnicity_concept_id = p_ethnicity_concept.concept_id \n",
    "    LEFT JOIN\n",
    "        `concept` p_sex_at_birth_concept \n",
    "            ON person.sex_at_birth_concept_id = p_sex_at_birth_concept.concept_id\", sep=\"\")\n",
    "\n",
    "# Formulate a Cloud Storage destination path for the data exported from BigQuery.\n",
    "# NOTE: By default data exported multiple times on the same day will overwrite older copies.\n",
    "#       But data exported on a different days will write to a new location so that historical\n",
    "#       copies can be kept as the dataset definition is changed.\n",
    "person_74259454_path <- file.path(\n",
    "  Sys.getenv(\"WORKSPACE_BUCKET\"),\n",
    "  \"bq_exports\",\n",
    "  Sys.getenv(\"OWNER_EMAIL\"),\n",
    "  strftime(lubridate::now(), \"%Y%m%d\"),  # Comment out this line if you want the export to always overwrite.\n",
    "  \"person_74259454\",\n",
    "  \"person_74259454_*.csv\")\n",
    "message(str_glue('The data will be written to {person_74259454_path}. Use this path when reading ',\n",
    "                 'the data into your notebooks in the future.'))\n",
    "\n",
    "# Perform the query and export the dataset to Cloud Storage as CSV files.\n",
    "# NOTE: You only need to run `bq_table_save` once. After that, you can\n",
    "#       just read data from the CSVs in Cloud Storage.\n",
    "bq_table_save(\n",
    "  bq_dataset_query(Sys.getenv(\"WORKSPACE_CDR\"), dataset_74259454_person_sql, billing = Sys.getenv(\"GOOGLE_PROJECT\")),\n",
    "  person_74259454_path,\n",
    "  destination_format = \"CSV\")\n",
    "\n"
   ]
  },
  {
   "cell_type": "code",
   "execution_count": null,
   "metadata": {
    "vscode": {
     "languageId": "r"
    }
   },
   "outputs": [],
   "source": []
  },
  {
   "cell_type": "markdown",
   "metadata": {},
   "source": [
    "## Read in pt demographics"
   ]
  },
  {
   "cell_type": "code",
   "execution_count": null,
   "metadata": {
    "vscode": {
     "languageId": "r"
    }
   },
   "outputs": [],
   "source": [
    "library(tidyverse)\n",
    "# Read the data directly from Cloud Storage into memory.\n",
    "# NOTE: Alternatively you can `gsutil -m cp {person_74259454_path}` to copy these files\n",
    "#       to the Jupyter disk.\n",
    "read_bq_export_from_workspace_bucket <- function(export_path) {\n",
    "  col_types <- cols(gender = col_character(), race = col_character(), ethnicity = col_character(), sex_at_birth = col_character())\n",
    "  bind_rows(\n",
    "    map(system2('gsutil', args = c('ls', export_path), stdout = TRUE, stderr = TRUE),\n",
    "        function(csv) {\n",
    "          message(str_glue('Loading {csv}.'))\n",
    "          chunk <- read_csv(pipe(str_glue('gsutil cat {csv}')), col_types = col_types, show_col_types = FALSE)\n",
    "          if (is.null(col_types)) {\n",
    "            col_types <- spec(chunk)\n",
    "          }\n",
    "          chunk\n",
    "        }))\n",
    "}\n",
    "\n",
    "#person_74259454_path <- \"gs://fc-secure-14ec18bd-6438-4be3-b1ec-fa12149aa148/bq_exports/davidz1@researchallofus.org/20231021/person_74259454/person_74259454_*.csv\"\n",
    "\n",
    "dataset_74259454_person_df <- read_bq_export_from_workspace_bucket(person_74259454_path)\n",
    "\n",
    "dim(dataset_74259454_person_df)\n",
    "\n",
    "head(dataset_74259454_person_df, 5)"
   ]
  },
  {
   "cell_type": "code",
   "execution_count": null,
   "metadata": {
    "vscode": {
     "languageId": "r"
    }
   },
   "outputs": [],
   "source": [
    "race_ethnicity <- dataset_74259454_person_df %>%\n",
    "    select(person_id, race, ethnicity)\n",
    "write.table(race_ethnicity, paste0(data_path, \"/dataframes/AllofUs_v8_race_ethnicity.txt\"), sep=\"\\t\", quote=F, row.names=F)\n"
   ]
  },
  {
   "cell_type": "code",
   "execution_count": null,
   "metadata": {
    "vscode": {
     "languageId": "r"
    }
   },
   "outputs": [],
   "source": [
    "DOBs <- dataset_74259454_person_df %>%\n",
    "    select(person_id, date_of_birth)\n",
    "\n",
    "dim(DOBs)\n",
    "head(DOBs, 5)"
   ]
  },
  {
   "cell_type": "markdown",
   "metadata": {},
   "source": [
    "# Creatinine"
   ]
  },
  {
   "cell_type": "markdown",
   "metadata": {},
   "source": [
    "## Extract pt creatinine"
   ]
  },
  {
   "cell_type": "code",
   "execution_count": null,
   "metadata": {
    "vscode": {
     "languageId": "r"
    }
   },
   "outputs": [],
   "source": [
    "library(tidyverse)\n",
    "library(bigrquery)\n",
    "\n",
    "# This query represents dataset \"Pts with Creatinine\" for domain \"measurement\" and was generated for All of Us Controlled Tier Dataset v8\n",
    "dataset_64357831_measurement_sql <- paste(\"\n",
    "    SELECT\n",
    "        measurement.person_id,\n",
    "        measurement.measurement_concept_id,\n",
    "        m_standard_concept.concept_name as standard_concept_name,\n",
    "        m_standard_concept.concept_code as standard_concept_code,\n",
    "        m_standard_concept.vocabulary_id as standard_vocabulary,\n",
    "        measurement.measurement_datetime,\n",
    "        measurement.measurement_type_concept_id,\n",
    "        m_type.concept_name as measurement_type_concept_name,\n",
    "        measurement.operator_concept_id,\n",
    "        m_operator.concept_name as operator_concept_name,\n",
    "        measurement.value_as_number,\n",
    "        measurement.value_as_concept_id,\n",
    "        m_value.concept_name as value_as_concept_name,\n",
    "        measurement.unit_concept_id,\n",
    "        m_unit.concept_name as unit_concept_name,\n",
    "        measurement.range_low,\n",
    "        measurement.range_high,\n",
    "        measurement.visit_occurrence_id,\n",
    "        m_visit.concept_name as visit_occurrence_concept_name,\n",
    "        measurement.measurement_source_value,\n",
    "        measurement.measurement_source_concept_id,\n",
    "        m_source_concept.concept_name as source_concept_name,\n",
    "        m_source_concept.concept_code as source_concept_code,\n",
    "        m_source_concept.vocabulary_id as source_vocabulary,\n",
    "        measurement.unit_source_value,\n",
    "        measurement.value_source_value \n",
    "    FROM\n",
    "        ( SELECT\n",
    "            * \n",
    "        FROM\n",
    "            `measurement` measurement \n",
    "        WHERE\n",
    "            (\n",
    "                measurement_concept_id IN  (\n",
    "                    SELECT\n",
    "                        DISTINCT c.concept_id \n",
    "                    FROM\n",
    "                        `cb_criteria` c \n",
    "                    JOIN\n",
    "                        (\n",
    "                            select\n",
    "                                cast(cr.id as string) as id \n",
    "                            FROM\n",
    "                                `cb_criteria` cr \n",
    "                            WHERE\n",
    "                                concept_id IN (\n",
    "                                    40775801\n",
    "                                ) \n",
    "                                AND full_text LIKE '%_rank1]%'\n",
    "                        ) a \n",
    "                            ON (\n",
    "                                c.path LIKE CONCAT('%.',\n",
    "                            a.id,\n",
    "                            '.%') \n",
    "                            OR c.path LIKE CONCAT('%.',\n",
    "                            a.id) \n",
    "                            OR c.path LIKE CONCAT(a.id,\n",
    "                            '.%') \n",
    "                            OR c.path = a.id) \n",
    "                        WHERE\n",
    "                            is_standard = 1 \n",
    "                            AND is_selectable = 1\n",
    "                        )\n",
    "                )  \n",
    "                AND (\n",
    "                    measurement.PERSON_ID IN (\n",
    "                        SELECT\n",
    "                            distinct person_id  \n",
    "                        FROM\n",
    "                            `cb_search_person` cb_search_person  \n",
    "                        WHERE\n",
    "                            cb_search_person.person_id IN (\n",
    "                                SELECT\n",
    "                                    criteria.person_id \n",
    "                                FROM\n",
    "                                    (SELECT\n",
    "                                        DISTINCT person_id,\n",
    "                                        entry_date,\n",
    "                                        concept_id \n",
    "                                    FROM\n",
    "                                        `cb_search_all_events` \n",
    "                                    WHERE\n",
    "                                        (\n",
    "                                            concept_id IN (\n",
    "                                                SELECT\n",
    "                                                    DISTINCT c.concept_id \n",
    "                                                FROM\n",
    "                                                    `cb_criteria` c \n",
    "                                                JOIN\n",
    "                                                    (\n",
    "                                                        select\n",
    "                                                            cast(cr.id as string) as id \n",
    "                                                        FROM\n",
    "                                                            `cb_criteria` cr \n",
    "                                                        WHERE\n",
    "                                                            concept_id IN (40775801) \n",
    "                                                            AND full_text LIKE '%_rank1]%'\n",
    "                                                    ) a \n",
    "                                                        ON (\n",
    "                                                            c.path LIKE CONCAT('%.',\n",
    "                                                        a.id,\n",
    "                                                        '.%') \n",
    "                                                        OR c.path LIKE CONCAT('%.',\n",
    "                                                        a.id) \n",
    "                                                        OR c.path LIKE CONCAT(a.id,\n",
    "                                                        '.%') \n",
    "                                                        OR c.path = a.id) \n",
    "                                                    WHERE\n",
    "                                                        is_standard = 1 \n",
    "                                                        AND is_selectable = 1\n",
    "                                                    ) \n",
    "                                                    AND is_standard = 1 \n",
    "                                            )\n",
    "                                        ) criteria \n",
    "                                    ) ))\n",
    "                        ) measurement \n",
    "                    LEFT JOIN\n",
    "                        `concept` m_standard_concept \n",
    "                            ON measurement.measurement_concept_id = m_standard_concept.concept_id \n",
    "                    LEFT JOIN\n",
    "                        `concept` m_type \n",
    "                            ON measurement.measurement_type_concept_id = m_type.concept_id \n",
    "                    LEFT JOIN\n",
    "                        `concept` m_operator \n",
    "                            ON measurement.operator_concept_id = m_operator.concept_id \n",
    "                    LEFT JOIN\n",
    "                        `concept` m_value \n",
    "                            ON measurement.value_as_concept_id = m_value.concept_id \n",
    "                    LEFT JOIN\n",
    "                        `concept` m_unit \n",
    "                            ON measurement.unit_concept_id = m_unit.concept_id \n",
    "                    LEFT JOIn\n",
    "                        `visit_occurrence` v \n",
    "                            ON measurement.visit_occurrence_id = v.visit_occurrence_id \n",
    "                    LEFT JOIN\n",
    "                        `concept` m_visit \n",
    "                            ON v.visit_concept_id = m_visit.concept_id \n",
    "                    LEFT JOIN\n",
    "                        `concept` m_source_concept \n",
    "                            ON measurement.measurement_source_concept_id = m_source_concept.concept_id\", sep=\"\")\n",
    "\n",
    "# Formulate a Cloud Storage destination path for the data exported from BigQuery.\n",
    "# NOTE: By default data exported multiple times on the same day will overwrite older copies.\n",
    "#       But data exported on a different days will write to a new location so that historical\n",
    "#       copies can be kept as the dataset definition is changed.\n",
    "measurement_64357831_path <- file.path(\n",
    "  Sys.getenv(\"WORKSPACE_BUCKET\"),\n",
    "  \"bq_exports\",\n",
    "  Sys.getenv(\"OWNER_EMAIL\"),\n",
    "  strftime(lubridate::now(), \"%Y%m%d\"),  # Comment out this line if you want the export to always overwrite.\n",
    "  \"measurement_64357831\",\n",
    "  \"measurement_64357831_*.csv\")\n",
    "message(str_glue('The data will be written to {measurement_64357831_path}. Use this path when reading ',\n",
    "                 'the data into your notebooks in the future.'))\n",
    "\n",
    "# Perform the query and export the dataset to Cloud Storage as CSV files.\n",
    "# NOTE: You only need to run `bq_table_save` once. After that, you can\n",
    "#       just read data from the CSVs in Cloud Storage.\n",
    "bq_table_save(\n",
    "  bq_dataset_query(Sys.getenv(\"WORKSPACE_CDR\"), dataset_64357831_measurement_sql, billing = Sys.getenv(\"GOOGLE_PROJECT\")),\n",
    "  measurement_64357831_path,\n",
    "  destination_format = \"CSV\")\n",
    "\n"
   ]
  },
  {
   "cell_type": "code",
   "execution_count": null,
   "metadata": {
    "vscode": {
     "languageId": "r"
    }
   },
   "outputs": [],
   "source": [
    "library(tidyverse)\n",
    "# Read the data directly from Cloud Storage into memory.\n",
    "# NOTE: Alternatively you can `gsutil -m cp {measurement_64357831_path}` to copy these files\n",
    "#       to the Jupyter disk.\n",
    "read_bq_export_from_workspace_bucket <- function(export_path) {\n",
    "  col_types <- cols(standard_concept_name = col_character(), standard_concept_code = col_character(), standard_vocabulary = col_character(), measurement_type_concept_name = col_character(), operator_concept_name = col_character(), value_as_concept_name = col_character(), unit_concept_name = col_character(), visit_occurrence_concept_name = col_character(), measurement_source_value = col_character(), source_concept_name = col_character(), source_concept_code = col_character(), source_vocabulary = col_character(), unit_source_value = col_character(), value_source_value = col_character())\n",
    "  bind_rows(\n",
    "    map(system2('gsutil', args = c('ls', export_path), stdout = TRUE, stderr = TRUE),\n",
    "        function(csv) {\n",
    "          message(str_glue('Loading {csv}.'))\n",
    "          chunk <- read_csv(pipe(str_glue('gsutil cat {csv}')), col_types = col_types, show_col_types = FALSE)\n",
    "          if (is.null(col_types)) {\n",
    "            col_types <- spec(chunk)\n",
    "          }\n",
    "          chunk\n",
    "        }))\n",
    "}\n",
    "#measurement_64357831_path <- \"gs://fc-secure-14ec18bd-6438-4be3-b1ec-fa12149aa148/bq_exports/davidz1@researchallofus.org/20231021/measurement_64357831/measurement_64357831_*.csv\"\n",
    "dataset_64357831_measurement_df <- read_bq_export_from_workspace_bucket(measurement_64357831_path)\n",
    "\n",
    "dim(dataset_64357831_measurement_df)\n",
    "\n",
    "head(dataset_64357831_measurement_df, 5)"
   ]
  },
  {
   "cell_type": "markdown",
   "metadata": {},
   "source": [
    "## Process pt creatinine"
   ]
  },
  {
   "cell_type": "code",
   "execution_count": null,
   "metadata": {
    "vscode": {
     "languageId": "r"
    }
   },
   "outputs": [],
   "source": [
    "# Creatinine\n",
    "labs <- dataset_64357831_measurement_df\n",
    "colnames(labs)\n",
    "length(unique(labs$person_id))\n",
    "\n",
    "#as.data.frame(table(labs$visit_occurrence_concept_name)) %>% arrange(-Freq)\n",
    "#as.data.frame(table(labs$unit_concept_name)) %>% arrange(-Freq)\n",
    "\n",
    "#new_labs <- labs %>%\n",
    "#    filter(!grepl(\"Emergency\", visit_occurrence_concept_name) & !grepl(\"Intensive\", visit_occurrence_concept_name) &\n",
    "#          !grepl(\"Urgent\", visit_occurrence_concept_name))\n",
    "\n",
    "#as.data.frame(table(new_labs$visit_occurrence_concept_name)) %>% arrange(-Freq)\n",
    "#new_labs <- labs %>%\n",
    "#    filter(unit_concept_name == \"milligram per deciliter\")\n",
    "#length(unique(new_labs$person_id))\n"
   ]
  },
  {
   "cell_type": "code",
   "execution_count": null,
   "metadata": {
    "vscode": {
     "languageId": "r"
    }
   },
   "outputs": [],
   "source": [
    "keep_outliers = FALSE\n",
    "\n",
    "# Do all the filtering specified at the top of the file\n",
    "labs_formatted <- labs %>%\n",
    "    filter(!grepl(\"Emergency\", visit_occurrence_concept_name) & \n",
    "           !grepl(\"Intensive\", visit_occurrence_concept_name) &\n",
    "           !grepl(\"Urgent\", visit_occurrence_concept_name)) %>%\n",
    "    filter(unit_concept_name == \"milligram per deciliter\") %>%\n",
    "    select(person_id, measurement_datetime, value_as_number) %>%\n",
    "    mutate_at(c('person_id'), as.character) %>%\n",
    "    mutate(across(where(is.character), ~na_if(., \"NULL\"))) %>%\n",
    "    na.omit() %>%\n",
    "    distinct() %>%\n",
    "    group_by(person_id) %>%\n",
    "    filter(value_as_number < (10 * median(value_as_number))) %>%\n",
    "    ungroup() %>%\n",
    "    filter(keep_outliers | value_as_number >= mean(value_as_number) - (4 * sd(value_as_number))) %>%\n",
    "    filter(keep_outliers | value_as_number <= mean(value_as_number) + (4 * sd(value_as_number))) \n",
    "\n",
    "dim(labs_formatted)\n",
    "head(labs_formatted, 5)\n"
   ]
  },
  {
   "cell_type": "code",
   "execution_count": null,
   "metadata": {
    "vscode": {
     "languageId": "r"
    }
   },
   "outputs": [],
   "source": [
    "min(labs_formatted$value_as_number)\n",
    "median(labs_formatted$value_as_number)\n",
    "max(labs_formatted$value_as_number)\n"
   ]
  },
  {
   "cell_type": "code",
   "execution_count": null,
   "metadata": {
    "vscode": {
     "languageId": "r"
    }
   },
   "outputs": [],
   "source": [
    "write.table(labs_formatted, \n",
    "    file=paste0(data_path, \"/dataframes/blood/AllofUs_v8_labs-Creatinine_wout_outliers_long_102123.txt\"), \n",
    "    row.names=FALSE, quote=FALSE, sep=\"\\t\")\n"
   ]
  },
  {
   "cell_type": "markdown",
   "metadata": {},
   "source": [
    "# eGFR"
   ]
  },
  {
   "cell_type": "markdown",
   "metadata": {},
   "source": [
    "## Extract pt eGFR"
   ]
  },
  {
   "cell_type": "code",
   "execution_count": null,
   "metadata": {
    "vscode": {
     "languageId": "r"
    }
   },
   "outputs": [],
   "source": [
    "# library(tidyverse)\n",
    "# library(bigrquery)\n",
    "\n",
    "# # This query represents dataset \"Pts with eGFR\" for domain \"measurement\" and was generated for All of Us Controlled Tier Dataset v8\n",
    "# dataset_05954982_measurement_sql <- paste(\"\n",
    "#     SELECT\n",
    "#         measurement.person_id,\n",
    "#         measurement.measurement_concept_id,\n",
    "#         m_standard_concept.concept_name as standard_concept_name,\n",
    "#         m_standard_concept.concept_code as standard_concept_code,\n",
    "#         m_standard_concept.vocabulary_id as standard_vocabulary,\n",
    "#         measurement.measurement_datetime,\n",
    "#         measurement.measurement_type_concept_id,\n",
    "#         m_type.concept_name as measurement_type_concept_name,\n",
    "#         measurement.operator_concept_id,\n",
    "#         m_operator.concept_name as operator_concept_name,\n",
    "#         measurement.value_as_number,\n",
    "#         measurement.value_as_concept_id,\n",
    "#         m_value.concept_name as value_as_concept_name,\n",
    "#         measurement.unit_concept_id,\n",
    "#         m_unit.concept_name as unit_concept_name,\n",
    "#         measurement.range_low,\n",
    "#         measurement.range_high,\n",
    "#         measurement.visit_occurrence_id,\n",
    "#         m_visit.concept_name as visit_occurrence_concept_name,\n",
    "#         measurement.measurement_source_value,\n",
    "#         measurement.measurement_source_concept_id,\n",
    "#         m_source_concept.concept_name as source_concept_name,\n",
    "#         m_source_concept.concept_code as source_concept_code,\n",
    "#         m_source_concept.vocabulary_id as source_vocabulary,\n",
    "#         measurement.unit_source_value,\n",
    "#         measurement.value_source_value \n",
    "#     FROM\n",
    "#         ( SELECT\n",
    "#             * \n",
    "#         FROM\n",
    "#             `measurement` measurement \n",
    "#         WHERE\n",
    "#             (\n",
    "#                 measurement_concept_id IN  (\n",
    "#                     SELECT\n",
    "#                         DISTINCT c.concept_id \n",
    "#                     FROM\n",
    "#                         `cb_criteria` c \n",
    "#                     JOIN\n",
    "#                         (\n",
    "#                             select\n",
    "#                                 cast(cr.id as string) as id \n",
    "#                             FROM\n",
    "#                                 `cb_criteria` cr \n",
    "#                             WHERE\n",
    "#                                 concept_id IN (\n",
    "#                                     1029770\n",
    "#                                 ) \n",
    "#                                 AND full_text LIKE '%_rank1]%'\n",
    "#                         ) a \n",
    "#                             ON (\n",
    "#                                 c.path LIKE CONCAT('%.',\n",
    "#                             a.id,\n",
    "#                             '.%') \n",
    "#                             OR c.path LIKE CONCAT('%.',\n",
    "#                             a.id) \n",
    "#                             OR c.path LIKE CONCAT(a.id,\n",
    "#                             '.%') \n",
    "#                             OR c.path = a.id) \n",
    "#                         WHERE\n",
    "#                             is_standard = 1 \n",
    "#                             AND is_selectable = 1\n",
    "#                         )\n",
    "#                 )  \n",
    "#                 AND (\n",
    "#                     measurement.PERSON_ID IN (\n",
    "#                         SELECT\n",
    "#                             distinct person_id  \n",
    "#                         FROM\n",
    "#                             `cb_search_person` cb_search_person  \n",
    "#                         WHERE\n",
    "#                             cb_search_person.person_id IN (\n",
    "#                                 SELECT\n",
    "#                                     criteria.person_id \n",
    "#                                 FROM\n",
    "#                                     (SELECT\n",
    "#                                         DISTINCT person_id,\n",
    "#                                         entry_date,\n",
    "#                                         concept_id \n",
    "#                                     FROM\n",
    "#                                         `cb_search_all_events` \n",
    "#                                     WHERE\n",
    "#                                         (\n",
    "#                                             concept_id IN (\n",
    "#                                                 SELECT\n",
    "#                                                     DISTINCT c.concept_id \n",
    "#                                                 FROM\n",
    "#                                                     `cb_criteria` c \n",
    "#                                                 JOIN\n",
    "#                                                     (\n",
    "#                                                         select\n",
    "#                                                             cast(cr.id as string) as id \n",
    "#                                                         FROM\n",
    "#                                                             `cb_criteria` cr \n",
    "#                                                         WHERE\n",
    "#                                                             concept_id IN (1029770) \n",
    "#                                                             AND full_text LIKE '%_rank1]%'\n",
    "#                                                     ) a \n",
    "#                                                         ON (\n",
    "#                                                             c.path LIKE CONCAT('%.',\n",
    "#                                                         a.id,\n",
    "#                                                         '.%') \n",
    "#                                                         OR c.path LIKE CONCAT('%.',\n",
    "#                                                         a.id) \n",
    "#                                                         OR c.path LIKE CONCAT(a.id,\n",
    "#                                                         '.%') \n",
    "#                                                         OR c.path = a.id) \n",
    "#                                                     WHERE\n",
    "#                                                         is_standard = 1 \n",
    "#                                                         AND is_selectable = 1\n",
    "#                                                     ) \n",
    "#                                                     AND is_standard = 1 \n",
    "#                                             )\n",
    "#                                         ) criteria \n",
    "#                                     ) ))\n",
    "#                         ) measurement \n",
    "#                     LEFT JOIN\n",
    "#                         `concept` m_standard_concept \n",
    "#                             ON measurement.measurement_concept_id = m_standard_concept.concept_id \n",
    "#                     LEFT JOIN\n",
    "#                         `concept` m_type \n",
    "#                             ON measurement.measurement_type_concept_id = m_type.concept_id \n",
    "#                     LEFT JOIN\n",
    "#                         `concept` m_operator \n",
    "#                             ON measurement.operator_concept_id = m_operator.concept_id \n",
    "#                     LEFT JOIN\n",
    "#                         `concept` m_value \n",
    "#                             ON measurement.value_as_concept_id = m_value.concept_id \n",
    "#                     LEFT JOIN\n",
    "#                         `concept` m_unit \n",
    "#                             ON measurement.unit_concept_id = m_unit.concept_id \n",
    "#                     LEFT JOIn\n",
    "#                         `visit_occurrence` v \n",
    "#                             ON measurement.visit_occurrence_id = v.visit_occurrence_id \n",
    "#                     LEFT JOIN\n",
    "#                         `concept` m_visit \n",
    "#                             ON v.visit_concept_id = m_visit.concept_id \n",
    "#                     LEFT JOIN\n",
    "#                         `concept` m_source_concept \n",
    "#                             ON measurement.measurement_source_concept_id = m_source_concept.concept_id\", sep=\"\")\n",
    "\n",
    "# # Formulate a Cloud Storage destination path for the data exported from BigQuery.\n",
    "# # NOTE: By default data exported multiple times on the same day will overwrite older copies.\n",
    "# #       But data exported on a different days will write to a new location so that historical\n",
    "# #       copies can be kept as the dataset definition is changed.\n",
    "# measurement_05954982_path <- file.path(\n",
    "#   Sys.getenv(\"WORKSPACE_BUCKET\"),\n",
    "#   \"bq_exports\",\n",
    "#   Sys.getenv(\"OWNER_EMAIL\"),\n",
    "#   strftime(lubridate::now(), \"%Y%m%d\"),  # Comment out this line if you want the export to always overwrite.\n",
    "#   \"measurement_05954982\",\n",
    "#   \"measurement_05954982_*.csv\")\n",
    "# message(str_glue('The data will be written to {measurement_05954982_path}. Use this path when reading ',\n",
    "#                  'the data into your notebooks in the future.'))\n",
    "\n",
    "# # Perform the query and export the dataset to Cloud Storage as CSV files.\n",
    "# # NOTE: You only need to run `bq_table_save` once. After that, you can\n",
    "# #       just read data from the CSVs in Cloud Storage.\n",
    "# bq_table_save(\n",
    "#   bq_dataset_query(Sys.getenv(\"WORKSPACE_CDR\"), dataset_05954982_measurement_sql, billing = Sys.getenv(\"GOOGLE_PROJECT\")),\n",
    "#   measurement_05954982_path,\n",
    "#   destination_format = \"CSV\")\n",
    "\n"
   ]
  },
  {
   "cell_type": "code",
   "execution_count": null,
   "metadata": {
    "vscode": {
     "languageId": "r"
    }
   },
   "outputs": [],
   "source": [
    "# # Read the data directly from Cloud Storage into memory.\n",
    "# # NOTE: Alternatively you can `gsutil -m cp {measurement_05954982_path}` to copy these files\n",
    "# #       to the Jupyter disk.\n",
    "# read_bq_export_from_workspace_bucket <- function(export_path) {\n",
    "#   col_types <- cols(standard_concept_name = col_character(), standard_concept_code = col_character(), standard_vocabulary = col_character(), measurement_type_concept_name = col_character(), operator_concept_name = col_character(), value_as_concept_name = col_character(), unit_concept_name = col_character(), visit_occurrence_concept_name = col_character(), measurement_source_value = col_character(), source_concept_name = col_character(), source_concept_code = col_character(), source_vocabulary = col_character(), unit_source_value = col_character(), value_source_value = col_character())\n",
    "#   bind_rows(\n",
    "#     map(system2('gsutil', args = c('ls', export_path), stdout = TRUE, stderr = TRUE),\n",
    "#         function(csv) {\n",
    "#           message(str_glue('Loading {csv}.'))\n",
    "#           chunk <- read_csv(pipe(str_glue('gsutil cat {csv}')), col_types = col_types, show_col_types = FALSE)\n",
    "#           if (is.null(col_types)) {\n",
    "#             col_types <- spec(chunk)\n",
    "#           }\n",
    "#           chunk\n",
    "#         }))\n",
    "# }\n",
    "# #measurement_05954982_path <- \"gs://fc-secure-14ec18bd-6438-4be3-b1ec-fa12149aa148/bq_exports/davidz1@researchallofus.org/20231021/measurement_05954982/measurement_05954982_*.csv\"\n",
    "# dataset_05954982_measurement_df <- read_bq_export_from_workspace_bucket(measurement_05954982_path)\n",
    "\n",
    "# dim(dataset_05954982_measurement_df)\n",
    "\n",
    "# head(dataset_05954982_measurement_df, 5)"
   ]
  },
  {
   "cell_type": "markdown",
   "metadata": {},
   "source": [
    "## Process pt eGFR"
   ]
  },
  {
   "cell_type": "code",
   "execution_count": null,
   "metadata": {
    "vscode": {
     "languageId": "r"
    }
   },
   "outputs": [],
   "source": [
    "# # eGFR\n",
    "# labs <- dataset_05954982_measurement_df\n",
    "# colnames(labs)\n",
    "# length(unique(labs$person_id))\n",
    "\n",
    "# #as.data.frame(table(labs$visit_occurrence_concept_name)) %>% arrange(-Freq)\n",
    "# as.data.frame(table(labs$unit_concept_name)) %>% arrange(-Freq)\n",
    "\n",
    "# #new_labs <- labs %>%\n",
    "# #    filter(!grepl(\"Emergency\", visit_occurrence_concept_name) & !grepl(\"Intensive\", visit_occurrence_concept_name) &\n",
    "# #          !grepl(\"Urgent\", visit_occurrence_concept_name))\n",
    "\n",
    "# #as.data.frame(table(new_labs$visit_occurrence_concept_name)) %>% arrange(-Freq)\n",
    "# new_labs <- labs %>%\n",
    "#     filter(unit_concept_name == \"milliliter per minute per 1.73 square meter\" |\n",
    "#            unit_concept_name == \"No matching concept\" |\n",
    "#            unit_concept_name == \"milliliter per minute\")\n",
    "# length(unique(new_labs$person_id))\n",
    "# min(new_labs$value_as_number, na.rm=T)\n",
    "# max(new_labs$value_as_number, na.rm=T)\n"
   ]
  },
  {
   "cell_type": "code",
   "execution_count": null,
   "metadata": {
    "vscode": {
     "languageId": "r"
    }
   },
   "outputs": [],
   "source": [
    "# keep_outliers = FALSE\n",
    "\n",
    "# # Do all the filtering specified at the top of the file\n",
    "# labs_formatted <- labs %>%\n",
    "#     filter(!grepl(\"Emergency\", visit_occurrence_concept_name) & \n",
    "#            !grepl(\"Intensive\", visit_occurrence_concept_name) &\n",
    "#            !grepl(\"Urgent\", visit_occurrence_concept_name)) %>%\n",
    "#     filter(unit_concept_name == \"milliliter per minute per 1.73 square meter\" |\n",
    "#            unit_concept_name == \"No matching concept\" |\n",
    "#            unit_concept_name == \"milliliter per minute\") %>%\n",
    "#     select(person_id, measurement_datetime, value_as_number) %>%\n",
    "#     mutate_at(c('person_id'), as.character) %>%\n",
    "#     mutate(across(where(is.character), ~na_if(., \"NULL\"))) %>%\n",
    "#     na.omit() %>%\n",
    "#     distinct() %>%\n",
    "#     group_by(person_id) %>%\n",
    "#     filter(value_as_number < (10 * median(value_as_number))) %>%\n",
    "#     ungroup() %>%\n",
    "#     filter(keep_outliers | value_as_number >= mean(value_as_number) - (4 * sd(value_as_number))) %>%\n",
    "#     filter(keep_outliers | value_as_number <= mean(value_as_number) + (4 * sd(value_as_number))) \n",
    "\n",
    "# dim(labs_formatted)\n",
    "# head(labs_formatted, 5)\n"
   ]
  },
  {
   "cell_type": "code",
   "execution_count": null,
   "metadata": {
    "vscode": {
     "languageId": "r"
    }
   },
   "outputs": [],
   "source": [
    "# min(labs_formatted$value_as_number)\n",
    "# median(labs_formatted$value_as_number)\n",
    "# max(labs_formatted$value_as_number)\n"
   ]
  },
  {
   "cell_type": "code",
   "execution_count": null,
   "metadata": {
    "vscode": {
     "languageId": "r"
    }
   },
   "outputs": [],
   "source": [
    "# write.table(labs_formatted, \n",
    "#     file=paste0(data_path, \"/dataframes/blood/AllofUs_v8_labs-eGFR_wout_outliers_long_102123.txt\"), \n",
    "#     row.names=FALSE, quote=FALSE, sep=\"\\t\")\n"
   ]
  },
  {
   "cell_type": "markdown",
   "metadata": {},
   "source": [
    "# Glucose"
   ]
  },
  {
   "cell_type": "markdown",
   "metadata": {},
   "source": [
    "## Extract pt glucose"
   ]
  },
  {
   "cell_type": "code",
   "execution_count": null,
   "metadata": {
    "vscode": {
     "languageId": "r"
    }
   },
   "outputs": [],
   "source": [
    "library(tidyverse)\n",
    "library(bigrquery)\n",
    "\n",
    "# This query represents dataset \"Pts with Glucose\" for domain \"measurement\" and was generated for All of Us Controlled Tier Dataset v8\n",
    "dataset_83179845_measurement_sql <- paste(\"\n",
    "    SELECT\n",
    "        measurement.person_id,\n",
    "        measurement.measurement_concept_id,\n",
    "        m_standard_concept.concept_name as standard_concept_name,\n",
    "        m_standard_concept.concept_code as standard_concept_code,\n",
    "        m_standard_concept.vocabulary_id as standard_vocabulary,\n",
    "        measurement.measurement_datetime,\n",
    "        measurement.measurement_type_concept_id,\n",
    "        m_type.concept_name as measurement_type_concept_name,\n",
    "        measurement.operator_concept_id,\n",
    "        m_operator.concept_name as operator_concept_name,\n",
    "        measurement.value_as_number,\n",
    "        measurement.value_as_concept_id,\n",
    "        m_value.concept_name as value_as_concept_name,\n",
    "        measurement.unit_concept_id,\n",
    "        m_unit.concept_name as unit_concept_name,\n",
    "        measurement.range_low,\n",
    "        measurement.range_high,\n",
    "        measurement.visit_occurrence_id,\n",
    "        m_visit.concept_name as visit_occurrence_concept_name,\n",
    "        measurement.measurement_source_value,\n",
    "        measurement.measurement_source_concept_id,\n",
    "        m_source_concept.concept_name as source_concept_name,\n",
    "        m_source_concept.concept_code as source_concept_code,\n",
    "        m_source_concept.vocabulary_id as source_vocabulary,\n",
    "        measurement.unit_source_value,\n",
    "        measurement.value_source_value \n",
    "    FROM\n",
    "        ( SELECT\n",
    "            * \n",
    "        FROM\n",
    "            `measurement` measurement \n",
    "        WHERE\n",
    "            (\n",
    "                measurement_concept_id IN  (\n",
    "                    SELECT\n",
    "                        DISTINCT c.concept_id \n",
    "                    FROM\n",
    "                        `cb_criteria` c \n",
    "                    JOIN\n",
    "                        (\n",
    "                            select\n",
    "                                cast(cr.id as string) as id \n",
    "                            FROM\n",
    "                                `cb_criteria` cr \n",
    "                            WHERE\n",
    "                                concept_id IN (\n",
    "                                    37065054\n",
    "                                ) \n",
    "                                AND full_text LIKE '%_rank1]%'\n",
    "                        ) a \n",
    "                            ON (\n",
    "                                c.path LIKE CONCAT('%.',\n",
    "                            a.id,\n",
    "                            '.%') \n",
    "                            OR c.path LIKE CONCAT('%.',\n",
    "                            a.id) \n",
    "                            OR c.path LIKE CONCAT(a.id,\n",
    "                            '.%') \n",
    "                            OR c.path = a.id) \n",
    "                        WHERE\n",
    "                            is_standard = 1 \n",
    "                            AND is_selectable = 1\n",
    "                        )\n",
    "                )  \n",
    "                AND (\n",
    "                    measurement.PERSON_ID IN (\n",
    "                        SELECT\n",
    "                            distinct person_id  \n",
    "                        FROM\n",
    "                            `cb_search_person` cb_search_person  \n",
    "                        WHERE\n",
    "                            cb_search_person.person_id IN (\n",
    "                                SELECT\n",
    "                                    criteria.person_id \n",
    "                                FROM\n",
    "                                    (SELECT\n",
    "                                        DISTINCT person_id,\n",
    "                                        entry_date,\n",
    "                                        concept_id \n",
    "                                    FROM\n",
    "                                        `cb_search_all_events` \n",
    "                                    WHERE\n",
    "                                        (\n",
    "                                            concept_id IN (\n",
    "                                                SELECT\n",
    "                                                    DISTINCT c.concept_id \n",
    "                                                FROM\n",
    "                                                    `cb_criteria` c \n",
    "                                                JOIN\n",
    "                                                    (\n",
    "                                                        select\n",
    "                                                            cast(cr.id as string) as id \n",
    "                                                        FROM\n",
    "                                                            `cb_criteria` cr \n",
    "                                                        WHERE\n",
    "                                                            concept_id IN (37065054) \n",
    "                                                            AND full_text LIKE '%_rank1]%'\n",
    "                                                    ) a \n",
    "                                                        ON (\n",
    "                                                            c.path LIKE CONCAT('%.',\n",
    "                                                        a.id,\n",
    "                                                        '.%') \n",
    "                                                        OR c.path LIKE CONCAT('%.',\n",
    "                                                        a.id) \n",
    "                                                        OR c.path LIKE CONCAT(a.id,\n",
    "                                                        '.%') \n",
    "                                                        OR c.path = a.id) \n",
    "                                                    WHERE\n",
    "                                                        is_standard = 1 \n",
    "                                                        AND is_selectable = 1\n",
    "                                                    ) \n",
    "                                                    AND is_standard = 1 \n",
    "                                            )\n",
    "                                        ) criteria \n",
    "                                    ) ))\n",
    "                        ) measurement \n",
    "                    LEFT JOIN\n",
    "                        `concept` m_standard_concept \n",
    "                            ON measurement.measurement_concept_id = m_standard_concept.concept_id \n",
    "                    LEFT JOIN\n",
    "                        `concept` m_type \n",
    "                            ON measurement.measurement_type_concept_id = m_type.concept_id \n",
    "                    LEFT JOIN\n",
    "                        `concept` m_operator \n",
    "                            ON measurement.operator_concept_id = m_operator.concept_id \n",
    "                    LEFT JOIN\n",
    "                        `concept` m_value \n",
    "                            ON measurement.value_as_concept_id = m_value.concept_id \n",
    "                    LEFT JOIN\n",
    "                        `concept` m_unit \n",
    "                            ON measurement.unit_concept_id = m_unit.concept_id \n",
    "                    LEFT JOIn\n",
    "                        `visit_occurrence` v \n",
    "                            ON measurement.visit_occurrence_id = v.visit_occurrence_id \n",
    "                    LEFT JOIN\n",
    "                        `concept` m_visit \n",
    "                            ON v.visit_concept_id = m_visit.concept_id \n",
    "                    LEFT JOIN\n",
    "                        `concept` m_source_concept \n",
    "                            ON measurement.measurement_source_concept_id = m_source_concept.concept_id\", sep=\"\")\n",
    "\n",
    "# Formulate a Cloud Storage destination path for the data exported from BigQuery.\n",
    "# NOTE: By default data exported multiple times on the same day will overwrite older copies.\n",
    "#       But data exported on a different days will write to a new location so that historical\n",
    "#       copies can be kept as the dataset definition is changed.\n",
    "measurement_83179845_path <- file.path(\n",
    "  Sys.getenv(\"WORKSPACE_BUCKET\"),\n",
    "  \"bq_exports\",\n",
    "  Sys.getenv(\"OWNER_EMAIL\"),\n",
    "  strftime(lubridate::now(), \"%Y%m%d\"),  # Comment out this line if you want the export to always overwrite.\n",
    "  \"measurement_83179845\",\n",
    "  \"measurement_83179845_*.csv\")\n",
    "message(str_glue('The data will be written to {measurement_83179845_path}. Use this path when reading ',\n",
    "                 'the data into your notebooks in the future.'))\n",
    "\n",
    "# Perform the query and export the dataset to Cloud Storage as CSV files.\n",
    "# NOTE: You only need to run `bq_table_save` once. After that, you can\n",
    "#       just read data from the CSVs in Cloud Storage.\n",
    "bq_table_save(\n",
    "  bq_dataset_query(Sys.getenv(\"WORKSPACE_CDR\"), dataset_83179845_measurement_sql, billing = Sys.getenv(\"GOOGLE_PROJECT\")),\n",
    "  measurement_83179845_path,\n",
    "  destination_format = \"CSV\")\n",
    "\n"
   ]
  },
  {
   "cell_type": "code",
   "execution_count": null,
   "metadata": {
    "vscode": {
     "languageId": "r"
    }
   },
   "outputs": [],
   "source": [
    "library(tidyverse)\n",
    "library(bigrquery)\n",
    "\n",
    "# Read the data directly from Cloud Storage into memory.\n",
    "# NOTE: Alternatively you can `gsutil -m cp {measurement_83179845_path}` to copy these files\n",
    "#       to the Jupyter disk.\n",
    "read_bq_export_from_workspace_bucket <- function(export_path) {\n",
    "  col_types <- cols(standard_concept_name = col_character(), standard_concept_code = col_character(), standard_vocabulary = col_character(), measurement_type_concept_name = col_character(), operator_concept_name = col_character(), value_as_concept_name = col_character(), unit_concept_name = col_character(), visit_occurrence_concept_name = col_character(), measurement_source_value = col_character(), source_concept_name = col_character(), source_concept_code = col_character(), source_vocabulary = col_character(), unit_source_value = col_character(), value_source_value = col_character())\n",
    "  bind_rows(\n",
    "    map(system2('gsutil', args = c('ls', export_path), stdout = TRUE, stderr = TRUE),\n",
    "        function(csv) {\n",
    "          message(str_glue('Loading {csv}.'))\n",
    "          chunk <- read_csv(pipe(str_glue('gsutil cat {csv}')), col_types = col_types, show_col_types = FALSE)\n",
    "          if (is.null(col_types)) {\n",
    "            col_types <- spec(chunk)\n",
    "          }\n",
    "          chunk\n",
    "        }))\n",
    "}\n",
    "#measurement_83179845_path <- \"gs://fc-secure-b96fb036-3379-4be0-8834-e7e486f2b76e/bq_exports/davidz1@researchallofus.org/20231029/measurement_83179845/measurement_83179845_*.csv\"\n",
    "dataset_83179845_measurement_df <- read_bq_export_from_workspace_bucket(measurement_83179845_path)\n",
    "\n",
    "dim(dataset_83179845_measurement_df)\n",
    "\n",
    "head(dataset_83179845_measurement_df, 5)"
   ]
  },
  {
   "cell_type": "markdown",
   "metadata": {},
   "source": [
    "## Process pt glucose"
   ]
  },
  {
   "cell_type": "code",
   "execution_count": null,
   "metadata": {
    "vscode": {
     "languageId": "r"
    }
   },
   "outputs": [],
   "source": [
    "# Glucose\n",
    "labs <- dataset_83179845_measurement_df\n",
    "colnames(labs)\n",
    "length(unique(labs$person_id))\n",
    "\n",
    "#as.data.frame(table(labs$visit_occurrence_concept_name)) %>% arrange(-Freq)\n",
    "#as.data.frame(table(labs$unit_concept_name)) %>% arrange(-Freq)\n",
    "\n",
    "max(labs$value_as_number, na.rm=T)\n",
    "\n",
    "#new_labs <- labs %>%\n",
    "#    filter(!grepl(\"Emergency\", visit_occurrence_concept_name) & !grepl(\"Intensive\", visit_occurrence_concept_name) &\n",
    "#          !grepl(\"Urgent\", visit_occurrence_concept_name))\n",
    "\n",
    "#as.data.frame(table(new_labs$visit_occurrence_concept_name)) %>% arrange(-Freq)\n",
    "#new_labs <- labs %>%\n",
    "#    filter(unit_concept_name == \"milligram per deciliter\")\n",
    "#length(unique(new_labs$person_id))\n"
   ]
  },
  {
   "cell_type": "code",
   "execution_count": null,
   "metadata": {
    "vscode": {
     "languageId": "r"
    }
   },
   "outputs": [],
   "source": [
    "keep_outliers = FALSE\n",
    "\n",
    "# Do all the filtering specified at the top of the file\n",
    "labs_formatted <- labs %>%\n",
    "    filter(!grepl(\"Emergency\", visit_occurrence_concept_name) & \n",
    "           !grepl(\"Intensive\", visit_occurrence_concept_name) &\n",
    "           !grepl(\"Urgent\", visit_occurrence_concept_name)) %>%\n",
    "    filter(unit_concept_name == \"milligram per deciliter\") %>%\n",
    "    select(person_id, measurement_datetime, value_as_number) %>%\n",
    "    mutate_at(c('person_id'), as.character) %>%\n",
    "    mutate(across(where(is.character), ~na_if(., \"NULL\"))) %>%\n",
    "    na.omit() %>%\n",
    "    distinct() %>%\n",
    "    group_by(person_id) %>%\n",
    "    filter(value_as_number < (10 * median(value_as_number))) %>%\n",
    "    ungroup() %>%\n",
    "    filter(keep_outliers | value_as_number >= mean(value_as_number) - (4 * sd(value_as_number))) %>%\n",
    "    filter(keep_outliers | value_as_number <= mean(value_as_number) + (4 * sd(value_as_number))) \n",
    "\n",
    "dim(labs_formatted)\n",
    "head(labs_formatted, 5)\n"
   ]
  },
  {
   "cell_type": "code",
   "execution_count": null,
   "metadata": {
    "vscode": {
     "languageId": "r"
    }
   },
   "outputs": [],
   "source": [
    "min(labs_formatted$value_as_number)\n",
    "median(labs_formatted$value_as_number)\n",
    "max(labs_formatted$value_as_number)\n"
   ]
  },
  {
   "cell_type": "code",
   "execution_count": null,
   "metadata": {
    "vscode": {
     "languageId": "r"
    }
   },
   "outputs": [],
   "source": [
    "write.table(labs_formatted, \n",
    "    file=paste0(data_path, \"/dataframes/blood/AllofUs_v8_labs-Glucose_wout_outliers_long_102923.txt\"), \n",
    "    row.names=FALSE, quote=FALSE, sep=\"\\t\")"
   ]
  },
  {
   "cell_type": "markdown",
   "metadata": {},
   "source": [
    "# A1C"
   ]
  },
  {
   "cell_type": "markdown",
   "metadata": {},
   "source": [
    "## Extract pt A1C"
   ]
  },
  {
   "cell_type": "code",
   "execution_count": null,
   "metadata": {
    "vscode": {
     "languageId": "r"
    }
   },
   "outputs": [],
   "source": [
    "library(tidyverse)\n",
    "library(bigrquery)\n",
    "\n",
    "# This query represents dataset \"Pts with A1c\" for domain \"measurement\" and was generated for All of Us Controlled Tier Dataset v8\n",
    "dataset_74098089_measurement_sql <- paste(\"\n",
    "    SELECT\n",
    "        measurement.person_id,\n",
    "        measurement.measurement_concept_id,\n",
    "        m_standard_concept.concept_name as standard_concept_name,\n",
    "        m_standard_concept.concept_code as standard_concept_code,\n",
    "        m_standard_concept.vocabulary_id as standard_vocabulary,\n",
    "        measurement.measurement_datetime,\n",
    "        measurement.measurement_type_concept_id,\n",
    "        m_type.concept_name as measurement_type_concept_name,\n",
    "        measurement.operator_concept_id,\n",
    "        m_operator.concept_name as operator_concept_name,\n",
    "        measurement.value_as_number,\n",
    "        measurement.value_as_concept_id,\n",
    "        m_value.concept_name as value_as_concept_name,\n",
    "        measurement.unit_concept_id,\n",
    "        m_unit.concept_name as unit_concept_name,\n",
    "        measurement.range_low,\n",
    "        measurement.range_high,\n",
    "        measurement.visit_occurrence_id,\n",
    "        m_visit.concept_name as visit_occurrence_concept_name,\n",
    "        measurement.measurement_source_value,\n",
    "        measurement.measurement_source_concept_id,\n",
    "        m_source_concept.concept_name as source_concept_name,\n",
    "        m_source_concept.concept_code as source_concept_code,\n",
    "        m_source_concept.vocabulary_id as source_vocabulary,\n",
    "        measurement.unit_source_value,\n",
    "        measurement.value_source_value \n",
    "    FROM\n",
    "        ( SELECT\n",
    "            * \n",
    "        FROM\n",
    "            `measurement` measurement \n",
    "        WHERE\n",
    "            (\n",
    "                measurement_concept_id IN  (\n",
    "                    SELECT\n",
    "                        DISTINCT c.concept_id \n",
    "                    FROM\n",
    "                        `cb_criteria` c \n",
    "                    JOIN\n",
    "                        (\n",
    "                            select\n",
    "                                cast(cr.id as string) as id \n",
    "                            FROM\n",
    "                                `cb_criteria` cr \n",
    "                            WHERE\n",
    "                                concept_id IN (\n",
    "                                    3004410, 3005673\n",
    "                                ) \n",
    "                                AND full_text LIKE '%_rank1]%'\n",
    "                        ) a \n",
    "                            ON (\n",
    "                                c.path LIKE CONCAT('%.',\n",
    "                            a.id,\n",
    "                            '.%') \n",
    "                            OR c.path LIKE CONCAT('%.',\n",
    "                            a.id) \n",
    "                            OR c.path LIKE CONCAT(a.id,\n",
    "                            '.%') \n",
    "                            OR c.path = a.id) \n",
    "                        WHERE\n",
    "                            is_standard = 1 \n",
    "                            AND is_selectable = 1\n",
    "                        )\n",
    "                )  \n",
    "                AND (\n",
    "                    measurement.PERSON_ID IN (\n",
    "                        SELECT\n",
    "                            distinct person_id  \n",
    "                        FROM\n",
    "                            `cb_search_person` cb_search_person  \n",
    "                        WHERE\n",
    "                            cb_search_person.person_id IN (\n",
    "                                SELECT\n",
    "                                    criteria.person_id \n",
    "                                FROM\n",
    "                                    (SELECT\n",
    "                                        DISTINCT person_id,\n",
    "                                        entry_date,\n",
    "                                        concept_id \n",
    "                                    FROM\n",
    "                                        `cb_search_all_events` \n",
    "                                    WHERE\n",
    "                                        (\n",
    "                                            concept_id IN (3005673, 3004410) \n",
    "                                            AND is_standard = 1 \n",
    "                                        )) criteria ) \n",
    "                            )\n",
    "                        )\n",
    "                ) measurement \n",
    "            LEFT JOIN\n",
    "                `concept` m_standard_concept \n",
    "                    ON measurement.measurement_concept_id = m_standard_concept.concept_id \n",
    "            LEFT JOIN\n",
    "                `concept` m_type \n",
    "                    ON measurement.measurement_type_concept_id = m_type.concept_id \n",
    "            LEFT JOIN\n",
    "                `concept` m_operator \n",
    "                    ON measurement.operator_concept_id = m_operator.concept_id \n",
    "            LEFT JOIN\n",
    "                `concept` m_value \n",
    "                    ON measurement.value_as_concept_id = m_value.concept_id \n",
    "            LEFT JOIN\n",
    "                `concept` m_unit \n",
    "                    ON measurement.unit_concept_id = m_unit.concept_id \n",
    "            LEFT JOIn\n",
    "                `visit_occurrence` v \n",
    "                    ON measurement.visit_occurrence_id = v.visit_occurrence_id \n",
    "            LEFT JOIN\n",
    "                `concept` m_visit \n",
    "                    ON v.visit_concept_id = m_visit.concept_id \n",
    "            LEFT JOIN\n",
    "                `concept` m_source_concept \n",
    "                    ON measurement.measurement_source_concept_id = m_source_concept.concept_id\", sep=\"\")\n",
    "\n",
    "# Formulate a Cloud Storage destination path for the data exported from BigQuery.\n",
    "# NOTE: By default data exported multiple times on the same day will overwrite older copies.\n",
    "#       But data exported on a different days will write to a new location so that historical\n",
    "#       copies can be kept as the dataset definition is changed.\n",
    "measurement_74098089_path <- file.path(\n",
    "  Sys.getenv(\"WORKSPACE_BUCKET\"),\n",
    "  \"bq_exports\",\n",
    "  Sys.getenv(\"OWNER_EMAIL\"),\n",
    "  strftime(lubridate::now(), \"%Y%m%d\"),  # Comment out this line if you want the export to always overwrite.\n",
    "  \"measurement_74098089\",\n",
    "  \"measurement_74098089_*.csv\")\n",
    "message(str_glue('The data will be written to {measurement_74098089_path}. Use this path when reading ',\n",
    "                 'the data into your notebooks in the future.'))\n",
    "\n",
    "# Perform the query and export the dataset to Cloud Storage as CSV files.\n",
    "# NOTE: You only need to run `bq_table_save` once. After that, you can\n",
    "#       just read data from the CSVs in Cloud Storage.\n",
    "bq_table_save(\n",
    "  bq_dataset_query(Sys.getenv(\"WORKSPACE_CDR\"), dataset_74098089_measurement_sql, billing = Sys.getenv(\"GOOGLE_PROJECT\")),\n",
    "  measurement_74098089_path,\n",
    "  destination_format = \"CSV\")\n",
    "\n"
   ]
  },
  {
   "cell_type": "code",
   "execution_count": null,
   "metadata": {
    "vscode": {
     "languageId": "r"
    }
   },
   "outputs": [],
   "source": [
    "library(tidyverse)\n",
    "library(bigrquery)\n",
    "\n",
    "# Read the data directly from Cloud Storage into memory.\n",
    "# NOTE: Alternatively you can `gsutil -m cp {measurement_74098089_path}` to copy these files\n",
    "#       to the Jupyter disk.\n",
    "read_bq_export_from_workspace_bucket <- function(export_path) {\n",
    "  col_types <- cols(standard_concept_name = col_character(), standard_concept_code = col_character(), standard_vocabulary = col_character(), measurement_type_concept_name = col_character(), operator_concept_name = col_character(), value_as_concept_name = col_character(), unit_concept_name = col_character(), visit_occurrence_concept_name = col_character(), measurement_source_value = col_character(), source_concept_name = col_character(), source_concept_code = col_character(), source_vocabulary = col_character(), unit_source_value = col_character(), value_source_value = col_character())\n",
    "  bind_rows(\n",
    "    map(system2('gsutil', args = c('ls', export_path), stdout = TRUE, stderr = TRUE),\n",
    "        function(csv) {\n",
    "          message(str_glue('Loading {csv}.'))\n",
    "          chunk <- read_csv(pipe(str_glue('gsutil cat {csv}')), col_types = col_types, show_col_types = FALSE)\n",
    "          if (is.null(col_types)) {\n",
    "            col_types <- spec(chunk)\n",
    "          }\n",
    "          chunk\n",
    "        }))\n",
    "}\n",
    "\n",
    "#measurement_74098089_path <- \"gs://fc-secure-b96fb036-3379-4be0-8834-e7e486f2b76e/bq_exports/davidz1@researchallofus.org/20231030/measurement_74098089/measurement_74098089_*.csv\"\n",
    "dataset_74098089_measurement_df <- read_bq_export_from_workspace_bucket(measurement_74098089_path)\n",
    "\n",
    "dim(dataset_74098089_measurement_df)\n",
    "\n",
    "head(dataset_74098089_measurement_df, 5)"
   ]
  },
  {
   "cell_type": "markdown",
   "metadata": {},
   "source": [
    "## Process pt A1C"
   ]
  },
  {
   "cell_type": "code",
   "execution_count": null,
   "metadata": {
    "vscode": {
     "languageId": "r"
    }
   },
   "outputs": [],
   "source": [
    "# A1C\n",
    "labs <- dataset_74098089_measurement_df\n",
    "colnames(labs)\n",
    "length(unique(labs$person_id))\n",
    "\n",
    "#as.data.frame(table(labs$visit_occurrence_concept_name)) %>% arrange(-Freq)\n",
    "as.data.frame(table(labs$unit_concept_name)) %>% arrange(-Freq)\n",
    "median(labs$value_as_number[labs$unit_concept_name == 'percent'], na.rm=T)\n",
    "\n",
    "#max(labs$value_as_number, na.rm=T)\n",
    "\n",
    "#new_labs <- labs %>%\n",
    "#    filter(!grepl(\"Emergency\", visit_occurrence_concept_name) & !grepl(\"Intensive\", visit_occurrence_concept_name) &\n",
    "#          !grepl(\"Urgent\", visit_occurrence_concept_name))\n",
    "\n",
    "#as.data.frame(table(new_labs$visit_occurrence_concept_name)) %>% arrange(-Freq)\n",
    "#new_labs <- labs %>%\n",
    "#    filter(unit_concept_name == \"milligram per deciliter\")\n",
    "#length(unique(new_labs$person_id))\n"
   ]
  },
  {
   "cell_type": "code",
   "execution_count": null,
   "metadata": {
    "vscode": {
     "languageId": "r"
    }
   },
   "outputs": [],
   "source": [
    "keep_outliers = FALSE\n",
    "\n",
    "# Do all the filtering specified at the top of the file\n",
    "labs_formatted <- labs %>%\n",
    "    filter(!grepl(\"Emergency\", visit_occurrence_concept_name) & \n",
    "           !grepl(\"Intensive\", visit_occurrence_concept_name) &\n",
    "           !grepl(\"Urgent\", visit_occurrence_concept_name)) %>%\n",
    "    filter(unit_concept_name != \"gram per deciliter\" &\n",
    "           unit_concept_name != \"Seconds per CO\" &\n",
    "           unit_concept_name != \"per gram of hemoglobin\" &\n",
    "           unit_concept_name != \"second\") %>%\n",
    "    select(person_id, measurement_datetime, value_as_number) %>%\n",
    "    mutate_at(c('person_id'), as.character) %>%\n",
    "    mutate(across(where(is.character), ~na_if(., \"NULL\"))) %>%\n",
    "    na.omit() %>%\n",
    "    distinct() %>%\n",
    "    group_by(person_id) %>%\n",
    "    filter(value_as_number < (10 * median(value_as_number))) %>%\n",
    "    ungroup() %>%\n",
    "    filter(keep_outliers | value_as_number >= mean(value_as_number) - (4 * sd(value_as_number))) %>%\n",
    "    filter(keep_outliers | value_as_number <= mean(value_as_number) + (4 * sd(value_as_number))) \n",
    "\n",
    "dim(labs_formatted)\n",
    "head(labs_formatted, 5)\n"
   ]
  },
  {
   "cell_type": "code",
   "execution_count": null,
   "metadata": {
    "vscode": {
     "languageId": "r"
    }
   },
   "outputs": [],
   "source": [
    "min(labs_formatted$value_as_number)\n",
    "median(labs_formatted$value_as_number)\n",
    "max(labs_formatted$value_as_number)\n"
   ]
  },
  {
   "cell_type": "code",
   "execution_count": null,
   "metadata": {
    "vscode": {
     "languageId": "r"
    }
   },
   "outputs": [],
   "source": [
    "write.table(labs_formatted, \n",
    "    file=paste0(data_path, \"/dataframes/blood/AllofUs_v8_labs-HbA1c_wout_outliers_long_102923.txt\"), \n",
    "    row.names=FALSE, quote=FALSE, sep=\"\\t\")\n"
   ]
  },
  {
   "cell_type": "markdown",
   "metadata": {},
   "source": [
    "# ALT"
   ]
  },
  {
   "cell_type": "markdown",
   "metadata": {},
   "source": [
    "## Extract pt ALT"
   ]
  },
  {
   "cell_type": "code",
   "execution_count": null,
   "metadata": {
    "vscode": {
     "languageId": "r"
    }
   },
   "outputs": [],
   "source": [
    "library(tidyverse)\n",
    "library(bigrquery)\n",
    "\n",
    "# This query represents dataset \"Pts with ALT\" for domain \"measurement\" and was generated for All of Us Controlled Tier Dataset v8\n",
    "dataset_35250829_measurement_sql <- paste(\"\n",
    "    SELECT\n",
    "        measurement.person_id,\n",
    "        measurement.measurement_concept_id,\n",
    "        m_standard_concept.concept_name as standard_concept_name,\n",
    "        m_standard_concept.concept_code as standard_concept_code,\n",
    "        m_standard_concept.vocabulary_id as standard_vocabulary,\n",
    "        measurement.measurement_datetime,\n",
    "        measurement.measurement_type_concept_id,\n",
    "        m_type.concept_name as measurement_type_concept_name,\n",
    "        measurement.operator_concept_id,\n",
    "        m_operator.concept_name as operator_concept_name,\n",
    "        measurement.value_as_number,\n",
    "        measurement.value_as_concept_id,\n",
    "        m_value.concept_name as value_as_concept_name,\n",
    "        measurement.unit_concept_id,\n",
    "        m_unit.concept_name as unit_concept_name,\n",
    "        measurement.range_low,\n",
    "        measurement.range_high,\n",
    "        measurement.visit_occurrence_id,\n",
    "        m_visit.concept_name as visit_occurrence_concept_name,\n",
    "        measurement.measurement_source_value,\n",
    "        measurement.measurement_source_concept_id,\n",
    "        m_source_concept.concept_name as source_concept_name,\n",
    "        m_source_concept.concept_code as source_concept_code,\n",
    "        m_source_concept.vocabulary_id as source_vocabulary,\n",
    "        measurement.unit_source_value,\n",
    "        measurement.value_source_value \n",
    "    FROM\n",
    "        ( SELECT\n",
    "            * \n",
    "        FROM\n",
    "            `measurement` measurement \n",
    "        WHERE\n",
    "            (\n",
    "                measurement_concept_id IN  (\n",
    "                    SELECT\n",
    "                        DISTINCT c.concept_id \n",
    "                    FROM\n",
    "                        `cb_criteria` c \n",
    "                    JOIN\n",
    "                        (\n",
    "                            select\n",
    "                                cast(cr.id as string) as id \n",
    "                            FROM\n",
    "                                `cb_criteria` cr \n",
    "                            WHERE\n",
    "                                concept_id IN (\n",
    "                                    3006923\n",
    "                                ) \n",
    "                                AND full_text LIKE '%_rank1]%'\n",
    "                        ) a \n",
    "                            ON (\n",
    "                                c.path LIKE CONCAT('%.',\n",
    "                            a.id,\n",
    "                            '.%') \n",
    "                            OR c.path LIKE CONCAT('%.',\n",
    "                            a.id) \n",
    "                            OR c.path LIKE CONCAT(a.id,\n",
    "                            '.%') \n",
    "                            OR c.path = a.id) \n",
    "                        WHERE\n",
    "                            is_standard = 1 \n",
    "                            AND is_selectable = 1\n",
    "                        )\n",
    "                )  \n",
    "                AND (\n",
    "                    measurement.PERSON_ID IN (\n",
    "                        SELECT\n",
    "                            distinct person_id  \n",
    "                        FROM\n",
    "                            `cb_search_person` cb_search_person  \n",
    "                        WHERE\n",
    "                            cb_search_person.person_id IN (\n",
    "                                SELECT\n",
    "                                    criteria.person_id \n",
    "                                FROM\n",
    "                                    (SELECT\n",
    "                                        DISTINCT person_id,\n",
    "                                        entry_date,\n",
    "                                        concept_id \n",
    "                                    FROM\n",
    "                                        `cb_search_all_events` \n",
    "                                    WHERE\n",
    "                                        (\n",
    "                                            concept_id IN (3006923) \n",
    "                                            AND is_standard = 1 \n",
    "                                        )) criteria ) \n",
    "                            )\n",
    "                        )\n",
    "                ) measurement \n",
    "            LEFT JOIN\n",
    "                `concept` m_standard_concept \n",
    "                    ON measurement.measurement_concept_id = m_standard_concept.concept_id \n",
    "            LEFT JOIN\n",
    "                `concept` m_type \n",
    "                    ON measurement.measurement_type_concept_id = m_type.concept_id \n",
    "            LEFT JOIN\n",
    "                `concept` m_operator \n",
    "                    ON measurement.operator_concept_id = m_operator.concept_id \n",
    "            LEFT JOIN\n",
    "                `concept` m_value \n",
    "                    ON measurement.value_as_concept_id = m_value.concept_id \n",
    "            LEFT JOIN\n",
    "                `concept` m_unit \n",
    "                    ON measurement.unit_concept_id = m_unit.concept_id \n",
    "            LEFT JOIn\n",
    "                `visit_occurrence` v \n",
    "                    ON measurement.visit_occurrence_id = v.visit_occurrence_id \n",
    "            LEFT JOIN\n",
    "                `concept` m_visit \n",
    "                    ON v.visit_concept_id = m_visit.concept_id \n",
    "            LEFT JOIN\n",
    "                `concept` m_source_concept \n",
    "                    ON measurement.measurement_source_concept_id = m_source_concept.concept_id\", sep=\"\")\n",
    "\n",
    "# Formulate a Cloud Storage destination path for the data exported from BigQuery.\n",
    "# NOTE: By default data exported multiple times on the same day will overwrite older copies.\n",
    "#       But data exported on a different days will write to a new location so that historical\n",
    "#       copies can be kept as the dataset definition is changed.\n",
    "measurement_35250829_path <- file.path(\n",
    "  Sys.getenv(\"WORKSPACE_BUCKET\"),\n",
    "  \"bq_exports\",\n",
    "  Sys.getenv(\"OWNER_EMAIL\"),\n",
    "  strftime(lubridate::now(), \"%Y%m%d\"),  # Comment out this line if you want the export to always overwrite.\n",
    "  \"measurement_35250829\",\n",
    "  \"measurement_35250829_*.csv\")\n",
    "message(str_glue('The data will be written to {measurement_35250829_path}. Use this path when reading ',\n",
    "                 'the data into your notebooks in the future.'))\n",
    "\n",
    "# Perform the query and export the dataset to Cloud Storage as CSV files.\n",
    "# NOTE: You only need to run `bq_table_save` once. After that, you can\n",
    "#       just read data from the CSVs in Cloud Storage.\n",
    "bq_table_save(\n",
    "  bq_dataset_query(Sys.getenv(\"WORKSPACE_CDR\"), dataset_35250829_measurement_sql, billing = Sys.getenv(\"GOOGLE_PROJECT\")),\n",
    "  measurement_35250829_path,\n",
    "  destination_format = \"CSV\")\n",
    "\n"
   ]
  },
  {
   "cell_type": "code",
   "execution_count": null,
   "metadata": {
    "vscode": {
     "languageId": "r"
    }
   },
   "outputs": [],
   "source": [
    "# Read the data directly from Cloud Storage into memory.\n",
    "# NOTE: Alternatively you can `gsutil -m cp {measurement_35250829_path}` to copy these files\n",
    "#       to the Jupyter disk.\n",
    "read_bq_export_from_workspace_bucket <- function(export_path) {\n",
    "  col_types <- cols(standard_concept_name = col_character(), standard_concept_code = col_character(), standard_vocabulary = col_character(), measurement_type_concept_name = col_character(), operator_concept_name = col_character(), value_as_concept_name = col_character(), unit_concept_name = col_character(), visit_occurrence_concept_name = col_character(), measurement_source_value = col_character(), source_concept_name = col_character(), source_concept_code = col_character(), source_vocabulary = col_character(), unit_source_value = col_character(), value_source_value = col_character())\n",
    "  bind_rows(\n",
    "    map(system2('gsutil', args = c('ls', export_path), stdout = TRUE, stderr = TRUE),\n",
    "        function(csv) {\n",
    "          message(str_glue('Loading {csv}.'))\n",
    "          chunk <- read_csv(pipe(str_glue('gsutil cat {csv}')), col_types = col_types, show_col_types = FALSE)\n",
    "          if (is.null(col_types)) {\n",
    "            col_types <- spec(chunk)\n",
    "          }\n",
    "          chunk\n",
    "        }))\n",
    "}\n",
    "#measurement_35250829_path <- \"gs://fc-secure-b96fb036-3379-4be0-8834-e7e486f2b76e/bq_exports/davidz1@researchallofus.org/20240129/measurement_35250829/measurement_35250829_*.csv\"\n",
    "dataset_35250829_measurement_df <- read_bq_export_from_workspace_bucket(measurement_35250829_path)\n",
    "\n",
    "dim(dataset_35250829_measurement_df)\n",
    "\n",
    "head(dataset_35250829_measurement_df, 5)"
   ]
  },
  {
   "cell_type": "markdown",
   "metadata": {},
   "source": [
    "## Process pt ALT"
   ]
  },
  {
   "cell_type": "code",
   "execution_count": null,
   "metadata": {
    "vscode": {
     "languageId": "r"
    }
   },
   "outputs": [],
   "source": [
    "# ALT\n",
    "labs <- dataset_35250829_measurement_df\n",
    "colnames(labs)\n",
    "length(unique(labs$person_id))\n",
    "\n",
    "#as.data.frame(table(labs$visit_occurrence_concept_name)) %>% arrange(-Freq)\n",
    "as.data.frame(table(labs$unit_concept_name)) %>% arrange(-Freq)\n",
    "min(labs$value_as_number[labs$unit_concept_name == 'u/L'], na.rm=T)\n",
    "\n",
    "#max(labs$value_as_number, na.rm=T)\n",
    "\n",
    "#new_labs <- labs %>%\n",
    "#    filter(!grepl(\"Emergency\", visit_occurrence_concept_name) & !grepl(\"Intensive\", visit_occurrence_concept_name) &\n",
    "#          !grepl(\"Urgent\", visit_occurrence_concept_name))\n",
    "\n",
    "#as.data.frame(table(new_labs$visit_occurrence_concept_name)) %>% arrange(-Freq)\n",
    "#new_labs <- labs %>%\n",
    "#    filter(unit_concept_name == \"milligram per deciliter\")\n",
    "#length(unique(new_labs$person_id))\n",
    "\n"
   ]
  },
  {
   "cell_type": "code",
   "execution_count": null,
   "metadata": {
    "vscode": {
     "languageId": "r"
    }
   },
   "outputs": [],
   "source": [
    "keep_outliers = FALSE\n",
    "\n",
    "# Do all the filtering specified at the top of the file\n",
    "labs_formatted <- labs %>%\n",
    "    filter(!grepl(\"Emergency\", visit_occurrence_concept_name) & \n",
    "           !grepl(\"Intensive\", visit_occurrence_concept_name) &\n",
    "           !grepl(\"Urgent\", visit_occurrence_concept_name)) %>%\n",
    "    filter(unit_concept_name != \"milliliter\" &\n",
    "           unit_concept_name != \"milligram per deciliter\" &\n",
    "           unit_concept_name != \"unified atomic mass unit\" &\n",
    "           unit_concept_name != \"mIU/mL\") %>%\n",
    "    filter(value_as_number >= 0) %>%\n",
    "    select(person_id, measurement_datetime, value_as_number) %>%\n",
    "    mutate_at(c('person_id'), as.character) %>%\n",
    "    mutate(across(where(is.character), ~na_if(., \"NULL\"))) %>%\n",
    "    na.omit() %>%\n",
    "    distinct() %>%\n",
    "    group_by(person_id) %>%\n",
    "    filter(value_as_number < (10 * median(value_as_number))) %>%\n",
    "    ungroup() %>%\n",
    "    filter(keep_outliers | value_as_number >= mean(value_as_number) - (4 * sd(value_as_number))) %>%\n",
    "    filter(keep_outliers | value_as_number <= mean(value_as_number) + (4 * sd(value_as_number))) \n",
    "\n",
    "dim(labs_formatted)\n",
    "head(labs_formatted, 5)\n"
   ]
  },
  {
   "cell_type": "code",
   "execution_count": null,
   "metadata": {
    "vscode": {
     "languageId": "r"
    }
   },
   "outputs": [],
   "source": [
    "min(labs_formatted$value_as_number)\n",
    "median(labs_formatted$value_as_number)\n",
    "max(labs_formatted$value_as_number)"
   ]
  },
  {
   "cell_type": "code",
   "execution_count": null,
   "metadata": {
    "vscode": {
     "languageId": "r"
    }
   },
   "outputs": [],
   "source": [
    "write.table(labs_formatted, \n",
    "    file=paste0(data_path, \"/dataframes/blood/AllofUs_v8_labs-ALT_wout_outliers_long_012924.txt\"), \n",
    "    row.names=FALSE, quote=FALSE, sep=\"\\t\")\n"
   ]
  },
  {
   "cell_type": "markdown",
   "metadata": {},
   "source": [
    "# AST"
   ]
  },
  {
   "cell_type": "markdown",
   "metadata": {},
   "source": [
    "## Extract pt AST"
   ]
  },
  {
   "cell_type": "code",
   "execution_count": null,
   "metadata": {
    "vscode": {
     "languageId": "r"
    }
   },
   "outputs": [],
   "source": [
    "library(tidyverse)\n",
    "library(bigrquery)\n",
    "\n",
    "# This query represents dataset \"Pts with AST\" for domain \"measurement\" and was generated for All of Us Controlled Tier Dataset v8\n",
    "dataset_63436989_measurement_sql <- paste(\"\n",
    "    SELECT\n",
    "        measurement.person_id,\n",
    "        measurement.measurement_concept_id,\n",
    "        m_standard_concept.concept_name as standard_concept_name,\n",
    "        m_standard_concept.concept_code as standard_concept_code,\n",
    "        m_standard_concept.vocabulary_id as standard_vocabulary,\n",
    "        measurement.measurement_datetime,\n",
    "        measurement.measurement_type_concept_id,\n",
    "        m_type.concept_name as measurement_type_concept_name,\n",
    "        measurement.operator_concept_id,\n",
    "        m_operator.concept_name as operator_concept_name,\n",
    "        measurement.value_as_number,\n",
    "        measurement.value_as_concept_id,\n",
    "        m_value.concept_name as value_as_concept_name,\n",
    "        measurement.unit_concept_id,\n",
    "        m_unit.concept_name as unit_concept_name,\n",
    "        measurement.range_low,\n",
    "        measurement.range_high,\n",
    "        measurement.visit_occurrence_id,\n",
    "        m_visit.concept_name as visit_occurrence_concept_name,\n",
    "        measurement.measurement_source_value,\n",
    "        measurement.measurement_source_concept_id,\n",
    "        m_source_concept.concept_name as source_concept_name,\n",
    "        m_source_concept.concept_code as source_concept_code,\n",
    "        m_source_concept.vocabulary_id as source_vocabulary,\n",
    "        measurement.unit_source_value,\n",
    "        measurement.value_source_value \n",
    "    FROM\n",
    "        ( SELECT\n",
    "            * \n",
    "        FROM\n",
    "            `measurement` measurement \n",
    "        WHERE\n",
    "            (\n",
    "                measurement_concept_id IN  (\n",
    "                    SELECT\n",
    "                        DISTINCT c.concept_id \n",
    "                    FROM\n",
    "                        `cb_criteria` c \n",
    "                    JOIN\n",
    "                        (\n",
    "                            select\n",
    "                                cast(cr.id as string) as id \n",
    "                            FROM\n",
    "                                `cb_criteria` cr \n",
    "                            WHERE\n",
    "                                concept_id IN (\n",
    "                                    3013721\n",
    "                                ) \n",
    "                                AND full_text LIKE '%_rank1]%'\n",
    "                        ) a \n",
    "                            ON (\n",
    "                                c.path LIKE CONCAT('%.',\n",
    "                            a.id,\n",
    "                            '.%') \n",
    "                            OR c.path LIKE CONCAT('%.',\n",
    "                            a.id) \n",
    "                            OR c.path LIKE CONCAT(a.id,\n",
    "                            '.%') \n",
    "                            OR c.path = a.id) \n",
    "                        WHERE\n",
    "                            is_standard = 1 \n",
    "                            AND is_selectable = 1\n",
    "                        )\n",
    "                )  \n",
    "                AND (\n",
    "                    measurement.PERSON_ID IN (\n",
    "                        SELECT\n",
    "                            distinct person_id  \n",
    "                        FROM\n",
    "                            `cb_search_person` cb_search_person  \n",
    "                        WHERE\n",
    "                            cb_search_person.person_id IN (\n",
    "                                SELECT\n",
    "                                    criteria.person_id \n",
    "                                FROM\n",
    "                                    (SELECT\n",
    "                                        DISTINCT person_id,\n",
    "                                        entry_date,\n",
    "                                        concept_id \n",
    "                                    FROM\n",
    "                                        `cb_search_all_events` \n",
    "                                    WHERE\n",
    "                                        (\n",
    "                                            concept_id IN (3013721) \n",
    "                                            AND is_standard = 1 \n",
    "                                        )) criteria ) \n",
    "                            )\n",
    "                        )\n",
    "                ) measurement \n",
    "            LEFT JOIN\n",
    "                `concept` m_standard_concept \n",
    "                    ON measurement.measurement_concept_id = m_standard_concept.concept_id \n",
    "            LEFT JOIN\n",
    "                `concept` m_type \n",
    "                    ON measurement.measurement_type_concept_id = m_type.concept_id \n",
    "            LEFT JOIN\n",
    "                `concept` m_operator \n",
    "                    ON measurement.operator_concept_id = m_operator.concept_id \n",
    "            LEFT JOIN\n",
    "                `concept` m_value \n",
    "                    ON measurement.value_as_concept_id = m_value.concept_id \n",
    "            LEFT JOIN\n",
    "                `concept` m_unit \n",
    "                    ON measurement.unit_concept_id = m_unit.concept_id \n",
    "            LEFT JOIn\n",
    "                `visit_occurrence` v \n",
    "                    ON measurement.visit_occurrence_id = v.visit_occurrence_id \n",
    "            LEFT JOIN\n",
    "                `concept` m_visit \n",
    "                    ON v.visit_concept_id = m_visit.concept_id \n",
    "            LEFT JOIN\n",
    "                `concept` m_source_concept \n",
    "                    ON measurement.measurement_source_concept_id = m_source_concept.concept_id\", sep=\"\")\n",
    "\n",
    "# Formulate a Cloud Storage destination path for the data exported from BigQuery.\n",
    "# NOTE: By default data exported multiple times on the same day will overwrite older copies.\n",
    "#       But data exported on a different days will write to a new location so that historical\n",
    "#       copies can be kept as the dataset definition is changed.\n",
    "measurement_63436989_path <- file.path(\n",
    "  Sys.getenv(\"WORKSPACE_BUCKET\"),\n",
    "  \"bq_exports\",\n",
    "  Sys.getenv(\"OWNER_EMAIL\"),\n",
    "  strftime(lubridate::now(), \"%Y%m%d\"),  # Comment out this line if you want the export to always overwrite.\n",
    "  \"measurement_63436989\",\n",
    "  \"measurement_63436989_*.csv\")\n",
    "message(str_glue('The data will be written to {measurement_63436989_path}. Use this path when reading ',\n",
    "                 'the data into your notebooks in the future.'))\n",
    "\n",
    "# Perform the query and export the dataset to Cloud Storage as CSV files.\n",
    "# NOTE: You only need to run `bq_table_save` once. After that, you can\n",
    "#       just read data from the CSVs in Cloud Storage.\n",
    "bq_table_save(\n",
    "  bq_dataset_query(Sys.getenv(\"WORKSPACE_CDR\"), dataset_63436989_measurement_sql, billing = Sys.getenv(\"GOOGLE_PROJECT\")),\n",
    "  measurement_63436989_path,\n",
    "  destination_format = \"CSV\")\n",
    "\n"
   ]
  },
  {
   "cell_type": "code",
   "execution_count": null,
   "metadata": {
    "vscode": {
     "languageId": "r"
    }
   },
   "outputs": [],
   "source": [
    "# Read the data directly from Cloud Storage into memory.\n",
    "# NOTE: Alternatively you can `gsutil -m cp {measurement_63436989_path}` to copy these files\n",
    "#       to the Jupyter disk.\n",
    "read_bq_export_from_workspace_bucket <- function(export_path) {\n",
    "  col_types <- cols(standard_concept_name = col_character(), standard_concept_code = col_character(), standard_vocabulary = col_character(), measurement_type_concept_name = col_character(), operator_concept_name = col_character(), value_as_concept_name = col_character(), unit_concept_name = col_character(), visit_occurrence_concept_name = col_character(), measurement_source_value = col_character(), source_concept_name = col_character(), source_concept_code = col_character(), source_vocabulary = col_character(), unit_source_value = col_character(), value_source_value = col_character())\n",
    "  bind_rows(\n",
    "    map(system2('gsutil', args = c('ls', export_path), stdout = TRUE, stderr = TRUE),\n",
    "        function(csv) {\n",
    "          message(str_glue('Loading {csv}.'))\n",
    "          chunk <- read_csv(pipe(str_glue('gsutil cat {csv}')), col_types = col_types, show_col_types = FALSE)\n",
    "          if (is.null(col_types)) {\n",
    "            col_types <- spec(chunk)\n",
    "          }\n",
    "          chunk\n",
    "        }))\n",
    "}\n",
    "#measurement_63436989_path <- \"gs://fc-secure-b96fb036-3379-4be0-8834-e7e486f2b76e/bq_exports/davidz1@researchallofus.org/20240129/measurement_63436989/measurement_63436989_*.csv\"\n",
    "dataset_63436989_measurement_df <- read_bq_export_from_workspace_bucket(measurement_63436989_path)\n",
    "\n",
    "dim(dataset_63436989_measurement_df)\n",
    "\n",
    "head(dataset_63436989_measurement_df, 5)"
   ]
  },
  {
   "cell_type": "markdown",
   "metadata": {},
   "source": [
    "## Process pt AST"
   ]
  },
  {
   "cell_type": "code",
   "execution_count": null,
   "metadata": {
    "vscode": {
     "languageId": "r"
    }
   },
   "outputs": [],
   "source": [
    "# AST\n",
    "labs <- dataset_63436989_measurement_df\n",
    "colnames(labs)\n",
    "length(unique(labs$person_id))\n",
    "\n",
    "#as.data.frame(table(labs$visit_occurrence_concept_name)) %>% arrange(-Freq)\n",
    "as.data.frame(table(labs$unit_concept_name)) %>% arrange(-Freq)\n",
    "max(labs$value_as_number[labs$unit_concept_name == 'unit per liter'], na.rm=T)\n",
    "\n",
    "#max(labs$value_as_number, na.rm=T)\n",
    "\n",
    "#new_labs <- labs %>%\n",
    "#    filter(!grepl(\"Emergency\", visit_occurrence_concept_name) & !grepl(\"Intensive\", visit_occurrence_concept_name) &\n",
    "#          !grepl(\"Urgent\", visit_occurrence_concept_name))\n",
    "\n",
    "#as.data.frame(table(new_labs$visit_occurrence_concept_name)) %>% arrange(-Freq)\n",
    "#new_labs <- labs %>%\n",
    "#    filter(unit_concept_name == \"milligram per deciliter\")\n",
    "#length(unique(new_labs$person_id))\n",
    "\n"
   ]
  },
  {
   "cell_type": "code",
   "execution_count": null,
   "metadata": {
    "vscode": {
     "languageId": "r"
    }
   },
   "outputs": [],
   "source": [
    "keep_outliers = FALSE\n",
    "\n",
    "# Do all the filtering specified at the top of the file\n",
    "labs_formatted <- labs %>%\n",
    "    filter(!grepl(\"Emergency\", visit_occurrence_concept_name) & \n",
    "           !grepl(\"Intensive\", visit_occurrence_concept_name) &\n",
    "           !grepl(\"Urgent\", visit_occurrence_concept_name)) %>%\n",
    "    filter(unit_concept_name != \"micro-international unit per milliliter\" &\n",
    "           unit_concept_name != \"hour\" &\n",
    "           unit_concept_name != \"Henry\" &\n",
    "           unit_concept_name != \"unified atomic mass unit\" &\n",
    "           unit_concept_name != \"milligram per liter\" &\n",
    "           unit_concept_name != \"mIU/mL\") %>%\n",
    "    filter(value_as_number >= 0) %>%\n",
    "    select(person_id, measurement_datetime, value_as_number) %>%\n",
    "    mutate_at(c('person_id'), as.character) %>%\n",
    "    mutate(across(where(is.character), ~na_if(., \"NULL\"))) %>%\n",
    "    na.omit() %>%\n",
    "    distinct() %>%\n",
    "    group_by(person_id) %>%\n",
    "    filter(value_as_number < (10 * median(value_as_number))) %>%\n",
    "    ungroup() %>%\n",
    "    filter(keep_outliers | value_as_number >= mean(value_as_number) - (4 * sd(value_as_number))) %>%\n",
    "    filter(keep_outliers | value_as_number <= mean(value_as_number) + (4 * sd(value_as_number))) \n",
    "\n",
    "dim(labs_formatted)\n",
    "head(labs_formatted, 5)\n"
   ]
  },
  {
   "cell_type": "code",
   "execution_count": null,
   "metadata": {
    "vscode": {
     "languageId": "r"
    }
   },
   "outputs": [],
   "source": [
    "min(labs_formatted$value_as_number)\n",
    "median(labs_formatted$value_as_number)\n",
    "max(labs_formatted$value_as_number)"
   ]
  },
  {
   "cell_type": "code",
   "execution_count": null,
   "metadata": {
    "vscode": {
     "languageId": "r"
    }
   },
   "outputs": [],
   "source": [
    "write.table(labs_formatted, \n",
    "    file=paste0(data_path, \"/dataframes/blood/AllofUs_v8_labs-AST_wout_outliers_long_012924.txt\"), \n",
    "    row.names=FALSE, quote=FALSE, sep=\"\\t\")\n"
   ]
  },
  {
   "cell_type": "markdown",
   "metadata": {},
   "source": [
    "# GGT"
   ]
  },
  {
   "cell_type": "markdown",
   "metadata": {},
   "source": [
    "## Extract pt GGT"
   ]
  },
  {
   "cell_type": "code",
   "execution_count": null,
   "metadata": {
    "vscode": {
     "languageId": "r"
    }
   },
   "outputs": [],
   "source": [
    "library(tidyverse)\n",
    "library(bigrquery)\n",
    "\n",
    "# This query represents dataset \"Pts with GGT\" for domain \"measurement\" and was generated for All of Us Controlled Tier Dataset v8\n",
    "dataset_00353129_measurement_sql <- paste(\"\n",
    "    SELECT\n",
    "        measurement.person_id,\n",
    "        measurement.measurement_concept_id,\n",
    "        m_standard_concept.concept_name as standard_concept_name,\n",
    "        m_standard_concept.concept_code as standard_concept_code,\n",
    "        m_standard_concept.vocabulary_id as standard_vocabulary,\n",
    "        measurement.measurement_datetime,\n",
    "        measurement.measurement_type_concept_id,\n",
    "        m_type.concept_name as measurement_type_concept_name,\n",
    "        measurement.operator_concept_id,\n",
    "        m_operator.concept_name as operator_concept_name,\n",
    "        measurement.value_as_number,\n",
    "        measurement.value_as_concept_id,\n",
    "        m_value.concept_name as value_as_concept_name,\n",
    "        measurement.unit_concept_id,\n",
    "        m_unit.concept_name as unit_concept_name,\n",
    "        measurement.range_low,\n",
    "        measurement.range_high,\n",
    "        measurement.visit_occurrence_id,\n",
    "        m_visit.concept_name as visit_occurrence_concept_name,\n",
    "        measurement.measurement_source_value,\n",
    "        measurement.measurement_source_concept_id,\n",
    "        m_source_concept.concept_name as source_concept_name,\n",
    "        m_source_concept.concept_code as source_concept_code,\n",
    "        m_source_concept.vocabulary_id as source_vocabulary,\n",
    "        measurement.unit_source_value,\n",
    "        measurement.value_source_value \n",
    "    FROM\n",
    "        ( SELECT\n",
    "            * \n",
    "        FROM\n",
    "            `measurement` measurement \n",
    "        WHERE\n",
    "            (\n",
    "                measurement_concept_id IN  (\n",
    "                    SELECT\n",
    "                        DISTINCT c.concept_id \n",
    "                    FROM\n",
    "                        `cb_criteria` c \n",
    "                    JOIN\n",
    "                        (\n",
    "                            select\n",
    "                                cast(cr.id as string) as id \n",
    "                            FROM\n",
    "                                `cb_criteria` cr \n",
    "                            WHERE\n",
    "                                concept_id IN (\n",
    "                                    3026910\n",
    "                                ) \n",
    "                                AND full_text LIKE '%_rank1]%'\n",
    "                        ) a \n",
    "                            ON (\n",
    "                                c.path LIKE CONCAT('%.',\n",
    "                            a.id,\n",
    "                            '.%') \n",
    "                            OR c.path LIKE CONCAT('%.',\n",
    "                            a.id) \n",
    "                            OR c.path LIKE CONCAT(a.id,\n",
    "                            '.%') \n",
    "                            OR c.path = a.id) \n",
    "                        WHERE\n",
    "                            is_standard = 1 \n",
    "                            AND is_selectable = 1\n",
    "                        )\n",
    "                )  \n",
    "                AND (\n",
    "                    measurement.PERSON_ID IN (\n",
    "                        SELECT\n",
    "                            distinct person_id  \n",
    "                        FROM\n",
    "                            `cb_search_person` cb_search_person  \n",
    "                        WHERE\n",
    "                            cb_search_person.person_id IN (\n",
    "                                SELECT\n",
    "                                    criteria.person_id \n",
    "                                FROM\n",
    "                                    (SELECT\n",
    "                                        DISTINCT person_id,\n",
    "                                        entry_date,\n",
    "                                        concept_id \n",
    "                                    FROM\n",
    "                                        `cb_search_all_events` \n",
    "                                    WHERE\n",
    "                                        (\n",
    "                                            concept_id IN (3026910) \n",
    "                                            AND is_standard = 1 \n",
    "                                        )) criteria ) \n",
    "                            )\n",
    "                        )\n",
    "                ) measurement \n",
    "            LEFT JOIN\n",
    "                `concept` m_standard_concept \n",
    "                    ON measurement.measurement_concept_id = m_standard_concept.concept_id \n",
    "            LEFT JOIN\n",
    "                `concept` m_type \n",
    "                    ON measurement.measurement_type_concept_id = m_type.concept_id \n",
    "            LEFT JOIN\n",
    "                `concept` m_operator \n",
    "                    ON measurement.operator_concept_id = m_operator.concept_id \n",
    "            LEFT JOIN\n",
    "                `concept` m_value \n",
    "                    ON measurement.value_as_concept_id = m_value.concept_id \n",
    "            LEFT JOIN\n",
    "                `concept` m_unit \n",
    "                    ON measurement.unit_concept_id = m_unit.concept_id \n",
    "            LEFT JOIn\n",
    "                `visit_occurrence` v \n",
    "                    ON measurement.visit_occurrence_id = v.visit_occurrence_id \n",
    "            LEFT JOIN\n",
    "                `concept` m_visit \n",
    "                    ON v.visit_concept_id = m_visit.concept_id \n",
    "            LEFT JOIN\n",
    "                `concept` m_source_concept \n",
    "                    ON measurement.measurement_source_concept_id = m_source_concept.concept_id\", sep=\"\")\n",
    "\n",
    "# Formulate a Cloud Storage destination path for the data exported from BigQuery.\n",
    "# NOTE: By default data exported multiple times on the same day will overwrite older copies.\n",
    "#       But data exported on a different days will write to a new location so that historical\n",
    "#       copies can be kept as the dataset definition is changed.\n",
    "measurement_00353129_path <- file.path(\n",
    "  Sys.getenv(\"WORKSPACE_BUCKET\"),\n",
    "  \"bq_exports\",\n",
    "  Sys.getenv(\"OWNER_EMAIL\"),\n",
    "  strftime(lubridate::now(), \"%Y%m%d\"),  # Comment out this line if you want the export to always overwrite.\n",
    "  \"measurement_00353129\",\n",
    "  \"measurement_00353129_*.csv\")\n",
    "message(str_glue('The data will be written to {measurement_00353129_path}. Use this path when reading ',\n",
    "                 'the data into your notebooks in the future.'))\n",
    "\n",
    "# Perform the query and export the dataset to Cloud Storage as CSV files.\n",
    "# NOTE: You only need to run `bq_table_save` once. After that, you can\n",
    "#       just read data from the CSVs in Cloud Storage.\n",
    "bq_table_save(\n",
    "  bq_dataset_query(Sys.getenv(\"WORKSPACE_CDR\"), dataset_00353129_measurement_sql, billing = Sys.getenv(\"GOOGLE_PROJECT\")),\n",
    "  measurement_00353129_path,\n",
    "  destination_format = \"CSV\")\n",
    "\n"
   ]
  },
  {
   "cell_type": "code",
   "execution_count": null,
   "metadata": {
    "vscode": {
     "languageId": "r"
    }
   },
   "outputs": [],
   "source": [
    "# Read the data directly from Cloud Storage into memory.\n",
    "# NOTE: Alternatively you can `gsutil -m cp {measurement_00353129_path}` to copy these files\n",
    "#       to the Jupyter disk.\n",
    "read_bq_export_from_workspace_bucket <- function(export_path) {\n",
    "  col_types <- cols(standard_concept_name = col_character(), standard_concept_code = col_character(), standard_vocabulary = col_character(), measurement_type_concept_name = col_character(), operator_concept_name = col_character(), value_as_concept_name = col_character(), unit_concept_name = col_character(), visit_occurrence_concept_name = col_character(), measurement_source_value = col_character(), source_concept_name = col_character(), source_concept_code = col_character(), source_vocabulary = col_character(), unit_source_value = col_character(), value_source_value = col_character())\n",
    "  bind_rows(\n",
    "    map(system2('gsutil', args = c('ls', export_path), stdout = TRUE, stderr = TRUE),\n",
    "        function(csv) {\n",
    "          message(str_glue('Loading {csv}.'))\n",
    "          chunk <- read_csv(pipe(str_glue('gsutil cat {csv}')), col_types = col_types, show_col_types = FALSE)\n",
    "          if (is.null(col_types)) {\n",
    "            col_types <- spec(chunk)\n",
    "          }\n",
    "          chunk\n",
    "        }))\n",
    "}\n",
    "#measurement_00353129_path <- \"gs://fc-secure-b96fb036-3379-4be0-8834-e7e486f2b76e/bq_exports/davidz1@researchallofus.org/20240129/measurement_00353129/measurement_00353129_*.csv\"\n",
    "dataset_00353129_measurement_df <- read_bq_export_from_workspace_bucket(measurement_00353129_path)\n",
    "\n",
    "dim(dataset_00353129_measurement_df)\n",
    "\n",
    "head(dataset_00353129_measurement_df, 5)"
   ]
  },
  {
   "cell_type": "markdown",
   "metadata": {},
   "source": [
    "## Process pt GGT"
   ]
  },
  {
   "cell_type": "code",
   "execution_count": null,
   "metadata": {
    "vscode": {
     "languageId": "r"
    }
   },
   "outputs": [],
   "source": [
    "# GGT\n",
    "labs <- dataset_00353129_measurement_df\n",
    "colnames(labs)\n",
    "length(unique(labs$person_id))\n",
    "\n",
    "#as.data.frame(table(labs$visit_occurrence_concept_name)) %>% arrange(-Freq)\n",
    "as.data.frame(table(labs$unit_concept_name)) %>% arrange(-Freq)\n",
    "median(labs$value_as_number[labs$unit_concept_name == 'u/L'], na.rm=T)\n",
    "\n",
    "#max(labs$value_as_number, na.rm=T)\n",
    "\n",
    "#new_labs <- labs %>%\n",
    "#    filter(!grepl(\"Emergency\", visit_occurrence_concept_name) & !grepl(\"Intensive\", visit_occurrence_concept_name) &\n",
    "#          !grepl(\"Urgent\", visit_occurrence_concept_name))\n",
    "\n",
    "#as.data.frame(table(new_labs$visit_occurrence_concept_name)) %>% arrange(-Freq)\n",
    "#new_labs <- labs %>%\n",
    "#    filter(unit_concept_name == \"milligram per deciliter\")\n",
    "#length(unique(new_labs$person_id))\n",
    "\n"
   ]
  },
  {
   "cell_type": "code",
   "execution_count": null,
   "metadata": {
    "vscode": {
     "languageId": "r"
    }
   },
   "outputs": [],
   "source": [
    "keep_outliers = FALSE\n",
    "\n",
    "# Do all the filtering specified at the top of the file\n",
    "labs_formatted <- labs %>%\n",
    "    filter(!grepl(\"Emergency\", visit_occurrence_concept_name) & \n",
    "           !grepl(\"Intensive\", visit_occurrence_concept_name) &\n",
    "           !grepl(\"Urgent\", visit_occurrence_concept_name)) %>%\n",
    "    filter(unit_concept_name != \"milligram per deciliter\" &\n",
    "           unit_concept_name != \"mIU/mL\" &\n",
    "           unit_concept_name != \"microliter\" &\n",
    "           unit_concept_name != \"u/L\") %>%\n",
    "    filter(value_as_number >= 0) %>%\n",
    "    select(person_id, measurement_datetime, value_as_number) %>%\n",
    "    mutate_at(c('person_id'), as.character) %>%\n",
    "    mutate(across(where(is.character), ~na_if(., \"NULL\"))) %>%\n",
    "    na.omit() %>%\n",
    "    distinct() %>%\n",
    "    group_by(person_id) %>%\n",
    "    filter(value_as_number < (10 * median(value_as_number))) %>%\n",
    "    ungroup() %>%\n",
    "    filter(keep_outliers | value_as_number >= mean(value_as_number) - (4 * sd(value_as_number))) %>%\n",
    "    filter(keep_outliers | value_as_number <= mean(value_as_number) + (4 * sd(value_as_number))) \n",
    "\n",
    "dim(labs_formatted)\n",
    "head(labs_formatted, 5)\n"
   ]
  },
  {
   "cell_type": "code",
   "execution_count": null,
   "metadata": {
    "vscode": {
     "languageId": "r"
    }
   },
   "outputs": [],
   "source": [
    "min(labs_formatted$value_as_number)\n",
    "median(labs_formatted$value_as_number)\n",
    "max(labs_formatted$value_as_number)"
   ]
  },
  {
   "cell_type": "code",
   "execution_count": null,
   "metadata": {
    "vscode": {
     "languageId": "r"
    }
   },
   "outputs": [],
   "source": [
    "write.table(labs_formatted, \n",
    "    file=paste0(data_path, \"/dataframes/blood/AllofUs_v8_labs-GGT_wout_outliers_long_012924.txt\"), \n",
    "    row.names=FALSE, quote=FALSE, sep=\"\\t\")\n"
   ]
  },
  {
   "cell_type": "markdown",
   "metadata": {},
   "source": [
    "# Alk-Phos"
   ]
  },
  {
   "cell_type": "markdown",
   "metadata": {},
   "source": [
    "## Extract pt Alk-Phos"
   ]
  },
  {
   "cell_type": "code",
   "execution_count": null,
   "metadata": {
    "vscode": {
     "languageId": "r"
    }
   },
   "outputs": [],
   "source": [
    "library(tidyverse)\n",
    "library(bigrquery)\n",
    "\n",
    "# This query represents dataset \"Pts with Alk-Phos\" for domain \"measurement\" and was generated for All of Us Controlled Tier Dataset v8\n",
    "dataset_92884239_measurement_sql <- paste(\"\n",
    "    SELECT\n",
    "        measurement.person_id,\n",
    "        measurement.measurement_concept_id,\n",
    "        m_standard_concept.concept_name as standard_concept_name,\n",
    "        m_standard_concept.concept_code as standard_concept_code,\n",
    "        m_standard_concept.vocabulary_id as standard_vocabulary,\n",
    "        measurement.measurement_datetime,\n",
    "        measurement.measurement_type_concept_id,\n",
    "        m_type.concept_name as measurement_type_concept_name,\n",
    "        measurement.operator_concept_id,\n",
    "        m_operator.concept_name as operator_concept_name,\n",
    "        measurement.value_as_number,\n",
    "        measurement.value_as_concept_id,\n",
    "        m_value.concept_name as value_as_concept_name,\n",
    "        measurement.unit_concept_id,\n",
    "        m_unit.concept_name as unit_concept_name,\n",
    "        measurement.range_low,\n",
    "        measurement.range_high,\n",
    "        measurement.visit_occurrence_id,\n",
    "        m_visit.concept_name as visit_occurrence_concept_name,\n",
    "        measurement.measurement_source_value,\n",
    "        measurement.measurement_source_concept_id,\n",
    "        m_source_concept.concept_name as source_concept_name,\n",
    "        m_source_concept.concept_code as source_concept_code,\n",
    "        m_source_concept.vocabulary_id as source_vocabulary,\n",
    "        measurement.unit_source_value,\n",
    "        measurement.value_source_value \n",
    "    FROM\n",
    "        ( SELECT\n",
    "            * \n",
    "        FROM\n",
    "            `measurement` measurement \n",
    "        WHERE\n",
    "            (\n",
    "                measurement_concept_id IN  (\n",
    "                    SELECT\n",
    "                        DISTINCT c.concept_id \n",
    "                    FROM\n",
    "                        `cb_criteria` c \n",
    "                    JOIN\n",
    "                        (\n",
    "                            select\n",
    "                                cast(cr.id as string) as id \n",
    "                            FROM\n",
    "                                `cb_criteria` cr \n",
    "                            WHERE\n",
    "                                concept_id IN (\n",
    "                                    3035995\n",
    "                                ) \n",
    "                                AND full_text LIKE '%_rank1]%'\n",
    "                        ) a \n",
    "                            ON (\n",
    "                                c.path LIKE CONCAT('%.',\n",
    "                            a.id,\n",
    "                            '.%') \n",
    "                            OR c.path LIKE CONCAT('%.',\n",
    "                            a.id) \n",
    "                            OR c.path LIKE CONCAT(a.id,\n",
    "                            '.%') \n",
    "                            OR c.path = a.id) \n",
    "                        WHERE\n",
    "                            is_standard = 1 \n",
    "                            AND is_selectable = 1\n",
    "                        )\n",
    "                )  \n",
    "                AND (\n",
    "                    measurement.PERSON_ID IN (\n",
    "                        SELECT\n",
    "                            distinct person_id  \n",
    "                        FROM\n",
    "                            `cb_search_person` cb_search_person  \n",
    "                        WHERE\n",
    "                            cb_search_person.person_id IN (\n",
    "                                SELECT\n",
    "                                    criteria.person_id \n",
    "                                FROM\n",
    "                                    (SELECT\n",
    "                                        DISTINCT person_id,\n",
    "                                        entry_date,\n",
    "                                        concept_id \n",
    "                                    FROM\n",
    "                                        `cb_search_all_events` \n",
    "                                    WHERE\n",
    "                                        (\n",
    "                                            concept_id IN (3035995) \n",
    "                                            AND is_standard = 1 \n",
    "                                        )) criteria ) \n",
    "                            )\n",
    "                        )\n",
    "                ) measurement \n",
    "            LEFT JOIN\n",
    "                `concept` m_standard_concept \n",
    "                    ON measurement.measurement_concept_id = m_standard_concept.concept_id \n",
    "            LEFT JOIN\n",
    "                `concept` m_type \n",
    "                    ON measurement.measurement_type_concept_id = m_type.concept_id \n",
    "            LEFT JOIN\n",
    "                `concept` m_operator \n",
    "                    ON measurement.operator_concept_id = m_operator.concept_id \n",
    "            LEFT JOIN\n",
    "                `concept` m_value \n",
    "                    ON measurement.value_as_concept_id = m_value.concept_id \n",
    "            LEFT JOIN\n",
    "                `concept` m_unit \n",
    "                    ON measurement.unit_concept_id = m_unit.concept_id \n",
    "            LEFT JOIn\n",
    "                `visit_occurrence` v \n",
    "                    ON measurement.visit_occurrence_id = v.visit_occurrence_id \n",
    "            LEFT JOIN\n",
    "                `concept` m_visit \n",
    "                    ON v.visit_concept_id = m_visit.concept_id \n",
    "            LEFT JOIN\n",
    "                `concept` m_source_concept \n",
    "                    ON measurement.measurement_source_concept_id = m_source_concept.concept_id\", sep=\"\")\n",
    "\n",
    "# Formulate a Cloud Storage destination path for the data exported from BigQuery.\n",
    "# NOTE: By default data exported multiple times on the same day will overwrite older copies.\n",
    "#       But data exported on a different days will write to a new location so that historical\n",
    "#       copies can be kept as the dataset definition is changed.\n",
    "measurement_92884239_path <- file.path(\n",
    "  Sys.getenv(\"WORKSPACE_BUCKET\"),\n",
    "  \"bq_exports\",\n",
    "  Sys.getenv(\"OWNER_EMAIL\"),\n",
    "  strftime(lubridate::now(), \"%Y%m%d\"),  # Comment out this line if you want the export to always overwrite.\n",
    "  \"measurement_92884239\",\n",
    "  \"measurement_92884239_*.csv\")\n",
    "message(str_glue('The data will be written to {measurement_92884239_path}. Use this path when reading ',\n",
    "                 'the data into your notebooks in the future.'))\n",
    "\n",
    "# Perform the query and export the dataset to Cloud Storage as CSV files.\n",
    "# NOTE: You only need to run `bq_table_save` once. After that, you can\n",
    "#       just read data from the CSVs in Cloud Storage.\n",
    "bq_table_save(\n",
    "  bq_dataset_query(Sys.getenv(\"WORKSPACE_CDR\"), dataset_92884239_measurement_sql, billing = Sys.getenv(\"GOOGLE_PROJECT\")),\n",
    "  measurement_92884239_path,\n",
    "  destination_format = \"CSV\")\n",
    "\n"
   ]
  },
  {
   "cell_type": "code",
   "execution_count": null,
   "metadata": {
    "vscode": {
     "languageId": "r"
    }
   },
   "outputs": [],
   "source": [
    "# Read the data directly from Cloud Storage into memory.\n",
    "# NOTE: Alternatively you can `gsutil -m cp {measurement_92884239_path}` to copy these files\n",
    "#       to the Jupyter disk.\n",
    "read_bq_export_from_workspace_bucket <- function(export_path) {\n",
    "  col_types <- cols(standard_concept_name = col_character(), standard_concept_code = col_character(), standard_vocabulary = col_character(), measurement_type_concept_name = col_character(), operator_concept_name = col_character(), value_as_concept_name = col_character(), unit_concept_name = col_character(), visit_occurrence_concept_name = col_character(), measurement_source_value = col_character(), source_concept_name = col_character(), source_concept_code = col_character(), source_vocabulary = col_character(), unit_source_value = col_character(), value_source_value = col_character())\n",
    "  bind_rows(\n",
    "    map(system2('gsutil', args = c('ls', export_path), stdout = TRUE, stderr = TRUE),\n",
    "        function(csv) {\n",
    "          message(str_glue('Loading {csv}.'))\n",
    "          chunk <- read_csv(pipe(str_glue('gsutil cat {csv}')), col_types = col_types, show_col_types = FALSE)\n",
    "          if (is.null(col_types)) {\n",
    "            col_types <- spec(chunk)\n",
    "          }\n",
    "          chunk\n",
    "        }))\n",
    "}\n",
    "#measurement_92884239_path <- \"gs://fc-secure-b96fb036-3379-4be0-8834-e7e486f2b76e/bq_exports/davidz1@researchallofus.org/20240129/measurement_92884239/measurement_92884239_*.csv\"\n",
    "dataset_92884239_measurement_df <- read_bq_export_from_workspace_bucket(measurement_92884239_path)\n",
    "\n",
    "dim(dataset_92884239_measurement_df)\n",
    "\n",
    "head(dataset_92884239_measurement_df, 5)"
   ]
  },
  {
   "cell_type": "markdown",
   "metadata": {},
   "source": [
    "## Process pt Alk-Phos"
   ]
  },
  {
   "cell_type": "code",
   "execution_count": null,
   "metadata": {
    "vscode": {
     "languageId": "r"
    }
   },
   "outputs": [],
   "source": [
    "# Alk-Phos\n",
    "labs <- dataset_92884239_measurement_df\n",
    "colnames(labs)\n",
    "length(unique(labs$person_id))\n",
    "\n",
    "#as.data.frame(table(labs$visit_occurrence_concept_name)) %>% arrange(-Freq)\n",
    "as.data.frame(table(labs$unit_concept_name)) %>% arrange(-Freq)\n",
    "median(labs$value_as_number[labs$unit_concept_name == 'microgram per liter'], na.rm=T)\n",
    "\n",
    "#max(labs$value_as_number, na.rm=T)\n",
    "\n",
    "#new_labs <- labs %>%\n",
    "#    filter(!grepl(\"Emergency\", visit_occurrence_concept_name) & !grepl(\"Intensive\", visit_occurrence_concept_name) &\n",
    "#          !grepl(\"Urgent\", visit_occurrence_concept_name))\n",
    "\n",
    "#as.data.frame(table(new_labs$visit_occurrence_concept_name)) %>% arrange(-Freq)\n",
    "#new_labs <- labs %>%\n",
    "#    filter(unit_concept_name == \"milligram per deciliter\")\n",
    "#length(unique(new_labs$person_id))\n",
    "\n"
   ]
  },
  {
   "cell_type": "code",
   "execution_count": null,
   "metadata": {
    "vscode": {
     "languageId": "r"
    }
   },
   "outputs": [],
   "source": [
    "keep_outliers = FALSE\n",
    "\n",
    "# Do all the filtering specified at the top of the file\n",
    "labs_formatted <- labs %>%\n",
    "    filter(!grepl(\"Emergency\", visit_occurrence_concept_name) & \n",
    "           !grepl(\"Intensive\", visit_occurrence_concept_name) &\n",
    "           !grepl(\"Urgent\", visit_occurrence_concept_name)) %>%\n",
    "    filter(unit_concept_name != \"microgram per liter\" &\n",
    "           unit_concept_name != \"gram per liter\" &\n",
    "           unit_concept_name != \"no value\" &\n",
    "           unit_concept_name != \"avidity index\" &\n",
    "           unit_concept_name != \"milligram per deciliter\") %>%\n",
    "    filter(value_as_number >= 0) %>%\n",
    "    select(person_id, measurement_datetime, value_as_number) %>%\n",
    "    mutate_at(c('person_id'), as.character) %>%\n",
    "    mutate(across(where(is.character), ~na_if(., \"NULL\"))) %>%\n",
    "    na.omit() %>%\n",
    "    distinct() %>%\n",
    "    group_by(person_id) %>%\n",
    "    filter(value_as_number < (10 * median(value_as_number))) %>%\n",
    "    ungroup() %>%\n",
    "    filter(keep_outliers | value_as_number >= mean(value_as_number) - (4 * sd(value_as_number))) %>%\n",
    "    filter(keep_outliers | value_as_number <= mean(value_as_number) + (4 * sd(value_as_number))) \n",
    "\n",
    "dim(labs_formatted)\n",
    "head(labs_formatted, 5)\n"
   ]
  },
  {
   "cell_type": "code",
   "execution_count": null,
   "metadata": {
    "vscode": {
     "languageId": "r"
    }
   },
   "outputs": [],
   "source": [
    "min(labs_formatted$value_as_number)\n",
    "median(labs_formatted$value_as_number)\n",
    "max(labs_formatted$value_as_number)\n"
   ]
  },
  {
   "cell_type": "code",
   "execution_count": null,
   "metadata": {
    "vscode": {
     "languageId": "r"
    }
   },
   "outputs": [],
   "source": [
    "write.table(labs_formatted, \n",
    "    file=paste0(data_path, \"/dataframes/blood/AllofUs_v8_labs-Alk-Phos_wout_outliers_long_012924.txt\"), \n",
    "    row.names=FALSE, quote=FALSE, sep=\"\\t\")\n"
   ]
  },
  {
   "cell_type": "markdown",
   "metadata": {},
   "source": [
    "# SHBG"
   ]
  },
  {
   "cell_type": "markdown",
   "metadata": {},
   "source": [
    "## Extract pt SHBG"
   ]
  },
  {
   "cell_type": "code",
   "execution_count": null,
   "metadata": {
    "vscode": {
     "languageId": "r"
    }
   },
   "outputs": [],
   "source": [
    "library(tidyverse)\n",
    "library(bigrquery)\n",
    "\n",
    "# This query represents dataset \"Pts with SHBG\" for domain \"measurement\" and was generated for All of Us Controlled Tier Dataset v8\n",
    "dataset_13171762_measurement_sql <- paste(\"\n",
    "    SELECT\n",
    "        measurement.person_id,\n",
    "        measurement.measurement_concept_id,\n",
    "        m_standard_concept.concept_name as standard_concept_name,\n",
    "        m_standard_concept.concept_code as standard_concept_code,\n",
    "        m_standard_concept.vocabulary_id as standard_vocabulary,\n",
    "        measurement.measurement_datetime,\n",
    "        measurement.measurement_type_concept_id,\n",
    "        m_type.concept_name as measurement_type_concept_name,\n",
    "        measurement.operator_concept_id,\n",
    "        m_operator.concept_name as operator_concept_name,\n",
    "        measurement.value_as_number,\n",
    "        measurement.value_as_concept_id,\n",
    "        m_value.concept_name as value_as_concept_name,\n",
    "        measurement.unit_concept_id,\n",
    "        m_unit.concept_name as unit_concept_name,\n",
    "        measurement.range_low,\n",
    "        measurement.range_high,\n",
    "        measurement.visit_occurrence_id,\n",
    "        m_visit.concept_name as visit_occurrence_concept_name,\n",
    "        measurement.measurement_source_value,\n",
    "        measurement.measurement_source_concept_id,\n",
    "        m_source_concept.concept_name as source_concept_name,\n",
    "        m_source_concept.concept_code as source_concept_code,\n",
    "        m_source_concept.vocabulary_id as source_vocabulary,\n",
    "        measurement.unit_source_value,\n",
    "        measurement.value_source_value \n",
    "    FROM\n",
    "        ( SELECT\n",
    "            * \n",
    "        FROM\n",
    "            `measurement` measurement \n",
    "        WHERE\n",
    "            (\n",
    "                measurement_concept_id IN  (\n",
    "                    SELECT\n",
    "                        DISTINCT c.concept_id \n",
    "                    FROM\n",
    "                        `cb_criteria` c \n",
    "                    JOIN\n",
    "                        (\n",
    "                            select\n",
    "                                cast(cr.id as string) as id \n",
    "                            FROM\n",
    "                                `cb_criteria` cr \n",
    "                            WHERE\n",
    "                                concept_id IN (\n",
    "                                    3004248\n",
    "                                ) \n",
    "                                AND full_text LIKE '%_rank1]%'\n",
    "                        ) a \n",
    "                            ON (\n",
    "                                c.path LIKE CONCAT('%.',\n",
    "                            a.id,\n",
    "                            '.%') \n",
    "                            OR c.path LIKE CONCAT('%.',\n",
    "                            a.id) \n",
    "                            OR c.path LIKE CONCAT(a.id,\n",
    "                            '.%') \n",
    "                            OR c.path = a.id) \n",
    "                        WHERE\n",
    "                            is_standard = 1 \n",
    "                            AND is_selectable = 1\n",
    "                        )\n",
    "                )  \n",
    "                AND (\n",
    "                    measurement.PERSON_ID IN (\n",
    "                        SELECT\n",
    "                            distinct person_id  \n",
    "                        FROM\n",
    "                            `cb_search_person` cb_search_person  \n",
    "                        WHERE\n",
    "                            cb_search_person.person_id IN (\n",
    "                                SELECT\n",
    "                                    criteria.person_id \n",
    "                                FROM\n",
    "                                    (SELECT\n",
    "                                        DISTINCT person_id,\n",
    "                                        entry_date,\n",
    "                                        concept_id \n",
    "                                    FROM\n",
    "                                        `cb_search_all_events` \n",
    "                                    WHERE\n",
    "                                        (\n",
    "                                            concept_id IN (3004248) \n",
    "                                            AND is_standard = 1 \n",
    "                                        )) criteria ) \n",
    "                            )\n",
    "                        )\n",
    "                ) measurement \n",
    "            LEFT JOIN\n",
    "                `concept` m_standard_concept \n",
    "                    ON measurement.measurement_concept_id = m_standard_concept.concept_id \n",
    "            LEFT JOIN\n",
    "                `concept` m_type \n",
    "                    ON measurement.measurement_type_concept_id = m_type.concept_id \n",
    "            LEFT JOIN\n",
    "                `concept` m_operator \n",
    "                    ON measurement.operator_concept_id = m_operator.concept_id \n",
    "            LEFT JOIN\n",
    "                `concept` m_value \n",
    "                    ON measurement.value_as_concept_id = m_value.concept_id \n",
    "            LEFT JOIN\n",
    "                `concept` m_unit \n",
    "                    ON measurement.unit_concept_id = m_unit.concept_id \n",
    "            LEFT JOIn\n",
    "                `visit_occurrence` v \n",
    "                    ON measurement.visit_occurrence_id = v.visit_occurrence_id \n",
    "            LEFT JOIN\n",
    "                `concept` m_visit \n",
    "                    ON v.visit_concept_id = m_visit.concept_id \n",
    "            LEFT JOIN\n",
    "                `concept` m_source_concept \n",
    "                    ON measurement.measurement_source_concept_id = m_source_concept.concept_id\", sep=\"\")\n",
    "\n",
    "# Formulate a Cloud Storage destination path for the data exported from BigQuery.\n",
    "# NOTE: By default data exported multiple times on the same day will overwrite older copies.\n",
    "#       But data exported on a different days will write to a new location so that historical\n",
    "#       copies can be kept as the dataset definition is changed.\n",
    "measurement_13171762_path <- file.path(\n",
    "  Sys.getenv(\"WORKSPACE_BUCKET\"),\n",
    "  \"bq_exports\",\n",
    "  Sys.getenv(\"OWNER_EMAIL\"),\n",
    "  strftime(lubridate::now(), \"%Y%m%d\"),  # Comment out this line if you want the export to always overwrite.\n",
    "  \"measurement_13171762\",\n",
    "  \"measurement_13171762_*.csv\")\n",
    "message(str_glue('The data will be written to {measurement_13171762_path}. Use this path when reading ',\n",
    "                 'the data into your notebooks in the future.'))\n",
    "\n",
    "# Perform the query and export the dataset to Cloud Storage as CSV files.\n",
    "# NOTE: You only need to run `bq_table_save` once. After that, you can\n",
    "#       just read data from the CSVs in Cloud Storage.\n",
    "bq_table_save(\n",
    "  bq_dataset_query(Sys.getenv(\"WORKSPACE_CDR\"), dataset_13171762_measurement_sql, billing = Sys.getenv(\"GOOGLE_PROJECT\")),\n",
    "  measurement_13171762_path,\n",
    "  destination_format = \"CSV\")\n",
    "\n"
   ]
  },
  {
   "cell_type": "code",
   "execution_count": null,
   "metadata": {
    "vscode": {
     "languageId": "r"
    }
   },
   "outputs": [],
   "source": [
    "# Read the data directly from Cloud Storage into memory.\n",
    "# NOTE: Alternatively you can `gsutil -m cp {measurement_13171762_path}` to copy these files\n",
    "#       to the Jupyter disk.\n",
    "read_bq_export_from_workspace_bucket <- function(export_path) {\n",
    "  col_types <- cols(standard_concept_name = col_character(), standard_concept_code = col_character(), standard_vocabulary = col_character(), measurement_type_concept_name = col_character(), operator_concept_name = col_character(), value_as_concept_name = col_character(), unit_concept_name = col_character(), visit_occurrence_concept_name = col_character(), measurement_source_value = col_character(), source_concept_name = col_character(), source_concept_code = col_character(), source_vocabulary = col_character(), unit_source_value = col_character(), value_source_value = col_character())\n",
    "  bind_rows(\n",
    "    map(system2('gsutil', args = c('ls', export_path), stdout = TRUE, stderr = TRUE),\n",
    "        function(csv) {\n",
    "          message(str_glue('Loading {csv}.'))\n",
    "          chunk <- read_csv(pipe(str_glue('gsutil cat {csv}')), col_types = col_types, show_col_types = FALSE)\n",
    "          if (is.null(col_types)) {\n",
    "            col_types <- spec(chunk)\n",
    "          }\n",
    "          chunk\n",
    "        }))\n",
    "}\n",
    "#measurement_13171762_path <- \"gs://fc-secure-b96fb036-3379-4be0-8834-e7e486f2b76e/bq_exports/davidz1@researchallofus.org/20240129/measurement_13171762/measurement_13171762_*.csv\"\n",
    "dataset_13171762_measurement_df <- read_bq_export_from_workspace_bucket(measurement_13171762_path)\n",
    "\n",
    "dim(dataset_13171762_measurement_df)\n",
    "\n",
    "head(dataset_13171762_measurement_df, 5)"
   ]
  },
  {
   "cell_type": "markdown",
   "metadata": {},
   "source": [
    "## Process pt SHBG"
   ]
  },
  {
   "cell_type": "code",
   "execution_count": null,
   "metadata": {
    "vscode": {
     "languageId": "r"
    }
   },
   "outputs": [],
   "source": [
    "# SHBG\n",
    "labs <- dataset_13171762_measurement_df\n",
    "colnames(labs)\n",
    "length(unique(labs$person_id))\n",
    "\n",
    "#as.data.frame(table(labs$visit_occurrence_concept_name)) %>% arrange(-Freq)\n",
    "as.data.frame(table(labs$unit_concept_name)) %>% arrange(-Freq)\n",
    "median(labs$value_as_number[labs$unit_concept_name == 'nanomole per liter'], na.rm=T)\n",
    "\n",
    "#median(labs$value_as_number, na.rm=T)\n",
    "\n",
    "#new_labs <- labs %>%\n",
    "#    filter(!grepl(\"Emergency\", visit_occurrence_concept_name) & !grepl(\"Intensive\", visit_occurrence_concept_name) &\n",
    "#          !grepl(\"Urgent\", visit_occurrence_concept_name))\n",
    "\n",
    "#as.data.frame(table(new_labs$visit_occurrence_concept_name)) %>% arrange(-Freq)\n",
    "#new_labs <- labs %>%\n",
    "#    filter(unit_concept_name == \"milligram per deciliter\")\n",
    "#length(unique(new_labs$person_id))\n",
    "\n"
   ]
  },
  {
   "cell_type": "code",
   "execution_count": null,
   "metadata": {
    "vscode": {
     "languageId": "r"
    }
   },
   "outputs": [],
   "source": [
    "keep_outliers = FALSE\n",
    "\n",
    "# Do all the filtering specified at the top of the file\n",
    "labs_formatted <- labs %>%\n",
    "    filter(!grepl(\"Emergency\", visit_occurrence_concept_name) & \n",
    "           !grepl(\"Intensive\", visit_occurrence_concept_name) &\n",
    "           !grepl(\"Urgent\", visit_occurrence_concept_name)) %>%\n",
    "    filter(unit_concept_name != \"\") %>%\n",
    "    filter(value_as_number >= 0) %>%\n",
    "    select(person_id, measurement_datetime, value_as_number) %>%\n",
    "    mutate_at(c('person_id'), as.character) %>%\n",
    "    mutate(across(where(is.character), ~na_if(., \"NULL\"))) %>%\n",
    "    na.omit() %>%\n",
    "    distinct() %>%\n",
    "    group_by(person_id) %>%\n",
    "    filter(value_as_number < (10 * median(value_as_number))) %>%\n",
    "    ungroup() %>%\n",
    "    filter(keep_outliers | value_as_number >= mean(value_as_number) - (4 * sd(value_as_number))) %>%\n",
    "    filter(keep_outliers | value_as_number <= mean(value_as_number) + (4 * sd(value_as_number))) \n",
    "\n",
    "dim(labs_formatted)\n",
    "head(labs_formatted, 5)\n"
   ]
  },
  {
   "cell_type": "code",
   "execution_count": null,
   "metadata": {
    "vscode": {
     "languageId": "r"
    }
   },
   "outputs": [],
   "source": [
    "min(labs_formatted$value_as_number)\n",
    "median(labs_formatted$value_as_number)\n",
    "max(labs_formatted$value_as_number)\n",
    "sd(labs_formatted$value_as_number)\n"
   ]
  },
  {
   "cell_type": "code",
   "execution_count": null,
   "metadata": {
    "vscode": {
     "languageId": "r"
    }
   },
   "outputs": [],
   "source": [
    "write.table(labs_formatted, \n",
    "    file=paste0(data_path, \"/dataframes/blood/AllofUs_v8_labs-SHBG_wout_outliers_long_012924.txt\"), \n",
    "    row.names=FALSE, quote=FALSE, sep=\"\\t\")\n"
   ]
  },
  {
   "cell_type": "markdown",
   "metadata": {},
   "source": [
    "# Triglycerides"
   ]
  },
  {
   "cell_type": "markdown",
   "metadata": {},
   "source": [
    "## Extract pt triglycerides"
   ]
  },
  {
   "cell_type": "code",
   "execution_count": null,
   "metadata": {
    "vscode": {
     "languageId": "r"
    }
   },
   "outputs": [],
   "source": [
    "library(tidyverse)\n",
    "library(bigrquery)\n",
    "\n",
    "# This query represents dataset \"Pts with Triglycerides\" for domain \"measurement\" and was generated for All of Us Controlled Tier Dataset v8\n",
    "dataset_06590776_measurement_sql <- paste(\"\n",
    "    SELECT\n",
    "        measurement.person_id,\n",
    "        measurement.measurement_concept_id,\n",
    "        m_standard_concept.concept_name as standard_concept_name,\n",
    "        m_standard_concept.concept_code as standard_concept_code,\n",
    "        m_standard_concept.vocabulary_id as standard_vocabulary,\n",
    "        measurement.measurement_datetime,\n",
    "        measurement.measurement_type_concept_id,\n",
    "        m_type.concept_name as measurement_type_concept_name,\n",
    "        measurement.operator_concept_id,\n",
    "        m_operator.concept_name as operator_concept_name,\n",
    "        measurement.value_as_number,\n",
    "        measurement.value_as_concept_id,\n",
    "        m_value.concept_name as value_as_concept_name,\n",
    "        measurement.unit_concept_id,\n",
    "        m_unit.concept_name as unit_concept_name,\n",
    "        measurement.range_low,\n",
    "        measurement.range_high,\n",
    "        measurement.visit_occurrence_id,\n",
    "        m_visit.concept_name as visit_occurrence_concept_name,\n",
    "        measurement.measurement_source_value,\n",
    "        measurement.measurement_source_concept_id,\n",
    "        m_source_concept.concept_name as source_concept_name,\n",
    "        m_source_concept.concept_code as source_concept_code,\n",
    "        m_source_concept.vocabulary_id as source_vocabulary,\n",
    "        measurement.unit_source_value,\n",
    "        measurement.value_source_value \n",
    "    FROM\n",
    "        ( SELECT\n",
    "            * \n",
    "        FROM\n",
    "            `measurement` measurement \n",
    "        WHERE\n",
    "            (\n",
    "                measurement_concept_id IN  (\n",
    "                    SELECT\n",
    "                        DISTINCT c.concept_id \n",
    "                    FROM\n",
    "                        `cb_criteria` c \n",
    "                    JOIN\n",
    "                        (\n",
    "                            select\n",
    "                                cast(cr.id as string) as id \n",
    "                            FROM\n",
    "                                `cb_criteria` cr \n",
    "                            WHERE\n",
    "                                concept_id IN (\n",
    "                                    3022192\n",
    "                                ) \n",
    "                                AND full_text LIKE '%_rank1]%'\n",
    "                        ) a \n",
    "                            ON (\n",
    "                                c.path LIKE CONCAT('%.',\n",
    "                            a.id,\n",
    "                            '.%') \n",
    "                            OR c.path LIKE CONCAT('%.',\n",
    "                            a.id) \n",
    "                            OR c.path LIKE CONCAT(a.id,\n",
    "                            '.%') \n",
    "                            OR c.path = a.id) \n",
    "                        WHERE\n",
    "                            is_standard = 1 \n",
    "                            AND is_selectable = 1\n",
    "                        )\n",
    "                )  \n",
    "                AND (\n",
    "                    measurement.PERSON_ID IN (\n",
    "                        SELECT\n",
    "                            distinct person_id  \n",
    "                        FROM\n",
    "                            `cb_search_person` cb_search_person  \n",
    "                        WHERE\n",
    "                            cb_search_person.person_id IN (\n",
    "                                SELECT\n",
    "                                    criteria.person_id \n",
    "                                FROM\n",
    "                                    (SELECT\n",
    "                                        DISTINCT person_id,\n",
    "                                        entry_date,\n",
    "                                        concept_id \n",
    "                                    FROM\n",
    "                                        `cb_search_all_events` \n",
    "                                    WHERE\n",
    "                                        (\n",
    "                                            concept_id IN (3022192) \n",
    "                                            AND is_standard = 1 \n",
    "                                        )) criteria ) \n",
    "                            )\n",
    "                        )\n",
    "                ) measurement \n",
    "            LEFT JOIN\n",
    "                `concept` m_standard_concept \n",
    "                    ON measurement.measurement_concept_id = m_standard_concept.concept_id \n",
    "            LEFT JOIN\n",
    "                `concept` m_type \n",
    "                    ON measurement.measurement_type_concept_id = m_type.concept_id \n",
    "            LEFT JOIN\n",
    "                `concept` m_operator \n",
    "                    ON measurement.operator_concept_id = m_operator.concept_id \n",
    "            LEFT JOIN\n",
    "                `concept` m_value \n",
    "                    ON measurement.value_as_concept_id = m_value.concept_id \n",
    "            LEFT JOIN\n",
    "                `concept` m_unit \n",
    "                    ON measurement.unit_concept_id = m_unit.concept_id \n",
    "            LEFT JOIn\n",
    "                `visit_occurrence` v \n",
    "                    ON measurement.visit_occurrence_id = v.visit_occurrence_id \n",
    "            LEFT JOIN\n",
    "                `concept` m_visit \n",
    "                    ON v.visit_concept_id = m_visit.concept_id \n",
    "            LEFT JOIN\n",
    "                `concept` m_source_concept \n",
    "                    ON measurement.measurement_source_concept_id = m_source_concept.concept_id\", sep=\"\")\n",
    "\n",
    "# Formulate a Cloud Storage destination path for the data exported from BigQuery.\n",
    "# NOTE: By default data exported multiple times on the same day will overwrite older copies.\n",
    "#       But data exported on a different days will write to a new location so that historical\n",
    "#       copies can be kept as the dataset definition is changed.\n",
    "measurement_06590776_path <- file.path(\n",
    "  Sys.getenv(\"WORKSPACE_BUCKET\"),\n",
    "  \"bq_exports\",\n",
    "  Sys.getenv(\"OWNER_EMAIL\"),\n",
    "  strftime(lubridate::now(), \"%Y%m%d\"),  # Comment out this line if you want the export to always overwrite.\n",
    "  \"measurement_06590776\",\n",
    "  \"measurement_06590776_*.csv\")\n",
    "message(str_glue('The data will be written to {measurement_06590776_path}. Use this path when reading ',\n",
    "                 'the data into your notebooks in the future.'))\n",
    "\n",
    "# Perform the query and export the dataset to Cloud Storage as CSV files.\n",
    "# NOTE: You only need to run `bq_table_save` once. After that, you can\n",
    "#       just read data from the CSVs in Cloud Storage.\n",
    "bq_table_save(\n",
    "  bq_dataset_query(Sys.getenv(\"WORKSPACE_CDR\"), dataset_06590776_measurement_sql, billing = Sys.getenv(\"GOOGLE_PROJECT\")),\n",
    "  measurement_06590776_path,\n",
    "  destination_format = \"CSV\")\n",
    "\n"
   ]
  },
  {
   "cell_type": "code",
   "execution_count": null,
   "metadata": {
    "vscode": {
     "languageId": "r"
    }
   },
   "outputs": [],
   "source": [
    "# Read the data directly from Cloud Storage into memory.\n",
    "# NOTE: Alternatively you can `gsutil -m cp {measurement_06590776_path}` to copy these files\n",
    "#       to the Jupyter disk.\n",
    "read_bq_export_from_workspace_bucket <- function(export_path) {\n",
    "  col_types <- cols(standard_concept_name = col_character(), standard_concept_code = col_character(), standard_vocabulary = col_character(), measurement_type_concept_name = col_character(), operator_concept_name = col_character(), value_as_concept_name = col_character(), unit_concept_name = col_character(), visit_occurrence_concept_name = col_character(), measurement_source_value = col_character(), source_concept_name = col_character(), source_concept_code = col_character(), source_vocabulary = col_character(), unit_source_value = col_character(), value_source_value = col_character())\n",
    "  bind_rows(\n",
    "    map(system2('gsutil', args = c('ls', export_path), stdout = TRUE, stderr = TRUE),\n",
    "        function(csv) {\n",
    "          message(str_glue('Loading {csv}.'))\n",
    "          chunk <- read_csv(pipe(str_glue('gsutil cat {csv}')), col_types = col_types, show_col_types = FALSE)\n",
    "          if (is.null(col_types)) {\n",
    "            col_types <- spec(chunk)\n",
    "          }\n",
    "          chunk\n",
    "        }))\n",
    "}\n",
    "#measurement_06590776_path <- \"gs://fc-secure-b96fb036-3379-4be0-8834-e7e486f2b76e/bq_exports/davidz1@researchallofus.org/20240129/measurement_06590776/measurement_06590776_*.csv\"\n",
    "dataset_06590776_measurement_df <- read_bq_export_from_workspace_bucket(measurement_06590776_path)\n",
    "\n",
    "dim(dataset_06590776_measurement_df)\n",
    "\n",
    "head(dataset_06590776_measurement_df, 5)"
   ]
  },
  {
   "cell_type": "markdown",
   "metadata": {},
   "source": [
    "## Process pt Triglycerides"
   ]
  },
  {
   "cell_type": "code",
   "execution_count": null,
   "metadata": {
    "vscode": {
     "languageId": "r"
    }
   },
   "outputs": [],
   "source": [
    "# Triglycerides\n",
    "labs <- dataset_06590776_measurement_df\n",
    "colnames(labs)\n",
    "length(unique(labs$person_id))\n",
    "\n",
    "#as.data.frame(table(labs$visit_occurrence_concept_name)) %>% arrange(-Freq)\n",
    "as.data.frame(table(labs$unit_concept_name)) %>% arrange(-Freq)\n",
    "median(labs$value_as_number[labs$unit_concept_name == 'no value'], na.rm=T)\n",
    "\n",
    "#median(labs$value_as_number, na.rm=T)\n",
    "\n",
    "#new_labs <- labs %>%\n",
    "#    filter(!grepl(\"Emergency\", visit_occurrence_concept_name) & !grepl(\"Intensive\", visit_occurrence_concept_name) &\n",
    "#          !grepl(\"Urgent\", visit_occurrence_concept_name))\n",
    "\n",
    "#as.data.frame(table(new_labs$visit_occurrence_concept_name)) %>% arrange(-Freq)\n",
    "#new_labs <- labs %>%\n",
    "#    filter(unit_concept_name == \"milligram per deciliter\")\n",
    "#length(unique(new_labs$person_id))\n",
    "\n"
   ]
  },
  {
   "cell_type": "code",
   "execution_count": null,
   "metadata": {
    "vscode": {
     "languageId": "r"
    }
   },
   "outputs": [],
   "source": [
    "keep_outliers = FALSE\n",
    "\n",
    "# Do all the filtering specified at the top of the file\n",
    "labs_formatted <- labs %>%\n",
    "    filter(!grepl(\"Emergency\", visit_occurrence_concept_name) & \n",
    "           !grepl(\"Intensive\", visit_occurrence_concept_name) &\n",
    "           !grepl(\"Urgent\", visit_occurrence_concept_name)) %>%\n",
    "    filter(unit_concept_name != \"gram per deciliter\" &\n",
    "           unit_concept_name != \"unit\") %>%\n",
    "    filter(value_as_number >= 0) %>%\n",
    "    select(person_id, measurement_datetime, value_as_number) %>%\n",
    "    mutate_at(c('person_id'), as.character) %>%\n",
    "    mutate(across(where(is.character), ~na_if(., \"NULL\"))) %>%\n",
    "    na.omit() %>%\n",
    "    distinct() %>%\n",
    "    group_by(person_id) %>%\n",
    "    filter(value_as_number < (10 * median(value_as_number))) %>%\n",
    "    ungroup() %>%\n",
    "    filter(keep_outliers | value_as_number >= mean(value_as_number) - (4 * sd(value_as_number))) %>%\n",
    "    filter(keep_outliers | value_as_number <= mean(value_as_number) + (4 * sd(value_as_number))) \n",
    "\n",
    "dim(labs_formatted)\n",
    "head(labs_formatted, 5)\n"
   ]
  },
  {
   "cell_type": "code",
   "execution_count": null,
   "metadata": {
    "vscode": {
     "languageId": "r"
    }
   },
   "outputs": [],
   "source": [
    "min(labs_formatted$value_as_number)\n",
    "median(labs_formatted$value_as_number)\n",
    "mean(labs_formatted$value_as_number)\n",
    "max(labs_formatted$value_as_number)\n",
    "sd(labs_formatted$value_as_number)\n"
   ]
  },
  {
   "cell_type": "code",
   "execution_count": null,
   "metadata": {
    "vscode": {
     "languageId": "r"
    }
   },
   "outputs": [],
   "source": [
    "write.table(labs_formatted, \n",
    "    file=paste0(data_path, \"/dataframes/blood/AllofUs_v8_labs-Triglycerides_wout_outliers_long_012924.txt\"), \n",
    "    row.names=FALSE, quote=FALSE, sep=\"\\t\")\n"
   ]
  },
  {
   "cell_type": "markdown",
   "metadata": {},
   "source": [
    "# Chol-HDL"
   ]
  },
  {
   "cell_type": "markdown",
   "metadata": {},
   "source": [
    "## Extract pt Chol-HDL"
   ]
  },
  {
   "cell_type": "code",
   "execution_count": null,
   "metadata": {
    "vscode": {
     "languageId": "r"
    }
   },
   "outputs": [],
   "source": [
    "library(tidyverse)\n",
    "library(bigrquery)\n",
    "\n",
    "# This query represents dataset \"Pts with Chol-HDL\" for domain \"measurement\" and was generated for All of Us Controlled Tier Dataset v8\n",
    "dataset_96734629_measurement_sql <- paste(\"\n",
    "    SELECT\n",
    "        measurement.person_id,\n",
    "        measurement.measurement_concept_id,\n",
    "        m_standard_concept.concept_name as standard_concept_name,\n",
    "        m_standard_concept.concept_code as standard_concept_code,\n",
    "        m_standard_concept.vocabulary_id as standard_vocabulary,\n",
    "        measurement.measurement_datetime,\n",
    "        measurement.measurement_type_concept_id,\n",
    "        m_type.concept_name as measurement_type_concept_name,\n",
    "        measurement.operator_concept_id,\n",
    "        m_operator.concept_name as operator_concept_name,\n",
    "        measurement.value_as_number,\n",
    "        measurement.value_as_concept_id,\n",
    "        m_value.concept_name as value_as_concept_name,\n",
    "        measurement.unit_concept_id,\n",
    "        m_unit.concept_name as unit_concept_name,\n",
    "        measurement.range_low,\n",
    "        measurement.range_high,\n",
    "        measurement.visit_occurrence_id,\n",
    "        m_visit.concept_name as visit_occurrence_concept_name,\n",
    "        measurement.measurement_source_value,\n",
    "        measurement.measurement_source_concept_id,\n",
    "        m_source_concept.concept_name as source_concept_name,\n",
    "        m_source_concept.concept_code as source_concept_code,\n",
    "        m_source_concept.vocabulary_id as source_vocabulary,\n",
    "        measurement.unit_source_value,\n",
    "        measurement.value_source_value \n",
    "    FROM\n",
    "        ( SELECT\n",
    "            * \n",
    "        FROM\n",
    "            `measurement` measurement \n",
    "        WHERE\n",
    "            (\n",
    "                measurement_concept_id IN  (\n",
    "                    SELECT\n",
    "                        DISTINCT c.concept_id \n",
    "                    FROM\n",
    "                        `cb_criteria` c \n",
    "                    JOIN\n",
    "                        (\n",
    "                            select\n",
    "                                cast(cr.id as string) as id \n",
    "                            FROM\n",
    "                                `cb_criteria` cr \n",
    "                            WHERE\n",
    "                                concept_id IN (\n",
    "                                    3007070\n",
    "                                ) \n",
    "                                AND full_text LIKE '%_rank1]%'\n",
    "                        ) a \n",
    "                            ON (\n",
    "                                c.path LIKE CONCAT('%.',\n",
    "                            a.id,\n",
    "                            '.%') \n",
    "                            OR c.path LIKE CONCAT('%.',\n",
    "                            a.id) \n",
    "                            OR c.path LIKE CONCAT(a.id,\n",
    "                            '.%') \n",
    "                            OR c.path = a.id) \n",
    "                        WHERE\n",
    "                            is_standard = 1 \n",
    "                            AND is_selectable = 1\n",
    "                        )\n",
    "                )  \n",
    "                AND (\n",
    "                    measurement.PERSON_ID IN (\n",
    "                        SELECT\n",
    "                            distinct person_id  \n",
    "                        FROM\n",
    "                            `cb_search_person` cb_search_person  \n",
    "                        WHERE\n",
    "                            cb_search_person.person_id IN (\n",
    "                                SELECT\n",
    "                                    criteria.person_id \n",
    "                                FROM\n",
    "                                    (SELECT\n",
    "                                        DISTINCT person_id,\n",
    "                                        entry_date,\n",
    "                                        concept_id \n",
    "                                    FROM\n",
    "                                        `cb_search_all_events` \n",
    "                                    WHERE\n",
    "                                        (\n",
    "                                            concept_id IN (3007070) \n",
    "                                            AND is_standard = 1 \n",
    "                                        )) criteria ) \n",
    "                            )\n",
    "                        )\n",
    "                ) measurement \n",
    "            LEFT JOIN\n",
    "                `concept` m_standard_concept \n",
    "                    ON measurement.measurement_concept_id = m_standard_concept.concept_id \n",
    "            LEFT JOIN\n",
    "                `concept` m_type \n",
    "                    ON measurement.measurement_type_concept_id = m_type.concept_id \n",
    "            LEFT JOIN\n",
    "                `concept` m_operator \n",
    "                    ON measurement.operator_concept_id = m_operator.concept_id \n",
    "            LEFT JOIN\n",
    "                `concept` m_value \n",
    "                    ON measurement.value_as_concept_id = m_value.concept_id \n",
    "            LEFT JOIN\n",
    "                `concept` m_unit \n",
    "                    ON measurement.unit_concept_id = m_unit.concept_id \n",
    "            LEFT JOIn\n",
    "                `visit_occurrence` v \n",
    "                    ON measurement.visit_occurrence_id = v.visit_occurrence_id \n",
    "            LEFT JOIN\n",
    "                `concept` m_visit \n",
    "                    ON v.visit_concept_id = m_visit.concept_id \n",
    "            LEFT JOIN\n",
    "                `concept` m_source_concept \n",
    "                    ON measurement.measurement_source_concept_id = m_source_concept.concept_id\", sep=\"\")\n",
    "\n",
    "# Formulate a Cloud Storage destination path for the data exported from BigQuery.\n",
    "# NOTE: By default data exported multiple times on the same day will overwrite older copies.\n",
    "#       But data exported on a different days will write to a new location so that historical\n",
    "#       copies can be kept as the dataset definition is changed.\n",
    "measurement_96734629_path <- file.path(\n",
    "  Sys.getenv(\"WORKSPACE_BUCKET\"),\n",
    "  \"bq_exports\",\n",
    "  Sys.getenv(\"OWNER_EMAIL\"),\n",
    "  strftime(lubridate::now(), \"%Y%m%d\"),  # Comment out this line if you want the export to always overwrite.\n",
    "  \"measurement_96734629\",\n",
    "  \"measurement_96734629_*.csv\")\n",
    "message(str_glue('The data will be written to {measurement_96734629_path}. Use this path when reading ',\n",
    "                 'the data into your notebooks in the future.'))\n",
    "\n",
    "# Perform the query and export the dataset to Cloud Storage as CSV files.\n",
    "# NOTE: You only need to run `bq_table_save` once. After that, you can\n",
    "#       just read data from the CSVs in Cloud Storage.\n",
    "bq_table_save(\n",
    "  bq_dataset_query(Sys.getenv(\"WORKSPACE_CDR\"), dataset_96734629_measurement_sql, billing = Sys.getenv(\"GOOGLE_PROJECT\")),\n",
    "  measurement_96734629_path,\n",
    "  destination_format = \"CSV\")\n",
    "\n"
   ]
  },
  {
   "cell_type": "code",
   "execution_count": null,
   "metadata": {
    "vscode": {
     "languageId": "r"
    }
   },
   "outputs": [],
   "source": [
    "# Read the data directly from Cloud Storage into memory.\n",
    "# NOTE: Alternatively you can `gsutil -m cp {measurement_96734629_path}` to copy these files\n",
    "#       to the Jupyter disk.\n",
    "read_bq_export_from_workspace_bucket <- function(export_path) {\n",
    "  col_types <- cols(standard_concept_name = col_character(), standard_concept_code = col_character(), standard_vocabulary = col_character(), measurement_type_concept_name = col_character(), operator_concept_name = col_character(), value_as_concept_name = col_character(), unit_concept_name = col_character(), visit_occurrence_concept_name = col_character(), measurement_source_value = col_character(), source_concept_name = col_character(), source_concept_code = col_character(), source_vocabulary = col_character(), unit_source_value = col_character(), value_source_value = col_character())\n",
    "  bind_rows(\n",
    "    map(system2('gsutil', args = c('ls', export_path), stdout = TRUE, stderr = TRUE),\n",
    "        function(csv) {\n",
    "          message(str_glue('Loading {csv}.'))\n",
    "          chunk <- read_csv(pipe(str_glue('gsutil cat {csv}')), col_types = col_types, show_col_types = FALSE)\n",
    "          if (is.null(col_types)) {\n",
    "            col_types <- spec(chunk)\n",
    "          }\n",
    "          chunk\n",
    "        }))\n",
    "}\n",
    "#measurement_96734629_path <- \"gs://fc-secure-b96fb036-3379-4be0-8834-e7e486f2b76e/bq_exports/davidz1@researchallofus.org/20240129/measurement_96734629/measurement_96734629_*.csv\"\n",
    "dataset_96734629_measurement_df <- read_bq_export_from_workspace_bucket(measurement_96734629_path)\n",
    "\n",
    "dim(dataset_96734629_measurement_df)\n",
    "\n",
    "head(dataset_96734629_measurement_df, 5)"
   ]
  },
  {
   "cell_type": "markdown",
   "metadata": {},
   "source": [
    "## Process pt Chol-HDL"
   ]
  },
  {
   "cell_type": "code",
   "execution_count": null,
   "metadata": {
    "vscode": {
     "languageId": "r"
    }
   },
   "outputs": [],
   "source": [
    "# Chol-HDL\n",
    "labs <- dataset_96734629_measurement_df\n",
    "colnames(labs)\n",
    "length(unique(labs$person_id))\n",
    "\n",
    "#as.data.frame(table(labs$visit_occurrence_concept_name)) %>% arrange(-Freq)\n",
    "as.data.frame(table(labs$unit_concept_name)) %>% arrange(-Freq)\n",
    "median(labs$value_as_number[labs$unit_concept_name == 'no value'], na.rm=T)\n",
    "\n",
    "#median(labs$value_as_number, na.rm=T)\n",
    "\n",
    "#new_labs <- labs %>%\n",
    "#    filter(!grepl(\"Emergency\", visit_occurrence_concept_name) & !grepl(\"Intensive\", visit_occurrence_concept_name) &\n",
    "#          !grepl(\"Urgent\", visit_occurrence_concept_name))\n",
    "\n",
    "#as.data.frame(table(new_labs$visit_occurrence_concept_name)) %>% arrange(-Freq)\n",
    "#new_labs <- labs %>%\n",
    "#    filter(unit_concept_name == \"milligram per deciliter\")\n",
    "#length(unique(new_labs$person_id))\n",
    "\n"
   ]
  },
  {
   "cell_type": "code",
   "execution_count": null,
   "metadata": {
    "vscode": {
     "languageId": "r"
    }
   },
   "outputs": [],
   "source": [
    "keep_outliers = FALSE\n",
    "\n",
    "# Do all the filtering specified at the top of the file\n",
    "labs_formatted <- labs %>%\n",
    "    filter(!grepl(\"Emergency\", visit_occurrence_concept_name) & \n",
    "           !grepl(\"Intensive\", visit_occurrence_concept_name) &\n",
    "           !grepl(\"Urgent\", visit_occurrence_concept_name)) %>%\n",
    "    filter(unit_concept_name != \"gram per deciliter\" &\n",
    "           unit_concept_name != \"milligram per liter\" &\n",
    "           unit_concept_name != \"milliliter\") %>%\n",
    "    filter(value_as_number >= 0) %>%\n",
    "    select(person_id, measurement_datetime, value_as_number) %>%\n",
    "    mutate_at(c('person_id'), as.character) %>%\n",
    "    mutate(across(where(is.character), ~na_if(., \"NULL\"))) %>%\n",
    "    na.omit() %>%\n",
    "    distinct() %>%\n",
    "    group_by(person_id) %>%\n",
    "    filter(value_as_number < (10 * median(value_as_number))) %>%\n",
    "    ungroup() %>%\n",
    "    filter(keep_outliers | value_as_number >= mean(value_as_number) - (4 * sd(value_as_number))) %>%\n",
    "    filter(keep_outliers | value_as_number <= mean(value_as_number) + (4 * sd(value_as_number))) \n",
    "\n",
    "dim(labs_formatted)\n",
    "head(labs_formatted, 5)\n"
   ]
  },
  {
   "cell_type": "code",
   "execution_count": null,
   "metadata": {
    "vscode": {
     "languageId": "r"
    }
   },
   "outputs": [],
   "source": [
    "min(labs_formatted$value_as_number)\n",
    "median(labs_formatted$value_as_number)\n",
    "mean(labs_formatted$value_as_number)\n",
    "max(labs_formatted$value_as_number)\n",
    "sd(labs_formatted$value_as_number)\n"
   ]
  },
  {
   "cell_type": "code",
   "execution_count": null,
   "metadata": {
    "vscode": {
     "languageId": "r"
    }
   },
   "outputs": [],
   "source": [
    "write.table(labs_formatted, \n",
    "    file=paste0(data_path, \"/dataframes/blood/AllofUs_v8_labs-Chol-HDL_wout_outliers_long_012924.txt\"), \n",
    "    row.names=FALSE, quote=FALSE, sep=\"\\t\")\n"
   ]
  },
  {
   "cell_type": "markdown",
   "metadata": {},
   "source": [
    "# Chol-LDL"
   ]
  },
  {
   "cell_type": "markdown",
   "metadata": {},
   "source": [
    "## Extract pt Chol-LDL"
   ]
  },
  {
   "cell_type": "code",
   "execution_count": null,
   "metadata": {
    "vscode": {
     "languageId": "r"
    }
   },
   "outputs": [],
   "source": [
    "library(tidyverse)\n",
    "library(bigrquery)\n",
    "\n",
    "# This query represents dataset \"Pts with Chol-LDL\" for domain \"measurement\" and was generated for All of Us Controlled Tier Dataset v8\n",
    "dataset_60162566_measurement_sql <- paste(\"\n",
    "    SELECT\n",
    "        measurement.person_id,\n",
    "        measurement.measurement_concept_id,\n",
    "        m_standard_concept.concept_name as standard_concept_name,\n",
    "        m_standard_concept.concept_code as standard_concept_code,\n",
    "        m_standard_concept.vocabulary_id as standard_vocabulary,\n",
    "        measurement.measurement_datetime,\n",
    "        measurement.measurement_type_concept_id,\n",
    "        m_type.concept_name as measurement_type_concept_name,\n",
    "        measurement.operator_concept_id,\n",
    "        m_operator.concept_name as operator_concept_name,\n",
    "        measurement.value_as_number,\n",
    "        measurement.value_as_concept_id,\n",
    "        m_value.concept_name as value_as_concept_name,\n",
    "        measurement.unit_concept_id,\n",
    "        m_unit.concept_name as unit_concept_name,\n",
    "        measurement.range_low,\n",
    "        measurement.range_high,\n",
    "        measurement.visit_occurrence_id,\n",
    "        m_visit.concept_name as visit_occurrence_concept_name,\n",
    "        measurement.measurement_source_value,\n",
    "        measurement.measurement_source_concept_id,\n",
    "        m_source_concept.concept_name as source_concept_name,\n",
    "        m_source_concept.concept_code as source_concept_code,\n",
    "        m_source_concept.vocabulary_id as source_vocabulary,\n",
    "        measurement.unit_source_value,\n",
    "        measurement.value_source_value \n",
    "    FROM\n",
    "        ( SELECT\n",
    "            * \n",
    "        FROM\n",
    "            `measurement` measurement \n",
    "        WHERE\n",
    "            (\n",
    "                measurement_concept_id IN  (\n",
    "                    SELECT\n",
    "                        DISTINCT c.concept_id \n",
    "                    FROM\n",
    "                        `cb_criteria` c \n",
    "                    JOIN\n",
    "                        (\n",
    "                            select\n",
    "                                cast(cr.id as string) as id \n",
    "                            FROM\n",
    "                                `cb_criteria` cr \n",
    "                            WHERE\n",
    "                                concept_id IN (\n",
    "                                    3009966, 3028288, 3028437, 3053341\n",
    "                                ) \n",
    "                                AND full_text LIKE '%_rank1]%'\n",
    "                        ) a \n",
    "                            ON (\n",
    "                                c.path LIKE CONCAT('%.',\n",
    "                            a.id,\n",
    "                            '.%') \n",
    "                            OR c.path LIKE CONCAT('%.',\n",
    "                            a.id) \n",
    "                            OR c.path LIKE CONCAT(a.id,\n",
    "                            '.%') \n",
    "                            OR c.path = a.id) \n",
    "                        WHERE\n",
    "                            is_standard = 1 \n",
    "                            AND is_selectable = 1\n",
    "                        )\n",
    "                )  \n",
    "                AND (\n",
    "                    measurement.PERSON_ID IN (\n",
    "                        SELECT\n",
    "                            distinct person_id  \n",
    "                        FROM\n",
    "                            `cb_search_person` cb_search_person  \n",
    "                        WHERE\n",
    "                            cb_search_person.person_id IN (\n",
    "                                SELECT\n",
    "                                    criteria.person_id \n",
    "                                FROM\n",
    "                                    (SELECT\n",
    "                                        DISTINCT person_id,\n",
    "                                        entry_date,\n",
    "                                        concept_id \n",
    "                                    FROM\n",
    "                                        `cb_search_all_events` \n",
    "                                    WHERE\n",
    "                                        (\n",
    "                                            concept_id IN (3028288, 3028437, 3009966, 3053341) \n",
    "                                            AND is_standard = 1 \n",
    "                                        )) criteria ) \n",
    "                            )\n",
    "                        )\n",
    "                ) measurement \n",
    "            LEFT JOIN\n",
    "                `concept` m_standard_concept \n",
    "                    ON measurement.measurement_concept_id = m_standard_concept.concept_id \n",
    "            LEFT JOIN\n",
    "                `concept` m_type \n",
    "                    ON measurement.measurement_type_concept_id = m_type.concept_id \n",
    "            LEFT JOIN\n",
    "                `concept` m_operator \n",
    "                    ON measurement.operator_concept_id = m_operator.concept_id \n",
    "            LEFT JOIN\n",
    "                `concept` m_value \n",
    "                    ON measurement.value_as_concept_id = m_value.concept_id \n",
    "            LEFT JOIN\n",
    "                `concept` m_unit \n",
    "                    ON measurement.unit_concept_id = m_unit.concept_id \n",
    "            LEFT JOIn\n",
    "                `visit_occurrence` v \n",
    "                    ON measurement.visit_occurrence_id = v.visit_occurrence_id \n",
    "            LEFT JOIN\n",
    "                `concept` m_visit \n",
    "                    ON v.visit_concept_id = m_visit.concept_id \n",
    "            LEFT JOIN\n",
    "                `concept` m_source_concept \n",
    "                    ON measurement.measurement_source_concept_id = m_source_concept.concept_id\", sep=\"\")\n",
    "\n",
    "# Formulate a Cloud Storage destination path for the data exported from BigQuery.\n",
    "# NOTE: By default data exported multiple times on the same day will overwrite older copies.\n",
    "#       But data exported on a different days will write to a new location so that historical\n",
    "#       copies can be kept as the dataset definition is changed.\n",
    "measurement_60162566_path <- file.path(\n",
    "  Sys.getenv(\"WORKSPACE_BUCKET\"),\n",
    "  \"bq_exports\",\n",
    "  Sys.getenv(\"OWNER_EMAIL\"),\n",
    "  strftime(lubridate::now(), \"%Y%m%d\"),  # Comment out this line if you want the export to always overwrite.\n",
    "  \"measurement_60162566\",\n",
    "  \"measurement_60162566_*.csv\")\n",
    "message(str_glue('The data will be written to {measurement_60162566_path}. Use this path when reading ',\n",
    "                 'the data into your notebooks in the future.'))\n",
    "\n",
    "# Perform the query and export the dataset to Cloud Storage as CSV files.\n",
    "# NOTE: You only need to run `bq_table_save` once. After that, you can\n",
    "#       just read data from the CSVs in Cloud Storage.\n",
    "bq_table_save(\n",
    "  bq_dataset_query(Sys.getenv(\"WORKSPACE_CDR\"), dataset_60162566_measurement_sql, billing = Sys.getenv(\"GOOGLE_PROJECT\")),\n",
    "  measurement_60162566_path,\n",
    "  destination_format = \"CSV\")\n",
    "\n"
   ]
  },
  {
   "cell_type": "code",
   "execution_count": null,
   "metadata": {
    "vscode": {
     "languageId": "r"
    }
   },
   "outputs": [],
   "source": [
    "# Read the data directly from Cloud Storage into memory.\n",
    "# NOTE: Alternatively you can `gsutil -m cp {measurement_60162566_path}` to copy these files\n",
    "#       to the Jupyter disk.\n",
    "read_bq_export_from_workspace_bucket <- function(export_path) {\n",
    "  col_types <- cols(standard_concept_name = col_character(), standard_concept_code = col_character(), standard_vocabulary = col_character(), measurement_type_concept_name = col_character(), operator_concept_name = col_character(), value_as_concept_name = col_character(), unit_concept_name = col_character(), visit_occurrence_concept_name = col_character(), measurement_source_value = col_character(), source_concept_name = col_character(), source_concept_code = col_character(), source_vocabulary = col_character(), unit_source_value = col_character(), value_source_value = col_character())\n",
    "  bind_rows(\n",
    "    map(system2('gsutil', args = c('ls', export_path), stdout = TRUE, stderr = TRUE),\n",
    "        function(csv) {\n",
    "          message(str_glue('Loading {csv}.'))\n",
    "          chunk <- read_csv(pipe(str_glue('gsutil cat {csv}')), col_types = col_types, show_col_types = FALSE)\n",
    "          if (is.null(col_types)) {\n",
    "            col_types <- spec(chunk)\n",
    "          }\n",
    "          chunk\n",
    "        }))\n",
    "}\n",
    "#measurement_60162566_path <- \"gs://fc-secure-b96fb036-3379-4be0-8834-e7e486f2b76e/bq_exports/davidz1@researchallofus.org/20240129/measurement_60162566/measurement_60162566_*.csv\"\n",
    "dataset_60162566_measurement_df <- read_bq_export_from_workspace_bucket(measurement_60162566_path)\n",
    "\n",
    "dim(dataset_60162566_measurement_df)\n",
    "\n",
    "head(dataset_60162566_measurement_df, 5)"
   ]
  },
  {
   "cell_type": "markdown",
   "metadata": {},
   "source": [
    "## Process pt Chol-LDL"
   ]
  },
  {
   "cell_type": "code",
   "execution_count": null,
   "metadata": {
    "vscode": {
     "languageId": "r"
    }
   },
   "outputs": [],
   "source": [
    "# Chol-LDL\n",
    "labs <- dataset_60162566_measurement_df\n",
    "colnames(labs)\n",
    "length(unique(labs$person_id))\n",
    "\n",
    "#as.data.frame(table(labs$visit_occurrence_concept_name)) %>% arrange(-Freq)\n",
    "as.data.frame(table(labs$unit_concept_name)) %>% arrange(-Freq)\n",
    "median(labs$value_as_number[labs$unit_concept_name == 'nanomole per liter'], na.rm=T)\n",
    "\n",
    "#median(labs$value_as_number, na.rm=T)\n",
    "\n",
    "#new_labs <- labs %>%\n",
    "#    filter(!grepl(\"Emergency\", visit_occurrence_concept_name) & !grepl(\"Intensive\", visit_occurrence_concept_name) &\n",
    "#          !grepl(\"Urgent\", visit_occurrence_concept_name))\n",
    "\n",
    "#as.data.frame(table(new_labs$visit_occurrence_concept_name)) %>% arrange(-Freq)\n",
    "#new_labs <- labs %>%\n",
    "#    filter(unit_concept_name == \"milligram per deciliter\")\n",
    "#length(unique(new_labs$person_id))\n",
    "\n"
   ]
  },
  {
   "cell_type": "code",
   "execution_count": null,
   "metadata": {
    "vscode": {
     "languageId": "r"
    }
   },
   "outputs": [],
   "source": [
    "keep_outliers = FALSE\n",
    "\n",
    "# Do all the filtering specified at the top of the file\n",
    "labs_formatted <- labs %>%\n",
    "    filter(!grepl(\"Emergency\", visit_occurrence_concept_name) & \n",
    "           !grepl(\"Intensive\", visit_occurrence_concept_name) &\n",
    "           !grepl(\"Urgent\", visit_occurrence_concept_name)) %>%\n",
    "    filter(unit_concept_name != \"nanomole per liter\" &\n",
    "           unit_concept_name != \"nanometer\" &\n",
    "           unit_concept_name != \"gram per deciliter\" &\n",
    "           unit_concept_name != \"international unit per liter\" &\n",
    "           unit_concept_name != \"microgram per liter\" &\n",
    "           unit_concept_name != \"milligram per 24 hours\" &\n",
    "           unit_concept_name != \"unit per liter\") %>%\n",
    "    filter(value_as_number >= 0) %>%\n",
    "    select(person_id, measurement_datetime, value_as_number) %>%\n",
    "    mutate_at(c('person_id'), as.character) %>%\n",
    "    mutate(across(where(is.character), ~na_if(., \"NULL\"))) %>%\n",
    "    na.omit() %>%\n",
    "    distinct() %>%\n",
    "    group_by(person_id) %>%\n",
    "    filter(value_as_number < (10 * median(value_as_number))) %>%\n",
    "    ungroup() %>%\n",
    "    filter(keep_outliers | value_as_number >= mean(value_as_number) - (4 * sd(value_as_number))) %>%\n",
    "    filter(keep_outliers | value_as_number <= mean(value_as_number) + (4 * sd(value_as_number))) \n",
    "\n",
    "dim(labs_formatted)\n",
    "head(labs_formatted, 5)\n"
   ]
  },
  {
   "cell_type": "code",
   "execution_count": null,
   "metadata": {
    "vscode": {
     "languageId": "r"
    }
   },
   "outputs": [],
   "source": [
    "min(labs_formatted$value_as_number)\n",
    "median(labs_formatted$value_as_number)\n",
    "mean(labs_formatted$value_as_number)\n",
    "max(labs_formatted$value_as_number)\n",
    "sd(labs_formatted$value_as_number)\n"
   ]
  },
  {
   "cell_type": "code",
   "execution_count": null,
   "metadata": {
    "vscode": {
     "languageId": "r"
    }
   },
   "outputs": [],
   "source": [
    "write.table(labs_formatted, \n",
    "    file=paste0(data_path, \"/dataframes/blood/AllofUs_v8_labs-Chol-LDL_wout_outliers_long_012924.txt\"), \n",
    "    row.names=FALSE, quote=FALSE, sep=\"\\t\")\n"
   ]
  },
  {
   "cell_type": "markdown",
   "metadata": {},
   "source": [
    "# Chol-Total"
   ]
  },
  {
   "cell_type": "markdown",
   "metadata": {},
   "source": [
    "## Extract pt Chol-Total"
   ]
  },
  {
   "cell_type": "code",
   "execution_count": null,
   "metadata": {
    "vscode": {
     "languageId": "r"
    }
   },
   "outputs": [],
   "source": [
    "library(tidyverse)\n",
    "library(bigrquery)\n",
    "\n",
    "# This query represents dataset \"Pts with Chol-Total\" for domain \"measurement\" and was generated for All of Us Controlled Tier Dataset v8\n",
    "dataset_04523275_measurement_sql <- paste(\"\n",
    "    SELECT\n",
    "        measurement.person_id,\n",
    "        measurement.measurement_concept_id,\n",
    "        m_standard_concept.concept_name as standard_concept_name,\n",
    "        m_standard_concept.concept_code as standard_concept_code,\n",
    "        m_standard_concept.vocabulary_id as standard_vocabulary,\n",
    "        measurement.measurement_datetime,\n",
    "        measurement.measurement_type_concept_id,\n",
    "        m_type.concept_name as measurement_type_concept_name,\n",
    "        measurement.operator_concept_id,\n",
    "        m_operator.concept_name as operator_concept_name,\n",
    "        measurement.value_as_number,\n",
    "        measurement.value_as_concept_id,\n",
    "        m_value.concept_name as value_as_concept_name,\n",
    "        measurement.unit_concept_id,\n",
    "        m_unit.concept_name as unit_concept_name,\n",
    "        measurement.range_low,\n",
    "        measurement.range_high,\n",
    "        measurement.visit_occurrence_id,\n",
    "        m_visit.concept_name as visit_occurrence_concept_name,\n",
    "        measurement.measurement_source_value,\n",
    "        measurement.measurement_source_concept_id,\n",
    "        m_source_concept.concept_name as source_concept_name,\n",
    "        m_source_concept.concept_code as source_concept_code,\n",
    "        m_source_concept.vocabulary_id as source_vocabulary,\n",
    "        measurement.unit_source_value,\n",
    "        measurement.value_source_value \n",
    "    FROM\n",
    "        ( SELECT\n",
    "            * \n",
    "        FROM\n",
    "            `measurement` measurement \n",
    "        WHERE\n",
    "            (\n",
    "                measurement_concept_id IN  (\n",
    "                    SELECT\n",
    "                        DISTINCT c.concept_id \n",
    "                    FROM\n",
    "                        `cb_criteria` c \n",
    "                    JOIN\n",
    "                        (\n",
    "                            select\n",
    "                                cast(cr.id as string) as id \n",
    "                            FROM\n",
    "                                `cb_criteria` cr \n",
    "                            WHERE\n",
    "                                concept_id IN (\n",
    "                                    3027114\n",
    "                                ) \n",
    "                                AND full_text LIKE '%_rank1]%'\n",
    "                        ) a \n",
    "                            ON (\n",
    "                                c.path LIKE CONCAT('%.',\n",
    "                            a.id,\n",
    "                            '.%') \n",
    "                            OR c.path LIKE CONCAT('%.',\n",
    "                            a.id) \n",
    "                            OR c.path LIKE CONCAT(a.id,\n",
    "                            '.%') \n",
    "                            OR c.path = a.id) \n",
    "                        WHERE\n",
    "                            is_standard = 1 \n",
    "                            AND is_selectable = 1\n",
    "                        )\n",
    "                )  \n",
    "                AND (\n",
    "                    measurement.PERSON_ID IN (\n",
    "                        SELECT\n",
    "                            distinct person_id  \n",
    "                        FROM\n",
    "                            `cb_search_person` cb_search_person  \n",
    "                        WHERE\n",
    "                            cb_search_person.person_id IN (\n",
    "                                SELECT\n",
    "                                    criteria.person_id \n",
    "                                FROM\n",
    "                                    (SELECT\n",
    "                                        DISTINCT person_id,\n",
    "                                        entry_date,\n",
    "                                        concept_id \n",
    "                                    FROM\n",
    "                                        `cb_search_all_events` \n",
    "                                    WHERE\n",
    "                                        (\n",
    "                                            concept_id IN (3027114) \n",
    "                                            AND is_standard = 1 \n",
    "                                        )) criteria ) \n",
    "                            )\n",
    "                        )\n",
    "                ) measurement \n",
    "            LEFT JOIN\n",
    "                `concept` m_standard_concept \n",
    "                    ON measurement.measurement_concept_id = m_standard_concept.concept_id \n",
    "            LEFT JOIN\n",
    "                `concept` m_type \n",
    "                    ON measurement.measurement_type_concept_id = m_type.concept_id \n",
    "            LEFT JOIN\n",
    "                `concept` m_operator \n",
    "                    ON measurement.operator_concept_id = m_operator.concept_id \n",
    "            LEFT JOIN\n",
    "                `concept` m_value \n",
    "                    ON measurement.value_as_concept_id = m_value.concept_id \n",
    "            LEFT JOIN\n",
    "                `concept` m_unit \n",
    "                    ON measurement.unit_concept_id = m_unit.concept_id \n",
    "            LEFT JOIn\n",
    "                `visit_occurrence` v \n",
    "                    ON measurement.visit_occurrence_id = v.visit_occurrence_id \n",
    "            LEFT JOIN\n",
    "                `concept` m_visit \n",
    "                    ON v.visit_concept_id = m_visit.concept_id \n",
    "            LEFT JOIN\n",
    "                `concept` m_source_concept \n",
    "                    ON measurement.measurement_source_concept_id = m_source_concept.concept_id\", sep=\"\")\n",
    "\n",
    "# Formulate a Cloud Storage destination path for the data exported from BigQuery.\n",
    "# NOTE: By default data exported multiple times on the same day will overwrite older copies.\n",
    "#       But data exported on a different days will write to a new location so that historical\n",
    "#       copies can be kept as the dataset definition is changed.\n",
    "measurement_04523275_path <- file.path(\n",
    "  Sys.getenv(\"WORKSPACE_BUCKET\"),\n",
    "  \"bq_exports\",\n",
    "  Sys.getenv(\"OWNER_EMAIL\"),\n",
    "  strftime(lubridate::now(), \"%Y%m%d\"),  # Comment out this line if you want the export to always overwrite.\n",
    "  \"measurement_04523275\",\n",
    "  \"measurement_04523275_*.csv\")\n",
    "message(str_glue('The data will be written to {measurement_04523275_path}. Use this path when reading ',\n",
    "                 'the data into your notebooks in the future.'))\n",
    "\n",
    "# Perform the query and export the dataset to Cloud Storage as CSV files.\n",
    "# NOTE: You only need to run `bq_table_save` once. After that, you can\n",
    "#       just read data from the CSVs in Cloud Storage.\n",
    "bq_table_save(\n",
    "  bq_dataset_query(Sys.getenv(\"WORKSPACE_CDR\"), dataset_04523275_measurement_sql, billing = Sys.getenv(\"GOOGLE_PROJECT\")),\n",
    "  measurement_04523275_path,\n",
    "  destination_format = \"CSV\")\n",
    "\n"
   ]
  },
  {
   "cell_type": "code",
   "execution_count": null,
   "metadata": {
    "vscode": {
     "languageId": "r"
    }
   },
   "outputs": [],
   "source": [
    "# Read the data directly from Cloud Storage into memory.\n",
    "# NOTE: Alternatively you can `gsutil -m cp {measurement_04523275_path}` to copy these files\n",
    "#       to the Jupyter disk.\n",
    "read_bq_export_from_workspace_bucket <- function(export_path) {\n",
    "  col_types <- cols(standard_concept_name = col_character(), standard_concept_code = col_character(), standard_vocabulary = col_character(), measurement_type_concept_name = col_character(), operator_concept_name = col_character(), value_as_concept_name = col_character(), unit_concept_name = col_character(), visit_occurrence_concept_name = col_character(), measurement_source_value = col_character(), source_concept_name = col_character(), source_concept_code = col_character(), source_vocabulary = col_character(), unit_source_value = col_character(), value_source_value = col_character())\n",
    "  bind_rows(\n",
    "    map(system2('gsutil', args = c('ls', export_path), stdout = TRUE, stderr = TRUE),\n",
    "        function(csv) {\n",
    "          message(str_glue('Loading {csv}.'))\n",
    "          chunk <- read_csv(pipe(str_glue('gsutil cat {csv}')), col_types = col_types, show_col_types = FALSE)\n",
    "          if (is.null(col_types)) {\n",
    "            col_types <- spec(chunk)\n",
    "          }\n",
    "          chunk\n",
    "        }))\n",
    "}\n",
    "#measurement_04523275_path <- \"gs://fc-secure-b96fb036-3379-4be0-8834-e7e486f2b76e/bq_exports/davidz1@researchallofus.org/20240129/measurement_04523275/measurement_04523275_*.csv\"\n",
    "dataset_04523275_measurement_df <- read_bq_export_from_workspace_bucket(measurement_04523275_path)\n",
    "\n",
    "dim(dataset_04523275_measurement_df)\n",
    "\n",
    "head(dataset_04523275_measurement_df, 5)"
   ]
  },
  {
   "cell_type": "markdown",
   "metadata": {},
   "source": [
    "## Process pt Chol-Total"
   ]
  },
  {
   "cell_type": "code",
   "execution_count": null,
   "metadata": {
    "vscode": {
     "languageId": "r"
    }
   },
   "outputs": [],
   "source": [
    "# Chol-Total\n",
    "labs <- dataset_04523275_measurement_df\n",
    "colnames(labs)\n",
    "length(unique(labs$person_id))\n",
    "\n",
    "#as.data.frame(table(labs$visit_occurrence_concept_name)) %>% arrange(-Freq)\n",
    "as.data.frame(table(labs$unit_concept_name)) %>% arrange(-Freq)\n",
    "max(labs$value_as_number[labs$unit_concept_name == 'milligram per deciliter'], na.rm=T)\n",
    "\n",
    "#median(labs$value_as_number, na.rm=T)\n",
    "\n",
    "#new_labs <- labs %>%\n",
    "#    filter(!grepl(\"Emergency\", visit_occurrence_concept_name) & !grepl(\"Intensive\", visit_occurrence_concept_name) &\n",
    "#          !grepl(\"Urgent\", visit_occurrence_concept_name))\n",
    "\n",
    "#as.data.frame(table(new_labs$visit_occurrence_concept_name)) %>% arrange(-Freq)\n",
    "#new_labs <- labs %>%\n",
    "#    filter(unit_concept_name == \"milligram per deciliter\")\n",
    "#length(unique(new_labs$person_id))\n",
    "\n"
   ]
  },
  {
   "cell_type": "code",
   "execution_count": null,
   "metadata": {
    "vscode": {
     "languageId": "r"
    }
   },
   "outputs": [],
   "source": [
    "keep_outliers = FALSE\n",
    "\n",
    "# Do all the filtering specified at the top of the file\n",
    "labs_formatted <- labs %>%\n",
    "    filter(!grepl(\"Emergency\", visit_occurrence_concept_name) & \n",
    "           !grepl(\"Intensive\", visit_occurrence_concept_name) &\n",
    "           !grepl(\"Urgent\", visit_occurrence_concept_name)) %>%\n",
    "    filter(unit_concept_name != \"millimole per liter\" &\n",
    "           unit_concept_name != \"milligram per 24 hours\" &\n",
    "           unit_concept_name != \"unit\") %>%\n",
    "    filter(value_as_number >= 0) %>%\n",
    "    select(person_id, measurement_datetime, value_as_number) %>%\n",
    "    mutate_at(c('person_id'), as.character) %>%\n",
    "    mutate(across(where(is.character), ~na_if(., \"NULL\"))) %>%\n",
    "    na.omit() %>%\n",
    "    distinct() %>%\n",
    "    group_by(person_id) %>%\n",
    "    filter(value_as_number < (10 * median(value_as_number))) %>%\n",
    "    ungroup() %>%\n",
    "    filter(keep_outliers | value_as_number >= mean(value_as_number) - (4 * sd(value_as_number))) %>%\n",
    "    filter(keep_outliers | value_as_number <= mean(value_as_number) + (4 * sd(value_as_number))) \n",
    "\n",
    "dim(labs_formatted)\n",
    "head(labs_formatted, 5)\n"
   ]
  },
  {
   "cell_type": "code",
   "execution_count": null,
   "metadata": {
    "vscode": {
     "languageId": "r"
    }
   },
   "outputs": [],
   "source": [
    "min(labs_formatted$value_as_number)\n",
    "median(labs_formatted$value_as_number)\n",
    "mean(labs_formatted$value_as_number)\n",
    "max(labs_formatted$value_as_number)\n",
    "sd(labs_formatted$value_as_number)\n"
   ]
  },
  {
   "cell_type": "code",
   "execution_count": null,
   "metadata": {
    "vscode": {
     "languageId": "r"
    }
   },
   "outputs": [],
   "source": [
    "write.table(labs_formatted, \n",
    "    file=paste0(data_path, \"/dataframes/blood/AllofUs_v8_labs-Chol-Total_wout_outliers_long_012924.txt\"), \n",
    "    row.names=FALSE, quote=FALSE, sep=\"\\t\")\n"
   ]
  },
  {
   "cell_type": "markdown",
   "metadata": {},
   "source": [
    "# BMI"
   ]
  },
  {
   "cell_type": "markdown",
   "metadata": {},
   "source": [
    "## Extract pt BMI"
   ]
  },
  {
   "cell_type": "code",
   "execution_count": null,
   "metadata": {
    "vscode": {
     "languageId": "r"
    }
   },
   "outputs": [],
   "source": [
    "library(tidyverse)\n",
    "library(bigrquery)\n",
    "\n",
    "# This query represents dataset \"Pts with BMI\" for domain \"measurement\" and was generated for All of Us Controlled Tier Dataset v8\n",
    "dataset_42695967_measurement_sql <- paste(\"\n",
    "    SELECT\n",
    "        measurement.person_id,\n",
    "        measurement.measurement_concept_id,\n",
    "        m_standard_concept.concept_name as standard_concept_name,\n",
    "        m_standard_concept.concept_code as standard_concept_code,\n",
    "        m_standard_concept.vocabulary_id as standard_vocabulary,\n",
    "        measurement.measurement_datetime,\n",
    "        measurement.measurement_type_concept_id,\n",
    "        m_type.concept_name as measurement_type_concept_name,\n",
    "        measurement.operator_concept_id,\n",
    "        m_operator.concept_name as operator_concept_name,\n",
    "        measurement.value_as_number,\n",
    "        measurement.value_as_concept_id,\n",
    "        m_value.concept_name as value_as_concept_name,\n",
    "        measurement.unit_concept_id,\n",
    "        m_unit.concept_name as unit_concept_name,\n",
    "        measurement.range_low,\n",
    "        measurement.range_high,\n",
    "        measurement.visit_occurrence_id,\n",
    "        m_visit.concept_name as visit_occurrence_concept_name,\n",
    "        measurement.measurement_source_value,\n",
    "        measurement.measurement_source_concept_id,\n",
    "        m_source_concept.concept_name as source_concept_name,\n",
    "        m_source_concept.concept_code as source_concept_code,\n",
    "        m_source_concept.vocabulary_id as source_vocabulary,\n",
    "        measurement.unit_source_value,\n",
    "        measurement.value_source_value \n",
    "    FROM\n",
    "        ( SELECT\n",
    "            * \n",
    "        FROM\n",
    "            `measurement` measurement \n",
    "        WHERE\n",
    "            (\n",
    "                measurement_concept_id IN  (\n",
    "                    SELECT\n",
    "                        DISTINCT c.concept_id \n",
    "                    FROM\n",
    "                        `cb_criteria` c \n",
    "                    JOIN\n",
    "                        (\n",
    "                            select\n",
    "                                cast(cr.id as string) as id \n",
    "                            FROM\n",
    "                                `cb_criteria` cr \n",
    "                            WHERE\n",
    "                                concept_id IN (\n",
    "                                    3038553\n",
    "                                ) \n",
    "                                AND full_text LIKE '%_rank1]%'\n",
    "                        ) a \n",
    "                            ON (\n",
    "                                c.path LIKE CONCAT('%.',\n",
    "                            a.id,\n",
    "                            '.%') \n",
    "                            OR c.path LIKE CONCAT('%.',\n",
    "                            a.id) \n",
    "                            OR c.path LIKE CONCAT(a.id,\n",
    "                            '.%') \n",
    "                            OR c.path = a.id) \n",
    "                        WHERE\n",
    "                            is_standard = 1 \n",
    "                            AND is_selectable = 1\n",
    "                        )\n",
    "                )  \n",
    "                AND (\n",
    "                    measurement.PERSON_ID IN (\n",
    "                        SELECT\n",
    "                            distinct person_id  \n",
    "                        FROM\n",
    "                            `cb_search_person` cb_search_person  \n",
    "                        WHERE\n",
    "                            cb_search_person.person_id IN (\n",
    "                                SELECT\n",
    "                                    criteria.person_id \n",
    "                                FROM\n",
    "                                    (SELECT\n",
    "                                        DISTINCT person_id,\n",
    "                                        entry_date,\n",
    "                                        concept_id \n",
    "                                    FROM\n",
    "                                        `cb_search_all_events` \n",
    "                                    WHERE\n",
    "                                        (\n",
    "                                            concept_id IN (3038553) \n",
    "                                            AND is_standard = 1 \n",
    "                                        )) criteria ) \n",
    "                            )\n",
    "                        )\n",
    "                ) measurement \n",
    "            LEFT JOIN\n",
    "                `concept` m_standard_concept \n",
    "                    ON measurement.measurement_concept_id = m_standard_concept.concept_id \n",
    "            LEFT JOIN\n",
    "                `concept` m_type \n",
    "                    ON measurement.measurement_type_concept_id = m_type.concept_id \n",
    "            LEFT JOIN\n",
    "                `concept` m_operator \n",
    "                    ON measurement.operator_concept_id = m_operator.concept_id \n",
    "            LEFT JOIN\n",
    "                `concept` m_value \n",
    "                    ON measurement.value_as_concept_id = m_value.concept_id \n",
    "            LEFT JOIN\n",
    "                `concept` m_unit \n",
    "                    ON measurement.unit_concept_id = m_unit.concept_id \n",
    "            LEFT JOIn\n",
    "                `visit_occurrence` v \n",
    "                    ON measurement.visit_occurrence_id = v.visit_occurrence_id \n",
    "            LEFT JOIN\n",
    "                `concept` m_visit \n",
    "                    ON v.visit_concept_id = m_visit.concept_id \n",
    "            LEFT JOIN\n",
    "                `concept` m_source_concept \n",
    "                    ON measurement.measurement_source_concept_id = m_source_concept.concept_id\", sep=\"\")\n",
    "\n",
    "# Formulate a Cloud Storage destination path for the data exported from BigQuery.\n",
    "# NOTE: By default data exported multiple times on the same day will overwrite older copies.\n",
    "#       But data exported on a different days will write to a new location so that historical\n",
    "#       copies can be kept as the dataset definition is changed.\n",
    "measurement_42695967_path <- file.path(\n",
    "  Sys.getenv(\"WORKSPACE_BUCKET\"),\n",
    "  \"bq_exports\",\n",
    "  Sys.getenv(\"OWNER_EMAIL\"),\n",
    "  strftime(lubridate::now(), \"%Y%m%d\"),  # Comment out this line if you want the export to always overwrite.\n",
    "  \"measurement_42695967\",\n",
    "  \"measurement_42695967_*.csv\")\n",
    "message(str_glue('The data will be written to {measurement_42695967_path}. Use this path when reading ',\n",
    "                 'the data into your notebooks in the future.'))\n",
    "\n",
    "# Perform the query and export the dataset to Cloud Storage as CSV files.\n",
    "# NOTE: You only need to run `bq_table_save` once. After that, you can\n",
    "#       just read data from the CSVs in Cloud Storage.\n",
    "bq_table_save(\n",
    "  bq_dataset_query(Sys.getenv(\"WORKSPACE_CDR\"), dataset_42695967_measurement_sql, billing = Sys.getenv(\"GOOGLE_PROJECT\")),\n",
    "  measurement_42695967_path,\n",
    "  destination_format = \"CSV\")\n",
    "\n"
   ]
  },
  {
   "cell_type": "code",
   "execution_count": null,
   "metadata": {
    "vscode": {
     "languageId": "r"
    }
   },
   "outputs": [],
   "source": [
    "# Read the data directly from Cloud Storage into memory.\n",
    "# NOTE: Alternatively you can `gsutil -m cp {measurement_42695967_path}` to copy these files\n",
    "#       to the Jupyter disk.\n",
    "read_bq_export_from_workspace_bucket <- function(export_path) {\n",
    "  col_types <- cols(standard_concept_name = col_character(), standard_concept_code = col_character(), standard_vocabulary = col_character(), measurement_type_concept_name = col_character(), operator_concept_name = col_character(), value_as_concept_name = col_character(), unit_concept_name = col_character(), visit_occurrence_concept_name = col_character(), measurement_source_value = col_character(), source_concept_name = col_character(), source_concept_code = col_character(), source_vocabulary = col_character(), unit_source_value = col_character(), value_source_value = col_character())\n",
    "  bind_rows(\n",
    "    map(system2('gsutil', args = c('ls', export_path), stdout = TRUE, stderr = TRUE),\n",
    "        function(csv) {\n",
    "          message(str_glue('Loading {csv}.'))\n",
    "          chunk <- read_csv(pipe(str_glue('gsutil cat {csv}')), col_types = col_types, show_col_types = FALSE)\n",
    "          if (is.null(col_types)) {\n",
    "            col_types <- spec(chunk)\n",
    "          }\n",
    "          chunk\n",
    "        }))\n",
    "}\n",
    "#measurement_42695967_path <- \"gs://fc-secure-b96fb036-3379-4be0-8834-e7e486f2b76e/bq_exports/davidz1@researchallofus.org/20240207/measurement_42695967/measurement_42695967_*.csv\"\n",
    "dataset_42695967_measurement_df <- read_bq_export_from_workspace_bucket(measurement_42695967_path)\n",
    "\n",
    "dim(dataset_42695967_measurement_df)\n",
    "\n",
    "head(dataset_42695967_measurement_df, 5)\n"
   ]
  },
  {
   "cell_type": "markdown",
   "metadata": {},
   "source": [
    "## Process pt BMI"
   ]
  },
  {
   "cell_type": "code",
   "execution_count": null,
   "metadata": {
    "vscode": {
     "languageId": "r"
    }
   },
   "outputs": [],
   "source": [
    "# BMI\n",
    "labs <- dataset_42695967_measurement_df\n",
    "colnames(labs)\n",
    "length(unique(labs$person_id))\n",
    "\n",
    "#as.data.frame(table(labs$visit_occurrence_concept_name)) %>% arrange(-Freq)\n",
    "as.data.frame(table(labs$unit_concept_name)) %>% arrange(-Freq)\n",
    "median(labs$value_as_number[labs$unit_concept_name == \"square meter\"], na.rm=T)\n",
    "\n",
    "#median(labs$value_as_number, na.rm=T)\n",
    "\n",
    "#new_labs <- labs %>%\n",
    "#    filter(!grepl(\"Emergency\", visit_occurrence_concept_name) & !grepl(\"Intensive\", visit_occurrence_concept_name) &\n",
    "#          !grepl(\"Urgent\", visit_occurrence_concept_name))\n",
    "\n",
    "#as.data.frame(table(new_labs$visit_occurrence_concept_name)) %>% arrange(-Freq)\n",
    "new_labs <- labs %>%\n",
    "    filter(unit_concept_name == \"square meter\")\n",
    "length(unique(new_labs$person_id))\n"
   ]
  },
  {
   "cell_type": "code",
   "execution_count": null,
   "metadata": {
    "vscode": {
     "languageId": "r"
    }
   },
   "outputs": [],
   "source": [
    "keep_outliers = FALSE\n",
    "\n",
    "# Do all the filtering specified at the top of the file\n",
    "labs_formatted <- labs %>%\n",
    "    filter(!grepl(\"Emergency\", visit_occurrence_concept_name) & \n",
    "           !grepl(\"Intensive\", visit_occurrence_concept_name) &\n",
    "           !grepl(\"Urgent\", visit_occurrence_concept_name)) %>%\n",
    "    filter(unit_concept_name != \"link for Gunter's chain (US)\" &\n",
    "           unit_concept_name != \"ratio\") %>%\n",
    "    filter(value_as_number > 0) %>%\n",
    "    select(person_id, measurement_datetime, value_as_number) %>%\n",
    "    mutate_at(c('person_id'), as.character) %>%\n",
    "    mutate(across(where(is.character), ~na_if(., \"NULL\"))) %>%\n",
    "    na.omit() %>%\n",
    "    distinct() %>%\n",
    "    group_by(person_id) %>%\n",
    "    filter(value_as_number < (10 * median(value_as_number))) %>%\n",
    "    ungroup() %>%\n",
    "    filter(keep_outliers | value_as_number >= mean(value_as_number) - (4 * sd(value_as_number))) %>%\n",
    "    filter(keep_outliers | value_as_number <= mean(value_as_number) + (4 * sd(value_as_number))) \n",
    "\n",
    "dim(labs_formatted)\n",
    "head(labs_formatted, 5)\n"
   ]
  },
  {
   "cell_type": "code",
   "execution_count": null,
   "metadata": {
    "vscode": {
     "languageId": "r"
    }
   },
   "outputs": [],
   "source": [
    "min(labs_formatted$value_as_number)\n",
    "median(labs_formatted$value_as_number)\n",
    "mean(labs_formatted$value_as_number)\n",
    "max(labs_formatted$value_as_number)\n",
    "sd(labs_formatted$value_as_number)\n"
   ]
  },
  {
   "cell_type": "code",
   "execution_count": null,
   "metadata": {
    "vscode": {
     "languageId": "r"
    }
   },
   "outputs": [],
   "source": [
    "write.table(labs_formatted, \n",
    "    file=paste0(data_path, \"/dataframes/AllofUs_v8_vitals-BMI_wout_outliers_long_020724.txt\"), \n",
    "    row.names=FALSE, quote=FALSE, sep=\"\\t\")\n"
   ]
  },
  {
   "cell_type": "markdown",
   "metadata": {},
   "source": [
    "# Basophils"
   ]
  },
  {
   "cell_type": "markdown",
   "metadata": {},
   "source": [
    "## Extract basophil counts/percentages"
   ]
  },
  {
   "cell_type": "code",
   "execution_count": null,
   "metadata": {
    "vscode": {
     "languageId": "r"
    }
   },
   "outputs": [],
   "source": [
    "library(tidyverse)\n",
    "library(bigrquery)\n",
    "\n",
    "# This query represents dataset \"Pts with Basophils\" for domain \"measurement\" and was generated for All of Us Controlled Tier Dataset v8\n",
    "dataset_42532320_measurement_sql <- paste(\"\n",
    "    SELECT\n",
    "        measurement.person_id,\n",
    "        measurement.measurement_concept_id,\n",
    "        m_standard_concept.concept_name as standard_concept_name,\n",
    "        m_standard_concept.concept_code as standard_concept_code,\n",
    "        m_standard_concept.vocabulary_id as standard_vocabulary,\n",
    "        measurement.measurement_datetime,\n",
    "        measurement.measurement_type_concept_id,\n",
    "        m_type.concept_name as measurement_type_concept_name,\n",
    "        measurement.operator_concept_id,\n",
    "        m_operator.concept_name as operator_concept_name,\n",
    "        measurement.value_as_number,\n",
    "        measurement.value_as_concept_id,\n",
    "        m_value.concept_name as value_as_concept_name,\n",
    "        measurement.unit_concept_id,\n",
    "        m_unit.concept_name as unit_concept_name,\n",
    "        measurement.range_low,\n",
    "        measurement.range_high,\n",
    "        measurement.visit_occurrence_id,\n",
    "        m_visit.concept_name as visit_occurrence_concept_name,\n",
    "        measurement.measurement_source_value,\n",
    "        measurement.measurement_source_concept_id,\n",
    "        m_source_concept.concept_name as source_concept_name,\n",
    "        m_source_concept.concept_code as source_concept_code,\n",
    "        m_source_concept.vocabulary_id as source_vocabulary,\n",
    "        measurement.unit_source_value,\n",
    "        measurement.value_source_value \n",
    "    FROM\n",
    "        ( SELECT\n",
    "            * \n",
    "        FROM\n",
    "            `measurement` measurement \n",
    "        WHERE\n",
    "            (\n",
    "                measurement_concept_id IN (SELECT\n",
    "                    DISTINCT c.concept_id \n",
    "                FROM\n",
    "                    `cb_criteria` c \n",
    "                JOIN\n",
    "                    (SELECT\n",
    "                        CAST(cr.id as string) AS id       \n",
    "                    FROM\n",
    "                        `cb_criteria` cr       \n",
    "                    WHERE\n",
    "                        concept_id IN (37042222, 37070839)       \n",
    "                        AND full_text LIKE '%_rank1]%'      ) a \n",
    "                        ON (c.path LIKE CONCAT('%.', a.id, '.%') \n",
    "                        OR c.path LIKE CONCAT('%.', a.id) \n",
    "                        OR c.path LIKE CONCAT(a.id, '.%') \n",
    "                        OR c.path = a.id) \n",
    "                WHERE\n",
    "                    is_standard = 1 \n",
    "                    AND is_selectable = 1)\n",
    "            )  \n",
    "            AND (\n",
    "                measurement.PERSON_ID IN (SELECT\n",
    "                    distinct person_id  \n",
    "                FROM\n",
    "                    `cb_search_person` cb_search_person  \n",
    "                WHERE\n",
    "                    cb_search_person.person_id IN (SELECT\n",
    "                        criteria.person_id \n",
    "                    FROM\n",
    "                        (SELECT\n",
    "                            DISTINCT person_id, entry_date, concept_id \n",
    "                        FROM\n",
    "                            `cb_search_all_events` \n",
    "                        WHERE\n",
    "                            (concept_id IN(SELECT\n",
    "                                DISTINCT c.concept_id \n",
    "                            FROM\n",
    "                                `cb_criteria` c \n",
    "                            JOIN\n",
    "                                (SELECT\n",
    "                                    CAST(cr.id as string) AS id       \n",
    "                                FROM\n",
    "                                    `cb_criteria` cr       \n",
    "                                WHERE\n",
    "                                    concept_id IN (37070839, 37042222)       \n",
    "                                    AND full_text LIKE '%_rank1]%'      ) a \n",
    "                                    ON (c.path LIKE CONCAT('%.', a.id, '.%') \n",
    "                                    OR c.path LIKE CONCAT('%.', a.id) \n",
    "                                    OR c.path LIKE CONCAT(a.id, '.%') \n",
    "                                    OR c.path = a.id) \n",
    "                            WHERE\n",
    "                                is_standard = 1 \n",
    "                                AND is_selectable = 1) \n",
    "                            AND is_standard = 1 )) criteria ) )\n",
    "            )) measurement \n",
    "    LEFT JOIN\n",
    "        `concept` m_standard_concept \n",
    "            ON measurement.measurement_concept_id = m_standard_concept.concept_id \n",
    "    LEFT JOIN\n",
    "        `concept` m_type \n",
    "            ON measurement.measurement_type_concept_id = m_type.concept_id \n",
    "    LEFT JOIN\n",
    "        `concept` m_operator \n",
    "            ON measurement.operator_concept_id = m_operator.concept_id \n",
    "    LEFT JOIN\n",
    "        `concept` m_value \n",
    "            ON measurement.value_as_concept_id = m_value.concept_id \n",
    "    LEFT JOIN\n",
    "        `concept` m_unit \n",
    "            ON measurement.unit_concept_id = m_unit.concept_id \n",
    "    LEFT JOIn\n",
    "        `visit_occurrence` v \n",
    "            ON measurement.visit_occurrence_id = v.visit_occurrence_id \n",
    "    LEFT JOIN\n",
    "        `concept` m_visit \n",
    "            ON v.visit_concept_id = m_visit.concept_id \n",
    "    LEFT JOIN\n",
    "        `concept` m_source_concept \n",
    "            ON measurement.measurement_source_concept_id = m_source_concept.concept_id\", sep=\"\")\n",
    "\n",
    "# Formulate a Cloud Storage destination path for the data exported from BigQuery.\n",
    "# NOTE: By default data exported multiple times on the same day will overwrite older copies.\n",
    "#       But data exported on a different days will write to a new location so that historical\n",
    "#       copies can be kept as the dataset definition is changed.\n",
    "measurement_42532320_path <- file.path(\n",
    "  Sys.getenv(\"WORKSPACE_BUCKET\"),\n",
    "  \"bq_exports\",\n",
    "  Sys.getenv(\"OWNER_EMAIL\"),\n",
    "  strftime(lubridate::now(), \"%Y%m%d\"),  # Comment out this line if you want the export to always overwrite.\n",
    "  \"measurement_42532320\",\n",
    "  \"measurement_42532320_*.csv\")\n",
    "message(str_glue('The data will be written to {measurement_42532320_path}. Use this path when reading ',\n",
    "                 'the data into your notebooks in the future.'))\n",
    "\n",
    "# Perform the query and export the dataset to Cloud Storage as CSV files.\n",
    "# NOTE: You only need to run `bq_table_save` once. After that, you can\n",
    "#       just read data from the CSVs in Cloud Storage.\n",
    "bq_table_save(\n",
    "  bq_dataset_query(Sys.getenv(\"WORKSPACE_CDR\"), dataset_42532320_measurement_sql, billing = Sys.getenv(\"GOOGLE_PROJECT\")),\n",
    "  measurement_42532320_path,\n",
    "  destination_format = \"CSV\")\n",
    "\n"
   ]
  },
  {
   "cell_type": "code",
   "execution_count": null,
   "metadata": {
    "vscode": {
     "languageId": "r"
    }
   },
   "outputs": [],
   "source": [
    "library(tidyverse)\n",
    "# Read the data directly from Cloud Storage into memory.\n",
    "# NOTE: Alternatively you can `gsutil -m cp {measurement_42532320_path}` to copy these files\n",
    "#       to the Jupyter disk.\n",
    "read_bq_export_from_workspace_bucket <- function(export_path) {\n",
    "  col_types <- cols(standard_concept_name = col_character(), standard_concept_code = col_character(), standard_vocabulary = col_character(), measurement_type_concept_name = col_character(), operator_concept_name = col_character(), value_as_concept_name = col_character(), unit_concept_name = col_character(), visit_occurrence_concept_name = col_character(), measurement_source_value = col_character(), source_concept_name = col_character(), source_concept_code = col_character(), source_vocabulary = col_character(), unit_source_value = col_character(), value_source_value = col_character())\n",
    "  bind_rows(\n",
    "    map(system2('gsutil', args = c('ls', export_path), stdout = TRUE, stderr = TRUE),\n",
    "        function(csv) {\n",
    "          message(str_glue('Loading {csv}.'))\n",
    "          chunk <- read_csv(pipe(str_glue('gsutil cat {csv}')), col_types = col_types, show_col_types = FALSE)\n",
    "          if (is.null(col_types)) {\n",
    "            col_types <- spec(chunk)\n",
    "          }\n",
    "          chunk\n",
    "        }))\n",
    "}\n",
    "#measurement_42532320_path <- \"gs://fc-secure-b96fb036-3379-4be0-8834-e7e486f2b76e/bq_exports/davidz1@researchallofus.org/20240526/measurement_42532320/measurement_42532320_*.csv\"\n",
    "dataset_42532320_measurement_df <- read_bq_export_from_workspace_bucket(measurement_42532320_path)\n",
    "\n",
    "dim(dataset_42532320_measurement_df)\n",
    "\n",
    "head(dataset_42532320_measurement_df, 5)"
   ]
  },
  {
   "cell_type": "markdown",
   "metadata": {},
   "source": [
    "## Process basophil counts (thousand/uL)"
   ]
  },
  {
   "cell_type": "code",
   "execution_count": null,
   "metadata": {
    "vscode": {
     "languageId": "r"
    }
   },
   "outputs": [],
   "source": [
    "# Basophil counts\n",
    "labs <- dataset_42532320_measurement_df %>%\n",
    "    filter(grepl(\"volume\", standard_concept_name))\n",
    "colnames(labs)\n",
    "length(unique(labs$person_id))\n",
    "\n",
    "#as.data.frame(table(labs$visit_occurrence_concept_name)) %>% arrange(-Freq)\n",
    "as.data.frame(table(labs$unit_concept_name)) %>% arrange(-Freq)\n",
    "quantile(labs$value_as_number[labs$unit_concept_name == \"per microliter\"], na.rm=T)\n",
    "\n",
    "#median(labs$value_as_number, na.rm=T)\n",
    "\n",
    "#new_labs <- labs %>%\n",
    "#    filter(!grepl(\"Emergency\", visit_occurrence_concept_name) & !grepl(\"Intensive\", visit_occurrence_concept_name) &\n",
    "#          !grepl(\"Urgent\", visit_occurrence_concept_name))\n",
    "\n",
    "#as.data.frame(table(new_labs$visit_occurrence_concept_name)) %>% arrange(-Freq)\n",
    "#new_labs <- labs %>%\n",
    "#    filter(unit_concept_name == \"square meter\")\n",
    "#length(unique(new_labs$person_id))\n"
   ]
  },
  {
   "cell_type": "code",
   "execution_count": null,
   "metadata": {
    "vscode": {
     "languageId": "r"
    }
   },
   "outputs": [],
   "source": [
    "keep_outliers = FALSE\n",
    "\n",
    "# Do all the filtering specified at the top of the file\n",
    "labs_formatted <- labs %>%\n",
    "    filter(!grepl(\"Emergency\", visit_occurrence_concept_name) & \n",
    "           !grepl(\"Intensive\", visit_occurrence_concept_name) &\n",
    "           !grepl(\"Urgent\", visit_occurrence_concept_name)) %>%\n",
    "    filter(unit_concept_name != \"billion per liter\" &\n",
    "           unit_concept_name != \"per microliter\" &\n",
    "           unit_concept_name != \"no value\" &\n",
    "           unit_concept_name != \"percent\" &\n",
    "           unit_concept_name != \"cells per microliter\" &\n",
    "           unit_concept_name != \"cells/uL\" &\n",
    "           unit_concept_name != \"nL\" &\n",
    "           unit_concept_name != \"uL\" &\n",
    "           unit_concept_name != \"thousand\" &\n",
    "           unit_concept_name != \"cubic millimeter\" &\n",
    "           unit_concept_name != \"the number ten\" &\n",
    "           unit_concept_name != \"kilounit per liter\" &\n",
    "           unit_concept_name != \"number ten\") %>%\n",
    "    filter(value_as_number >= 0) %>%\n",
    "    select(person_id, measurement_datetime, value_as_number) %>%\n",
    "    mutate_at(c('person_id'), as.character) %>%\n",
    "    mutate(across(where(is.character), ~na_if(., \"NULL\"))) %>%\n",
    "    na.omit() %>%\n",
    "    distinct() %>%\n",
    "    group_by(person_id) %>%\n",
    "    filter(value_as_number <= (10 * median(value_as_number))) %>%\n",
    "    ungroup() %>%\n",
    "    filter(keep_outliers | value_as_number >= mean(value_as_number) - (4 * sd(value_as_number))) %>%\n",
    "    filter(keep_outliers | value_as_number <= mean(value_as_number) + (4 * sd(value_as_number))) \n",
    "\n",
    "dim(labs_formatted)\n",
    "head(labs_formatted, 5)\n"
   ]
  },
  {
   "cell_type": "code",
   "execution_count": null,
   "metadata": {
    "vscode": {
     "languageId": "r"
    }
   },
   "outputs": [],
   "source": [
    "min(labs_formatted$value_as_number)\n",
    "median(labs_formatted$value_as_number)\n",
    "mean(labs_formatted$value_as_number)\n",
    "max(labs_formatted$value_as_number)\n",
    "sd(labs_formatted$value_as_number)\n"
   ]
  },
  {
   "cell_type": "code",
   "execution_count": null,
   "metadata": {
    "vscode": {
     "languageId": "r"
    }
   },
   "outputs": [],
   "source": [
    "write.table(labs_formatted, \n",
    "    file=paste0(data_path, \"/dataframes/blood/AllofUs_v8_labs-Basophil-counts_wout_outliers_long_052724.txt\"), \n",
    "    row.names=FALSE, quote=FALSE, sep=\"\\t\")\n"
   ]
  },
  {
   "cell_type": "markdown",
   "metadata": {},
   "source": [
    "## Process basophil percentages (%)"
   ]
  },
  {
   "cell_type": "code",
   "execution_count": null,
   "metadata": {
    "vscode": {
     "languageId": "r"
    }
   },
   "outputs": [],
   "source": [
    "# Basophil percentages\n",
    "labs <- dataset_42532320_measurement_df %>%\n",
    "    filter(grepl(\"leukocytes\", standard_concept_name))\n",
    "colnames(labs)\n",
    "length(unique(labs$person_id))\n",
    "\n",
    "#as.data.frame(table(labs$standard_concept_name)) %>% arrange(-Freq)\n",
    "\n",
    "#as.data.frame(table(labs$visit_occurrence_concept_name)) %>% arrange(-Freq)\n",
    "as.data.frame(table(labs$unit_concept_name)) %>% arrange(-Freq)\n",
    "quantile(labs$value_as_number[labs$unit_concept_name == \"no value\"], na.rm=T)\n",
    "\n",
    "#median(labs$value_as_number, na.rm=T)\n",
    "\n",
    "#new_labs <- labs %>%\n",
    "#    filter(!grepl(\"Emergency\", visit_occurrence_concept_name) & !grepl(\"Intensive\", visit_occurrence_concept_name) &\n",
    "#          !grepl(\"Urgent\", visit_occurrence_concept_name))\n",
    "\n",
    "#as.data.frame(table(new_labs$visit_occurrence_concept_name)) %>% arrange(-Freq)\n",
    "#new_labs <- labs %>%\n",
    "#    filter(unit_concept_name == \"square meter\")\n",
    "#length(unique(new_labs$person_id))\n"
   ]
  },
  {
   "cell_type": "code",
   "execution_count": null,
   "metadata": {
    "vscode": {
     "languageId": "r"
    }
   },
   "outputs": [],
   "source": [
    "keep_outliers = FALSE\n",
    "\n",
    "# Do all the filtering specified at the top of the file\n",
    "labs_formatted <- labs %>%\n",
    "    filter(!grepl(\"Emergency\", visit_occurrence_concept_name) & \n",
    "           !grepl(\"Intensive\", visit_occurrence_concept_name) &\n",
    "           !grepl(\"Urgent\", visit_occurrence_concept_name)) %>%\n",
    "    filter(unit_concept_name != \"thousand per microliter\" &\n",
    "           unit_concept_name != \"thousand per cubic millimeter\" &\n",
    "           unit_concept_name != \"cells per microliter\" &\n",
    "           unit_concept_name != \"billion per liter\" &\n",
    "           unit_concept_name != \"gram per liter\" &\n",
    "           unit_concept_name != \"per microliter\" &\n",
    "           unit_concept_name != \"cells\") %>%\n",
    "    filter(value_as_number >= 0) %>%\n",
    "    select(person_id, measurement_datetime, value_as_number) %>%\n",
    "    mutate_at(c('person_id'), as.character) %>%\n",
    "    mutate(across(where(is.character), ~na_if(., \"NULL\"))) %>%\n",
    "    na.omit() %>%\n",
    "    distinct() %>%\n",
    "    group_by(person_id) %>%\n",
    "    filter(value_as_number <= (10 * median(value_as_number))) %>%\n",
    "    ungroup() %>%\n",
    "    filter(keep_outliers | value_as_number >= mean(value_as_number) - (4 * sd(value_as_number))) %>%\n",
    "    filter(keep_outliers | value_as_number <= mean(value_as_number) + (4 * sd(value_as_number))) \n",
    "\n",
    "dim(labs_formatted)\n",
    "head(labs_formatted, 5)\n"
   ]
  },
  {
   "cell_type": "code",
   "execution_count": null,
   "metadata": {
    "vscode": {
     "languageId": "r"
    }
   },
   "outputs": [],
   "source": [
    "min(labs_formatted$value_as_number)\n",
    "median(labs_formatted$value_as_number)\n",
    "mean(labs_formatted$value_as_number)\n",
    "max(labs_formatted$value_as_number)\n",
    "sd(labs_formatted$value_as_number)\n"
   ]
  },
  {
   "cell_type": "code",
   "execution_count": null,
   "metadata": {
    "vscode": {
     "languageId": "r"
    }
   },
   "outputs": [],
   "source": [
    "write.table(labs_formatted, \n",
    "    file=paste0(data_path, \"/dataframes/blood/AllofUs_v8_labs-Basophil-percentages_wout_outliers_long_052724.txt\"), \n",
    "    row.names=FALSE, quote=FALSE, sep=\"\\t\")\n"
   ]
  },
  {
   "cell_type": "markdown",
   "metadata": {},
   "source": [
    "# Eosinophils"
   ]
  },
  {
   "cell_type": "markdown",
   "metadata": {},
   "source": [
    "## Extract eosinophil counts/percentages"
   ]
  },
  {
   "cell_type": "code",
   "execution_count": null,
   "metadata": {
    "vscode": {
     "languageId": "r"
    }
   },
   "outputs": [],
   "source": [
    "library(tidyverse)\n",
    "library(bigrquery)\n",
    "\n",
    "# This query represents dataset \"Pts with Eosinophils\" for domain \"measurement\" and was generated for All of Us Controlled Tier Dataset v8\n",
    "dataset_12778330_measurement_sql <- paste(\"\n",
    "    SELECT\n",
    "        measurement.person_id,\n",
    "        measurement.measurement_concept_id,\n",
    "        m_standard_concept.concept_name as standard_concept_name,\n",
    "        m_standard_concept.concept_code as standard_concept_code,\n",
    "        m_standard_concept.vocabulary_id as standard_vocabulary,\n",
    "        measurement.measurement_datetime,\n",
    "        measurement.measurement_type_concept_id,\n",
    "        m_type.concept_name as measurement_type_concept_name,\n",
    "        measurement.operator_concept_id,\n",
    "        m_operator.concept_name as operator_concept_name,\n",
    "        measurement.value_as_number,\n",
    "        measurement.value_as_concept_id,\n",
    "        m_value.concept_name as value_as_concept_name,\n",
    "        measurement.unit_concept_id,\n",
    "        m_unit.concept_name as unit_concept_name,\n",
    "        measurement.range_low,\n",
    "        measurement.range_high,\n",
    "        measurement.visit_occurrence_id,\n",
    "        m_visit.concept_name as visit_occurrence_concept_name,\n",
    "        measurement.measurement_source_value,\n",
    "        measurement.measurement_source_concept_id,\n",
    "        m_source_concept.concept_name as source_concept_name,\n",
    "        m_source_concept.concept_code as source_concept_code,\n",
    "        m_source_concept.vocabulary_id as source_vocabulary,\n",
    "        measurement.unit_source_value,\n",
    "        measurement.value_source_value \n",
    "    FROM\n",
    "        ( SELECT\n",
    "            * \n",
    "        FROM\n",
    "            `measurement` measurement \n",
    "        WHERE\n",
    "            (\n",
    "                measurement_concept_id IN (SELECT\n",
    "                    DISTINCT c.concept_id \n",
    "                FROM\n",
    "                    `cb_criteria` c \n",
    "                JOIN\n",
    "                    (SELECT\n",
    "                        CAST(cr.id as string) AS id       \n",
    "                    FROM\n",
    "                        `cb_criteria` cr       \n",
    "                    WHERE\n",
    "                        concept_id IN (37054426, 37060474)       \n",
    "                        AND full_text LIKE '%_rank1]%'      ) a \n",
    "                        ON (c.path LIKE CONCAT('%.', a.id, '.%') \n",
    "                        OR c.path LIKE CONCAT('%.', a.id) \n",
    "                        OR c.path LIKE CONCAT(a.id, '.%') \n",
    "                        OR c.path = a.id) \n",
    "                WHERE\n",
    "                    is_standard = 1 \n",
    "                    AND is_selectable = 1)\n",
    "            )  \n",
    "            AND (\n",
    "                measurement.PERSON_ID IN (SELECT\n",
    "                    distinct person_id  \n",
    "                FROM\n",
    "                    `cb_search_person` cb_search_person  \n",
    "                WHERE\n",
    "                    cb_search_person.person_id IN (SELECT\n",
    "                        criteria.person_id \n",
    "                    FROM\n",
    "                        (SELECT\n",
    "                            DISTINCT person_id, entry_date, concept_id \n",
    "                        FROM\n",
    "                            `cb_search_all_events` \n",
    "                        WHERE\n",
    "                            (concept_id IN(SELECT\n",
    "                                DISTINCT c.concept_id \n",
    "                            FROM\n",
    "                                `cb_criteria` c \n",
    "                            JOIN\n",
    "                                (SELECT\n",
    "                                    CAST(cr.id as string) AS id       \n",
    "                                FROM\n",
    "                                    `cb_criteria` cr       \n",
    "                                WHERE\n",
    "                                    concept_id IN (37060474, 37054426)       \n",
    "                                    AND full_text LIKE '%_rank1]%'      ) a \n",
    "                                    ON (c.path LIKE CONCAT('%.', a.id, '.%') \n",
    "                                    OR c.path LIKE CONCAT('%.', a.id) \n",
    "                                    OR c.path LIKE CONCAT(a.id, '.%') \n",
    "                                    OR c.path = a.id) \n",
    "                            WHERE\n",
    "                                is_standard = 1 \n",
    "                                AND is_selectable = 1) \n",
    "                            AND is_standard = 1 )) criteria ) )\n",
    "            )) measurement \n",
    "    LEFT JOIN\n",
    "        `concept` m_standard_concept \n",
    "            ON measurement.measurement_concept_id = m_standard_concept.concept_id \n",
    "    LEFT JOIN\n",
    "        `concept` m_type \n",
    "            ON measurement.measurement_type_concept_id = m_type.concept_id \n",
    "    LEFT JOIN\n",
    "        `concept` m_operator \n",
    "            ON measurement.operator_concept_id = m_operator.concept_id \n",
    "    LEFT JOIN\n",
    "        `concept` m_value \n",
    "            ON measurement.value_as_concept_id = m_value.concept_id \n",
    "    LEFT JOIN\n",
    "        `concept` m_unit \n",
    "            ON measurement.unit_concept_id = m_unit.concept_id \n",
    "    LEFT JOIn\n",
    "        `visit_occurrence` v \n",
    "            ON measurement.visit_occurrence_id = v.visit_occurrence_id \n",
    "    LEFT JOIN\n",
    "        `concept` m_visit \n",
    "            ON v.visit_concept_id = m_visit.concept_id \n",
    "    LEFT JOIN\n",
    "        `concept` m_source_concept \n",
    "            ON measurement.measurement_source_concept_id = m_source_concept.concept_id\", sep=\"\")\n",
    "\n",
    "# Formulate a Cloud Storage destination path for the data exported from BigQuery.\n",
    "# NOTE: By default data exported multiple times on the same day will overwrite older copies.\n",
    "#       But data exported on a different days will write to a new location so that historical\n",
    "#       copies can be kept as the dataset definition is changed.\n",
    "measurement_12778330_path <- file.path(\n",
    "  Sys.getenv(\"WORKSPACE_BUCKET\"),\n",
    "  \"bq_exports\",\n",
    "  Sys.getenv(\"OWNER_EMAIL\"),\n",
    "  strftime(lubridate::now(), \"%Y%m%d\"),  # Comment out this line if you want the export to always overwrite.\n",
    "  \"measurement_12778330\",\n",
    "  \"measurement_12778330_*.csv\")\n",
    "message(str_glue('The data will be written to {measurement_12778330_path}. Use this path when reading ',\n",
    "                 'the data into your notebooks in the future.'))\n",
    "\n",
    "# Perform the query and export the dataset to Cloud Storage as CSV files.\n",
    "# NOTE: You only need to run `bq_table_save` once. After that, you can\n",
    "#       just read data from the CSVs in Cloud Storage.\n",
    "bq_table_save(\n",
    "  bq_dataset_query(Sys.getenv(\"WORKSPACE_CDR\"), dataset_12778330_measurement_sql, billing = Sys.getenv(\"GOOGLE_PROJECT\")),\n",
    "  measurement_12778330_path,\n",
    "  destination_format = \"CSV\")\n",
    "\n"
   ]
  },
  {
   "cell_type": "code",
   "execution_count": null,
   "metadata": {
    "vscode": {
     "languageId": "r"
    }
   },
   "outputs": [],
   "source": [
    "# Read the data directly from Cloud Storage into memory.\n",
    "# NOTE: Alternatively you can `gsutil -m cp {measurement_12778330_path}` to copy these files\n",
    "#       to the Jupyter disk.\n",
    "read_bq_export_from_workspace_bucket <- function(export_path) {\n",
    "  col_types <- cols(standard_concept_name = col_character(), standard_concept_code = col_character(), standard_vocabulary = col_character(), measurement_type_concept_name = col_character(), operator_concept_name = col_character(), value_as_concept_name = col_character(), unit_concept_name = col_character(), visit_occurrence_concept_name = col_character(), measurement_source_value = col_character(), source_concept_name = col_character(), source_concept_code = col_character(), source_vocabulary = col_character(), unit_source_value = col_character(), value_source_value = col_character())\n",
    "  bind_rows(\n",
    "    map(system2('gsutil', args = c('ls', export_path), stdout = TRUE, stderr = TRUE),\n",
    "        function(csv) {\n",
    "          message(str_glue('Loading {csv}.'))\n",
    "          chunk <- read_csv(pipe(str_glue('gsutil cat {csv}')), col_types = col_types, show_col_types = FALSE)\n",
    "          if (is.null(col_types)) {\n",
    "            col_types <- spec(chunk)\n",
    "          }\n",
    "          chunk\n",
    "        }))\n",
    "}\n",
    "#measurement_12778330_path <- \"gs://fc-secure-b96fb036-3379-4be0-8834-e7e486f2b76e/bq_exports/davidz1@researchallofus.org/20240527/measurement_12778330/measurement_12778330_*.csv\"\n",
    "dataset_12778330_measurement_df <- read_bq_export_from_workspace_bucket(measurement_12778330_path)\n",
    "\n",
    "dim(dataset_12778330_measurement_df)\n",
    "\n",
    "head(dataset_12778330_measurement_df, 5)"
   ]
  },
  {
   "cell_type": "markdown",
   "metadata": {},
   "source": [
    "## Process eosinophil counts (thousand/uL)"
   ]
  },
  {
   "cell_type": "code",
   "execution_count": null,
   "metadata": {
    "vscode": {
     "languageId": "r"
    }
   },
   "outputs": [],
   "source": [
    "# Eosinophil counts\n",
    "labs <- dataset_12778330_measurement_df %>%\n",
    "    filter(grepl(\"volume\", standard_concept_name))\n",
    "colnames(labs)\n",
    "length(unique(labs$person_id))\n",
    "\n",
    "#as.data.frame(table(labs$standard_concept_name)) %>% arrange(-Freq)\n",
    "\n",
    "#as.data.frame(table(labs$visit_occurrence_concept_name)) %>% arrange(-Freq)\n",
    "as.data.frame(table(labs$unit_concept_name)) %>% arrange(-Freq)\n",
    "#quantile(labs$value_as_number[labs$unit_concept_name == \"per microliter\"], na.rm=T)\n",
    "\n",
    "#median(labs$value_as_number, na.rm=T)\n",
    "\n",
    "#new_labs <- labs %>%\n",
    "#    filter(!grepl(\"Emergency\", visit_occurrence_concept_name) & !grepl(\"Intensive\", visit_occurrence_concept_name) &\n",
    "#          !grepl(\"Urgent\", visit_occurrence_concept_name))\n",
    "\n",
    "#as.data.frame(table(new_labs$visit_occurrence_concept_name)) %>% arrange(-Freq)\n",
    "#new_labs <- labs %>%\n",
    "#    filter(unit_concept_name == \"square meter\")\n",
    "#length(unique(new_labs$person_id))\n"
   ]
  },
  {
   "cell_type": "code",
   "execution_count": null,
   "metadata": {
    "vscode": {
     "languageId": "r"
    }
   },
   "outputs": [],
   "source": [
    "keep_outliers = FALSE\n",
    "\n",
    "# Do all the filtering specified at the top of the file\n",
    "labs_formatted <- labs %>%\n",
    "    filter(!grepl(\"Emergency\", visit_occurrence_concept_name) & \n",
    "           !grepl(\"Intensive\", visit_occurrence_concept_name) &\n",
    "           !grepl(\"Urgent\", visit_occurrence_concept_name)) %>%\n",
    "    filter(unit_concept_name != \"percent\" &\n",
    "           unit_concept_name != \"billion per liter\" &\n",
    "           unit_concept_name != \"per microliter\" &\n",
    "           unit_concept_name != \"nL\" &\n",
    "           unit_concept_name != \"cells per microliter\" &\n",
    "           unit_concept_name != \"no value\" &\n",
    "           unit_concept_name != \"cells/uL\" &\n",
    "           unit_concept_name != \"thousand\" &\n",
    "           unit_concept_name != \"cubic millimeter\" &\n",
    "           unit_concept_name != \"per cubic millimeter\" &\n",
    "           unit_concept_name != \"gram per liter\" &\n",
    "           unit_concept_name != \"the number ten\" &\n",
    "           unit_concept_name != \"kilounit per liter\" &\n",
    "           unit_concept_name != \"number ten\" &\n",
    "           unit_concept_name != \"microliter\") %>%\n",
    "    filter(value_as_number >= 0) %>%\n",
    "    select(person_id, measurement_datetime, value_as_number) %>%\n",
    "    mutate_at(c('person_id'), as.character) %>%\n",
    "    mutate(across(where(is.character), ~na_if(., \"NULL\"))) %>%\n",
    "    na.omit() %>%\n",
    "    distinct() %>%\n",
    "    group_by(person_id) %>%\n",
    "    filter(value_as_number <= (10 * median(value_as_number))) %>%\n",
    "    ungroup() %>%\n",
    "    filter(keep_outliers | value_as_number >= mean(value_as_number) - (4 * sd(value_as_number))) %>%\n",
    "    filter(keep_outliers | value_as_number <= mean(value_as_number) + (4 * sd(value_as_number))) \n",
    "\n",
    "dim(labs_formatted)\n",
    "head(labs_formatted, 5)\n"
   ]
  },
  {
   "cell_type": "code",
   "execution_count": null,
   "metadata": {
    "vscode": {
     "languageId": "r"
    }
   },
   "outputs": [],
   "source": [
    "min(labs_formatted$value_as_number)\n",
    "median(labs_formatted$value_as_number)\n",
    "mean(labs_formatted$value_as_number)\n",
    "max(labs_formatted$value_as_number)\n",
    "sd(labs_formatted$value_as_number)\n"
   ]
  },
  {
   "cell_type": "code",
   "execution_count": null,
   "metadata": {
    "vscode": {
     "languageId": "r"
    }
   },
   "outputs": [],
   "source": [
    "write.table(labs_formatted, \n",
    "    file=paste0(data_path, \"/dataframes/blood/AllofUs_v8_labs-Eosinophil-counts_wout_outliers_long_052724.txt\"), \n",
    "    row.names=FALSE, quote=FALSE, sep=\"\\t\")\n"
   ]
  },
  {
   "cell_type": "markdown",
   "metadata": {},
   "source": [
    "## Process eosinophil percentages (%)"
   ]
  },
  {
   "cell_type": "code",
   "execution_count": null,
   "metadata": {
    "vscode": {
     "languageId": "r"
    }
   },
   "outputs": [],
   "source": [
    "# Eosinophil percentages\n",
    "labs <- dataset_12778330_measurement_df %>%\n",
    "    filter(grepl(\"leukocytes\", standard_concept_name))\n",
    "colnames(labs)\n",
    "length(unique(labs$person_id))\n",
    "\n",
    "#as.data.frame(table(labs$standard_concept_name)) %>% arrange(-Freq)\n",
    "\n",
    "#as.data.frame(table(labs$visit_occurrence_concept_name)) %>% arrange(-Freq)\n",
    "as.data.frame(table(labs$unit_concept_name)) %>% arrange(-Freq)\n",
    "#quantile(labs$value_as_number[labs$unit_concept_name == \"no value\"], na.rm=T)\n",
    "\n",
    "#median(labs$value_as_number, na.rm=T)\n",
    "\n",
    "#new_labs <- labs %>%\n",
    "#    filter(!grepl(\"Emergency\", visit_occurrence_concept_name) & !grepl(\"Intensive\", visit_occurrence_concept_name) &\n",
    "#          !grepl(\"Urgent\", visit_occurrence_concept_name))\n",
    "\n",
    "#as.data.frame(table(new_labs$visit_occurrence_concept_name)) %>% arrange(-Freq)\n",
    "#new_labs <- labs %>%\n",
    "#    filter(unit_concept_name == \"square meter\")\n",
    "#length(unique(new_labs$person_id))\n"
   ]
  },
  {
   "cell_type": "code",
   "execution_count": null,
   "metadata": {
    "vscode": {
     "languageId": "r"
    }
   },
   "outputs": [],
   "source": [
    "keep_outliers = FALSE\n",
    "\n",
    "# Do all the filtering specified at the top of the file\n",
    "labs_formatted <- labs %>%\n",
    "    filter(!grepl(\"Emergency\", visit_occurrence_concept_name) & \n",
    "           !grepl(\"Intensive\", visit_occurrence_concept_name) &\n",
    "           !grepl(\"Urgent\", visit_occurrence_concept_name)) %>%\n",
    "    filter(unit_concept_name != \"thousand per microliter\" &\n",
    "           unit_concept_name != \"cells per microliter\" &\n",
    "           unit_concept_name != \"billion per liter\" &\n",
    "           unit_concept_name != \"thousand per cubic millimeter\" &\n",
    "           unit_concept_name != \"cells\" &\n",
    "           unit_concept_name != \"per microliter\" &\n",
    "           unit_concept_name != \"unit per liter\") %>%\n",
    "    filter(value_as_number >= 0) %>%\n",
    "    select(person_id, measurement_datetime, value_as_number) %>%\n",
    "    mutate_at(c('person_id'), as.character) %>%\n",
    "    mutate(across(where(is.character), ~na_if(., \"NULL\"))) %>%\n",
    "    na.omit() %>%\n",
    "    distinct() %>%\n",
    "    group_by(person_id) %>%\n",
    "    filter(value_as_number <= (10 * median(value_as_number))) %>%\n",
    "    ungroup() %>%\n",
    "    filter(keep_outliers | value_as_number >= mean(value_as_number) - (4 * sd(value_as_number))) %>%\n",
    "    filter(keep_outliers | value_as_number <= mean(value_as_number) + (4 * sd(value_as_number))) \n",
    "\n",
    "dim(labs_formatted)\n",
    "head(labs_formatted, 5)\n"
   ]
  },
  {
   "cell_type": "code",
   "execution_count": null,
   "metadata": {
    "vscode": {
     "languageId": "r"
    }
   },
   "outputs": [],
   "source": [
    "min(labs_formatted$value_as_number)\n",
    "median(labs_formatted$value_as_number)\n",
    "mean(labs_formatted$value_as_number)\n",
    "max(labs_formatted$value_as_number)\n",
    "sd(labs_formatted$value_as_number)\n"
   ]
  },
  {
   "cell_type": "code",
   "execution_count": null,
   "metadata": {
    "vscode": {
     "languageId": "r"
    }
   },
   "outputs": [],
   "source": [
    "write.table(labs_formatted, \n",
    "    file=paste0(data_path, \"/dataframes/blood/AllofUs_v8_labs-Eosinophil-percentages_wout_outliers_long_052724.txt\"), \n",
    "    row.names=FALSE, quote=FALSE, sep=\"\\t\")\n"
   ]
  },
  {
   "cell_type": "markdown",
   "metadata": {},
   "source": [
    "# Reticulocytes"
   ]
  },
  {
   "cell_type": "markdown",
   "metadata": {},
   "source": [
    "## Extract reticulocyte immature fraction/counts/percentages"
   ]
  },
  {
   "cell_type": "code",
   "execution_count": null,
   "metadata": {
    "vscode": {
     "languageId": "r"
    }
   },
   "outputs": [],
   "source": [
    "library(tidyverse)\n",
    "library(bigrquery)\n",
    "\n",
    "# This query represents dataset \"Pts with Reticulocytes\" for domain \"measurement\" and was generated for All of Us Controlled Tier Dataset v8\n",
    "dataset_38270090_measurement_sql <- paste(\"\n",
    "    SELECT\n",
    "        measurement.person_id,\n",
    "        measurement.measurement_concept_id,\n",
    "        m_standard_concept.concept_name as standard_concept_name,\n",
    "        m_standard_concept.concept_code as standard_concept_code,\n",
    "        m_standard_concept.vocabulary_id as standard_vocabulary,\n",
    "        measurement.measurement_datetime,\n",
    "        measurement.measurement_type_concept_id,\n",
    "        m_type.concept_name as measurement_type_concept_name,\n",
    "        measurement.operator_concept_id,\n",
    "        m_operator.concept_name as operator_concept_name,\n",
    "        measurement.value_as_number,\n",
    "        measurement.value_as_concept_id,\n",
    "        m_value.concept_name as value_as_concept_name,\n",
    "        measurement.unit_concept_id,\n",
    "        m_unit.concept_name as unit_concept_name,\n",
    "        measurement.range_low,\n",
    "        measurement.range_high,\n",
    "        measurement.visit_occurrence_id,\n",
    "        m_visit.concept_name as visit_occurrence_concept_name,\n",
    "        measurement.measurement_source_value,\n",
    "        measurement.measurement_source_concept_id,\n",
    "        m_source_concept.concept_name as source_concept_name,\n",
    "        m_source_concept.concept_code as source_concept_code,\n",
    "        m_source_concept.vocabulary_id as source_vocabulary,\n",
    "        measurement.unit_source_value,\n",
    "        measurement.value_source_value \n",
    "    FROM\n",
    "        ( SELECT\n",
    "            * \n",
    "        FROM\n",
    "            `measurement` measurement \n",
    "        WHERE\n",
    "            (\n",
    "                measurement_concept_id IN (SELECT\n",
    "                    DISTINCT c.concept_id \n",
    "                FROM\n",
    "                    `cb_criteria` c \n",
    "                JOIN\n",
    "                    (SELECT\n",
    "                        CAST(cr.id as string) AS id       \n",
    "                    FROM\n",
    "                        `cb_criteria` cr       \n",
    "                    WHERE\n",
    "                        concept_id IN (37034184, 37060058, 37071361)       \n",
    "                        AND full_text LIKE '%_rank1]%'      ) a \n",
    "                        ON (c.path LIKE CONCAT('%.', a.id, '.%') \n",
    "                        OR c.path LIKE CONCAT('%.', a.id) \n",
    "                        OR c.path LIKE CONCAT(a.id, '.%') \n",
    "                        OR c.path = a.id) \n",
    "                WHERE\n",
    "                    is_standard = 1 \n",
    "                    AND is_selectable = 1)\n",
    "            )  \n",
    "            AND (\n",
    "                measurement.PERSON_ID IN (SELECT\n",
    "                    distinct person_id  \n",
    "                FROM\n",
    "                    `cb_search_person` cb_search_person  \n",
    "                WHERE\n",
    "                    cb_search_person.person_id IN (SELECT\n",
    "                        criteria.person_id \n",
    "                    FROM\n",
    "                        (SELECT\n",
    "                            DISTINCT person_id, entry_date, concept_id \n",
    "                        FROM\n",
    "                            `cb_search_all_events` \n",
    "                        WHERE\n",
    "                            (concept_id IN(SELECT\n",
    "                                DISTINCT c.concept_id \n",
    "                            FROM\n",
    "                                `cb_criteria` c \n",
    "                            JOIN\n",
    "                                (SELECT\n",
    "                                    CAST(cr.id as string) AS id       \n",
    "                                FROM\n",
    "                                    `cb_criteria` cr       \n",
    "                                WHERE\n",
    "                                    concept_id IN (37071361, 37034184, 37060058)       \n",
    "                                    AND full_text LIKE '%_rank1]%'      ) a \n",
    "                                    ON (c.path LIKE CONCAT('%.', a.id, '.%') \n",
    "                                    OR c.path LIKE CONCAT('%.', a.id) \n",
    "                                    OR c.path LIKE CONCAT(a.id, '.%') \n",
    "                                    OR c.path = a.id) \n",
    "                            WHERE\n",
    "                                is_standard = 1 \n",
    "                                AND is_selectable = 1) \n",
    "                            AND is_standard = 1 )) criteria ) )\n",
    "            )) measurement \n",
    "    LEFT JOIN\n",
    "        `concept` m_standard_concept \n",
    "            ON measurement.measurement_concept_id = m_standard_concept.concept_id \n",
    "    LEFT JOIN\n",
    "        `concept` m_type \n",
    "            ON measurement.measurement_type_concept_id = m_type.concept_id \n",
    "    LEFT JOIN\n",
    "        `concept` m_operator \n",
    "            ON measurement.operator_concept_id = m_operator.concept_id \n",
    "    LEFT JOIN\n",
    "        `concept` m_value \n",
    "            ON measurement.value_as_concept_id = m_value.concept_id \n",
    "    LEFT JOIN\n",
    "        `concept` m_unit \n",
    "            ON measurement.unit_concept_id = m_unit.concept_id \n",
    "    LEFT JOIn\n",
    "        `visit_occurrence` v \n",
    "            ON measurement.visit_occurrence_id = v.visit_occurrence_id \n",
    "    LEFT JOIN\n",
    "        `concept` m_visit \n",
    "            ON v.visit_concept_id = m_visit.concept_id \n",
    "    LEFT JOIN\n",
    "        `concept` m_source_concept \n",
    "            ON measurement.measurement_source_concept_id = m_source_concept.concept_id\", sep=\"\")\n",
    "\n",
    "# Formulate a Cloud Storage destination path for the data exported from BigQuery.\n",
    "# NOTE: By default data exported multiple times on the same day will overwrite older copies.\n",
    "#       But data exported on a different days will write to a new location so that historical\n",
    "#       copies can be kept as the dataset definition is changed.\n",
    "measurement_38270090_path <- file.path(\n",
    "  Sys.getenv(\"WORKSPACE_BUCKET\"),\n",
    "  \"bq_exports\",\n",
    "  Sys.getenv(\"OWNER_EMAIL\"),\n",
    "  strftime(lubridate::now(), \"%Y%m%d\"),  # Comment out this line if you want the export to always overwrite.\n",
    "  \"measurement_38270090\",\n",
    "  \"measurement_38270090_*.csv\")\n",
    "message(str_glue('The data will be written to {measurement_38270090_path}. Use this path when reading ',\n",
    "                 'the data into your notebooks in the future.'))\n",
    "\n",
    "# Perform the query and export the dataset to Cloud Storage as CSV files.\n",
    "# NOTE: You only need to run `bq_table_save` once. After that, you can\n",
    "#       just read data from the CSVs in Cloud Storage.\n",
    "bq_table_save(\n",
    "  bq_dataset_query(Sys.getenv(\"WORKSPACE_CDR\"), dataset_38270090_measurement_sql, billing = Sys.getenv(\"GOOGLE_PROJECT\")),\n",
    "  measurement_38270090_path,\n",
    "  destination_format = \"CSV\")\n",
    "\n"
   ]
  },
  {
   "cell_type": "code",
   "execution_count": null,
   "metadata": {
    "vscode": {
     "languageId": "r"
    }
   },
   "outputs": [],
   "source": [
    "# Read the data directly from Cloud Storage into memory.\n",
    "# NOTE: Alternatively you can `gsutil -m cp {measurement_38270090_path}` to copy these files\n",
    "#       to the Jupyter disk.\n",
    "read_bq_export_from_workspace_bucket <- function(export_path) {\n",
    "  col_types <- cols(standard_concept_name = col_character(), standard_concept_code = col_character(), standard_vocabulary = col_character(), measurement_type_concept_name = col_character(), operator_concept_name = col_character(), value_as_concept_name = col_character(), unit_concept_name = col_character(), visit_occurrence_concept_name = col_character(), measurement_source_value = col_character(), source_concept_name = col_character(), source_concept_code = col_character(), source_vocabulary = col_character(), unit_source_value = col_character(), value_source_value = col_character())\n",
    "  bind_rows(\n",
    "    map(system2('gsutil', args = c('ls', export_path), stdout = TRUE, stderr = TRUE),\n",
    "        function(csv) {\n",
    "          message(str_glue('Loading {csv}.'))\n",
    "          chunk <- read_csv(pipe(str_glue('gsutil cat {csv}')), col_types = col_types, show_col_types = FALSE)\n",
    "          if (is.null(col_types)) {\n",
    "            col_types <- spec(chunk)\n",
    "          }\n",
    "          chunk\n",
    "        }))\n",
    "}\n",
    "#measurement_38270090_path <- \"gs://fc-secure-b96fb036-3379-4be0-8834-e7e486f2b76e/bq_exports/davidz1@researchallofus.org/20240527/measurement_38270090/measurement_38270090_*.csv\"\n",
    "dataset_38270090_measurement_df <- read_bq_export_from_workspace_bucket(measurement_38270090_path)\n",
    "\n",
    "dim(dataset_38270090_measurement_df)\n",
    "\n",
    "head(dataset_38270090_measurement_df, 5)"
   ]
  },
  {
   "cell_type": "markdown",
   "metadata": {},
   "source": [
    "## Process immature reticulocyte fraction (%)"
   ]
  },
  {
   "cell_type": "code",
   "execution_count": null,
   "metadata": {
    "vscode": {
     "languageId": "r"
    }
   },
   "outputs": [],
   "source": [
    "# Immature reticulocytes fraction counts\n",
    "labs <- dataset_38270090_measurement_df %>%\n",
    "    filter(grepl(\"Immature\", standard_concept_name) | standard_concept_name == \"Reticulocyte production index\")\n",
    "colnames(labs)\n",
    "length(unique(labs$person_id))\n",
    "\n",
    "#as.data.frame(table(labs$standard_concept_name)) %>% arrange(-Freq)\n",
    "\n",
    "#as.data.frame(table(labs$visit_occurrence_concept_name)) %>% arrange(-Freq)\n",
    "as.data.frame(table(labs$unit_concept_name)) %>% arrange(-Freq)\n",
    "quantile(labs$value_as_number[labs$unit_concept_name == \"no value\"], na.rm=T)\n",
    "\n",
    "#median(labs$value_as_number, na.rm=T)\n",
    "\n",
    "#new_labs <- labs %>%\n",
    "#    filter(!grepl(\"Emergency\", visit_occurrence_concept_name) & !grepl(\"Intensive\", visit_occurrence_concept_name) &\n",
    "#          !grepl(\"Urgent\", visit_occurrence_concept_name))\n",
    "\n",
    "#as.data.frame(table(new_labs$visit_occurrence_concept_name)) %>% arrange(-Freq)\n",
    "#new_labs <- labs %>%\n",
    "#    filter(unit_concept_name == \"square meter\")\n",
    "#length(unique(new_labs$person_id))\n"
   ]
  },
  {
   "cell_type": "code",
   "execution_count": null,
   "metadata": {
    "vscode": {
     "languageId": "r"
    }
   },
   "outputs": [],
   "source": [
    "keep_outliers = FALSE\n",
    "\n",
    "# Do all the filtering specified at the top of the file\n",
    "labs_formatted <- labs %>%\n",
    "    filter(!grepl(\"Emergency\", visit_occurrence_concept_name) & \n",
    "           !grepl(\"Intensive\", visit_occurrence_concept_name) &\n",
    "           !grepl(\"Urgent\", visit_occurrence_concept_name)) %>%\n",
    "    filter(unit_concept_name != \"picogram\" &\n",
    "           unit_concept_name != \"microliter\") %>%\n",
    "    filter(value_as_number >= 0) %>%\n",
    "    select(person_id, measurement_datetime, value_as_number) %>%\n",
    "    mutate_at(c('person_id'), as.character) %>%\n",
    "    mutate(across(where(is.character), ~na_if(., \"NULL\"))) %>%\n",
    "    na.omit() %>%\n",
    "    distinct() %>%\n",
    "    group_by(person_id) %>%\n",
    "    filter(value_as_number <= (10 * median(value_as_number))) %>%\n",
    "    ungroup() %>%\n",
    "    filter(keep_outliers | value_as_number >= mean(value_as_number) - (4 * sd(value_as_number))) %>%\n",
    "    filter(keep_outliers | value_as_number <= mean(value_as_number) + (4 * sd(value_as_number))) \n",
    "\n",
    "dim(labs_formatted)\n",
    "head(labs_formatted, 5)\n"
   ]
  },
  {
   "cell_type": "code",
   "execution_count": null,
   "metadata": {
    "vscode": {
     "languageId": "r"
    }
   },
   "outputs": [],
   "source": [
    "min(labs_formatted$value_as_number)\n",
    "median(labs_formatted$value_as_number)\n",
    "mean(labs_formatted$value_as_number)\n",
    "max(labs_formatted$value_as_number)\n",
    "sd(labs_formatted$value_as_number)\n"
   ]
  },
  {
   "cell_type": "code",
   "execution_count": null,
   "metadata": {
    "vscode": {
     "languageId": "r"
    }
   },
   "outputs": [],
   "source": [
    "write.table(labs_formatted, \n",
    "    file=paste0(data_path, \"/dataframes/blood/AllofUs_v8_labs-Reticulocyte-immature-fraction_wout_outliers_long_052724.txt\"), \n",
    "    row.names=FALSE, quote=FALSE, sep=\"\\t\")\n"
   ]
  },
  {
   "cell_type": "markdown",
   "metadata": {},
   "source": [
    "## Process reticulocyte counts (thousand/uL)"
   ]
  },
  {
   "cell_type": "code",
   "execution_count": null,
   "metadata": {
    "vscode": {
     "languageId": "r"
    }
   },
   "outputs": [],
   "source": [
    "# Reticulocyte counts\n",
    "labs <- dataset_38270090_measurement_df %>%\n",
    "    filter(grepl(\"volume\", standard_concept_name))\n",
    "colnames(labs)\n",
    "length(unique(labs$person_id))\n",
    "\n",
    "#as.data.frame(table(labs$standard_concept_name)) %>% arrange(-Freq)\n",
    "\n",
    "#as.data.frame(table(labs$visit_occurrence_concept_name)) %>% arrange(-Freq)\n",
    "as.data.frame(table(labs$unit_concept_name)) %>% arrange(-Freq)\n",
    "#quantile(labs$value_as_number[labs$unit_concept_name == \"no value\"], na.rm=T)\n",
    "\n",
    "#median(labs$value_as_number, na.rm=T)\n",
    "\n",
    "#new_labs <- labs %>%\n",
    "#    filter(!grepl(\"Emergency\", visit_occurrence_concept_name) & !grepl(\"Intensive\", visit_occurrence_concept_name) &\n",
    "#          !grepl(\"Urgent\", visit_occurrence_concept_name))\n",
    "\n",
    "#as.data.frame(table(new_labs$visit_occurrence_concept_name)) %>% arrange(-Freq)\n",
    "#new_labs <- labs %>%\n",
    "#    filter(unit_concept_name == \"square meter\")\n",
    "#length(unique(new_labs$person_id))\n"
   ]
  },
  {
   "cell_type": "code",
   "execution_count": null,
   "metadata": {
    "vscode": {
     "languageId": "r"
    }
   },
   "outputs": [],
   "source": [
    "keep_outliers = FALSE\n",
    "\n",
    "# Do all the filtering specified at the top of the file\n",
    "labs_formatted <- labs %>%\n",
    "    filter(!grepl(\"Emergency\", visit_occurrence_concept_name) & \n",
    "           !grepl(\"Intensive\", visit_occurrence_concept_name) &\n",
    "           !grepl(\"Urgent\", visit_occurrence_concept_name)) %>%\n",
    "    filter(unit_concept_name != \"million per cubic millimeter\" &\n",
    "           unit_concept_name != \"percent\" &\n",
    "           unit_concept_name != \"million per microliter\" &\n",
    "           unit_concept_name != \"no value\" &\n",
    "           unit_concept_name != \"per microliter\" &\n",
    "           unit_concept_name != \"nL\" &\n",
    "           unit_concept_name != \"Meter per microliter\" &\n",
    "           unit_concept_name != \"billion per liter\" &\n",
    "           unit_concept_name != \"cells per microliter\" &\n",
    "           unit_concept_name != \"million per liter\" &\n",
    "           unit_concept_name != \"microunit per liter\" &\n",
    "           unit_concept_name != \"cells/uL\" &\n",
    "           unit_concept_name != \"Meter per cubic millimeter\" &\n",
    "           unit_concept_name != \"million per milliliter\" &\n",
    "           unit_concept_name != \"the number ten\") %>%\n",
    "    filter(value_as_number >= 0) %>%\n",
    "    select(person_id, measurement_datetime, value_as_number) %>%\n",
    "    mutate_at(c('person_id'), as.character) %>%\n",
    "    mutate(across(where(is.character), ~na_if(., \"NULL\"))) %>%\n",
    "    na.omit() %>%\n",
    "    distinct() %>%\n",
    "    group_by(person_id) %>%\n",
    "    filter(value_as_number <= (10 * median(value_as_number))) %>%\n",
    "    ungroup() %>%\n",
    "    filter(keep_outliers | value_as_number >= mean(value_as_number) - (4 * sd(value_as_number))) %>%\n",
    "    filter(keep_outliers | value_as_number <= mean(value_as_number) + (4 * sd(value_as_number))) \n",
    "\n",
    "dim(labs_formatted)\n",
    "head(labs_formatted, 5)\n"
   ]
  },
  {
   "cell_type": "code",
   "execution_count": null,
   "metadata": {
    "vscode": {
     "languageId": "r"
    }
   },
   "outputs": [],
   "source": [
    "min(labs_formatted$value_as_number)\n",
    "median(labs_formatted$value_as_number)\n",
    "mean(labs_formatted$value_as_number)\n",
    "max(labs_formatted$value_as_number)\n",
    "sd(labs_formatted$value_as_number)\n"
   ]
  },
  {
   "cell_type": "code",
   "execution_count": null,
   "metadata": {
    "vscode": {
     "languageId": "r"
    }
   },
   "outputs": [],
   "source": [
    "write.table(labs_formatted, \n",
    "    file=paste0(data_path, \"/dataframes/blood/AllofUs_v8_labs-Reticulocyte-counts_wout_outliers_long_052724.txt\"), \n",
    "    row.names=FALSE, quote=FALSE, sep=\"\\t\")\n"
   ]
  },
  {
   "cell_type": "markdown",
   "metadata": {},
   "source": [
    "## Process reticulocyte percentages (%)"
   ]
  },
  {
   "cell_type": "code",
   "execution_count": null,
   "metadata": {
    "vscode": {
     "languageId": "r"
    }
   },
   "outputs": [],
   "source": [
    "# Reticulocyte percentages\n",
    "labs <- dataset_38270090_measurement_df %>%\n",
    "    filter(grepl(\"erythrocytes\", standard_concept_name))\n",
    "colnames(labs)\n",
    "length(unique(labs$person_id))\n",
    "\n",
    "#as.data.frame(table(labs$standard_concept_name)) %>% arrange(-Freq)\n",
    "\n",
    "#as.data.frame(table(labs$visit_occurrence_concept_name)) %>% arrange(-Freq)\n",
    "as.data.frame(table(labs$unit_concept_name)) %>% arrange(-Freq)\n",
    "quantile(labs$value_as_number[labs$unit_concept_name == \"no value\"], na.rm=T)\n",
    "\n",
    "#median(labs$value_as_number, na.rm=T)\n",
    "\n",
    "#new_labs <- labs %>%\n",
    "#    filter(!grepl(\"Emergency\", visit_occurrence_concept_name) & !grepl(\"Intensive\", visit_occurrence_concept_name) &\n",
    "#          !grepl(\"Urgent\", visit_occurrence_concept_name))\n",
    "\n",
    "#as.data.frame(table(new_labs$visit_occurrence_concept_name)) %>% arrange(-Freq)\n",
    "#new_labs <- labs %>%\n",
    "#    filter(unit_concept_name == \"square meter\")\n",
    "#length(unique(new_labs$person_id))\n"
   ]
  },
  {
   "cell_type": "code",
   "execution_count": null,
   "metadata": {
    "vscode": {
     "languageId": "r"
    }
   },
   "outputs": [],
   "source": [
    "keep_outliers = FALSE\n",
    "\n",
    "# Do all the filtering specified at the top of the file\n",
    "labs_formatted <- labs %>%\n",
    "    filter(!grepl(\"Emergency\", visit_occurrence_concept_name) & \n",
    "           !grepl(\"Intensive\", visit_occurrence_concept_name) &\n",
    "           !grepl(\"Urgent\", visit_occurrence_concept_name)) %>%\n",
    "    filter(unit_concept_name != \"thousand per cubic millimeter\" &\n",
    "           unit_concept_name != \"gram per liter\" &\n",
    "           unit_concept_name != \"picogram\" &\n",
    "           unit_concept_name != \"microunit per liter\") %>%\n",
    "    filter(value_as_number >= 0) %>%\n",
    "    select(person_id, measurement_datetime, value_as_number) %>%\n",
    "    mutate_at(c('person_id'), as.character) %>%\n",
    "    mutate(across(where(is.character), ~na_if(., \"NULL\"))) %>%\n",
    "    na.omit() %>%\n",
    "    distinct() %>%\n",
    "    group_by(person_id) %>%\n",
    "    filter(value_as_number < (10 * median(value_as_number))) %>%\n",
    "    ungroup() %>%\n",
    "    filter(keep_outliers | value_as_number >= mean(value_as_number) - (4 * sd(value_as_number))) %>%\n",
    "    filter(keep_outliers | value_as_number <= mean(value_as_number) + (4 * sd(value_as_number))) \n",
    "\n",
    "dim(labs_formatted)\n",
    "head(labs_formatted, 5)\n"
   ]
  },
  {
   "cell_type": "code",
   "execution_count": null,
   "metadata": {
    "vscode": {
     "languageId": "r"
    }
   },
   "outputs": [],
   "source": [
    "min(labs_formatted$value_as_number)\n",
    "median(labs_formatted$value_as_number)\n",
    "mean(labs_formatted$value_as_number)\n",
    "max(labs_formatted$value_as_number)\n",
    "sd(labs_formatted$value_as_number)\n"
   ]
  },
  {
   "cell_type": "code",
   "execution_count": null,
   "metadata": {
    "vscode": {
     "languageId": "r"
    }
   },
   "outputs": [],
   "source": [
    "write.table(labs_formatted, \n",
    "    file=paste0(data_path, \"/dataframes/blood/AllofUs_v8_labs-Reticulocyte-percentages_wout_outliers_long_052724.txt\"), \n",
    "    row.names=FALSE, quote=FALSE, sep=\"\\t\")\n"
   ]
  },
  {
   "cell_type": "markdown",
   "metadata": {},
   "source": [
    "# Lymphocytes"
   ]
  },
  {
   "cell_type": "markdown",
   "metadata": {},
   "source": [
    "## Extract lymphocyte counts/percentages"
   ]
  },
  {
   "cell_type": "code",
   "execution_count": null,
   "metadata": {
    "vscode": {
     "languageId": "r"
    }
   },
   "outputs": [],
   "source": [
    "library(tidyverse)\n",
    "library(bigrquery)\n",
    "\n",
    "# This query represents dataset \"Pts with Lymphocytes\" for domain \"measurement\" and was generated for All of Us Controlled Tier Dataset v8\n",
    "dataset_64593798_measurement_sql <- paste(\"\n",
    "    SELECT\n",
    "        measurement.person_id,\n",
    "        measurement.measurement_concept_id,\n",
    "        m_standard_concept.concept_name as standard_concept_name,\n",
    "        m_standard_concept.concept_code as standard_concept_code,\n",
    "        m_standard_concept.vocabulary_id as standard_vocabulary,\n",
    "        measurement.measurement_datetime,\n",
    "        measurement.measurement_type_concept_id,\n",
    "        m_type.concept_name as measurement_type_concept_name,\n",
    "        measurement.operator_concept_id,\n",
    "        m_operator.concept_name as operator_concept_name,\n",
    "        measurement.value_as_number,\n",
    "        measurement.value_as_concept_id,\n",
    "        m_value.concept_name as value_as_concept_name,\n",
    "        measurement.unit_concept_id,\n",
    "        m_unit.concept_name as unit_concept_name,\n",
    "        measurement.range_low,\n",
    "        measurement.range_high,\n",
    "        measurement.visit_occurrence_id,\n",
    "        m_visit.concept_name as visit_occurrence_concept_name,\n",
    "        measurement.measurement_source_value,\n",
    "        measurement.measurement_source_concept_id,\n",
    "        m_source_concept.concept_name as source_concept_name,\n",
    "        m_source_concept.concept_code as source_concept_code,\n",
    "        m_source_concept.vocabulary_id as source_vocabulary,\n",
    "        measurement.unit_source_value,\n",
    "        measurement.value_source_value \n",
    "    FROM\n",
    "        ( SELECT\n",
    "            * \n",
    "        FROM\n",
    "            `measurement` measurement \n",
    "        WHERE\n",
    "            (\n",
    "                measurement_concept_id IN (SELECT\n",
    "                    DISTINCT c.concept_id \n",
    "                FROM\n",
    "                    `cb_criteria` c \n",
    "                JOIN\n",
    "                    (SELECT\n",
    "                        CAST(cr.id as string) AS id       \n",
    "                    FROM\n",
    "                        `cb_criteria` cr       \n",
    "                    WHERE\n",
    "                        concept_id IN (37031129, 37060904)       \n",
    "                        AND full_text LIKE '%_rank1]%'      ) a \n",
    "                        ON (c.path LIKE CONCAT('%.', a.id, '.%') \n",
    "                        OR c.path LIKE CONCAT('%.', a.id) \n",
    "                        OR c.path LIKE CONCAT(a.id, '.%') \n",
    "                        OR c.path = a.id) \n",
    "                WHERE\n",
    "                    is_standard = 1 \n",
    "                    AND is_selectable = 1)\n",
    "            )  \n",
    "            AND (\n",
    "                measurement.PERSON_ID IN (SELECT\n",
    "                    distinct person_id  \n",
    "                FROM\n",
    "                    `cb_search_person` cb_search_person  \n",
    "                WHERE\n",
    "                    cb_search_person.person_id IN (SELECT\n",
    "                        criteria.person_id \n",
    "                    FROM\n",
    "                        (SELECT\n",
    "                            DISTINCT person_id, entry_date, concept_id \n",
    "                        FROM\n",
    "                            `cb_search_all_events` \n",
    "                        WHERE\n",
    "                            (concept_id IN(SELECT\n",
    "                                DISTINCT c.concept_id \n",
    "                            FROM\n",
    "                                `cb_criteria` c \n",
    "                            JOIN\n",
    "                                (SELECT\n",
    "                                    CAST(cr.id as string) AS id       \n",
    "                                FROM\n",
    "                                    `cb_criteria` cr       \n",
    "                                WHERE\n",
    "                                    concept_id IN (37060904, 37031129)       \n",
    "                                    AND full_text LIKE '%_rank1]%'      ) a \n",
    "                                    ON (c.path LIKE CONCAT('%.', a.id, '.%') \n",
    "                                    OR c.path LIKE CONCAT('%.', a.id) \n",
    "                                    OR c.path LIKE CONCAT(a.id, '.%') \n",
    "                                    OR c.path = a.id) \n",
    "                            WHERE\n",
    "                                is_standard = 1 \n",
    "                                AND is_selectable = 1) \n",
    "                            AND is_standard = 1 )) criteria ) )\n",
    "            )) measurement \n",
    "    LEFT JOIN\n",
    "        `concept` m_standard_concept \n",
    "            ON measurement.measurement_concept_id = m_standard_concept.concept_id \n",
    "    LEFT JOIN\n",
    "        `concept` m_type \n",
    "            ON measurement.measurement_type_concept_id = m_type.concept_id \n",
    "    LEFT JOIN\n",
    "        `concept` m_operator \n",
    "            ON measurement.operator_concept_id = m_operator.concept_id \n",
    "    LEFT JOIN\n",
    "        `concept` m_value \n",
    "            ON measurement.value_as_concept_id = m_value.concept_id \n",
    "    LEFT JOIN\n",
    "        `concept` m_unit \n",
    "            ON measurement.unit_concept_id = m_unit.concept_id \n",
    "    LEFT JOIn\n",
    "        `visit_occurrence` v \n",
    "            ON measurement.visit_occurrence_id = v.visit_occurrence_id \n",
    "    LEFT JOIN\n",
    "        `concept` m_visit \n",
    "            ON v.visit_concept_id = m_visit.concept_id \n",
    "    LEFT JOIN\n",
    "        `concept` m_source_concept \n",
    "            ON measurement.measurement_source_concept_id = m_source_concept.concept_id\", sep=\"\")\n",
    "\n",
    "# Formulate a Cloud Storage destination path for the data exported from BigQuery.\n",
    "# NOTE: By default data exported multiple times on the same day will overwrite older copies.\n",
    "#       But data exported on a different days will write to a new location so that historical\n",
    "#       copies can be kept as the dataset definition is changed.\n",
    "measurement_64593798_path <- file.path(\n",
    "  Sys.getenv(\"WORKSPACE_BUCKET\"),\n",
    "  \"bq_exports\",\n",
    "  Sys.getenv(\"OWNER_EMAIL\"),\n",
    "  strftime(lubridate::now(), \"%Y%m%d\"),  # Comment out this line if you want the export to always overwrite.\n",
    "  \"measurement_64593798\",\n",
    "  \"measurement_64593798_*.csv\")\n",
    "message(str_glue('The data will be written to {measurement_64593798_path}. Use this path when reading ',\n",
    "                 'the data into your notebooks in the future.'))\n",
    "\n",
    "# Perform the query and export the dataset to Cloud Storage as CSV files.\n",
    "# NOTE: You only need to run `bq_table_save` once. After that, you can\n",
    "#       just read data from the CSVs in Cloud Storage.\n",
    "bq_table_save(\n",
    "  bq_dataset_query(Sys.getenv(\"WORKSPACE_CDR\"), dataset_64593798_measurement_sql, billing = Sys.getenv(\"GOOGLE_PROJECT\")),\n",
    "  measurement_64593798_path,\n",
    "  destination_format = \"CSV\")\n",
    "\n"
   ]
  },
  {
   "cell_type": "code",
   "execution_count": null,
   "metadata": {
    "vscode": {
     "languageId": "r"
    }
   },
   "outputs": [],
   "source": [
    "# Read the data directly from Cloud Storage into memory.\n",
    "# NOTE: Alternatively you can `gsutil -m cp {measurement_64593798_path}` to copy these files\n",
    "#       to the Jupyter disk.\n",
    "read_bq_export_from_workspace_bucket <- function(export_path) {\n",
    "  col_types <- cols(standard_concept_name = col_character(), standard_concept_code = col_character(), standard_vocabulary = col_character(), measurement_type_concept_name = col_character(), operator_concept_name = col_character(), value_as_concept_name = col_character(), unit_concept_name = col_character(), visit_occurrence_concept_name = col_character(), measurement_source_value = col_character(), source_concept_name = col_character(), source_concept_code = col_character(), source_vocabulary = col_character(), unit_source_value = col_character(), value_source_value = col_character())\n",
    "  bind_rows(\n",
    "    map(system2('gsutil', args = c('ls', export_path), stdout = TRUE, stderr = TRUE),\n",
    "        function(csv) {\n",
    "          message(str_glue('Loading {csv}.'))\n",
    "          chunk <- read_csv(pipe(str_glue('gsutil cat {csv}')), col_types = col_types, show_col_types = FALSE)\n",
    "          if (is.null(col_types)) {\n",
    "            col_types <- spec(chunk)\n",
    "          }\n",
    "          chunk\n",
    "        }))\n",
    "}\n",
    "#measurement_64593798_path <- \"gs://fc-secure-b96fb036-3379-4be0-8834-e7e486f2b76e/bq_exports/davidz1@researchallofus.org/20240527/measurement_64593798/measurement_64593798_*.csv\"\n",
    "dataset_64593798_measurement_df <- read_bq_export_from_workspace_bucket(measurement_64593798_path)\n",
    "\n",
    "dim(dataset_64593798_measurement_df)\n",
    "\n",
    "head(dataset_64593798_measurement_df, 5)"
   ]
  },
  {
   "cell_type": "markdown",
   "metadata": {},
   "source": [
    "## Process lymphoctye counts (thousand/uL)"
   ]
  },
  {
   "cell_type": "code",
   "execution_count": null,
   "metadata": {
    "vscode": {
     "languageId": "r"
    }
   },
   "outputs": [],
   "source": [
    "# Lymphocyte counts\n",
    "labs <- dataset_64593798_measurement_df %>%\n",
    "    filter(grepl(\"volume\", standard_concept_name))\n",
    "colnames(labs)\n",
    "length(unique(labs$person_id))\n",
    "\n",
    "#as.data.frame(table(labs$standard_concept_name)) %>% arrange(-Freq)\n",
    "\n",
    "#as.data.frame(table(labs$visit_occurrence_concept_name)) %>% arrange(-Freq)\n",
    "as.data.frame(table(labs$unit_concept_name)) %>% arrange(-Freq)\n",
    "quantile(labs$value_as_number[labs$unit_concept_name == \"No matching concept\"], na.rm=T)\n",
    "\n",
    "#median(labs$value_as_number, na.rm=T)\n",
    "\n",
    "#new_labs <- labs %>%\n",
    "#    filter(!grepl(\"Emergency\", visit_occurrence_concept_name) & !grepl(\"Intensive\", visit_occurrence_concept_name) &\n",
    "#          !grepl(\"Urgent\", visit_occurrence_concept_name))\n",
    "\n",
    "#as.data.frame(table(new_labs$visit_occurrence_concept_name)) %>% arrange(-Freq)\n",
    "#new_labs <- labs %>%\n",
    "#    filter(unit_concept_name == \"square meter\")\n",
    "#length(unique(new_labs$person_id))\n"
   ]
  },
  {
   "cell_type": "code",
   "execution_count": null,
   "metadata": {
    "vscode": {
     "languageId": "r"
    }
   },
   "outputs": [],
   "source": [
    "keep_outliers = FALSE\n",
    "\n",
    "# Do all the filtering specified at the top of the file\n",
    "labs_formatted <- labs %>%\n",
    "    filter(!grepl(\"Emergency\", visit_occurrence_concept_name) & \n",
    "           !grepl(\"Intensive\", visit_occurrence_concept_name) &\n",
    "           !grepl(\"Urgent\", visit_occurrence_concept_name)) %>%\n",
    "    filter(unit_concept_name != \"percent\" &\n",
    "           unit_concept_name != \"billion per liter\" &\n",
    "           unit_concept_name != \"per microliter\" &\n",
    "           unit_concept_name != \"no value\" &\n",
    "           unit_concept_name != \"nL\" &\n",
    "           unit_concept_name != \"cells per microliter\" &\n",
    "           unit_concept_name != \"/mcL\" &\n",
    "           unit_concept_name != \"cells/uL\" &\n",
    "           unit_concept_name != \"thousand\" &\n",
    "           unit_concept_name != \"cubic millimeter\" &\n",
    "           unit_concept_name != \"cells per cubic millimeter\" &\n",
    "           unit_concept_name != \"uL\" &\n",
    "           unit_concept_name != \"gram per liter\" &\n",
    "           unit_concept_name != \"microliter\" &\n",
    "           unit_concept_name != \"kelvin\" &\n",
    "           unit_concept_name != \"the number ten\" &\n",
    "           unit_concept_name != \"kilounit per liter\" &\n",
    "           unit_concept_name != \"millimeter\" &\n",
    "           unit_concept_name != \"unit per liter\" &\n",
    "           unit_concept_name != \"number ten\") %>%\n",
    "    filter(value_as_number >= 0) %>%\n",
    "    select(person_id, measurement_datetime, value_as_number) %>%\n",
    "    mutate_at(c('person_id'), as.character) %>%\n",
    "    mutate(across(where(is.character), ~na_if(., \"NULL\"))) %>%\n",
    "    na.omit() %>%\n",
    "    distinct() %>%\n",
    "    group_by(person_id) %>%\n",
    "    filter(value_as_number <= (10 * median(value_as_number))) %>%\n",
    "    ungroup() %>%\n",
    "    filter(keep_outliers | value_as_number >= mean(value_as_number) - (4 * sd(value_as_number))) %>%\n",
    "    filter(keep_outliers | value_as_number <= mean(value_as_number) + (4 * sd(value_as_number))) \n",
    "\n",
    "dim(labs_formatted)\n",
    "head(labs_formatted, 5)\n"
   ]
  },
  {
   "cell_type": "code",
   "execution_count": null,
   "metadata": {
    "vscode": {
     "languageId": "r"
    }
   },
   "outputs": [],
   "source": [
    "min(labs_formatted$value_as_number)\n",
    "median(labs_formatted$value_as_number)\n",
    "mean(labs_formatted$value_as_number)\n",
    "max(labs_formatted$value_as_number)\n",
    "sd(labs_formatted$value_as_number)\n"
   ]
  },
  {
   "cell_type": "code",
   "execution_count": null,
   "metadata": {
    "vscode": {
     "languageId": "r"
    }
   },
   "outputs": [],
   "source": [
    "write.table(labs_formatted, \n",
    "    file=paste0(data_path, \"/dataframes/blood/AllofUs_v8_labs-Lymphocyte-counts_wout_outliers_long_052724.txt\"), \n",
    "    row.names=FALSE, quote=FALSE, sep=\"\\t\")\n"
   ]
  },
  {
   "cell_type": "markdown",
   "metadata": {},
   "source": [
    "## Process lymphocyte percentages (%)"
   ]
  },
  {
   "cell_type": "code",
   "execution_count": null,
   "metadata": {
    "vscode": {
     "languageId": "r"
    }
   },
   "outputs": [],
   "source": [
    "# Lymphocyte percentages\n",
    "labs <- dataset_64593798_measurement_df %>%\n",
    "    filter(grepl(\"leukocytes\", standard_concept_name))\n",
    "colnames(labs)\n",
    "length(unique(labs$person_id))\n",
    "\n",
    "#as.data.frame(table(labs$standard_concept_name)) %>% arrange(-Freq)\n",
    "\n",
    "#as.data.frame(table(labs$visit_occurrence_concept_name)) %>% arrange(-Freq)\n",
    "as.data.frame(table(labs$unit_concept_name)) %>% arrange(-Freq)\n",
    "quantile(labs$value_as_number[labs$unit_concept_name == \"no value\"], na.rm=T)\n",
    "\n",
    "#median(labs$value_as_number, na.rm=T)\n",
    "\n",
    "#new_labs <- labs %>%\n",
    "#    filter(!grepl(\"Emergency\", visit_occurrence_concept_name) & !grepl(\"Intensive\", visit_occurrence_concept_name) &\n",
    "#          !grepl(\"Urgent\", visit_occurrence_concept_name))\n",
    "\n",
    "#as.data.frame(table(new_labs$visit_occurrence_concept_name)) %>% arrange(-Freq)\n",
    "#new_labs <- labs %>%\n",
    "#    filter(unit_concept_name == \"square meter\")\n",
    "#length(unique(new_labs$person_id))\n"
   ]
  },
  {
   "cell_type": "code",
   "execution_count": null,
   "metadata": {
    "vscode": {
     "languageId": "r"
    }
   },
   "outputs": [],
   "source": [
    "keep_outliers = FALSE\n",
    "\n",
    "# Do all the filtering specified at the top of the file\n",
    "labs_formatted <- labs %>%\n",
    "    filter(!grepl(\"Emergency\", visit_occurrence_concept_name) & \n",
    "           !grepl(\"Intensive\", visit_occurrence_concept_name) &\n",
    "           !grepl(\"Urgent\", visit_occurrence_concept_name)) %>%\n",
    "    filter(unit_concept_name != \"thousand per microliter\" &\n",
    "           unit_concept_name != \"thousand per cubic millimeter\" &\n",
    "           unit_concept_name != \"cells per microliter\" &\n",
    "           unit_concept_name != \"billion per liter\" &\n",
    "           unit_concept_name != \"cells\" &\n",
    "           unit_concept_name != \"cubic millimeter\" &\n",
    "           unit_concept_name != \"per microliter\") %>%\n",
    "    filter(value_as_number >= 0) %>%\n",
    "    select(person_id, measurement_datetime, value_as_number) %>%\n",
    "    mutate_at(c('person_id'), as.character) %>%\n",
    "    mutate(across(where(is.character), ~na_if(., \"NULL\"))) %>%\n",
    "    na.omit() %>%\n",
    "    distinct() %>%\n",
    "    group_by(person_id) %>%\n",
    "    filter(value_as_number <= (10 * median(value_as_number))) %>%\n",
    "    ungroup() %>%\n",
    "    filter(keep_outliers | value_as_number >= mean(value_as_number) - (4 * sd(value_as_number))) %>%\n",
    "    filter(keep_outliers | value_as_number <= mean(value_as_number) + (4 * sd(value_as_number))) \n",
    "\n",
    "dim(labs_formatted)\n",
    "head(labs_formatted, 5)\n"
   ]
  },
  {
   "cell_type": "code",
   "execution_count": null,
   "metadata": {
    "vscode": {
     "languageId": "r"
    }
   },
   "outputs": [],
   "source": [
    "min(labs_formatted$value_as_number)\n",
    "median(labs_formatted$value_as_number)\n",
    "mean(labs_formatted$value_as_number)\n",
    "max(labs_formatted$value_as_number)\n",
    "sd(labs_formatted$value_as_number)\n"
   ]
  },
  {
   "cell_type": "code",
   "execution_count": null,
   "metadata": {
    "vscode": {
     "languageId": "r"
    }
   },
   "outputs": [],
   "source": [
    "write.table(labs_formatted, \n",
    "    file=paste0(data_path, \"/dataframes/blood/AllofUs_v8_labs-Lymphocyte-percentages_wout_outliers_long_052724.txt\"), \n",
    "    row.names=FALSE, quote=FALSE, sep=\"\\t\")\n"
   ]
  },
  {
   "cell_type": "markdown",
   "metadata": {},
   "source": [
    "# Monocytes"
   ]
  },
  {
   "cell_type": "markdown",
   "metadata": {},
   "source": [
    "## Extract monocyte counts/percentages"
   ]
  },
  {
   "cell_type": "code",
   "execution_count": null,
   "metadata": {
    "vscode": {
     "languageId": "r"
    }
   },
   "outputs": [],
   "source": [
    "library(tidyverse)\n",
    "library(bigrquery)\n",
    "\n",
    "# This query represents dataset \"Pts with Monocytes\" for domain \"measurement\" and was generated for All of Us Controlled Tier Dataset v8\n",
    "dataset_95770305_measurement_sql <- paste(\"\n",
    "    SELECT\n",
    "        measurement.person_id,\n",
    "        measurement.measurement_concept_id,\n",
    "        m_standard_concept.concept_name as standard_concept_name,\n",
    "        m_standard_concept.concept_code as standard_concept_code,\n",
    "        m_standard_concept.vocabulary_id as standard_vocabulary,\n",
    "        measurement.measurement_datetime,\n",
    "        measurement.measurement_type_concept_id,\n",
    "        m_type.concept_name as measurement_type_concept_name,\n",
    "        measurement.operator_concept_id,\n",
    "        m_operator.concept_name as operator_concept_name,\n",
    "        measurement.value_as_number,\n",
    "        measurement.value_as_concept_id,\n",
    "        m_value.concept_name as value_as_concept_name,\n",
    "        measurement.unit_concept_id,\n",
    "        m_unit.concept_name as unit_concept_name,\n",
    "        measurement.range_low,\n",
    "        measurement.range_high,\n",
    "        measurement.visit_occurrence_id,\n",
    "        m_visit.concept_name as visit_occurrence_concept_name,\n",
    "        measurement.measurement_source_value,\n",
    "        measurement.measurement_source_concept_id,\n",
    "        m_source_concept.concept_name as source_concept_name,\n",
    "        m_source_concept.concept_code as source_concept_code,\n",
    "        m_source_concept.vocabulary_id as source_vocabulary,\n",
    "        measurement.unit_source_value,\n",
    "        measurement.value_source_value \n",
    "    FROM\n",
    "        ( SELECT\n",
    "            * \n",
    "        FROM\n",
    "            `measurement` measurement \n",
    "        WHERE\n",
    "            (\n",
    "                measurement_concept_id IN (SELECT\n",
    "                    DISTINCT c.concept_id \n",
    "                FROM\n",
    "                    `cb_criteria` c \n",
    "                JOIN\n",
    "                    (SELECT\n",
    "                        CAST(cr.id as string) AS id       \n",
    "                    FROM\n",
    "                        `cb_criteria` cr       \n",
    "                    WHERE\n",
    "                        concept_id IN (37040193, 37060555)       \n",
    "                        AND full_text LIKE '%_rank1]%'      ) a \n",
    "                        ON (c.path LIKE CONCAT('%.', a.id, '.%') \n",
    "                        OR c.path LIKE CONCAT('%.', a.id) \n",
    "                        OR c.path LIKE CONCAT(a.id, '.%') \n",
    "                        OR c.path = a.id) \n",
    "                WHERE\n",
    "                    is_standard = 1 \n",
    "                    AND is_selectable = 1)\n",
    "            )  \n",
    "            AND (\n",
    "                measurement.PERSON_ID IN (SELECT\n",
    "                    distinct person_id  \n",
    "                FROM\n",
    "                    `cb_search_person` cb_search_person  \n",
    "                WHERE\n",
    "                    cb_search_person.person_id IN (SELECT\n",
    "                        criteria.person_id \n",
    "                    FROM\n",
    "                        (SELECT\n",
    "                            DISTINCT person_id, entry_date, concept_id \n",
    "                        FROM\n",
    "                            `cb_search_all_events` \n",
    "                        WHERE\n",
    "                            (concept_id IN(SELECT\n",
    "                                DISTINCT c.concept_id \n",
    "                            FROM\n",
    "                                `cb_criteria` c \n",
    "                            JOIN\n",
    "                                (SELECT\n",
    "                                    CAST(cr.id as string) AS id       \n",
    "                                FROM\n",
    "                                    `cb_criteria` cr       \n",
    "                                WHERE\n",
    "                                    concept_id IN (37060555, 37040193)       \n",
    "                                    AND full_text LIKE '%_rank1]%'      ) a \n",
    "                                    ON (c.path LIKE CONCAT('%.', a.id, '.%') \n",
    "                                    OR c.path LIKE CONCAT('%.', a.id) \n",
    "                                    OR c.path LIKE CONCAT(a.id, '.%') \n",
    "                                    OR c.path = a.id) \n",
    "                            WHERE\n",
    "                                is_standard = 1 \n",
    "                                AND is_selectable = 1) \n",
    "                            AND is_standard = 1 )) criteria ) )\n",
    "            )) measurement \n",
    "    LEFT JOIN\n",
    "        `concept` m_standard_concept \n",
    "            ON measurement.measurement_concept_id = m_standard_concept.concept_id \n",
    "    LEFT JOIN\n",
    "        `concept` m_type \n",
    "            ON measurement.measurement_type_concept_id = m_type.concept_id \n",
    "    LEFT JOIN\n",
    "        `concept` m_operator \n",
    "            ON measurement.operator_concept_id = m_operator.concept_id \n",
    "    LEFT JOIN\n",
    "        `concept` m_value \n",
    "            ON measurement.value_as_concept_id = m_value.concept_id \n",
    "    LEFT JOIN\n",
    "        `concept` m_unit \n",
    "            ON measurement.unit_concept_id = m_unit.concept_id \n",
    "    LEFT JOIn\n",
    "        `visit_occurrence` v \n",
    "            ON measurement.visit_occurrence_id = v.visit_occurrence_id \n",
    "    LEFT JOIN\n",
    "        `concept` m_visit \n",
    "            ON v.visit_concept_id = m_visit.concept_id \n",
    "    LEFT JOIN\n",
    "        `concept` m_source_concept \n",
    "            ON measurement.measurement_source_concept_id = m_source_concept.concept_id\", sep=\"\")\n",
    "\n",
    "# Formulate a Cloud Storage destination path for the data exported from BigQuery.\n",
    "# NOTE: By default data exported multiple times on the same day will overwrite older copies.\n",
    "#       But data exported on a different days will write to a new location so that historical\n",
    "#       copies can be kept as the dataset definition is changed.\n",
    "measurement_95770305_path <- file.path(\n",
    "  Sys.getenv(\"WORKSPACE_BUCKET\"),\n",
    "  \"bq_exports\",\n",
    "  Sys.getenv(\"OWNER_EMAIL\"),\n",
    "  strftime(lubridate::now(), \"%Y%m%d\"),  # Comment out this line if you want the export to always overwrite.\n",
    "  \"measurement_95770305\",\n",
    "  \"measurement_95770305_*.csv\")\n",
    "message(str_glue('The data will be written to {measurement_95770305_path}. Use this path when reading ',\n",
    "                 'the data into your notebooks in the future.'))\n",
    "\n",
    "# Perform the query and export the dataset to Cloud Storage as CSV files.\n",
    "# NOTE: You only need to run `bq_table_save` once. After that, you can\n",
    "#       just read data from the CSVs in Cloud Storage.\n",
    "bq_table_save(\n",
    "  bq_dataset_query(Sys.getenv(\"WORKSPACE_CDR\"), dataset_95770305_measurement_sql, billing = Sys.getenv(\"GOOGLE_PROJECT\")),\n",
    "  measurement_95770305_path,\n",
    "  destination_format = \"CSV\")\n",
    "\n"
   ]
  },
  {
   "cell_type": "code",
   "execution_count": null,
   "metadata": {
    "vscode": {
     "languageId": "r"
    }
   },
   "outputs": [],
   "source": [
    "# Read the data directly from Cloud Storage into memory.\n",
    "# NOTE: Alternatively you can `gsutil -m cp {measurement_95770305_path}` to copy these files\n",
    "#       to the Jupyter disk.\n",
    "read_bq_export_from_workspace_bucket <- function(export_path) {\n",
    "  col_types <- cols(standard_concept_name = col_character(), standard_concept_code = col_character(), standard_vocabulary = col_character(), measurement_type_concept_name = col_character(), operator_concept_name = col_character(), value_as_concept_name = col_character(), unit_concept_name = col_character(), visit_occurrence_concept_name = col_character(), measurement_source_value = col_character(), source_concept_name = col_character(), source_concept_code = col_character(), source_vocabulary = col_character(), unit_source_value = col_character(), value_source_value = col_character())\n",
    "  bind_rows(\n",
    "    map(system2('gsutil', args = c('ls', export_path), stdout = TRUE, stderr = TRUE),\n",
    "        function(csv) {\n",
    "          message(str_glue('Loading {csv}.'))\n",
    "          chunk <- read_csv(pipe(str_glue('gsutil cat {csv}')), col_types = col_types, show_col_types = FALSE)\n",
    "          if (is.null(col_types)) {\n",
    "            col_types <- spec(chunk)\n",
    "          }\n",
    "          chunk\n",
    "        }))\n",
    "}\n",
    "#measurement_95770305_path <- \"gs://fc-secure-b96fb036-3379-4be0-8834-e7e486f2b76e/bq_exports/davidz1@researchallofus.org/20240527/measurement_95770305/measurement_95770305_*.csv\"\n",
    "dataset_95770305_measurement_df <- read_bq_export_from_workspace_bucket(measurement_95770305_path)\n",
    "\n",
    "dim(dataset_95770305_measurement_df)\n",
    "\n",
    "head(dataset_95770305_measurement_df, 5)"
   ]
  },
  {
   "cell_type": "markdown",
   "metadata": {},
   "source": [
    "## Process monocyte counts (thousand/uL)"
   ]
  },
  {
   "cell_type": "code",
   "execution_count": null,
   "metadata": {
    "vscode": {
     "languageId": "r"
    }
   },
   "outputs": [],
   "source": [
    "# Monocyte counts\n",
    "labs <- dataset_95770305_measurement_df %>%\n",
    "    filter(grepl(\"volume\", standard_concept_name))\n",
    "colnames(labs)\n",
    "length(unique(labs$person_id))\n",
    "\n",
    "#as.data.frame(table(labs$standard_concept_name)) %>% arrange(-Freq)\n",
    "\n",
    "#as.data.frame(table(labs$visit_occurrence_concept_name)) %>% arrange(-Freq)\n",
    "as.data.frame(table(labs$unit_concept_name)) %>% arrange(-Freq)\n",
    "quantile(labs$value_as_number[labs$unit_concept_name == \"No matching concept\"], na.rm=T)\n",
    "\n",
    "#median(labs$value_as_number, na.rm=T)\n",
    "\n",
    "#new_labs <- labs %>%\n",
    "#    filter(!grepl(\"Emergency\", visit_occurrence_concept_name) & !grepl(\"Intensive\", visit_occurrence_concept_name) &\n",
    "#          !grepl(\"Urgent\", visit_occurrence_concept_name))\n",
    "\n",
    "#as.data.frame(table(new_labs$visit_occurrence_concept_name)) %>% arrange(-Freq)\n",
    "#new_labs <- labs %>%\n",
    "#    filter(unit_concept_name == \"square meter\")\n",
    "#length(unique(new_labs$person_id))\n"
   ]
  },
  {
   "cell_type": "code",
   "execution_count": null,
   "metadata": {
    "vscode": {
     "languageId": "r"
    }
   },
   "outputs": [],
   "source": [
    "keep_outliers = FALSE\n",
    "\n",
    "# Do all the filtering specified at the top of the file\n",
    "labs_formatted <- labs %>%\n",
    "    filter(!grepl(\"Emergency\", visit_occurrence_concept_name) & \n",
    "           !grepl(\"Intensive\", visit_occurrence_concept_name) &\n",
    "           !grepl(\"Urgent\", visit_occurrence_concept_name)) %>%\n",
    "    filter(unit_concept_name != \"percent\" &\n",
    "           unit_concept_name != \"per microliter\" &\n",
    "           unit_concept_name != \"billion per liter\" &\n",
    "           unit_concept_name != \"nL\" &\n",
    "           unit_concept_name != \"no value\" &\n",
    "           unit_concept_name != \"cells per microliter\" &\n",
    "           unit_concept_name != \"cells/uL\" &\n",
    "           unit_concept_name != \"thousand\" &\n",
    "           unit_concept_name != \"cubic millimeter\" &\n",
    "           unit_concept_name != \"gram per liter\" &\n",
    "           unit_concept_name != \"the number ten\" &\n",
    "           unit_concept_name != \"kilounit per liter\" &\n",
    "           unit_concept_name != \"number ten\") %>%\n",
    "    filter(value_as_number >= 0) %>%\n",
    "    select(person_id, measurement_datetime, value_as_number) %>%\n",
    "    mutate_at(c('person_id'), as.character) %>%\n",
    "    mutate(across(where(is.character), ~na_if(., \"NULL\"))) %>%\n",
    "    na.omit() %>%\n",
    "    distinct() %>%\n",
    "    group_by(person_id) %>%\n",
    "    filter(value_as_number <= (10 * median(value_as_number))) %>%\n",
    "    ungroup() %>%\n",
    "    filter(keep_outliers | value_as_number >= mean(value_as_number) - (4 * sd(value_as_number))) %>%\n",
    "    filter(keep_outliers | value_as_number <= mean(value_as_number) + (4 * sd(value_as_number))) \n",
    "\n",
    "dim(labs_formatted)\n",
    "head(labs_formatted, 5)\n"
   ]
  },
  {
   "cell_type": "code",
   "execution_count": null,
   "metadata": {
    "vscode": {
     "languageId": "r"
    }
   },
   "outputs": [],
   "source": [
    "min(labs_formatted$value_as_number)\n",
    "median(labs_formatted$value_as_number)\n",
    "mean(labs_formatted$value_as_number)\n",
    "max(labs_formatted$value_as_number)\n",
    "sd(labs_formatted$value_as_number)\n"
   ]
  },
  {
   "cell_type": "code",
   "execution_count": null,
   "metadata": {
    "vscode": {
     "languageId": "r"
    }
   },
   "outputs": [],
   "source": [
    "write.table(labs_formatted, \n",
    "    file=paste0(data_path, \"/dataframes/blood/AllofUs_v8_labs-Monocyte-counts_wout_outliers_long_052724.txt\"), \n",
    "    row.names=FALSE, quote=FALSE, sep=\"\\t\")\n"
   ]
  },
  {
   "cell_type": "markdown",
   "metadata": {},
   "source": [
    "## Process monocyte percentages (%)"
   ]
  },
  {
   "cell_type": "code",
   "execution_count": null,
   "metadata": {
    "vscode": {
     "languageId": "r"
    }
   },
   "outputs": [],
   "source": [
    "# Monocyte percentages\n",
    "labs <- dataset_95770305_measurement_df %>%\n",
    "    filter(grepl(\"leukocytes\", standard_concept_name))\n",
    "colnames(labs)\n",
    "length(unique(labs$person_id))\n",
    "\n",
    "#as.data.frame(table(labs$standard_concept_name)) %>% arrange(-Freq)\n",
    "\n",
    "#as.data.frame(table(labs$visit_occurrence_concept_name)) %>% arrange(-Freq)\n",
    "as.data.frame(table(labs$unit_concept_name)) %>% arrange(-Freq)\n",
    "quantile(labs$value_as_number[labs$unit_concept_name == \"no value\"], na.rm=T)\n",
    "\n",
    "#median(labs$value_as_number, na.rm=T)\n",
    "\n",
    "#new_labs <- labs %>%\n",
    "#    filter(!grepl(\"Emergency\", visit_occurrence_concept_name) & !grepl(\"Intensive\", visit_occurrence_concept_name) &\n",
    "#          !grepl(\"Urgent\", visit_occurrence_concept_name))\n",
    "\n",
    "#as.data.frame(table(new_labs$visit_occurrence_concept_name)) %>% arrange(-Freq)\n",
    "#new_labs <- labs %>%\n",
    "#    filter(unit_concept_name == \"square meter\")\n",
    "#length(unique(new_labs$person_id))\n"
   ]
  },
  {
   "cell_type": "code",
   "execution_count": null,
   "metadata": {
    "vscode": {
     "languageId": "r"
    }
   },
   "outputs": [],
   "source": [
    "keep_outliers = FALSE\n",
    "\n",
    "# Do all the filtering specified at the top of the file\n",
    "labs_formatted <- labs %>%\n",
    "    filter(!grepl(\"Emergency\", visit_occurrence_concept_name) & \n",
    "           !grepl(\"Intensive\", visit_occurrence_concept_name) &\n",
    "           !grepl(\"Urgent\", visit_occurrence_concept_name)) %>%\n",
    "    filter(unit_concept_name != \"thousand per microliter\" &\n",
    "           unit_concept_name != \"cells per microliter\" &\n",
    "           unit_concept_name != \"thousand per cubic millimeter\" &\n",
    "           unit_concept_name != \"billion per liter\" &\n",
    "           unit_concept_name != \"kelvin\" &\n",
    "           unit_concept_name != \"cells\" &\n",
    "           unit_concept_name != \"femtoliter\" &\n",
    "           unit_concept_name != \"milliliter\" &\n",
    "           unit_concept_name != \"unit per liter\") %>%\n",
    "    filter(value_as_number >= 0) %>%\n",
    "    select(person_id, measurement_datetime, value_as_number) %>%\n",
    "    mutate_at(c('person_id'), as.character) %>%\n",
    "    mutate(across(where(is.character), ~na_if(., \"NULL\"))) %>%\n",
    "    na.omit() %>%\n",
    "    distinct() %>%\n",
    "    group_by(person_id) %>%\n",
    "    filter(value_as_number <= (10 * median(value_as_number))) %>%\n",
    "    ungroup() %>%\n",
    "    filter(keep_outliers | value_as_number >= mean(value_as_number) - (4 * sd(value_as_number))) %>%\n",
    "    filter(keep_outliers | value_as_number <= mean(value_as_number) + (4 * sd(value_as_number))) \n",
    "\n",
    "dim(labs_formatted)\n",
    "head(labs_formatted, 5)\n"
   ]
  },
  {
   "cell_type": "code",
   "execution_count": null,
   "metadata": {
    "vscode": {
     "languageId": "r"
    }
   },
   "outputs": [],
   "source": [
    "min(labs_formatted$value_as_number)\n",
    "median(labs_formatted$value_as_number)\n",
    "mean(labs_formatted$value_as_number)\n",
    "max(labs_formatted$value_as_number)\n",
    "sd(labs_formatted$value_as_number)\n"
   ]
  },
  {
   "cell_type": "code",
   "execution_count": null,
   "metadata": {
    "vscode": {
     "languageId": "r"
    }
   },
   "outputs": [],
   "source": [
    "write.table(labs_formatted, \n",
    "    file=paste0(data_path, \"/dataframes/blood/AllofUs_v8_labs-Monocyte-percentages_wout_outliers_long_052724.txt\"), \n",
    "    row.names=FALSE, quote=FALSE, sep=\"\\t\")\n"
   ]
  },
  {
   "cell_type": "markdown",
   "metadata": {},
   "source": [
    "# Neutrophils"
   ]
  },
  {
   "cell_type": "markdown",
   "metadata": {},
   "source": [
    "## Extract neutrophil counts/percentages"
   ]
  },
  {
   "cell_type": "code",
   "execution_count": null,
   "metadata": {
    "vscode": {
     "languageId": "r"
    }
   },
   "outputs": [],
   "source": [
    "library(tidyverse)\n",
    "library(bigrquery)\n",
    "\n",
    "# This query represents dataset \"Pts with Neutrophils\" for domain \"measurement\" and was generated for All of Us Controlled Tier Dataset v8\n",
    "dataset_99967281_measurement_sql <- paste(\"\n",
    "    SELECT\n",
    "        measurement.person_id,\n",
    "        measurement.measurement_concept_id,\n",
    "        m_standard_concept.concept_name as standard_concept_name,\n",
    "        m_standard_concept.concept_code as standard_concept_code,\n",
    "        m_standard_concept.vocabulary_id as standard_vocabulary,\n",
    "        measurement.measurement_datetime,\n",
    "        measurement.measurement_type_concept_id,\n",
    "        m_type.concept_name as measurement_type_concept_name,\n",
    "        measurement.operator_concept_id,\n",
    "        m_operator.concept_name as operator_concept_name,\n",
    "        measurement.value_as_number,\n",
    "        measurement.value_as_concept_id,\n",
    "        m_value.concept_name as value_as_concept_name,\n",
    "        measurement.unit_concept_id,\n",
    "        m_unit.concept_name as unit_concept_name,\n",
    "        measurement.range_low,\n",
    "        measurement.range_high,\n",
    "        measurement.visit_occurrence_id,\n",
    "        m_visit.concept_name as visit_occurrence_concept_name,\n",
    "        measurement.measurement_source_value,\n",
    "        measurement.measurement_source_concept_id,\n",
    "        m_source_concept.concept_name as source_concept_name,\n",
    "        m_source_concept.concept_code as source_concept_code,\n",
    "        m_source_concept.vocabulary_id as source_vocabulary,\n",
    "        measurement.unit_source_value,\n",
    "        measurement.value_source_value \n",
    "    FROM\n",
    "        ( SELECT\n",
    "            * \n",
    "        FROM\n",
    "            `measurement` measurement \n",
    "        WHERE\n",
    "            (\n",
    "                measurement_concept_id IN (SELECT\n",
    "                    DISTINCT c.concept_id \n",
    "                FROM\n",
    "                    `cb_criteria` c \n",
    "                JOIN\n",
    "                    (SELECT\n",
    "                        CAST(cr.id as string) AS id       \n",
    "                    FROM\n",
    "                        `cb_criteria` cr       \n",
    "                    WHERE\n",
    "                        concept_id IN (37028517, 37045722)       \n",
    "                        AND full_text LIKE '%_rank1]%'      ) a \n",
    "                        ON (c.path LIKE CONCAT('%.', a.id, '.%') \n",
    "                        OR c.path LIKE CONCAT('%.', a.id) \n",
    "                        OR c.path LIKE CONCAT(a.id, '.%') \n",
    "                        OR c.path = a.id) \n",
    "                WHERE\n",
    "                    is_standard = 1 \n",
    "                    AND is_selectable = 1)\n",
    "            )  \n",
    "            AND (\n",
    "                measurement.PERSON_ID IN (SELECT\n",
    "                    distinct person_id  \n",
    "                FROM\n",
    "                    `cb_search_person` cb_search_person  \n",
    "                WHERE\n",
    "                    cb_search_person.person_id IN (SELECT\n",
    "                        criteria.person_id \n",
    "                    FROM\n",
    "                        (SELECT\n",
    "                            DISTINCT person_id, entry_date, concept_id \n",
    "                        FROM\n",
    "                            `cb_search_all_events` \n",
    "                        WHERE\n",
    "                            (concept_id IN(SELECT\n",
    "                                DISTINCT c.concept_id \n",
    "                            FROM\n",
    "                                `cb_criteria` c \n",
    "                            JOIN\n",
    "                                (SELECT\n",
    "                                    CAST(cr.id as string) AS id       \n",
    "                                FROM\n",
    "                                    `cb_criteria` cr       \n",
    "                                WHERE\n",
    "                                    concept_id IN (37028517, 37045722)       \n",
    "                                    AND full_text LIKE '%_rank1]%'      ) a \n",
    "                                    ON (c.path LIKE CONCAT('%.', a.id, '.%') \n",
    "                                    OR c.path LIKE CONCAT('%.', a.id) \n",
    "                                    OR c.path LIKE CONCAT(a.id, '.%') \n",
    "                                    OR c.path = a.id) \n",
    "                            WHERE\n",
    "                                is_standard = 1 \n",
    "                                AND is_selectable = 1) \n",
    "                            AND is_standard = 1 )) criteria ) )\n",
    "            )) measurement \n",
    "    LEFT JOIN\n",
    "        `concept` m_standard_concept \n",
    "            ON measurement.measurement_concept_id = m_standard_concept.concept_id \n",
    "    LEFT JOIN\n",
    "        `concept` m_type \n",
    "            ON measurement.measurement_type_concept_id = m_type.concept_id \n",
    "    LEFT JOIN\n",
    "        `concept` m_operator \n",
    "            ON measurement.operator_concept_id = m_operator.concept_id \n",
    "    LEFT JOIN\n",
    "        `concept` m_value \n",
    "            ON measurement.value_as_concept_id = m_value.concept_id \n",
    "    LEFT JOIN\n",
    "        `concept` m_unit \n",
    "            ON measurement.unit_concept_id = m_unit.concept_id \n",
    "    LEFT JOIn\n",
    "        `visit_occurrence` v \n",
    "            ON measurement.visit_occurrence_id = v.visit_occurrence_id \n",
    "    LEFT JOIN\n",
    "        `concept` m_visit \n",
    "            ON v.visit_concept_id = m_visit.concept_id \n",
    "    LEFT JOIN\n",
    "        `concept` m_source_concept \n",
    "            ON measurement.measurement_source_concept_id = m_source_concept.concept_id\", sep=\"\")\n",
    "\n",
    "# Formulate a Cloud Storage destination path for the data exported from BigQuery.\n",
    "# NOTE: By default data exported multiple times on the same day will overwrite older copies.\n",
    "#       But data exported on a different days will write to a new location so that historical\n",
    "#       copies can be kept as the dataset definition is changed.\n",
    "measurement_99967281_path <- file.path(\n",
    "  Sys.getenv(\"WORKSPACE_BUCKET\"),\n",
    "  \"bq_exports\",\n",
    "  Sys.getenv(\"OWNER_EMAIL\"),\n",
    "  strftime(lubridate::now(), \"%Y%m%d\"),  # Comment out this line if you want the export to always overwrite.\n",
    "  \"measurement_99967281\",\n",
    "  \"measurement_99967281_*.csv\")\n",
    "message(str_glue('The data will be written to {measurement_99967281_path}. Use this path when reading ',\n",
    "                 'the data into your notebooks in the future.'))\n",
    "\n",
    "# Perform the query and export the dataset to Cloud Storage as CSV files.\n",
    "# NOTE: You only need to run `bq_table_save` once. After that, you can\n",
    "#       just read data from the CSVs in Cloud Storage.\n",
    "bq_table_save(\n",
    "  bq_dataset_query(Sys.getenv(\"WORKSPACE_CDR\"), dataset_99967281_measurement_sql, billing = Sys.getenv(\"GOOGLE_PROJECT\")),\n",
    "  measurement_99967281_path,\n",
    "  destination_format = \"CSV\")\n",
    "\n"
   ]
  },
  {
   "cell_type": "code",
   "execution_count": null,
   "metadata": {
    "vscode": {
     "languageId": "r"
    }
   },
   "outputs": [],
   "source": [
    "# Read the data directly from Cloud Storage into memory.\n",
    "# NOTE: Alternatively you can `gsutil -m cp {measurement_99967281_path}` to copy these files\n",
    "#       to the Jupyter disk.\n",
    "read_bq_export_from_workspace_bucket <- function(export_path) {\n",
    "  col_types <- cols(standard_concept_name = col_character(), standard_concept_code = col_character(), standard_vocabulary = col_character(), measurement_type_concept_name = col_character(), operator_concept_name = col_character(), value_as_concept_name = col_character(), unit_concept_name = col_character(), visit_occurrence_concept_name = col_character(), measurement_source_value = col_character(), source_concept_name = col_character(), source_concept_code = col_character(), source_vocabulary = col_character(), unit_source_value = col_character(), value_source_value = col_character())\n",
    "  bind_rows(\n",
    "    map(system2('gsutil', args = c('ls', export_path), stdout = TRUE, stderr = TRUE),\n",
    "        function(csv) {\n",
    "          message(str_glue('Loading {csv}.'))\n",
    "          chunk <- read_csv(pipe(str_glue('gsutil cat {csv}')), col_types = col_types, show_col_types = FALSE)\n",
    "          if (is.null(col_types)) {\n",
    "            col_types <- spec(chunk)\n",
    "          }\n",
    "          chunk\n",
    "        }))\n",
    "}\n",
    "#measurement_99967281_path <- \"gs://fc-secure-b96fb036-3379-4be0-8834-e7e486f2b76e/bq_exports/davidz1@researchallofus.org/20240527/measurement_99967281/measurement_99967281_*.csv\"\n",
    "dataset_99967281_measurement_df <- read_bq_export_from_workspace_bucket(measurement_99967281_path)\n",
    "\n",
    "dim(dataset_99967281_measurement_df)\n",
    "\n",
    "head(dataset_99967281_measurement_df, 5)"
   ]
  },
  {
   "cell_type": "markdown",
   "metadata": {},
   "source": [
    "## Process neutrophil counts (thousand/uL)"
   ]
  },
  {
   "cell_type": "code",
   "execution_count": null,
   "metadata": {
    "vscode": {
     "languageId": "r"
    }
   },
   "outputs": [],
   "source": [
    "# Neutrophil counts\n",
    "labs <- dataset_99967281_measurement_df %>%\n",
    "    filter(grepl(\"volume\", standard_concept_name))\n",
    "colnames(labs)\n",
    "length(unique(labs$person_id))\n",
    "\n",
    "#as.data.frame(table(labs$standard_concept_name)) %>% arrange(-Freq)\n",
    "\n",
    "#as.data.frame(table(labs$visit_occurrence_concept_name)) %>% arrange(-Freq)\n",
    "as.data.frame(table(labs$unit_concept_name)) %>% arrange(-Freq)\n",
    "quantile(labs$value_as_number[labs$unit_concept_name == \"No matching concept\"], na.rm=T)\n",
    "\n",
    "#median(labs$value_as_number, na.rm=T)\n",
    "\n",
    "#new_labs <- labs %>%\n",
    "#    filter(!grepl(\"Emergency\", visit_occurrence_concept_name) & !grepl(\"Intensive\", visit_occurrence_concept_name) &\n",
    "#          !grepl(\"Urgent\", visit_occurrence_concept_name))\n",
    "\n",
    "#as.data.frame(table(new_labs$visit_occurrence_concept_name)) %>% arrange(-Freq)\n",
    "#new_labs <- labs %>%\n",
    "#    filter(unit_concept_name == \"square meter\")\n",
    "#length(unique(new_labs$person_id))\n"
   ]
  },
  {
   "cell_type": "code",
   "execution_count": null,
   "metadata": {
    "vscode": {
     "languageId": "r"
    }
   },
   "outputs": [],
   "source": [
    "keep_outliers = FALSE\n",
    "\n",
    "# Do all the filtering specified at the top of the file\n",
    "labs_formatted <- labs %>%\n",
    "    filter(!grepl(\"Emergency\", visit_occurrence_concept_name) & \n",
    "           !grepl(\"Intensive\", visit_occurrence_concept_name) &\n",
    "           !grepl(\"Urgent\", visit_occurrence_concept_name)) %>%\n",
    "    filter(unit_concept_name != \"percent\" &\n",
    "           unit_concept_name != \"per microliter\" &\n",
    "           unit_concept_name != \"billion per liter\" &\n",
    "           unit_concept_name != \"nL\" &\n",
    "           unit_concept_name != \"cells per microliter\" &\n",
    "           unit_concept_name != \"no value\" &\n",
    "           unit_concept_name != \"/mm3\" &\n",
    "           unit_concept_name != \"thousand\" &\n",
    "           unit_concept_name != \"cubic millimeter\" &\n",
    "           unit_concept_name != \"gram per liter\" &\n",
    "           unit_concept_name != \"cells/uL\" &\n",
    "           unit_concept_name != \"microliter\" &\n",
    "           unit_concept_name != \"Percentage unit\" &\n",
    "           unit_concept_name != \"the number ten\" &\n",
    "           unit_concept_name != \"kilounit per liter\" &\n",
    "           unit_concept_name != \"/mcL\" &\n",
    "           unit_concept_name != \"number ten\" &\n",
    "           unit_concept_name != \"kelvin\") %>%\n",
    "    filter(value_as_number >= 0) %>%\n",
    "    select(person_id, measurement_datetime, value_as_number) %>%\n",
    "    mutate_at(c('person_id'), as.character) %>%\n",
    "    mutate(across(where(is.character), ~na_if(., \"NULL\"))) %>%\n",
    "    na.omit() %>%\n",
    "    distinct() %>%\n",
    "    group_by(person_id) %>%\n",
    "    filter(value_as_number <= (10 * median(value_as_number))) %>%\n",
    "    ungroup() %>%\n",
    "    filter(keep_outliers | value_as_number >= mean(value_as_number) - (4 * sd(value_as_number))) %>%\n",
    "    filter(keep_outliers | value_as_number <= mean(value_as_number) + (4 * sd(value_as_number))) \n",
    "\n",
    "dim(labs_formatted)\n",
    "head(labs_formatted, 5)\n"
   ]
  },
  {
   "cell_type": "code",
   "execution_count": null,
   "metadata": {
    "vscode": {
     "languageId": "r"
    }
   },
   "outputs": [],
   "source": [
    "min(labs_formatted$value_as_number)\n",
    "median(labs_formatted$value_as_number)\n",
    "mean(labs_formatted$value_as_number)\n",
    "max(labs_formatted$value_as_number)\n",
    "sd(labs_formatted$value_as_number)\n"
   ]
  },
  {
   "cell_type": "code",
   "execution_count": null,
   "metadata": {
    "vscode": {
     "languageId": "r"
    }
   },
   "outputs": [],
   "source": [
    "write.table(labs_formatted, \n",
    "    file=paste0(data_path, \"/dataframes/blood/AllofUs_v8_labs-Neutrophil-counts_wout_outliers_long_052724.txt\"), \n",
    "    row.names=FALSE, quote=FALSE, sep=\"\\t\")\n"
   ]
  },
  {
   "cell_type": "markdown",
   "metadata": {},
   "source": [
    "## Process neutrophil percentages (%)"
   ]
  },
  {
   "cell_type": "code",
   "execution_count": null,
   "metadata": {
    "vscode": {
     "languageId": "r"
    }
   },
   "outputs": [],
   "source": [
    "# Neutrophil percentages\n",
    "labs <- dataset_99967281_measurement_df %>%\n",
    "    filter(grepl(\"leukocytes\", standard_concept_name))\n",
    "colnames(labs)\n",
    "length(unique(labs$person_id))\n",
    "\n",
    "#as.data.frame(table(labs$standard_concept_name)) %>% arrange(-Freq)\n",
    "\n",
    "#as.data.frame(table(labs$visit_occurrence_concept_name)) %>% arrange(-Freq)\n",
    "as.data.frame(table(labs$unit_concept_name)) %>% arrange(-Freq)\n",
    "quantile(labs$value_as_number[labs$unit_concept_name == \"no value\"], na.rm=T)\n",
    "\n",
    "#median(labs$value_as_number, na.rm=T)\n",
    "\n",
    "#new_labs <- labs %>%\n",
    "#    filter(!grepl(\"Emergency\", visit_occurrence_concept_name) & !grepl(\"Intensive\", visit_occurrence_concept_name) &\n",
    "#          !grepl(\"Urgent\", visit_occurrence_concept_name))\n",
    "\n",
    "#as.data.frame(table(new_labs$visit_occurrence_concept_name)) %>% arrange(-Freq)\n",
    "#new_labs <- labs %>%\n",
    "#    filter(unit_concept_name == \"square meter\")\n",
    "#length(unique(new_labs$person_id))\n"
   ]
  },
  {
   "cell_type": "code",
   "execution_count": null,
   "metadata": {
    "vscode": {
     "languageId": "r"
    }
   },
   "outputs": [],
   "source": [
    "keep_outliers = FALSE\n",
    "\n",
    "# Do all the filtering specified at the top of the file\n",
    "labs_formatted <- labs %>%\n",
    "    filter(!grepl(\"Emergency\", visit_occurrence_concept_name) & \n",
    "           !grepl(\"Intensive\", visit_occurrence_concept_name) &\n",
    "           !grepl(\"Urgent\", visit_occurrence_concept_name)) %>%\n",
    "    filter(unit_concept_name != \"thousand per microliter\" &\n",
    "           unit_concept_name != \"cells\" &\n",
    "           unit_concept_name != \"thousand per cubic millimeter\" &\n",
    "           unit_concept_name != \"billion per liter\" &\n",
    "           unit_concept_name != \"nL\" &\n",
    "           unit_concept_name != \"femtoliter\") %>%\n",
    "    filter(value_as_number >= 0) %>%\n",
    "    select(person_id, measurement_datetime, value_as_number) %>%\n",
    "    mutate_at(c('person_id'), as.character) %>%\n",
    "    mutate(across(where(is.character), ~na_if(., \"NULL\"))) %>%\n",
    "    na.omit() %>%\n",
    "    distinct() %>%\n",
    "    group_by(person_id) %>%\n",
    "    filter(value_as_number <= (10 * median(value_as_number))) %>%\n",
    "    ungroup() %>%\n",
    "    filter(keep_outliers | value_as_number >= mean(value_as_number) - (4 * sd(value_as_number))) %>%\n",
    "    filter(keep_outliers | value_as_number <= mean(value_as_number) + (4 * sd(value_as_number))) \n",
    "\n",
    "dim(labs_formatted)\n",
    "head(labs_formatted, 5)\n"
   ]
  },
  {
   "cell_type": "code",
   "execution_count": null,
   "metadata": {
    "vscode": {
     "languageId": "r"
    }
   },
   "outputs": [],
   "source": [
    "min(labs_formatted$value_as_number)\n",
    "median(labs_formatted$value_as_number)\n",
    "mean(labs_formatted$value_as_number)\n",
    "max(labs_formatted$value_as_number)\n",
    "sd(labs_formatted$value_as_number)\n",
    "\n",
    "quantile(labs_formatted$value_as_number)\n"
   ]
  },
  {
   "cell_type": "code",
   "execution_count": null,
   "metadata": {
    "vscode": {
     "languageId": "r"
    }
   },
   "outputs": [],
   "source": [
    "write.table(labs_formatted, \n",
    "    file=paste0(data_path, \"/dataframes/blood/AllofUs_v8_labs-Neutrophil-percentages_wout_outliers_long_052724.txt\"), \n",
    "    row.names=FALSE, quote=FALSE, sep=\"\\t\")\n"
   ]
  },
  {
   "cell_type": "markdown",
   "metadata": {},
   "source": [
    "# Erythrocytes"
   ]
  },
  {
   "cell_type": "markdown",
   "metadata": {},
   "source": [
    "## Extract nucleated erythrocyte counts/percentages, erythrocyte counts/distribution width"
   ]
  },
  {
   "cell_type": "code",
   "execution_count": null,
   "metadata": {
    "vscode": {
     "languageId": "r"
    }
   },
   "outputs": [],
   "source": [
    "library(tidyverse)\n",
    "library(bigrquery)\n",
    "\n",
    "# This query represents dataset \"Pts with Erythrocytes\" for domain \"measurement\" and was generated for All of Us Controlled Tier Dataset v8\n",
    "dataset_15073300_measurement_sql <- paste(\"\n",
    "    SELECT\n",
    "        measurement.person_id,\n",
    "        measurement.measurement_concept_id,\n",
    "        m_standard_concept.concept_name as standard_concept_name,\n",
    "        m_standard_concept.concept_code as standard_concept_code,\n",
    "        m_standard_concept.vocabulary_id as standard_vocabulary,\n",
    "        measurement.measurement_datetime,\n",
    "        measurement.measurement_type_concept_id,\n",
    "        m_type.concept_name as measurement_type_concept_name,\n",
    "        measurement.operator_concept_id,\n",
    "        m_operator.concept_name as operator_concept_name,\n",
    "        measurement.value_as_number,\n",
    "        measurement.value_as_concept_id,\n",
    "        m_value.concept_name as value_as_concept_name,\n",
    "        measurement.unit_concept_id,\n",
    "        m_unit.concept_name as unit_concept_name,\n",
    "        measurement.range_low,\n",
    "        measurement.range_high,\n",
    "        measurement.visit_occurrence_id,\n",
    "        m_visit.concept_name as visit_occurrence_concept_name,\n",
    "        measurement.measurement_source_value,\n",
    "        measurement.measurement_source_concept_id,\n",
    "        m_source_concept.concept_name as source_concept_name,\n",
    "        m_source_concept.concept_code as source_concept_code,\n",
    "        m_source_concept.vocabulary_id as source_vocabulary,\n",
    "        measurement.unit_source_value,\n",
    "        measurement.value_source_value \n",
    "    FROM\n",
    "        ( SELECT\n",
    "            * \n",
    "        FROM\n",
    "            `measurement` measurement \n",
    "        WHERE\n",
    "            (\n",
    "                measurement_concept_id IN (SELECT\n",
    "                    DISTINCT c.concept_id \n",
    "                FROM\n",
    "                    `cb_criteria` c \n",
    "                JOIN\n",
    "                    (SELECT\n",
    "                        CAST(cr.id as string) AS id       \n",
    "                    FROM\n",
    "                        `cb_criteria` cr       \n",
    "                    WHERE\n",
    "                        concept_id IN (37026965, 37040514, 37041261, 37059055)       \n",
    "                        AND full_text LIKE '%_rank1]%'      ) a \n",
    "                        ON (c.path LIKE CONCAT('%.', a.id, '.%') \n",
    "                        OR c.path LIKE CONCAT('%.', a.id) \n",
    "                        OR c.path LIKE CONCAT(a.id, '.%') \n",
    "                        OR c.path = a.id) \n",
    "                WHERE\n",
    "                    is_standard = 1 \n",
    "                    AND is_selectable = 1)\n",
    "            )  \n",
    "            AND (\n",
    "                measurement.PERSON_ID IN (SELECT\n",
    "                    distinct person_id  \n",
    "                FROM\n",
    "                    `cb_search_person` cb_search_person  \n",
    "                WHERE\n",
    "                    cb_search_person.person_id IN (SELECT\n",
    "                        criteria.person_id \n",
    "                    FROM\n",
    "                        (SELECT\n",
    "                            DISTINCT person_id, entry_date, concept_id \n",
    "                        FROM\n",
    "                            `cb_search_all_events` \n",
    "                        WHERE\n",
    "                            (concept_id IN(SELECT\n",
    "                                DISTINCT c.concept_id \n",
    "                            FROM\n",
    "                                `cb_criteria` c \n",
    "                            JOIN\n",
    "                                (SELECT\n",
    "                                    CAST(cr.id as string) AS id       \n",
    "                                FROM\n",
    "                                    `cb_criteria` cr       \n",
    "                                WHERE\n",
    "                                    concept_id IN (37041261, 37026965, 37059055, 37040514)       \n",
    "                                    AND full_text LIKE '%_rank1]%'      ) a \n",
    "                                    ON (c.path LIKE CONCAT('%.', a.id, '.%') \n",
    "                                    OR c.path LIKE CONCAT('%.', a.id) \n",
    "                                    OR c.path LIKE CONCAT(a.id, '.%') \n",
    "                                    OR c.path = a.id) \n",
    "                            WHERE\n",
    "                                is_standard = 1 \n",
    "                                AND is_selectable = 1) \n",
    "                            AND is_standard = 1 )) criteria ) )\n",
    "            )) measurement \n",
    "    LEFT JOIN\n",
    "        `concept` m_standard_concept \n",
    "            ON measurement.measurement_concept_id = m_standard_concept.concept_id \n",
    "    LEFT JOIN\n",
    "        `concept` m_type \n",
    "            ON measurement.measurement_type_concept_id = m_type.concept_id \n",
    "    LEFT JOIN\n",
    "        `concept` m_operator \n",
    "            ON measurement.operator_concept_id = m_operator.concept_id \n",
    "    LEFT JOIN\n",
    "        `concept` m_value \n",
    "            ON measurement.value_as_concept_id = m_value.concept_id \n",
    "    LEFT JOIN\n",
    "        `concept` m_unit \n",
    "            ON measurement.unit_concept_id = m_unit.concept_id \n",
    "    LEFT JOIn\n",
    "        `visit_occurrence` v \n",
    "            ON measurement.visit_occurrence_id = v.visit_occurrence_id \n",
    "    LEFT JOIN\n",
    "        `concept` m_visit \n",
    "            ON v.visit_concept_id = m_visit.concept_id \n",
    "    LEFT JOIN\n",
    "        `concept` m_source_concept \n",
    "            ON measurement.measurement_source_concept_id = m_source_concept.concept_id\", sep=\"\")\n",
    "\n",
    "# Formulate a Cloud Storage destination path for the data exported from BigQuery.\n",
    "# NOTE: By default data exported multiple times on the same day will overwrite older copies.\n",
    "#       But data exported on a different days will write to a new location so that historical\n",
    "#       copies can be kept as the dataset definition is changed.\n",
    "measurement_15073300_path <- file.path(\n",
    "  Sys.getenv(\"WORKSPACE_BUCKET\"),\n",
    "  \"bq_exports\",\n",
    "  Sys.getenv(\"OWNER_EMAIL\"),\n",
    "  strftime(lubridate::now(), \"%Y%m%d\"),  # Comment out this line if you want the export to always overwrite.\n",
    "  \"measurement_15073300\",\n",
    "  \"measurement_15073300_*.csv\")\n",
    "message(str_glue('The data will be written to {measurement_15073300_path}. Use this path when reading ',\n",
    "                 'the data into your notebooks in the future.'))\n",
    "\n",
    "# Perform the query and export the dataset to Cloud Storage as CSV files.\n",
    "# NOTE: You only need to run `bq_table_save` once. After that, you can\n",
    "#       just read data from the CSVs in Cloud Storage.\n",
    "bq_table_save(\n",
    "  bq_dataset_query(Sys.getenv(\"WORKSPACE_CDR\"), dataset_15073300_measurement_sql, billing = Sys.getenv(\"GOOGLE_PROJECT\")),\n",
    "  measurement_15073300_path,\n",
    "  destination_format = \"CSV\")\n",
    "\n"
   ]
  },
  {
   "cell_type": "code",
   "execution_count": null,
   "metadata": {
    "vscode": {
     "languageId": "r"
    }
   },
   "outputs": [],
   "source": [
    "# Read the data directly from Cloud Storage into memory.\n",
    "# NOTE: Alternatively you can `gsutil -m cp {measurement_15073300_path}` to copy these files\n",
    "#       to the Jupyter disk.\n",
    "\n",
    "measurement_15073300_path <- file.path(\n",
    "  Sys.getenv(\"WORKSPACE_BUCKET\"),\n",
    "  \"bq_exports\",\n",
    "  Sys.getenv(\"OWNER_EMAIL\"),\n",
    "  strftime(lubridate::now(), \"%Y%m%d\"),  # Comment out this line if you want the export to always overwrite.\n",
    "  \"measurement_15073300\",\n",
    "  \"measurement_15073300_*.csv\")\n",
    "message(str_glue('The data will be written to {measurement_15073300_path}. Use this path when reading ',\n",
    "                 'the data into your notebooks in the future.'))\n",
    "\n",
    "\n",
    "\n",
    "read_bq_export_from_workspace_bucket <- function(export_path) {\n",
    "  col_types <- cols(standard_concept_name = col_character(), standard_concept_code = col_character(), standard_vocabulary = col_character(), measurement_type_concept_name = col_character(), operator_concept_name = col_character(), value_as_concept_name = col_character(), unit_concept_name = col_character(), visit_occurrence_concept_name = col_character(), measurement_source_value = col_character(), source_concept_name = col_character(), source_concept_code = col_character(), source_vocabulary = col_character(), unit_source_value = col_character(), value_source_value = col_character())\n",
    "  bind_rows(\n",
    "    map(system2('gsutil', args = c('ls', export_path), stdout = TRUE, stderr = TRUE),\n",
    "        function(csv) {\n",
    "          message(str_glue('Loading {csv}.'))\n",
    "          chunk <- read_csv(pipe(str_glue('gsutil cat {csv}')), col_types = col_types, show_col_types = FALSE)\n",
    "          if (is.null(col_types)) {\n",
    "            col_types <- spec(chunk)\n",
    "          }\n",
    "          chunk\n",
    "        }))\n",
    "}\n",
    "#measurement_15073300_path <- \"gs://fc-secure-b96fb036-3379-4be0-8834-e7e486f2b76e/bq_exports/davidz1@researchallofus.org/20240527/measurement_15073300/measurement_15073300_*.csv\"\n",
    "dataset_15073300_measurement_df <- read_bq_export_from_workspace_bucket(measurement_15073300_path)\n",
    "\n",
    "dim(dataset_15073300_measurement_df)\n",
    "\n",
    "head(dataset_15073300_measurement_df, 5)"
   ]
  },
  {
   "cell_type": "markdown",
   "metadata": {},
   "source": [
    "## Process nucleated erythroctyes counts (thousand/uL)"
   ]
  },
  {
   "cell_type": "code",
   "execution_count": null,
   "metadata": {
    "vscode": {
     "languageId": "r"
    }
   },
   "outputs": [],
   "source": [
    "# Nucleated erythrocyte counts\n",
    "labs <- dataset_15073300_measurement_df %>%\n",
    "    filter(grepl(\"Nucleated\", standard_concept_name) & grepl(\"volume\", standard_concept_name))\n",
    "colnames(labs)\n",
    "length(unique(labs$person_id))\n",
    "\n",
    "#as.data.frame(table(labs$standard_concept_name)) %>% arrange(-Freq)\n",
    "\n",
    "#as.data.frame(table(labs$visit_occurrence_concept_name)) %>% arrange(-Freq)\n",
    "as.data.frame(table(labs$unit_concept_name)) %>% arrange(-Freq)\n",
    "#quantile(labs$value_as_number[labs$unit_concept_name == \"thousand per microliter\"], na.rm=T, probs = seq(0, 1, 0.05))\n",
    "\n",
    "#median(labs$value_as_number, na.rm=T)\n",
    "\n",
    "#new_labs <- labs %>%\n",
    "#    filter(!grepl(\"Emergency\", visit_occurrence_concept_name) & !grepl(\"Intensive\", visit_occurrence_concept_name) &\n",
    "#          !grepl(\"Urgent\", visit_occurrence_concept_name))\n",
    "\n",
    "#as.data.frame(table(new_labs$visit_occurrence_concept_name)) %>% arrange(-Freq)\n",
    "#new_labs <- labs %>%\n",
    "#    filter(unit_concept_name == \"square meter\")\n",
    "#length(unique(new_labs$person_id))\n"
   ]
  },
  {
   "cell_type": "code",
   "execution_count": null,
   "metadata": {
    "vscode": {
     "languageId": "r"
    }
   },
   "outputs": [],
   "source": [
    "keep_outliers = FALSE\n",
    "\n",
    "# Do all the filtering specified at the top of the file\n",
    "labs_formatted <- labs %>%\n",
    "    filter(!grepl(\"Emergency\", visit_occurrence_concept_name) & \n",
    "           !grepl(\"Intensive\", visit_occurrence_concept_name) &\n",
    "           !grepl(\"Urgent\", visit_occurrence_concept_name)) %>%\n",
    "    filter(unit_concept_name != \"percent\" &\n",
    "           unit_concept_name != \"billion per liter\" &\n",
    "           unit_concept_name != \"per 100 white blood cells\" &\n",
    "           unit_concept_name != \"nL\" &\n",
    "           unit_concept_name != \"per hundred\" &\n",
    "           unit_concept_name != \"thousand\" &\n",
    "           unit_concept_name != \"cells per microliter\" &\n",
    "           unit_concept_name != \"per microliter\" &\n",
    "           unit_concept_name != \"no value\" &\n",
    "           unit_concept_name != \"counts\" &\n",
    "           unit_concept_name != \"trillion per liter\") %>%\n",
    "    filter(value_as_number >= 0) %>%\n",
    "    select(person_id, measurement_datetime, value_as_number) %>%\n",
    "    mutate_at(c('person_id'), as.character) %>%\n",
    "    mutate(across(where(is.character), ~na_if(., \"NULL\"))) %>%\n",
    "    na.omit() %>%\n",
    "    distinct() %>%\n",
    "    group_by(person_id) %>%\n",
    "    filter(value_as_number <= (10 * median(value_as_number))) %>%\n",
    "    ungroup() %>%\n",
    "    filter(keep_outliers | value_as_number >= mean(value_as_number) - (4 * sd(value_as_number))) %>%\n",
    "    filter(keep_outliers | value_as_number <= mean(value_as_number) + (4 * sd(value_as_number))) \n",
    "\n",
    "dim(labs_formatted)\n",
    "head(labs_formatted, 5)\n"
   ]
  },
  {
   "cell_type": "code",
   "execution_count": null,
   "metadata": {
    "vscode": {
     "languageId": "r"
    }
   },
   "outputs": [],
   "source": [
    "min(labs_formatted$value_as_number)\n",
    "median(labs_formatted$value_as_number)\n",
    "mean(labs_formatted$value_as_number)\n",
    "max(labs_formatted$value_as_number)\n",
    "sd(labs_formatted$value_as_number)\n"
   ]
  },
  {
   "cell_type": "code",
   "execution_count": null,
   "metadata": {
    "vscode": {
     "languageId": "r"
    }
   },
   "outputs": [],
   "source": [
    "write.table(labs_formatted, \n",
    "    file=paste0(data_path, \"/dataframes/blood/AllofUs_v8_labs-Nucleated-Erythrocyte-counts_wout_outliers_long_052724.txt\"), \n",
    "    row.names=FALSE, quote=FALSE, sep=\"\\t\")\n"
   ]
  },
  {
   "cell_type": "markdown",
   "metadata": {},
   "source": [
    "## Process nucleated erythrocyte percentages (%)"
   ]
  },
  {
   "cell_type": "code",
   "execution_count": null,
   "metadata": {
    "vscode": {
     "languageId": "r"
    }
   },
   "outputs": [],
   "source": [
    "# Nucleated erythrocyte percentage\n",
    "labs <- dataset_15073300_measurement_df %>%\n",
    "    filter(grepl(\"Nucleated\", standard_concept_name) & grepl(\"leukocytes\", standard_concept_name))\n",
    "colnames(labs)\n",
    "length(unique(labs$person_id))\n",
    "\n",
    "#as.data.frame(table(labs$standard_concept_name)) %>% arrange(-Freq)\n",
    "\n",
    "#as.data.frame(table(labs$visit_occurrence_concept_name)) %>% arrange(-Freq)\n",
    "as.data.frame(table(labs$unit_concept_name)) %>% arrange(-Freq)\n",
    "#quantile(labs$value_as_number[labs$unit_concept_name == \"thousand per microliter\"], na.rm=T, probs = seq(0, 1, 0.05))\n",
    "\n",
    "#median(labs$value_as_number, na.rm=T)\n",
    "\n",
    "#new_labs <- labs %>%\n",
    "#    filter(!grepl(\"Emergency\", visit_occurrence_concept_name) & !grepl(\"Intensive\", visit_occurrence_concept_name) &\n",
    "#          !grepl(\"Urgent\", visit_occurrence_concept_name))\n",
    "\n",
    "#as.data.frame(table(new_labs$visit_occurrence_concept_name)) %>% arrange(-Freq)\n",
    "#new_labs <- labs %>%\n",
    "#    filter(unit_concept_name == \"square meter\")\n",
    "#length(unique(new_labs$person_id))\n"
   ]
  },
  {
   "cell_type": "code",
   "execution_count": null,
   "metadata": {
    "vscode": {
     "languageId": "r"
    }
   },
   "outputs": [],
   "source": [
    "keep_outliers = FALSE\n",
    "\n",
    "# Do all the filtering specified at the top of the file\n",
    "labs_formatted <- labs %>%\n",
    "    filter(!grepl(\"Emergency\", visit_occurrence_concept_name) & \n",
    "           !grepl(\"Intensive\", visit_occurrence_concept_name) &\n",
    "           !grepl(\"Urgent\", visit_occurrence_concept_name)) %>%\n",
    "    filter(unit_concept_name != \"thousand per microliter\" &\n",
    "           unit_concept_name != \"counts\" &\n",
    "           unit_concept_name != \"thousand per cubic millimeter\" &\n",
    "           unit_concept_name != \"milliliter per deciliter\") %>%\n",
    "    filter(value_as_number >= 0) %>%\n",
    "    select(person_id, measurement_datetime, value_as_number) %>%\n",
    "    mutate_at(c('person_id'), as.character) %>%\n",
    "    mutate(across(where(is.character), ~na_if(., \"NULL\"))) %>%\n",
    "    na.omit() %>%\n",
    "    distinct() %>%\n",
    "    group_by(person_id) %>%\n",
    "    filter(value_as_number <= (10 * median(value_as_number))) %>%\n",
    "    ungroup() %>%\n",
    "    filter(keep_outliers | value_as_number >= mean(value_as_number) - (4 * sd(value_as_number))) %>%\n",
    "    filter(keep_outliers | value_as_number <= mean(value_as_number) + (4 * sd(value_as_number))) \n",
    "\n",
    "dim(labs_formatted)\n",
    "head(labs_formatted, 5)\n"
   ]
  },
  {
   "cell_type": "code",
   "execution_count": null,
   "metadata": {
    "vscode": {
     "languageId": "r"
    }
   },
   "outputs": [],
   "source": [
    "min(labs_formatted$value_as_number)\n",
    "median(labs_formatted$value_as_number)\n",
    "mean(labs_formatted$value_as_number)\n",
    "max(labs_formatted$value_as_number)\n",
    "sd(labs_formatted$value_as_number)\n",
    "\n",
    "quantile(labs_formatted$value_as_number)\n"
   ]
  },
  {
   "cell_type": "code",
   "execution_count": null,
   "metadata": {
    "vscode": {
     "languageId": "r"
    }
   },
   "outputs": [],
   "source": [
    "write.table(labs_formatted, \n",
    "    file=paste0(data_path, \"/dataframes/blood/AllofUs_v8_labs-Nucleated-Erythrocyte-percentages_wout_outliers_long_052724.txt\"), \n",
    "    row.names=FALSE, quote=FALSE, sep=\"\\t\")\n"
   ]
  },
  {
   "cell_type": "markdown",
   "metadata": {},
   "source": [
    "## Process erythrocyte counts (million/uL)"
   ]
  },
  {
   "cell_type": "code",
   "execution_count": null,
   "metadata": {
    "vscode": {
     "languageId": "r"
    }
   },
   "outputs": [],
   "source": [
    "# Erythrocyte counts\n",
    "labs <- dataset_15073300_measurement_df %>%\n",
    "    filter(!grepl(\"Nucleated\", standard_concept_name) & grepl(\"volume\", standard_concept_name) &\n",
    "           !grepl(\"distribution\", standard_concept_name))\n",
    "colnames(labs)\n",
    "length(unique(labs$person_id))\n",
    "\n",
    "#as.data.frame(table(labs$standard_concept_name)) %>% arrange(-Freq)\n",
    "\n",
    "#as.data.frame(table(labs$visit_occurrence_concept_name)) %>% arrange(-Freq)\n",
    "as.data.frame(table(labs$unit_concept_name)) %>% arrange(-Freq)\n",
    "quantile(labs$value_as_number[labs$unit_concept_name == \"thousand per cubic millimeter\"], na.rm=T, probs = seq(0, 1, 0.25))\n",
    "\n",
    "#median(labs$value_as_number, na.rm=T)\n",
    "\n",
    "#new_labs <- labs %>%\n",
    "#    filter(!grepl(\"Emergency\", visit_occurrence_concept_name) & !grepl(\"Intensive\", visit_occurrence_concept_name) &\n",
    "#          !grepl(\"Urgent\", visit_occurrence_concept_name))\n",
    "\n",
    "#as.data.frame(table(new_labs$visit_occurrence_concept_name)) %>% arrange(-Freq)\n",
    "#new_labs <- labs %>%\n",
    "#    filter(unit_concept_name == \"square meter\")\n",
    "#length(unique(new_labs$person_id))\n"
   ]
  },
  {
   "cell_type": "code",
   "execution_count": null,
   "metadata": {
    "vscode": {
     "languageId": "r"
    }
   },
   "outputs": [],
   "source": [
    "keep_outliers = FALSE\n",
    "\n",
    "# Do all the filtering specified at the top of the file\n",
    "labs_formatted <- labs %>%\n",
    "    filter(!grepl(\"Emergency\", visit_occurrence_concept_name) & \n",
    "           !grepl(\"Intensive\", visit_occurrence_concept_name) &\n",
    "           !grepl(\"Urgent\", visit_occurrence_concept_name)) %>%\n",
    "    filter(unit_concept_name != \"nL\" &\n",
    "           unit_concept_name != \"per microliter\" &\n",
    "           unit_concept_name != \"microlitre/ml\" &\n",
    "           unit_concept_name != \"microunit per liter\" &\n",
    "           unit_concept_name != \"no value\" &\n",
    "           unit_concept_name != \"per high power field\" &\n",
    "           unit_concept_name != \"microliter\" &\n",
    "           unit_concept_name != \"cells per microliter\" &\n",
    "           unit_concept_name != \"million\" &\n",
    "           unit_concept_name != \"trillion cells per liter\" &\n",
    "           unit_concept_name != \"liter per minute\" &\n",
    "           unit_concept_name != \"the number ten\" &\n",
    "           unit_concept_name != \"unit per 10 cells\" &\n",
    "           unit_concept_name != \"cubic millimeter\" &\n",
    "           unit_concept_name != \"percent\" &\n",
    "           unit_concept_name != \"number ten\") %>%\n",
    "    filter(value_as_number >= 0) %>%\n",
    "    select(person_id, measurement_datetime, value_as_number) %>%\n",
    "    mutate_at(c('person_id'), as.character) %>%\n",
    "    mutate(across(where(is.character), ~na_if(., \"NULL\"))) %>%\n",
    "    na.omit() %>%\n",
    "    distinct() %>%\n",
    "    group_by(person_id) %>%\n",
    "    filter(value_as_number <= (10 * median(value_as_number))) %>%\n",
    "    ungroup() %>%\n",
    "    filter(keep_outliers | value_as_number >= mean(value_as_number) - (4 * sd(value_as_number))) %>%\n",
    "    filter(keep_outliers | value_as_number <= mean(value_as_number) + (4 * sd(value_as_number))) \n",
    "\n",
    "dim(labs_formatted)\n",
    "head(labs_formatted, 5)\n"
   ]
  },
  {
   "cell_type": "code",
   "execution_count": null,
   "metadata": {
    "vscode": {
     "languageId": "r"
    }
   },
   "outputs": [],
   "source": [
    "min(labs_formatted$value_as_number)\n",
    "median(labs_formatted$value_as_number)\n",
    "mean(labs_formatted$value_as_number)\n",
    "max(labs_formatted$value_as_number)\n",
    "sd(labs_formatted$value_as_number)\n"
   ]
  },
  {
   "cell_type": "code",
   "execution_count": null,
   "metadata": {
    "vscode": {
     "languageId": "r"
    }
   },
   "outputs": [],
   "source": [
    "write.table(labs_formatted, \n",
    "    file=paste0(data_path, \"/dataframes/blood/AllofUs_v8_labs-Erythrocyte-counts_wout_outliers_long_052724.txt\"), \n",
    "    row.names=FALSE, quote=FALSE, sep=\"\\t\")\n"
   ]
  },
  {
   "cell_type": "markdown",
   "metadata": {},
   "source": [
    "## Process erythrocyte distribution width (%)"
   ]
  },
  {
   "cell_type": "code",
   "execution_count": null,
   "metadata": {
    "vscode": {
     "languageId": "r"
    }
   },
   "outputs": [],
   "source": [
    "# Erythrocyte distribution width\n",
    "labs <- dataset_15073300_measurement_df %>%\n",
    "    filter(grepl(\"distribution\", standard_concept_name))\n",
    "colnames(labs)\n",
    "length(unique(labs$person_id))\n",
    "\n",
    "as.data.frame(table(labs$standard_concept_name)) %>% arrange(-Freq)\n",
    "\n",
    "#as.data.frame(table(labs$visit_occurrence_concept_name)) %>% arrange(-Freq)\n",
    "as.data.frame(table(labs$unit_concept_name)) %>% arrange(-Freq)\n",
    "quantile(labs$value_as_number[labs$unit_concept_name == \"No matching concept\"], na.rm=T, probs = seq(0, 1, 0.25))\n",
    "\n",
    "#median(labs$value_as_number, na.rm=T)\n",
    "\n",
    "#new_labs <- labs %>%\n",
    "#    filter(!grepl(\"Emergency\", visit_occurrence_concept_name) & !grepl(\"Intensive\", visit_occurrence_concept_name) &\n",
    "#          !grepl(\"Urgent\", visit_occurrence_concept_name))\n",
    "\n",
    "#as.data.frame(table(new_labs$visit_occurrence_concept_name)) %>% arrange(-Freq)\n",
    "#new_labs <- labs %>%\n",
    "#    filter(unit_concept_name == \"square meter\")\n",
    "#length(unique(new_labs$person_id))\n"
   ]
  },
  {
   "cell_type": "code",
   "execution_count": null,
   "metadata": {
    "vscode": {
     "languageId": "r"
    }
   },
   "outputs": [],
   "source": [
    "keep_outliers = FALSE\n",
    "\n",
    "# Do all the filtering specified at the top of the file\n",
    "labs_formatted <- labs %>%\n",
    "    filter(!grepl(\"Emergency\", visit_occurrence_concept_name) & \n",
    "           !grepl(\"Intensive\", visit_occurrence_concept_name) &\n",
    "           !grepl(\"Urgent\", visit_occurrence_concept_name)) %>%\n",
    "    filter(unit_concept_name != \"femtoliter\" &\n",
    "           unit_concept_name != \"unit\" &\n",
    "           unit_concept_name != \"no value\" &\n",
    "           unit_concept_name != \"thousand per microliter\" &\n",
    "           unit_concept_name != \"microgram per liter\") %>%\n",
    "    filter(value_as_number >= 0) %>%\n",
    "    select(person_id, measurement_datetime, value_as_number) %>%\n",
    "    mutate_at(c('person_id'), as.character) %>%\n",
    "    mutate(across(where(is.character), ~na_if(., \"NULL\"))) %>%\n",
    "    na.omit() %>%\n",
    "    distinct() %>%\n",
    "    group_by(person_id) %>%\n",
    "    filter(value_as_number <= (10 * median(value_as_number))) %>%\n",
    "    ungroup() %>%\n",
    "    filter(keep_outliers | value_as_number >= mean(value_as_number) - (4 * sd(value_as_number))) %>%\n",
    "    filter(keep_outliers | value_as_number <= mean(value_as_number) + (4 * sd(value_as_number))) \n",
    "\n",
    "dim(labs_formatted)\n",
    "head(labs_formatted, 5)\n"
   ]
  },
  {
   "cell_type": "code",
   "execution_count": null,
   "metadata": {
    "vscode": {
     "languageId": "r"
    }
   },
   "outputs": [],
   "source": [
    "min(labs_formatted$value_as_number)\n",
    "median(labs_formatted$value_as_number) \n",
    "mean(labs_formatted$value_as_number)\n",
    "max(labs_formatted$value_as_number)\n",
    "sd(labs_formatted$value_as_number)\n",
    "\n",
    "quantile(labs_formatted$value_as_number)\n"
   ]
  },
  {
   "cell_type": "code",
   "execution_count": null,
   "metadata": {
    "vscode": {
     "languageId": "r"
    }
   },
   "outputs": [],
   "source": [
    "write.table(labs_formatted, \n",
    "    file=paste0(data_path, \"/dataframes/blood/AllofUs_v8_labs-Erythrocyte-distribution-width_wout_outliers_long_052724.txt\"), \n",
    "    row.names=FALSE, quote=FALSE, sep=\"\\t\")\n"
   ]
  },
  {
   "cell_type": "markdown",
   "metadata": {},
   "source": [
    "# Hemoglobin"
   ]
  },
  {
   "cell_type": "markdown",
   "metadata": {},
   "source": [
    "## Extract hemoglobin measurements"
   ]
  },
  {
   "cell_type": "code",
   "execution_count": null,
   "metadata": {
    "vscode": {
     "languageId": "r"
    }
   },
   "outputs": [],
   "source": [
    "library(tidyverse)\n",
    "library(bigrquery)\n",
    "\n",
    "# This query represents dataset \"Pts with Hemoglobin\" for domain \"measurement\" and was generated for All of Us Controlled Tier Dataset v8\n",
    "dataset_06003545_measurement_sql <- paste(\"\n",
    "    SELECT\n",
    "        measurement.person_id,\n",
    "        measurement.measurement_concept_id,\n",
    "        m_standard_concept.concept_name as standard_concept_name,\n",
    "        m_standard_concept.concept_code as standard_concept_code,\n",
    "        m_standard_concept.vocabulary_id as standard_vocabulary,\n",
    "        measurement.measurement_datetime,\n",
    "        measurement.measurement_type_concept_id,\n",
    "        m_type.concept_name as measurement_type_concept_name,\n",
    "        measurement.operator_concept_id,\n",
    "        m_operator.concept_name as operator_concept_name,\n",
    "        measurement.value_as_number,\n",
    "        measurement.value_as_concept_id,\n",
    "        m_value.concept_name as value_as_concept_name,\n",
    "        measurement.unit_concept_id,\n",
    "        m_unit.concept_name as unit_concept_name,\n",
    "        measurement.range_low,\n",
    "        measurement.range_high,\n",
    "        measurement.visit_occurrence_id,\n",
    "        m_visit.concept_name as visit_occurrence_concept_name,\n",
    "        measurement.measurement_source_value,\n",
    "        measurement.measurement_source_concept_id,\n",
    "        m_source_concept.concept_name as source_concept_name,\n",
    "        m_source_concept.concept_code as source_concept_code,\n",
    "        m_source_concept.vocabulary_id as source_vocabulary,\n",
    "        measurement.unit_source_value,\n",
    "        measurement.value_source_value \n",
    "    FROM\n",
    "        ( SELECT\n",
    "            * \n",
    "        FROM\n",
    "            `measurement` measurement \n",
    "        WHERE\n",
    "            (\n",
    "                measurement_concept_id IN (SELECT\n",
    "                    DISTINCT c.concept_id \n",
    "                FROM\n",
    "                    `cb_criteria` c \n",
    "                JOIN\n",
    "                    (SELECT\n",
    "                        CAST(cr.id as string) AS id       \n",
    "                    FROM\n",
    "                        `cb_criteria` cr       \n",
    "                    WHERE\n",
    "                        concept_id IN (37045413, 37068065, 37070108, 37072252)       \n",
    "                        AND full_text LIKE '%_rank1]%'      ) a \n",
    "                        ON (c.path LIKE CONCAT('%.', a.id, '.%') \n",
    "                        OR c.path LIKE CONCAT('%.', a.id) \n",
    "                        OR c.path LIKE CONCAT(a.id, '.%') \n",
    "                        OR c.path = a.id) \n",
    "                WHERE\n",
    "                    is_standard = 1 \n",
    "                    AND is_selectable = 1)\n",
    "            )  \n",
    "            AND (\n",
    "                measurement.PERSON_ID IN (SELECT\n",
    "                    distinct person_id  \n",
    "                FROM\n",
    "                    `cb_search_person` cb_search_person  \n",
    "                WHERE\n",
    "                    cb_search_person.person_id IN (SELECT\n",
    "                        criteria.person_id \n",
    "                    FROM\n",
    "                        (SELECT\n",
    "                            DISTINCT person_id, entry_date, concept_id \n",
    "                        FROM\n",
    "                            `cb_search_all_events` \n",
    "                        WHERE\n",
    "                            (concept_id IN(SELECT\n",
    "                                DISTINCT c.concept_id \n",
    "                            FROM\n",
    "                                `cb_criteria` c \n",
    "                            JOIN\n",
    "                                (SELECT\n",
    "                                    CAST(cr.id as string) AS id       \n",
    "                                FROM\n",
    "                                    `cb_criteria` cr       \n",
    "                                WHERE\n",
    "                                    concept_id IN (37068065, 37070108, 37045413, 37072252)       \n",
    "                                    AND full_text LIKE '%_rank1]%'      ) a \n",
    "                                    ON (c.path LIKE CONCAT('%.', a.id, '.%') \n",
    "                                    OR c.path LIKE CONCAT('%.', a.id) \n",
    "                                    OR c.path LIKE CONCAT(a.id, '.%') \n",
    "                                    OR c.path = a.id) \n",
    "                            WHERE\n",
    "                                is_standard = 1 \n",
    "                                AND is_selectable = 1) \n",
    "                            AND is_standard = 1 )) criteria ) )\n",
    "            )) measurement \n",
    "    LEFT JOIN\n",
    "        `concept` m_standard_concept \n",
    "            ON measurement.measurement_concept_id = m_standard_concept.concept_id \n",
    "    LEFT JOIN\n",
    "        `concept` m_type \n",
    "            ON measurement.measurement_type_concept_id = m_type.concept_id \n",
    "    LEFT JOIN\n",
    "        `concept` m_operator \n",
    "            ON measurement.operator_concept_id = m_operator.concept_id \n",
    "    LEFT JOIN\n",
    "        `concept` m_value \n",
    "            ON measurement.value_as_concept_id = m_value.concept_id \n",
    "    LEFT JOIN\n",
    "        `concept` m_unit \n",
    "            ON measurement.unit_concept_id = m_unit.concept_id \n",
    "    LEFT JOIn\n",
    "        `visit_occurrence` v \n",
    "            ON measurement.visit_occurrence_id = v.visit_occurrence_id \n",
    "    LEFT JOIN\n",
    "        `concept` m_visit \n",
    "            ON v.visit_concept_id = m_visit.concept_id \n",
    "    LEFT JOIN\n",
    "        `concept` m_source_concept \n",
    "            ON measurement.measurement_source_concept_id = m_source_concept.concept_id\", sep=\"\")\n",
    "\n",
    "# Formulate a Cloud Storage destination path for the data exported from BigQuery.\n",
    "# NOTE: By default data exported multiple times on the same day will overwrite older copies.\n",
    "#       But data exported on a different days will write to a new location so that historical\n",
    "#       copies can be kept as the dataset definition is changed.\n",
    "measurement_06003545_path <- file.path(\n",
    "  Sys.getenv(\"WORKSPACE_BUCKET\"),\n",
    "  \"bq_exports\",\n",
    "  Sys.getenv(\"OWNER_EMAIL\"),\n",
    "  strftime(lubridate::now(), \"%Y%m%d\"),  # Comment out this line if you want the export to always overwrite.\n",
    "  \"measurement_06003545\",\n",
    "  \"measurement_06003545_*.csv\")\n",
    "message(str_glue('The data will be written to {measurement_06003545_path}. Use this path when reading ',\n",
    "                 'the data into your notebooks in the future.'))\n",
    "\n",
    "# Perform the query and export the dataset to Cloud Storage as CSV files.\n",
    "# NOTE: You only need to run `bq_table_save` once. After that, you can\n",
    "#       just read data from the CSVs in Cloud Storage.\n",
    "bq_table_save(\n",
    "  bq_dataset_query(Sys.getenv(\"WORKSPACE_CDR\"), dataset_06003545_measurement_sql, billing = Sys.getenv(\"GOOGLE_PROJECT\")),\n",
    "  measurement_06003545_path,\n",
    "  destination_format = \"CSV\")\n",
    "\n"
   ]
  },
  {
   "cell_type": "code",
   "execution_count": null,
   "metadata": {
    "vscode": {
     "languageId": "r"
    }
   },
   "outputs": [],
   "source": [
    "# Read the data directly from Cloud Storage into memory.\n",
    "# NOTE: Alternatively you can `gsutil -m cp {measurement_06003545_path}` to copy these files\n",
    "#       to the Jupyter disk.\n",
    "read_bq_export_from_workspace_bucket <- function(export_path) {\n",
    "  col_types <- cols(standard_concept_name = col_character(), standard_concept_code = col_character(), standard_vocabulary = col_character(), measurement_type_concept_name = col_character(), operator_concept_name = col_character(), value_as_concept_name = col_character(), unit_concept_name = col_character(), visit_occurrence_concept_name = col_character(), measurement_source_value = col_character(), source_concept_name = col_character(), source_concept_code = col_character(), source_vocabulary = col_character(), unit_source_value = col_character(), value_source_value = col_character())\n",
    "  bind_rows(\n",
    "    map(system2('gsutil', args = c('ls', export_path), stdout = TRUE, stderr = TRUE),\n",
    "        function(csv) {\n",
    "          message(str_glue('Loading {csv}.'))\n",
    "          chunk <- read_csv(pipe(str_glue('gsutil cat {csv}')), col_types = col_types, show_col_types = FALSE)\n",
    "          if (is.null(col_types)) {\n",
    "            col_types <- spec(chunk)\n",
    "          }\n",
    "          chunk\n",
    "        }))\n",
    "}\n",
    "#measurement_06003545_path <- \"gs://fc-secure-b96fb036-3379-4be0-8834-e7e486f2b76e/bq_exports/davidz1@researchallofus.org/20240527/measurement_06003545/measurement_06003545_*.csv\"\n",
    "dataset_06003545_measurement_df <- read_bq_export_from_workspace_bucket(measurement_06003545_path)\n",
    "\n",
    "dim(dataset_06003545_measurement_df)\n",
    "\n",
    "head(dataset_06003545_measurement_df, 5)"
   ]
  },
  {
   "cell_type": "markdown",
   "metadata": {},
   "source": [
    "## Process hematocrit (%)"
   ]
  },
  {
   "cell_type": "code",
   "execution_count": null,
   "metadata": {
    "vscode": {
     "languageId": "r"
    }
   },
   "outputs": [],
   "source": [
    "# Hematocrit\n",
    "labs <- dataset_06003545_measurement_df %>%\n",
    "    filter(grepl(\"Hematocrit\", standard_concept_name))\n",
    "colnames(labs)\n",
    "length(unique(labs$person_id))\n",
    "\n",
    "as.data.frame(table(labs$standard_concept_name)) %>% arrange(-Freq)\n",
    "\n",
    "#as.data.frame(table(labs$visit_occurrence_concept_name)) %>% arrange(-Freq)\n",
    "as.data.frame(table(labs$unit_concept_name)) %>% arrange(-Freq)\n",
    "#quantile(labs$value_as_number[labs$unit_concept_name == \"thousand per microliter\"], na.rm=T, probs = seq(0, 1, 0.05))\n",
    "\n",
    "#median(labs$value_as_number, na.rm=T)\n",
    "\n",
    "#new_labs <- labs %>%\n",
    "#    filter(!grepl(\"Emergency\", visit_occurrence_concept_name) & !grepl(\"Intensive\", visit_occurrence_concept_name) &\n",
    "#          !grepl(\"Urgent\", visit_occurrence_concept_name))\n",
    "\n",
    "#as.data.frame(table(new_labs$visit_occurrence_concept_name)) %>% arrange(-Freq)\n",
    "#new_labs <- labs %>%\n",
    "#    filter(unit_concept_name == \"square meter\")\n",
    "#length(unique(new_labs$person_id))\n"
   ]
  },
  {
   "cell_type": "code",
   "execution_count": null,
   "metadata": {
    "vscode": {
     "languageId": "r"
    }
   },
   "outputs": [],
   "source": [
    "keep_outliers = FALSE\n",
    "\n",
    "# Do all the filtering specified at the top of the file\n",
    "labs_formatted <- labs %>%\n",
    "    filter(!grepl(\"Emergency\", visit_occurrence_concept_name) & \n",
    "           !grepl(\"Intensive\", visit_occurrence_concept_name) &\n",
    "           !grepl(\"Urgent\", visit_occurrence_concept_name)) %>%\n",
    "    filter(unit_concept_name != \"milliliter per deciliter\" &\n",
    "           unit_concept_name != \"no value\" &\n",
    "           unit_concept_name != \"gram per deciliter\" &\n",
    "           unit_concept_name != \"milligram per gram of creatinine\" &\n",
    "           unit_concept_name != \"second\" &\n",
    "           unit_concept_name != \"thousand per microliter\") %>%\n",
    "    filter(value_as_number >= 0) %>%\n",
    "    select(person_id, measurement_datetime, value_as_number) %>%\n",
    "    mutate_at(c('person_id'), as.character) %>%\n",
    "    mutate(across(where(is.character), ~na_if(., \"NULL\"))) %>%\n",
    "    na.omit() %>%\n",
    "    distinct() %>%\n",
    "    group_by(person_id) %>%\n",
    "    filter(value_as_number <= (10 * median(value_as_number))) %>%\n",
    "    ungroup() %>%\n",
    "    filter(keep_outliers | value_as_number >= mean(value_as_number) - (4 * sd(value_as_number))) %>%\n",
    "    filter(keep_outliers | value_as_number <= mean(value_as_number) + (4 * sd(value_as_number))) \n",
    "\n",
    "dim(labs_formatted)\n",
    "head(labs_formatted, 5)\n"
   ]
  },
  {
   "cell_type": "code",
   "execution_count": null,
   "metadata": {
    "vscode": {
     "languageId": "r"
    }
   },
   "outputs": [],
   "source": [
    "min(labs_formatted$value_as_number)\n",
    "median(labs_formatted$value_as_number)\n",
    "mean(labs_formatted$value_as_number)\n",
    "max(labs_formatted$value_as_number)\n",
    "sd(labs_formatted$value_as_number)\n"
   ]
  },
  {
   "cell_type": "code",
   "execution_count": null,
   "metadata": {
    "vscode": {
     "languageId": "r"
    }
   },
   "outputs": [],
   "source": [
    "write.table(labs_formatted, \n",
    "    file=paste0(data_path, \"/dataframes/blood/AllofUs_v8_labs-Hematocrit_wout_outliers_long_052724.txt\"), \n",
    "    row.names=FALSE, quote=FALSE, sep=\"\\t\")\n"
   ]
  },
  {
   "cell_type": "markdown",
   "metadata": {},
   "source": [
    "## Hemoglobin concentration (g/dL)"
   ]
  },
  {
   "cell_type": "code",
   "execution_count": null,
   "metadata": {
    "vscode": {
     "languageId": "r"
    }
   },
   "outputs": [],
   "source": [
    "# Hemaglobin concentration\n",
    "labs <- dataset_06003545_measurement_df %>%\n",
    "    filter(grepl(\"Hemoglobin\", standard_concept_name))\n",
    "colnames(labs)\n",
    "length(unique(labs$person_id))\n",
    "\n",
    "as.data.frame(table(labs$standard_concept_name)) %>% arrange(-Freq)\n",
    "\n",
    "#as.data.frame(table(labs$visit_occurrence_concept_name)) %>% arrange(-Freq)\n",
    "as.data.frame(table(labs$unit_concept_name)) %>% arrange(-Freq)\n",
    "quantile(labs$value_as_number[labs$unit_concept_name == \"no value\"], na.rm=T, probs = seq(0, 1, 0.25))\n",
    "\n",
    "#median(labs$value_as_number, na.rm=T)\n",
    "\n",
    "#new_labs <- labs %>%\n",
    "#    filter(!grepl(\"Emergency\", visit_occurrence_concept_name) & !grepl(\"Intensive\", visit_occurrence_concept_name) &\n",
    "#          !grepl(\"Urgent\", visit_occurrence_concept_name))\n",
    "\n",
    "#as.data.frame(table(new_labs$visit_occurrence_concept_name)) %>% arrange(-Freq)\n",
    "#new_labs <- labs %>%\n",
    "#    filter(unit_concept_name == \"square meter\")\n",
    "#length(unique(new_labs$person_id))\n"
   ]
  },
  {
   "cell_type": "code",
   "execution_count": null,
   "metadata": {
    "vscode": {
     "languageId": "r"
    }
   },
   "outputs": [],
   "source": [
    "keep_outliers = FALSE\n",
    "\n",
    "# Do all the filtering specified at the top of the file\n",
    "labs_formatted <- labs %>%\n",
    "    filter(!grepl(\"Emergency\", visit_occurrence_concept_name) & \n",
    "           !grepl(\"Intensive\", visit_occurrence_concept_name) &\n",
    "           !grepl(\"Urgent\", visit_occurrence_concept_name)) %>%\n",
    "    filter(unit_concept_name != \"million per microliter\" &\n",
    "           unit_concept_name != \"thousand per microliter\" &\n",
    "           unit_concept_name != \"deciliter\" &\n",
    "           unit_concept_name != \"gram per milliliter\" &\n",
    "           unit_concept_name != \"liter\" &\n",
    "           unit_concept_name != \"milligram\" &\n",
    "           unit_concept_name != \"Unit of presentation\" &\n",
    "           unit_concept_name != \"percent\" &\n",
    "           unit_concept_name != \"femtoliter\" &\n",
    "           unit_concept_name != \"international unit per liter\" &\n",
    "           unit_concept_name != \"microliter\" &\n",
    "           unit_concept_name != \"Percent\" &\n",
    "           unit_concept_name != \"picogram\") %>%\n",
    "    mutate(value_as_number = ifelse(unit_concept_name == \"gram per liter\", value_as_number / 10, value_as_number)) %>%\n",
    "    filter(value_as_number >= 0) %>%\n",
    "    select(person_id, measurement_datetime, value_as_number) %>%\n",
    "    mutate_at(c('person_id'), as.character) %>%\n",
    "    mutate(across(where(is.character), ~na_if(., \"NULL\"))) %>%\n",
    "    na.omit() %>%\n",
    "    distinct() %>%\n",
    "    group_by(person_id) %>%\n",
    "    filter(value_as_number <= (10 * median(value_as_number))) %>%\n",
    "    ungroup() %>%\n",
    "    filter(keep_outliers | value_as_number >= mean(value_as_number) - (4 * sd(value_as_number))) %>%\n",
    "    filter(keep_outliers | value_as_number <= mean(value_as_number) + (4 * sd(value_as_number))) \n",
    "\n",
    "dim(labs_formatted)\n",
    "head(labs_formatted, 5)\n"
   ]
  },
  {
   "cell_type": "code",
   "execution_count": null,
   "metadata": {
    "vscode": {
     "languageId": "r"
    }
   },
   "outputs": [],
   "source": [
    "min(labs_formatted$value_as_number)\n",
    "median(labs_formatted$value_as_number)\n",
    "mean(labs_formatted$value_as_number)\n",
    "max(labs_formatted$value_as_number)\n",
    "sd(labs_formatted$value_as_number)\n"
   ]
  },
  {
   "cell_type": "code",
   "execution_count": null,
   "metadata": {
    "vscode": {
     "languageId": "r"
    }
   },
   "outputs": [],
   "source": [
    "write.table(labs_formatted, \n",
    "    file=paste0(data_path, \"/dataframes/blood/AllofUs_v8_labs-Hemaglobin-concentration_wout_outliers_long_052724.txt\"), \n",
    "    row.names=FALSE, quote=FALSE, sep=\"\\t\")\n"
   ]
  },
  {
   "cell_type": "markdown",
   "metadata": {},
   "source": [
    "## Mean corpuscular hemoglobin (picogram)"
   ]
  },
  {
   "cell_type": "code",
   "execution_count": null,
   "metadata": {
    "vscode": {
     "languageId": "r"
    }
   },
   "outputs": [],
   "source": [
    "# MCH\n",
    "labs <- dataset_06003545_measurement_df %>%\n",
    "    filter(grepl(\"MCH\", standard_concept_name) & !grepl(\"MCHC\", standard_concept_name))\n",
    "colnames(labs)\n",
    "length(unique(labs$person_id))\n",
    "\n",
    "as.data.frame(table(labs$standard_concept_name)) %>% arrange(-Freq)\n",
    "\n",
    "#as.data.frame(table(labs$visit_occurrence_concept_name)) %>% arrange(-Freq)\n",
    "as.data.frame(table(labs$unit_concept_name)) %>% arrange(-Freq)\n",
    "quantile(labs$value_as_number[labs$unit_concept_name == \"No matching concept\"], na.rm=T, probs = seq(0, 1, 0.25))\n",
    "\n",
    "#median(labs$value_as_number, na.rm=T)\n",
    "\n",
    "#new_labs <- labs %>%\n",
    "#    filter(!grepl(\"Emergency\", visit_occurrence_concept_name) & !grepl(\"Intensive\", visit_occurrence_concept_name) &\n",
    "#          !grepl(\"Urgent\", visit_occurrence_concept_name))\n",
    "\n",
    "#as.data.frame(table(new_labs$visit_occurrence_concept_name)) %>% arrange(-Freq)\n",
    "#new_labs <- labs %>%\n",
    "#    filter(unit_concept_name == \"square meter\")\n",
    "#length(unique(new_labs$person_id))\n"
   ]
  },
  {
   "cell_type": "code",
   "execution_count": null,
   "metadata": {
    "vscode": {
     "languageId": "r"
    }
   },
   "outputs": [],
   "source": [
    "keep_outliers = FALSE\n",
    "\n",
    "# Do all the filtering specified at the top of the file\n",
    "labs_formatted <- labs %>%\n",
    "    filter(!grepl(\"Emergency\", visit_occurrence_concept_name) & \n",
    "           !grepl(\"Intensive\", visit_occurrence_concept_name) &\n",
    "           !grepl(\"Urgent\", visit_occurrence_concept_name)) %>%\n",
    "    filter(unit_concept_name != \"per gram\" &\n",
    "           unit_concept_name != \"no value\" &\n",
    "           unit_concept_name != \"microgram\" &\n",
    "           unit_concept_name != \"gram per deciliter\" &\n",
    "           unit_concept_name != \"percent\" &\n",
    "           unit_concept_name != \"mcg\" &\n",
    "           unit_concept_name != \"pg/cell\" &\n",
    "           unit_concept_name != \"Percent\" &\n",
    "           unit_concept_name != \"femtoliter\" &\n",
    "           unit_concept_name != \"mL/kg\") %>%\n",
    "    filter(value_as_number >= 0) %>%\n",
    "    select(person_id, measurement_datetime, value_as_number) %>%\n",
    "    mutate_at(c('person_id'), as.character) %>%\n",
    "    mutate(across(where(is.character), ~na_if(., \"NULL\"))) %>%\n",
    "    na.omit() %>%\n",
    "    distinct() %>%\n",
    "    group_by(person_id) %>%\n",
    "    filter(value_as_number <= (10 * median(value_as_number))) %>%\n",
    "    ungroup() %>%\n",
    "    filter(keep_outliers | value_as_number >= mean(value_as_number) - (4 * sd(value_as_number))) %>%\n",
    "    filter(keep_outliers | value_as_number <= mean(value_as_number) + (4 * sd(value_as_number))) \n",
    "\n",
    "dim(labs_formatted)\n",
    "head(labs_formatted, 5)\n"
   ]
  },
  {
   "cell_type": "code",
   "execution_count": null,
   "metadata": {
    "vscode": {
     "languageId": "r"
    }
   },
   "outputs": [],
   "source": [
    "min(labs_formatted$value_as_number)\n",
    "median(labs_formatted$value_as_number)\n",
    "mean(labs_formatted$value_as_number)\n",
    "max(labs_formatted$value_as_number)\n",
    "sd(labs_formatted$value_as_number)\n"
   ]
  },
  {
   "cell_type": "code",
   "execution_count": null,
   "metadata": {
    "vscode": {
     "languageId": "r"
    }
   },
   "outputs": [],
   "source": [
    "write.table(labs_formatted, \n",
    "    file=paste0(data_path, \"/dataframes/blood/AllofUs_v8_labs-Mean-Corpuscular-Hemoglobin_wout_outliers_long_052724.txt\"), \n",
    "    row.names=FALSE, quote=FALSE, sep=\"\\t\")\n"
   ]
  },
  {
   "cell_type": "markdown",
   "metadata": {},
   "source": [
    "## Mean corpuscular hemoglobin concentration (g/dL)"
   ]
  },
  {
   "cell_type": "code",
   "execution_count": null,
   "metadata": {
    "vscode": {
     "languageId": "r"
    }
   },
   "outputs": [],
   "source": [
    "# MCHC\n",
    "labs <- dataset_06003545_measurement_df %>%\n",
    "    filter(grepl(\"MCHC\", standard_concept_name))\n",
    "colnames(labs)\n",
    "length(unique(labs$person_id))\n",
    "\n",
    "as.data.frame(table(labs$standard_concept_name)) %>% arrange(-Freq)\n",
    "\n",
    "#as.data.frame(table(labs$visit_occurrence_concept_name)) %>% arrange(-Freq)\n",
    "as.data.frame(table(labs$unit_concept_name)) %>% arrange(-Freq)\n",
    "quantile(labs$value_as_number[labs$unit_concept_name == \"No matching concept\"], na.rm=T, probs = seq(0, 1, 0.25))\n",
    "\n",
    "#median(labs$value_as_number, na.rm=T)\n",
    "\n",
    "#new_labs <- labs %>%\n",
    "#    filter(!grepl(\"Emergency\", visit_occurrence_concept_name) & !grepl(\"Intensive\", visit_occurrence_concept_name) &\n",
    "#          !grepl(\"Urgent\", visit_occurrence_concept_name))\n",
    "\n",
    "#as.data.frame(table(new_labs$visit_occurrence_concept_name)) %>% arrange(-Freq)\n",
    "#new_labs <- labs %>%\n",
    "#    filter(unit_concept_name == \"square meter\")\n",
    "#length(unique(new_labs$person_id))\n"
   ]
  },
  {
   "cell_type": "code",
   "execution_count": null,
   "metadata": {
    "vscode": {
     "languageId": "r"
    }
   },
   "outputs": [],
   "source": [
    "keep_outliers = FALSE\n",
    "\n",
    "# Do all the filtering specified at the top of the file\n",
    "labs_formatted <- labs %>%\n",
    "    filter(!grepl(\"Emergency\", visit_occurrence_concept_name) & \n",
    "           !grepl(\"Intensive\", visit_occurrence_concept_name) &\n",
    "           !grepl(\"Urgent\", visit_occurrence_concept_name)) %>%\n",
    "    filter(unit_concept_name != \"Percentage unit\" &\n",
    "           unit_concept_name != \"picogram\" &\n",
    "           unit_concept_name != \"no value\" &\n",
    "           unit_concept_name != \"Percent\" &\n",
    "           unit_concept_name != \"femtoliter\" &\n",
    "           unit_concept_name != \"gram per liter\") %>%\n",
    "    filter(value_as_number >= 0) %>%\n",
    "    select(person_id, measurement_datetime, value_as_number) %>%\n",
    "    mutate_at(c('person_id'), as.character) %>%\n",
    "    mutate(across(where(is.character), ~na_if(., \"NULL\"))) %>%\n",
    "    na.omit() %>%\n",
    "    distinct() %>%\n",
    "    group_by(person_id) %>%\n",
    "    filter(value_as_number <= (10 * median(value_as_number))) %>%\n",
    "    ungroup() %>%\n",
    "    filter(keep_outliers | value_as_number >= mean(value_as_number) - (4 * sd(value_as_number))) %>%\n",
    "    filter(keep_outliers | value_as_number <= mean(value_as_number) + (4 * sd(value_as_number))) \n",
    "\n",
    "dim(labs_formatted)\n",
    "head(labs_formatted, 5)\n"
   ]
  },
  {
   "cell_type": "code",
   "execution_count": null,
   "metadata": {
    "vscode": {
     "languageId": "r"
    }
   },
   "outputs": [],
   "source": [
    "min(labs_formatted$value_as_number)\n",
    "median(labs_formatted$value_as_number)\n",
    "mean(labs_formatted$value_as_number)\n",
    "max(labs_formatted$value_as_number)\n",
    "sd(labs_formatted$value_as_number)\n"
   ]
  },
  {
   "cell_type": "code",
   "execution_count": null,
   "metadata": {
    "vscode": {
     "languageId": "r"
    }
   },
   "outputs": [],
   "source": [
    "write.table(labs_formatted, \n",
    "    file=paste0(data_path, \"/dataframes/blood/AllofUs_v8_labs-Mean-Corpuscular-Hemoglobin-concentration_wout_outliers_long_052724.txt\"), \n",
    "    row.names=FALSE, quote=FALSE, sep=\"\\t\")\n"
   ]
  },
  {
   "cell_type": "markdown",
   "metadata": {},
   "source": [
    "# Cell volumes"
   ]
  },
  {
   "cell_type": "markdown",
   "metadata": {},
   "source": [
    "## Extract cell volume measurements"
   ]
  },
  {
   "cell_type": "code",
   "execution_count": null,
   "metadata": {
    "vscode": {
     "languageId": "r"
    }
   },
   "outputs": [],
   "source": [
    "library(tidyverse)\n",
    "library(bigrquery)\n",
    "\n",
    "# This query represents dataset \"Pts with Cell Volumes\" for domain \"measurement\" and was generated for All of Us Controlled Tier Dataset v8\n",
    "dataset_02226542_measurement_sql <- paste(\"\n",
    "    SELECT\n",
    "        measurement.person_id,\n",
    "        measurement.measurement_concept_id,\n",
    "        m_standard_concept.concept_name as standard_concept_name,\n",
    "        m_standard_concept.concept_code as standard_concept_code,\n",
    "        m_standard_concept.vocabulary_id as standard_vocabulary,\n",
    "        measurement.measurement_datetime,\n",
    "        measurement.measurement_type_concept_id,\n",
    "        m_type.concept_name as measurement_type_concept_name,\n",
    "        measurement.operator_concept_id,\n",
    "        m_operator.concept_name as operator_concept_name,\n",
    "        measurement.value_as_number,\n",
    "        measurement.value_as_concept_id,\n",
    "        m_value.concept_name as value_as_concept_name,\n",
    "        measurement.unit_concept_id,\n",
    "        m_unit.concept_name as unit_concept_name,\n",
    "        measurement.range_low,\n",
    "        measurement.range_high,\n",
    "        measurement.visit_occurrence_id,\n",
    "        m_visit.concept_name as visit_occurrence_concept_name,\n",
    "        measurement.measurement_source_value,\n",
    "        measurement.measurement_source_concept_id,\n",
    "        m_source_concept.concept_name as source_concept_name,\n",
    "        m_source_concept.concept_code as source_concept_code,\n",
    "        m_source_concept.vocabulary_id as source_vocabulary,\n",
    "        measurement.unit_source_value,\n",
    "        measurement.value_source_value \n",
    "    FROM\n",
    "        ( SELECT\n",
    "            * \n",
    "        FROM\n",
    "            `measurement` measurement \n",
    "        WHERE\n",
    "            (\n",
    "                measurement_concept_id IN (SELECT\n",
    "                    DISTINCT c.concept_id \n",
    "                FROM\n",
    "                    `cb_criteria` c \n",
    "                JOIN\n",
    "                    (SELECT\n",
    "                        CAST(cr.id as string) AS id       \n",
    "                    FROM\n",
    "                        `cb_criteria` cr       \n",
    "                    WHERE\n",
    "                        concept_id IN (37065843, 37071701)       \n",
    "                        AND full_text LIKE '%_rank1]%'      ) a \n",
    "                        ON (c.path LIKE CONCAT('%.', a.id, '.%') \n",
    "                        OR c.path LIKE CONCAT('%.', a.id) \n",
    "                        OR c.path LIKE CONCAT(a.id, '.%') \n",
    "                        OR c.path = a.id) \n",
    "                WHERE\n",
    "                    is_standard = 1 \n",
    "                    AND is_selectable = 1)\n",
    "            )  \n",
    "            AND (\n",
    "                measurement.PERSON_ID IN (SELECT\n",
    "                    distinct person_id  \n",
    "                FROM\n",
    "                    `cb_search_person` cb_search_person  \n",
    "                WHERE\n",
    "                    cb_search_person.person_id IN (SELECT\n",
    "                        criteria.person_id \n",
    "                    FROM\n",
    "                        (SELECT\n",
    "                            DISTINCT person_id, entry_date, concept_id \n",
    "                        FROM\n",
    "                            `cb_search_all_events` \n",
    "                        WHERE\n",
    "                            (concept_id IN(SELECT\n",
    "                                DISTINCT c.concept_id \n",
    "                            FROM\n",
    "                                `cb_criteria` c \n",
    "                            JOIN\n",
    "                                (SELECT\n",
    "                                    CAST(cr.id as string) AS id       \n",
    "                                FROM\n",
    "                                    `cb_criteria` cr       \n",
    "                                WHERE\n",
    "                                    concept_id IN (37071701, 37065843)       \n",
    "                                    AND full_text LIKE '%_rank1]%'      ) a \n",
    "                                    ON (c.path LIKE CONCAT('%.', a.id, '.%') \n",
    "                                    OR c.path LIKE CONCAT('%.', a.id) \n",
    "                                    OR c.path LIKE CONCAT(a.id, '.%') \n",
    "                                    OR c.path = a.id) \n",
    "                            WHERE\n",
    "                                is_standard = 1 \n",
    "                                AND is_selectable = 1) \n",
    "                            AND is_standard = 1 )) criteria ) )\n",
    "            )) measurement \n",
    "    LEFT JOIN\n",
    "        `concept` m_standard_concept \n",
    "            ON measurement.measurement_concept_id = m_standard_concept.concept_id \n",
    "    LEFT JOIN\n",
    "        `concept` m_type \n",
    "            ON measurement.measurement_type_concept_id = m_type.concept_id \n",
    "    LEFT JOIN\n",
    "        `concept` m_operator \n",
    "            ON measurement.operator_concept_id = m_operator.concept_id \n",
    "    LEFT JOIN\n",
    "        `concept` m_value \n",
    "            ON measurement.value_as_concept_id = m_value.concept_id \n",
    "    LEFT JOIN\n",
    "        `concept` m_unit \n",
    "            ON measurement.unit_concept_id = m_unit.concept_id \n",
    "    LEFT JOIn\n",
    "        `visit_occurrence` v \n",
    "            ON measurement.visit_occurrence_id = v.visit_occurrence_id \n",
    "    LEFT JOIN\n",
    "        `concept` m_visit \n",
    "            ON v.visit_concept_id = m_visit.concept_id \n",
    "    LEFT JOIN\n",
    "        `concept` m_source_concept \n",
    "            ON measurement.measurement_source_concept_id = m_source_concept.concept_id\", sep=\"\")\n",
    "\n",
    "# Formulate a Cloud Storage destination path for the data exported from BigQuery.\n",
    "# NOTE: By default data exported multiple times on the same day will overwrite older copies.\n",
    "#       But data exported on a different days will write to a new location so that historical\n",
    "#       copies can be kept as the dataset definition is changed.\n",
    "measurement_02226542_path <- file.path(\n",
    "  Sys.getenv(\"WORKSPACE_BUCKET\"),\n",
    "  \"bq_exports\",\n",
    "  Sys.getenv(\"OWNER_EMAIL\"),\n",
    "  strftime(lubridate::now(), \"%Y%m%d\"),  # Comment out this line if you want the export to always overwrite.\n",
    "  \"measurement_02226542\",\n",
    "  \"measurement_02226542_*.csv\")\n",
    "message(str_glue('The data will be written to {measurement_02226542_path}. Use this path when reading ',\n",
    "                 'the data into your notebooks in the future.'))\n",
    "\n",
    "# Perform the query and export the dataset to Cloud Storage as CSV files.\n",
    "# NOTE: You only need to run `bq_table_save` once. After that, you can\n",
    "#       just read data from the CSVs in Cloud Storage.\n",
    "bq_table_save(\n",
    "  bq_dataset_query(Sys.getenv(\"WORKSPACE_CDR\"), dataset_02226542_measurement_sql, billing = Sys.getenv(\"GOOGLE_PROJECT\")),\n",
    "  measurement_02226542_path,\n",
    "  destination_format = \"CSV\")\n",
    "\n"
   ]
  },
  {
   "cell_type": "code",
   "execution_count": null,
   "metadata": {
    "vscode": {
     "languageId": "r"
    }
   },
   "outputs": [],
   "source": [
    "# Read the data directly from Cloud Storage into memory.\n",
    "# NOTE: Alternatively you can `gsutil -m cp {measurement_02226542_path}` to copy these files\n",
    "#       to the Jupyter disk.\n",
    "read_bq_export_from_workspace_bucket <- function(export_path) {\n",
    "  col_types <- cols(standard_concept_name = col_character(), standard_concept_code = col_character(), standard_vocabulary = col_character(), measurement_type_concept_name = col_character(), operator_concept_name = col_character(), value_as_concept_name = col_character(), unit_concept_name = col_character(), visit_occurrence_concept_name = col_character(), measurement_source_value = col_character(), source_concept_name = col_character(), source_concept_code = col_character(), source_vocabulary = col_character(), unit_source_value = col_character(), value_source_value = col_character())\n",
    "  bind_rows(\n",
    "    map(system2('gsutil', args = c('ls', export_path), stdout = TRUE, stderr = TRUE),\n",
    "        function(csv) {\n",
    "          message(str_glue('Loading {csv}.'))\n",
    "          chunk <- read_csv(pipe(str_glue('gsutil cat {csv}')), col_types = col_types, show_col_types = FALSE)\n",
    "          if (is.null(col_types)) {\n",
    "            col_types <- spec(chunk)\n",
    "          }\n",
    "          chunk\n",
    "        }))\n",
    "}\n",
    "#measurement_02226542_path <- \"gs://fc-secure-b96fb036-3379-4be0-8834-e7e486f2b76e/bq_exports/davidz1@researchallofus.org/20240528/measurement_02226542/measurement_02226542_*.csv\"\n",
    "dataset_02226542_measurement_df <- read_bq_export_from_workspace_bucket(measurement_02226542_path)\n",
    "\n",
    "dim(dataset_02226542_measurement_df)\n",
    "\n",
    "head(dataset_02226542_measurement_df, 5)"
   ]
  },
  {
   "cell_type": "markdown",
   "metadata": {},
   "source": [
    "## Process mean corpuscular volume (femtoliters)"
   ]
  },
  {
   "cell_type": "code",
   "execution_count": null,
   "metadata": {
    "vscode": {
     "languageId": "r"
    }
   },
   "outputs": [],
   "source": [
    "# MCV\n",
    "labs <- dataset_02226542_measurement_df %>%\n",
    "    filter(grepl(\"MCV\", standard_concept_name))\n",
    "colnames(labs)\n",
    "length(unique(labs$person_id))\n",
    "\n",
    "as.data.frame(table(labs$standard_concept_name)) %>% arrange(-Freq)\n",
    "\n",
    "#as.data.frame(table(labs$visit_occurrence_concept_name)) %>% arrange(-Freq)\n",
    "as.data.frame(table(labs$unit_concept_name)) %>% arrange(-Freq)\n",
    "quantile(labs$value_as_number[labs$unit_concept_name == \"no value\"], na.rm=T, probs = seq(0, 1, 0.25))\n",
    "\n",
    "#median(labs$value_as_number, na.rm=T)\n",
    "\n",
    "#new_labs <- labs %>%\n",
    "#    filter(!grepl(\"Emergency\", visit_occurrence_concept_name) & !grepl(\"Intensive\", visit_occurrence_concept_name) &\n",
    "#          !grepl(\"Urgent\", visit_occurrence_concept_name))\n",
    "\n",
    "#as.data.frame(table(new_labs$visit_occurrence_concept_name)) %>% arrange(-Freq)\n",
    "#new_labs <- labs %>%\n",
    "#    filter(unit_concept_name == \"square meter\")\n",
    "#length(unique(new_labs$person_id))\n"
   ]
  },
  {
   "cell_type": "code",
   "execution_count": null,
   "metadata": {
    "vscode": {
     "languageId": "r"
    }
   },
   "outputs": [],
   "source": [
    "keep_outliers = FALSE\n",
    "\n",
    "# Do all the filtering specified at the top of the file\n",
    "labs_formatted <- labs %>%\n",
    "    filter(!grepl(\"Emergency\", visit_occurrence_concept_name) & \n",
    "           !grepl(\"Intensive\", visit_occurrence_concept_name) &\n",
    "           !grepl(\"Urgent\", visit_occurrence_concept_name)) %>%\n",
    "    filter(unit_concept_name != \"cubic millimeter\" &\n",
    "           unit_concept_name != \"percent\" &\n",
    "           unit_concept_name != \"millimole per liter\") %>%\n",
    "    filter(value_as_number >= 0) %>%\n",
    "    select(person_id, measurement_datetime, value_as_number) %>%\n",
    "    mutate_at(c('person_id'), as.character) %>%\n",
    "    mutate(across(where(is.character), ~na_if(., \"NULL\"))) %>%\n",
    "    na.omit() %>%\n",
    "    distinct() %>%\n",
    "    group_by(person_id) %>%\n",
    "    filter(value_as_number <= (10 * median(value_as_number))) %>%\n",
    "    ungroup() %>%\n",
    "    filter(keep_outliers | value_as_number >= mean(value_as_number) - (4 * sd(value_as_number))) %>%\n",
    "    filter(keep_outliers | value_as_number <= mean(value_as_number) + (4 * sd(value_as_number))) \n",
    "\n",
    "dim(labs_formatted)\n",
    "head(labs_formatted, 5)\n"
   ]
  },
  {
   "cell_type": "code",
   "execution_count": null,
   "metadata": {
    "vscode": {
     "languageId": "r"
    }
   },
   "outputs": [],
   "source": [
    "min(labs_formatted$value_as_number)\n",
    "median(labs_formatted$value_as_number)\n",
    "mean(labs_formatted$value_as_number)\n",
    "max(labs_formatted$value_as_number)\n",
    "sd(labs_formatted$value_as_number)\n"
   ]
  },
  {
   "cell_type": "code",
   "execution_count": null,
   "metadata": {
    "vscode": {
     "languageId": "r"
    }
   },
   "outputs": [],
   "source": [
    "write.table(labs_formatted, \n",
    "    file=paste0(data_path, \"/dataframes/blood/AllofUs_v8_labs-Mean-Corpuscular-Volume_wout_outliers_long_052724.txt\"), \n",
    "    row.names=FALSE, quote=FALSE, sep=\"\\t\")\n"
   ]
  },
  {
   "cell_type": "markdown",
   "metadata": {},
   "source": [
    "## Process mean platelet volume (femtoliter)"
   ]
  },
  {
   "cell_type": "code",
   "execution_count": null,
   "metadata": {
    "vscode": {
     "languageId": "r"
    }
   },
   "outputs": [],
   "source": [
    "# Mean platelet volume\n",
    "labs <- dataset_02226542_measurement_df %>%\n",
    "    filter(grepl(\"Platelet\", standard_concept_name))\n",
    "colnames(labs)\n",
    "length(unique(labs$person_id))\n",
    "\n",
    "as.data.frame(table(labs$standard_concept_name)) %>% arrange(-Freq)\n",
    "\n",
    "#as.data.frame(table(labs$visit_occurrence_concept_name)) %>% arrange(-Freq)\n",
    "as.data.frame(table(labs$unit_concept_name)) %>% arrange(-Freq)\n",
    "quantile(labs$value_as_number[labs$unit_concept_name == \"no value\"], na.rm=T, probs = seq(0, 1, 0.25))\n",
    "\n",
    "#median(labs$value_as_number, na.rm=T)\n",
    "\n",
    "#new_labs <- labs %>%\n",
    "#    filter(!grepl(\"Emergency\", visit_occurrence_concept_name) & !grepl(\"Intensive\", visit_occurrence_concept_name) &\n",
    "#          !grepl(\"Urgent\", visit_occurrence_concept_name))\n",
    "\n",
    "#as.data.frame(table(new_labs$visit_occurrence_concept_name)) %>% arrange(-Freq)\n",
    "#new_labs <- labs %>%\n",
    "#    filter(unit_concept_name == \"square meter\")\n",
    "#length(unique(new_labs$person_id))\n"
   ]
  },
  {
   "cell_type": "code",
   "execution_count": null,
   "metadata": {
    "vscode": {
     "languageId": "r"
    }
   },
   "outputs": [],
   "source": [
    "keep_outliers = FALSE\n",
    "\n",
    "# Do all the filtering specified at the top of the file\n",
    "labs_formatted <- labs %>%\n",
    "    filter(!grepl(\"Emergency\", visit_occurrence_concept_name) & \n",
    "           !grepl(\"Intensive\", visit_occurrence_concept_name) &\n",
    "           !grepl(\"Urgent\", visit_occurrence_concept_name)) %>%\n",
    "    filter(unit_concept_name != \"percent\" &\n",
    "           unit_concept_name != \"thousand per microliter\") %>%\n",
    "    filter(value_as_number >= 0) %>%\n",
    "    select(person_id, measurement_datetime, value_as_number) %>%\n",
    "    mutate_at(c('person_id'), as.character) %>%\n",
    "    mutate(across(where(is.character), ~na_if(., \"NULL\"))) %>%\n",
    "    na.omit() %>%\n",
    "    distinct() %>%\n",
    "    group_by(person_id) %>%\n",
    "    filter(value_as_number <= (10 * median(value_as_number))) %>%\n",
    "    ungroup() %>%\n",
    "    filter(keep_outliers | value_as_number >= mean(value_as_number) - (4 * sd(value_as_number))) %>%\n",
    "    filter(keep_outliers | value_as_number <= mean(value_as_number) + (4 * sd(value_as_number))) \n",
    "\n",
    "dim(labs_formatted)\n",
    "head(labs_formatted, 5)\n"
   ]
  },
  {
   "cell_type": "code",
   "execution_count": null,
   "metadata": {
    "vscode": {
     "languageId": "r"
    }
   },
   "outputs": [],
   "source": [
    "min(labs_formatted$value_as_number)\n",
    "median(labs_formatted$value_as_number)\n",
    "mean(labs_formatted$value_as_number)\n",
    "max(labs_formatted$value_as_number)\n",
    "sd(labs_formatted$value_as_number)\n"
   ]
  },
  {
   "cell_type": "code",
   "execution_count": null,
   "metadata": {
    "vscode": {
     "languageId": "r"
    }
   },
   "outputs": [],
   "source": [
    "write.table(labs_formatted, \n",
    "    file=paste0(data_path, \"/dataframes/blood/AllofUs_v8_labs-Mean-Platelet-Volume_wout_outliers_long_052724.txt\"), \n",
    "    row.names=FALSE, quote=FALSE, sep=\"\\t\")\n"
   ]
  },
  {
   "cell_type": "markdown",
   "metadata": {},
   "source": [
    "# Platelets"
   ]
  },
  {
   "cell_type": "markdown",
   "metadata": {},
   "source": [
    "## Extract platelet count/crit/distribution width"
   ]
  },
  {
   "cell_type": "code",
   "execution_count": null,
   "metadata": {
    "vscode": {
     "languageId": "r"
    }
   },
   "outputs": [],
   "source": [
    "library(tidyverse)\n",
    "library(bigrquery)\n",
    "\n",
    "# This query represents dataset \"Pts with Platelets\" for domain \"measurement\" and was generated for All of Us Controlled Tier Dataset v8\n",
    "dataset_78924662_measurement_sql <- paste(\"\n",
    "    SELECT\n",
    "        measurement.person_id,\n",
    "        measurement.measurement_concept_id,\n",
    "        m_standard_concept.concept_name as standard_concept_name,\n",
    "        m_standard_concept.concept_code as standard_concept_code,\n",
    "        m_standard_concept.vocabulary_id as standard_vocabulary,\n",
    "        measurement.measurement_datetime,\n",
    "        measurement.measurement_type_concept_id,\n",
    "        m_type.concept_name as measurement_type_concept_name,\n",
    "        measurement.operator_concept_id,\n",
    "        m_operator.concept_name as operator_concept_name,\n",
    "        measurement.value_as_number,\n",
    "        measurement.value_as_concept_id,\n",
    "        m_value.concept_name as value_as_concept_name,\n",
    "        measurement.unit_concept_id,\n",
    "        m_unit.concept_name as unit_concept_name,\n",
    "        measurement.range_low,\n",
    "        measurement.range_high,\n",
    "        measurement.visit_occurrence_id,\n",
    "        m_visit.concept_name as visit_occurrence_concept_name,\n",
    "        measurement.measurement_source_value,\n",
    "        measurement.measurement_source_concept_id,\n",
    "        m_source_concept.concept_name as source_concept_name,\n",
    "        m_source_concept.concept_code as source_concept_code,\n",
    "        m_source_concept.vocabulary_id as source_vocabulary,\n",
    "        measurement.unit_source_value,\n",
    "        measurement.value_source_value \n",
    "    FROM\n",
    "        ( SELECT\n",
    "            * \n",
    "        FROM\n",
    "            `measurement` measurement \n",
    "        WHERE\n",
    "            (\n",
    "                measurement_concept_id IN (SELECT\n",
    "                    DISTINCT c.concept_id \n",
    "                FROM\n",
    "                    `cb_criteria` c \n",
    "                JOIN\n",
    "                    (SELECT\n",
    "                        CAST(cr.id as string) AS id       \n",
    "                    FROM\n",
    "                        `cb_criteria` cr       \n",
    "                    WHERE\n",
    "                        concept_id IN (37037425, 4097621, 44787151)       \n",
    "                        AND full_text LIKE '%_rank1]%'      ) a \n",
    "                        ON (c.path LIKE CONCAT('%.', a.id, '.%') \n",
    "                        OR c.path LIKE CONCAT('%.', a.id) \n",
    "                        OR c.path LIKE CONCAT(a.id, '.%') \n",
    "                        OR c.path = a.id) \n",
    "                WHERE\n",
    "                    is_standard = 1 \n",
    "                    AND is_selectable = 1)\n",
    "            )  \n",
    "            AND (\n",
    "                measurement.PERSON_ID IN (SELECT\n",
    "                    distinct person_id  \n",
    "                FROM\n",
    "                    `cb_search_person` cb_search_person  \n",
    "                WHERE\n",
    "                    cb_search_person.person_id IN (SELECT\n",
    "                        criteria.person_id \n",
    "                    FROM\n",
    "                        (SELECT\n",
    "                            DISTINCT person_id, entry_date, concept_id \n",
    "                        FROM\n",
    "                            `cb_search_all_events` \n",
    "                        WHERE\n",
    "                            (concept_id IN(SELECT\n",
    "                                DISTINCT c.concept_id \n",
    "                            FROM\n",
    "                                `cb_criteria` c \n",
    "                            JOIN\n",
    "                                (SELECT\n",
    "                                    CAST(cr.id as string) AS id       \n",
    "                                FROM\n",
    "                                    `cb_criteria` cr       \n",
    "                                WHERE\n",
    "                                    concept_id IN (44787151, 4097621, 37037425)       \n",
    "                                    AND full_text LIKE '%_rank1]%'      ) a \n",
    "                                    ON (c.path LIKE CONCAT('%.', a.id, '.%') \n",
    "                                    OR c.path LIKE CONCAT('%.', a.id) \n",
    "                                    OR c.path LIKE CONCAT(a.id, '.%') \n",
    "                                    OR c.path = a.id) \n",
    "                            WHERE\n",
    "                                is_standard = 1 \n",
    "                                AND is_selectable = 1) \n",
    "                            AND is_standard = 1 )) criteria ) )\n",
    "            )) measurement \n",
    "    LEFT JOIN\n",
    "        `concept` m_standard_concept \n",
    "            ON measurement.measurement_concept_id = m_standard_concept.concept_id \n",
    "    LEFT JOIN\n",
    "        `concept` m_type \n",
    "            ON measurement.measurement_type_concept_id = m_type.concept_id \n",
    "    LEFT JOIN\n",
    "        `concept` m_operator \n",
    "            ON measurement.operator_concept_id = m_operator.concept_id \n",
    "    LEFT JOIN\n",
    "        `concept` m_value \n",
    "            ON measurement.value_as_concept_id = m_value.concept_id \n",
    "    LEFT JOIN\n",
    "        `concept` m_unit \n",
    "            ON measurement.unit_concept_id = m_unit.concept_id \n",
    "    LEFT JOIn\n",
    "        `visit_occurrence` v \n",
    "            ON measurement.visit_occurrence_id = v.visit_occurrence_id \n",
    "    LEFT JOIN\n",
    "        `concept` m_visit \n",
    "            ON v.visit_concept_id = m_visit.concept_id \n",
    "    LEFT JOIN\n",
    "        `concept` m_source_concept \n",
    "            ON measurement.measurement_source_concept_id = m_source_concept.concept_id\", sep=\"\")\n",
    "\n",
    "# Formulate a Cloud Storage destination path for the data exported from BigQuery.\n",
    "# NOTE: By default data exported multiple times on the same day will overwrite older copies.\n",
    "#       But data exported on a different days will write to a new location so that historical\n",
    "#       copies can be kept as the dataset definition is changed.\n",
    "measurement_78924662_path <- file.path(\n",
    "  Sys.getenv(\"WORKSPACE_BUCKET\"),\n",
    "  \"bq_exports\",\n",
    "  Sys.getenv(\"OWNER_EMAIL\"),\n",
    "  strftime(lubridate::now(), \"%Y%m%d\"),  # Comment out this line if you want the export to always overwrite.\n",
    "  \"measurement_78924662\",\n",
    "  \"measurement_78924662_*.csv\")\n",
    "message(str_glue('The data will be written to {measurement_78924662_path}. Use this path when reading ',\n",
    "                 'the data into your notebooks in the future.'))\n",
    "\n",
    "# Perform the query and export the dataset to Cloud Storage as CSV files.\n",
    "# NOTE: You only need to run `bq_table_save` once. After that, you can\n",
    "#       just read data from the CSVs in Cloud Storage.\n",
    "bq_table_save(\n",
    "  bq_dataset_query(Sys.getenv(\"WORKSPACE_CDR\"), dataset_78924662_measurement_sql, billing = Sys.getenv(\"GOOGLE_PROJECT\")),\n",
    "  measurement_78924662_path,\n",
    "  destination_format = \"CSV\")\n",
    "\n"
   ]
  },
  {
   "cell_type": "code",
   "execution_count": null,
   "metadata": {
    "vscode": {
     "languageId": "r"
    }
   },
   "outputs": [],
   "source": [
    "# Read the data directly from Cloud Storage into memory.\n",
    "# NOTE: Alternatively you can `gsutil -m cp {measurement_78924662_path}` to copy these files\n",
    "#       to the Jupyter disk.\n",
    "read_bq_export_from_workspace_bucket <- function(export_path) {\n",
    "  col_types <- cols(standard_concept_name = col_character(), standard_concept_code = col_character(), standard_vocabulary = col_character(), measurement_type_concept_name = col_character(), operator_concept_name = col_character(), value_as_concept_name = col_character(), unit_concept_name = col_character(), visit_occurrence_concept_name = col_character(), measurement_source_value = col_character(), source_concept_name = col_character(), source_concept_code = col_character(), source_vocabulary = col_character(), unit_source_value = col_character(), value_source_value = col_character())\n",
    "  bind_rows(\n",
    "    map(system2('gsutil', args = c('ls', export_path), stdout = TRUE, stderr = TRUE),\n",
    "        function(csv) {\n",
    "          message(str_glue('Loading {csv}.'))\n",
    "          chunk <- read_csv(pipe(str_glue('gsutil cat {csv}')), col_types = col_types, show_col_types = FALSE)\n",
    "          if (is.null(col_types)) {\n",
    "            col_types <- spec(chunk)\n",
    "          }\n",
    "          chunk\n",
    "        }))\n",
    "}\n",
    "#measurement_78924662_path <- \"gs://fc-secure-b96fb036-3379-4be0-8834-e7e486f2b76e/bq_exports/davidz1@researchallofus.org/20240528/measurement_78924662/measurement_78924662_*.csv\"\n",
    "dataset_78924662_measurement_df <- read_bq_export_from_workspace_bucket(measurement_78924662_path)\n",
    "\n",
    "dim(dataset_78924662_measurement_df)\n",
    "\n",
    "head(dataset_78924662_measurement_df, 5)"
   ]
  },
  {
   "cell_type": "markdown",
   "metadata": {},
   "source": [
    "## Process platelet counts (thousand/uL)"
   ]
  },
  {
   "cell_type": "code",
   "execution_count": null,
   "metadata": {
    "vscode": {
     "languageId": "r"
    }
   },
   "outputs": [],
   "source": [
    "# Platelet count\n",
    "labs <- dataset_78924662_measurement_df %>%\n",
    "    filter((grepl(\"volume\", standard_concept_name) | grepl(\"adequacy\", standard_concept_name)) &\n",
    "           !grepl(\"distribution\", standard_concept_name))\n",
    "colnames(labs)\n",
    "length(unique(labs$person_id))\n",
    "\n",
    "as.data.frame(table(labs$standard_concept_name)) %>% arrange(-Freq)\n",
    "\n",
    "#as.data.frame(table(labs$visit_occurrence_concept_name)) %>% arrange(-Freq)\n",
    "as.data.frame(table(labs$unit_concept_name)) %>% arrange(-Freq)\n",
    "quantile(labs$value_as_number[labs$unit_concept_name == \"no value\"], na.rm=T, probs = seq(0, 1, 0.25))\n",
    "\n",
    "#median(labs$value_as_number, na.rm=T)\n",
    "\n",
    "#new_labs <- labs %>%\n",
    "#    filter(!grepl(\"Emergency\", visit_occurrence_concept_name) & !grepl(\"Intensive\", visit_occurrence_concept_name) &\n",
    "#          !grepl(\"Urgent\", visit_occurrence_concept_name))\n",
    "\n",
    "#as.data.frame(table(new_labs$visit_occurrence_concept_name)) %>% arrange(-Freq)\n",
    "#new_labs <- labs %>%\n",
    "#    filter(unit_concept_name == \"square meter\")\n",
    "#length(unique(new_labs$person_id))\n"
   ]
  },
  {
   "cell_type": "code",
   "execution_count": null,
   "metadata": {
    "vscode": {
     "languageId": "r"
    }
   },
   "outputs": [],
   "source": [
    "keep_outliers = FALSE\n",
    "\n",
    "# Do all the filtering specified at the top of the file\n",
    "labs_formatted <- labs %>%\n",
    "    filter(!grepl(\"Emergency\", visit_occurrence_concept_name) & \n",
    "           !grepl(\"Intensive\", visit_occurrence_concept_name) &\n",
    "           !grepl(\"Urgent\", visit_occurrence_concept_name)) %>%\n",
    "    filter(unit_concept_name == \"thousand per microliter\" |\n",
    "           unit_concept_name == \"No matching concept\" |\n",
    "           unit_concept_name == \"thousand per cubic millimeter\") %>%\n",
    "    filter(value_as_number >= 0) %>%\n",
    "    select(person_id, measurement_datetime, value_as_number) %>%\n",
    "    mutate_at(c('person_id'), as.character) %>%\n",
    "    mutate(across(where(is.character), ~na_if(., \"NULL\"))) %>%\n",
    "    na.omit() %>%\n",
    "    distinct() %>%\n",
    "    group_by(person_id) %>%\n",
    "    filter(value_as_number <= (10 * median(value_as_number))) %>%\n",
    "    ungroup() %>%\n",
    "    filter(keep_outliers | value_as_number >= mean(value_as_number) - (4 * sd(value_as_number))) %>%\n",
    "    filter(keep_outliers | value_as_number <= mean(value_as_number) + (4 * sd(value_as_number))) \n",
    "\n",
    "dim(labs_formatted)\n",
    "head(labs_formatted, 5)\n"
   ]
  },
  {
   "cell_type": "code",
   "execution_count": null,
   "metadata": {
    "vscode": {
     "languageId": "r"
    }
   },
   "outputs": [],
   "source": [
    "min(labs_formatted$value_as_number)\n",
    "median(labs_formatted$value_as_number)\n",
    "mean(labs_formatted$value_as_number)\n",
    "max(labs_formatted$value_as_number)\n",
    "sd(labs_formatted$value_as_number)\n"
   ]
  },
  {
   "cell_type": "code",
   "execution_count": null,
   "metadata": {
    "vscode": {
     "languageId": "r"
    }
   },
   "outputs": [],
   "source": [
    "write.table(labs_formatted, \n",
    "    file=paste0(data_path, \"/dataframes/blood/AllofUs_v8_labs-Platelet-counts_wout_outliers_long_052724.txt\"), \n",
    "    row.names=FALSE, quote=FALSE, sep=\"\\t\")\n"
   ]
  },
  {
   "cell_type": "markdown",
   "metadata": {},
   "source": [
    "## Process platelet crit (%)"
   ]
  },
  {
   "cell_type": "code",
   "execution_count": null,
   "metadata": {
    "vscode": {
     "languageId": "r"
    }
   },
   "outputs": [],
   "source": [
    "# Platelet crit\n",
    "labs <- dataset_78924662_measurement_df %>%\n",
    "    filter(grepl(\"hematocrit\", standard_concept_name))\n",
    "colnames(labs)\n",
    "length(unique(labs$person_id))\n",
    "\n",
    "as.data.frame(table(labs$standard_concept_name)) %>% arrange(-Freq)\n",
    "\n",
    "#as.data.frame(table(labs$visit_occurrence_concept_name)) %>% arrange(-Freq)\n",
    "as.data.frame(table(labs$unit_concept_name)) %>% arrange(-Freq)\n",
    "quantile(labs$value_as_number[labs$unit_concept_name == \"no value\"], na.rm=T, probs = seq(0, 1, 0.25))\n",
    "\n",
    "#median(labs$value_as_number, na.rm=T)\n",
    "\n",
    "#new_labs <- labs %>%\n",
    "#    filter(!grepl(\"Emergency\", visit_occurrence_concept_name) & !grepl(\"Intensive\", visit_occurrence_concept_name) &\n",
    "#          !grepl(\"Urgent\", visit_occurrence_concept_name))\n",
    "\n",
    "#as.data.frame(table(new_labs$visit_occurrence_concept_name)) %>% arrange(-Freq)\n",
    "#new_labs <- labs %>%\n",
    "#    filter(unit_concept_name == \"square meter\")\n",
    "#length(unique(new_labs$person_id))\n"
   ]
  },
  {
   "cell_type": "code",
   "execution_count": null,
   "metadata": {
    "vscode": {
     "languageId": "r"
    }
   },
   "outputs": [],
   "source": [
    "keep_outliers = FALSE\n",
    "\n",
    "# Do all the filtering specified at the top of the file\n",
    "labs_formatted <- labs %>%\n",
    "    filter(!grepl(\"Emergency\", visit_occurrence_concept_name) & \n",
    "           !grepl(\"Intensive\", visit_occurrence_concept_name) &\n",
    "           !grepl(\"Urgent\", visit_occurrence_concept_name)) %>%\n",
    "    filter(value_as_number >= 0) %>%\n",
    "    select(person_id, measurement_datetime, value_as_number) %>%\n",
    "    mutate_at(c('person_id'), as.character) %>%\n",
    "    mutate(across(where(is.character), ~na_if(., \"NULL\"))) %>%\n",
    "    na.omit() %>%\n",
    "    distinct() %>%\n",
    "    group_by(person_id) %>%\n",
    "    filter(value_as_number <= (10 * median(value_as_number))) %>%\n",
    "    ungroup() %>%\n",
    "    filter(keep_outliers | value_as_number >= mean(value_as_number) - (4 * sd(value_as_number))) %>%\n",
    "    filter(keep_outliers | value_as_number <= mean(value_as_number) + (4 * sd(value_as_number))) \n",
    "\n",
    "dim(labs_formatted)\n",
    "head(labs_formatted, 5)\n"
   ]
  },
  {
   "cell_type": "code",
   "execution_count": null,
   "metadata": {
    "vscode": {
     "languageId": "r"
    }
   },
   "outputs": [],
   "source": [
    "min(labs_formatted$value_as_number)\n",
    "median(labs_formatted$value_as_number)\n",
    "mean(labs_formatted$value_as_number)\n",
    "max(labs_formatted$value_as_number)\n",
    "sd(labs_formatted$value_as_number)\n",
    "\n",
    "quantile(labs$value_as_number, na.rm=T)"
   ]
  },
  {
   "cell_type": "markdown",
   "metadata": {},
   "source": [
    "## Process platelet distribution width (%)"
   ]
  },
  {
   "cell_type": "code",
   "execution_count": null,
   "metadata": {
    "vscode": {
     "languageId": "r"
    }
   },
   "outputs": [],
   "source": [
    "# Platelet distribution width\n",
    "labs <- dataset_78924662_measurement_df %>%\n",
    "    filter(grepl(\"distribution\", standard_concept_name))\n",
    "colnames(labs)\n",
    "length(unique(labs$person_id))\n",
    "\n",
    "as.data.frame(table(labs$standard_concept_name)) %>% arrange(-Freq)\n",
    "\n",
    "#as.data.frame(table(labs$visit_occurrence_concept_name)) %>% arrange(-Freq)\n",
    "as.data.frame(table(labs$unit_concept_name)) %>% arrange(-Freq)\n",
    "quantile(labs$value_as_number[labs$unit_concept_name == \"no value\"], na.rm=T, probs = seq(0, 1, 0.25))\n",
    "\n",
    "#median(labs$value_as_number, na.rm=T)\n",
    "\n",
    "#new_labs <- labs %>%\n",
    "#    filter(!grepl(\"Emergency\", visit_occurrence_concept_name) & !grepl(\"Intensive\", visit_occurrence_concept_name) &\n",
    "#          !grepl(\"Urgent\", visit_occurrence_concept_name))\n",
    "\n",
    "#as.data.frame(table(new_labs$visit_occurrence_concept_name)) %>% arrange(-Freq)\n",
    "#new_labs <- labs %>%\n",
    "#    filter(unit_concept_name == \"square meter\")\n",
    "#length(unique(new_labs$person_id))\n"
   ]
  },
  {
   "cell_type": "code",
   "execution_count": null,
   "metadata": {
    "vscode": {
     "languageId": "r"
    }
   },
   "outputs": [],
   "source": [
    "keep_outliers = FALSE\n",
    "\n",
    "# Do all the filtering specified at the top of the file\n",
    "labs_formatted <- labs %>%\n",
    "    filter(!grepl(\"Emergency\", visit_occurrence_concept_name) & \n",
    "           !grepl(\"Intensive\", visit_occurrence_concept_name) &\n",
    "           !grepl(\"Urgent\", visit_occurrence_concept_name)) %>%\n",
    "    filter(unit_concept_name != \"thousand per microliter\") %>%\n",
    "    filter(value_as_number >= 0) %>%\n",
    "    select(person_id, measurement_datetime, value_as_number) %>%\n",
    "    mutate_at(c('person_id'), as.character) %>%\n",
    "    mutate(across(where(is.character), ~na_if(., \"NULL\"))) %>%\n",
    "    na.omit() %>%\n",
    "    distinct() %>%\n",
    "    group_by(person_id) %>%\n",
    "    filter(value_as_number <= (10 * median(value_as_number))) %>%\n",
    "    ungroup() %>%\n",
    "    filter(keep_outliers | value_as_number >= mean(value_as_number) - (4 * sd(value_as_number))) %>%\n",
    "    filter(keep_outliers | value_as_number <= mean(value_as_number) + (4 * sd(value_as_number))) \n",
    "\n",
    "dim(labs_formatted)\n",
    "head(labs_formatted, 5)\n"
   ]
  },
  {
   "cell_type": "code",
   "execution_count": null,
   "metadata": {
    "vscode": {
     "languageId": "r"
    }
   },
   "outputs": [],
   "source": [
    "min(labs_formatted$value_as_number)\n",
    "median(labs_formatted$value_as_number)\n",
    "mean(labs_formatted$value_as_number)\n",
    "max(labs_formatted$value_as_number)\n",
    "sd(labs_formatted$value_as_number)\n",
    "\n",
    "quantile(labs$value_as_number, na.rm=T)"
   ]
  },
  {
   "cell_type": "markdown",
   "metadata": {},
   "source": [
    "# Leukocytes"
   ]
  },
  {
   "cell_type": "markdown",
   "metadata": {},
   "source": [
    "## Extract leukocyte counts"
   ]
  },
  {
   "cell_type": "code",
   "execution_count": null,
   "metadata": {
    "vscode": {
     "languageId": "r"
    }
   },
   "outputs": [],
   "source": [
    "library(tidyverse)\n",
    "library(bigrquery)\n",
    "\n",
    "# This query represents dataset \"Pts with Leukocytes\" for domain \"measurement\" and was generated for All of Us Controlled Tier Dataset v8\n",
    "dataset_86273426_measurement_sql <- paste(\"\n",
    "    SELECT\n",
    "        measurement.person_id,\n",
    "        measurement.measurement_concept_id,\n",
    "        m_standard_concept.concept_name as standard_concept_name,\n",
    "        m_standard_concept.concept_code as standard_concept_code,\n",
    "        m_standard_concept.vocabulary_id as standard_vocabulary,\n",
    "        measurement.measurement_datetime,\n",
    "        measurement.measurement_type_concept_id,\n",
    "        m_type.concept_name as measurement_type_concept_name,\n",
    "        measurement.operator_concept_id,\n",
    "        m_operator.concept_name as operator_concept_name,\n",
    "        measurement.value_as_number,\n",
    "        measurement.value_as_concept_id,\n",
    "        m_value.concept_name as value_as_concept_name,\n",
    "        measurement.unit_concept_id,\n",
    "        m_unit.concept_name as unit_concept_name,\n",
    "        measurement.range_low,\n",
    "        measurement.range_high,\n",
    "        measurement.visit_occurrence_id,\n",
    "        m_visit.concept_name as visit_occurrence_concept_name,\n",
    "        measurement.measurement_source_value,\n",
    "        measurement.measurement_source_concept_id,\n",
    "        m_source_concept.concept_name as source_concept_name,\n",
    "        m_source_concept.concept_code as source_concept_code,\n",
    "        m_source_concept.vocabulary_id as source_vocabulary,\n",
    "        measurement.unit_source_value,\n",
    "        measurement.value_source_value \n",
    "    FROM\n",
    "        ( SELECT\n",
    "            * \n",
    "        FROM\n",
    "            `measurement` measurement \n",
    "        WHERE\n",
    "            (\n",
    "                measurement_concept_id IN (SELECT\n",
    "                    DISTINCT c.concept_id \n",
    "                FROM\n",
    "                    `cb_criteria` c \n",
    "                JOIN\n",
    "                    (SELECT\n",
    "                        CAST(cr.id as string) AS id       \n",
    "                    FROM\n",
    "                        `cb_criteria` cr       \n",
    "                    WHERE\n",
    "                        concept_id IN (37043992)       \n",
    "                        AND full_text LIKE '%_rank1]%'      ) a \n",
    "                        ON (c.path LIKE CONCAT('%.', a.id, '.%') \n",
    "                        OR c.path LIKE CONCAT('%.', a.id) \n",
    "                        OR c.path LIKE CONCAT(a.id, '.%') \n",
    "                        OR c.path = a.id) \n",
    "                WHERE\n",
    "                    is_standard = 1 \n",
    "                    AND is_selectable = 1)\n",
    "            )  \n",
    "            AND (\n",
    "                measurement.PERSON_ID IN (SELECT\n",
    "                    distinct person_id  \n",
    "                FROM\n",
    "                    `cb_search_person` cb_search_person  \n",
    "                WHERE\n",
    "                    cb_search_person.person_id IN (SELECT\n",
    "                        criteria.person_id \n",
    "                    FROM\n",
    "                        (SELECT\n",
    "                            DISTINCT person_id, entry_date, concept_id \n",
    "                        FROM\n",
    "                            `cb_search_all_events` \n",
    "                        WHERE\n",
    "                            (concept_id IN(SELECT\n",
    "                                DISTINCT c.concept_id \n",
    "                            FROM\n",
    "                                `cb_criteria` c \n",
    "                            JOIN\n",
    "                                (SELECT\n",
    "                                    CAST(cr.id as string) AS id       \n",
    "                                FROM\n",
    "                                    `cb_criteria` cr       \n",
    "                                WHERE\n",
    "                                    concept_id IN (37043992)       \n",
    "                                    AND full_text LIKE '%_rank1]%'      ) a \n",
    "                                    ON (c.path LIKE CONCAT('%.', a.id, '.%') \n",
    "                                    OR c.path LIKE CONCAT('%.', a.id) \n",
    "                                    OR c.path LIKE CONCAT(a.id, '.%') \n",
    "                                    OR c.path = a.id) \n",
    "                            WHERE\n",
    "                                is_standard = 1 \n",
    "                                AND is_selectable = 1) \n",
    "                            AND is_standard = 1 )) criteria ) )\n",
    "            )) measurement \n",
    "    LEFT JOIN\n",
    "        `concept` m_standard_concept \n",
    "            ON measurement.measurement_concept_id = m_standard_concept.concept_id \n",
    "    LEFT JOIN\n",
    "        `concept` m_type \n",
    "            ON measurement.measurement_type_concept_id = m_type.concept_id \n",
    "    LEFT JOIN\n",
    "        `concept` m_operator \n",
    "            ON measurement.operator_concept_id = m_operator.concept_id \n",
    "    LEFT JOIN\n",
    "        `concept` m_value \n",
    "            ON measurement.value_as_concept_id = m_value.concept_id \n",
    "    LEFT JOIN\n",
    "        `concept` m_unit \n",
    "            ON measurement.unit_concept_id = m_unit.concept_id \n",
    "    LEFT JOIn\n",
    "        `visit_occurrence` v \n",
    "            ON measurement.visit_occurrence_id = v.visit_occurrence_id \n",
    "    LEFT JOIN\n",
    "        `concept` m_visit \n",
    "            ON v.visit_concept_id = m_visit.concept_id \n",
    "    LEFT JOIN\n",
    "        `concept` m_source_concept \n",
    "            ON measurement.measurement_source_concept_id = m_source_concept.concept_id\", sep=\"\")\n",
    "\n",
    "# Formulate a Cloud Storage destination path for the data exported from BigQuery.\n",
    "# NOTE: By default data exported multiple times on the same day will overwrite older copies.\n",
    "#       But data exported on a different days will write to a new location so that historical\n",
    "#       copies can be kept as the dataset definition is changed.\n",
    "measurement_86273426_path <- file.path(\n",
    "  Sys.getenv(\"WORKSPACE_BUCKET\"),\n",
    "  \"bq_exports\",\n",
    "  Sys.getenv(\"OWNER_EMAIL\"),\n",
    "  strftime(lubridate::now(), \"%Y%m%d\"),  # Comment out this line if you want the export to always overwrite.\n",
    "  \"measurement_86273426\",\n",
    "  \"measurement_86273426_*.csv\")\n",
    "message(str_glue('The data will be written to {measurement_86273426_path}. Use this path when reading ',\n",
    "                 'the data into your notebooks in the future.'))\n",
    "\n",
    "# Perform the query and export the dataset to Cloud Storage as CSV files.\n",
    "# NOTE: You only need to run `bq_table_save` once. After that, you can\n",
    "#       just read data from the CSVs in Cloud Storage.\n",
    "bq_table_save(\n",
    "  bq_dataset_query(Sys.getenv(\"WORKSPACE_CDR\"), dataset_86273426_measurement_sql, billing = Sys.getenv(\"GOOGLE_PROJECT\")),\n",
    "  measurement_86273426_path,\n",
    "  destination_format = \"CSV\")\n",
    "\n"
   ]
  },
  {
   "cell_type": "code",
   "execution_count": null,
   "metadata": {
    "vscode": {
     "languageId": "r"
    }
   },
   "outputs": [],
   "source": [
    "# Read the data directly from Cloud Storage into memory.\n",
    "# NOTE: Alternatively you can `gsutil -m cp {measurement_86273426_path}` to copy these files\n",
    "#       to the Jupyter disk.\n",
    "read_bq_export_from_workspace_bucket <- function(export_path) {\n",
    "  col_types <- cols(standard_concept_name = col_character(), standard_concept_code = col_character(), standard_vocabulary = col_character(), measurement_type_concept_name = col_character(), operator_concept_name = col_character(), value_as_concept_name = col_character(), unit_concept_name = col_character(), visit_occurrence_concept_name = col_character(), measurement_source_value = col_character(), source_concept_name = col_character(), source_concept_code = col_character(), source_vocabulary = col_character(), unit_source_value = col_character(), value_source_value = col_character())\n",
    "  bind_rows(\n",
    "    map(system2('gsutil', args = c('ls', export_path), stdout = TRUE, stderr = TRUE),\n",
    "        function(csv) {\n",
    "          message(str_glue('Loading {csv}.'))\n",
    "          chunk <- read_csv(pipe(str_glue('gsutil cat {csv}')), col_types = col_types, show_col_types = FALSE)\n",
    "          if (is.null(col_types)) {\n",
    "            col_types <- spec(chunk)\n",
    "          }\n",
    "          chunk\n",
    "        }))\n",
    "}\n",
    "#measurement_86273426_path <- \"gs://fc-secure-b96fb036-3379-4be0-8834-e7e486f2b76e/bq_exports/davidz1@researchallofus.org/20240528/measurement_86273426/measurement_86273426_*.csv\"\n",
    "dataset_86273426_measurement_df <- read_bq_export_from_workspace_bucket(measurement_86273426_path)\n",
    "\n",
    "dim(dataset_86273426_measurement_df)\n",
    "\n",
    "head(dataset_86273426_measurement_df, 5)"
   ]
  },
  {
   "cell_type": "markdown",
   "metadata": {},
   "source": [
    "## Process leukocyte counts (thousand/uL)"
   ]
  },
  {
   "cell_type": "code",
   "execution_count": null,
   "metadata": {
    "vscode": {
     "languageId": "r"
    }
   },
   "outputs": [],
   "source": [
    "# Leukocyte counts\n",
    "labs <- dataset_86273426_measurement_df #%>%\n",
    "    #filter(grepl(\"volume\", standard_concept_name))\n",
    "colnames(labs)\n",
    "length(unique(labs$person_id))\n",
    "\n",
    "as.data.frame(table(labs$standard_concept_name)) %>% arrange(-Freq)\n",
    "\n",
    "#as.data.frame(table(labs$visit_occurrence_concept_name)) %>% arrange(-Freq)\n",
    "as.data.frame(table(labs$unit_concept_name)) %>% arrange(-Freq)\n",
    "quantile(labs$value_as_number[labs$unit_concept_name == \"No matching concept\"], na.rm=T)\n",
    "\n",
    "#median(labs$value_as_number, na.rm=T)\n",
    "\n",
    "#new_labs <- labs %>%\n",
    "#    filter(!grepl(\"Emergency\", visit_occurrence_concept_name) & !grepl(\"Intensive\", visit_occurrence_concept_name) &\n",
    "#          !grepl(\"Urgent\", visit_occurrence_concept_name))\n",
    "\n",
    "#as.data.frame(table(new_labs$visit_occurrence_concept_name)) %>% arrange(-Freq)\n",
    "#new_labs <- labs %>%\n",
    "#    filter(unit_concept_name == \"square meter\")\n",
    "#length(unique(new_labs$person_id))\n"
   ]
  },
  {
   "cell_type": "code",
   "execution_count": null,
   "metadata": {
    "vscode": {
     "languageId": "r"
    }
   },
   "outputs": [],
   "source": [
    "keep_outliers = FALSE\n",
    "\n",
    "# Do all the filtering specified at the top of the file\n",
    "labs_formatted <- labs %>%\n",
    "    filter(!grepl(\"Emergency\", visit_occurrence_concept_name) & \n",
    "           !grepl(\"Intensive\", visit_occurrence_concept_name) &\n",
    "           !grepl(\"Urgent\", visit_occurrence_concept_name)) %>%\n",
    "    filter(unit_concept_name == \"thousand per microliter\" |\n",
    "           unit_concept_name == \"No matching concept\" |\n",
    "           unit_concept_name == \"thousand per cubic millimeter\" |\n",
    "           unit_concept_name == \"Kelvin per cubic millimeter\") %>%\n",
    "    filter(value_as_number >= 0) %>%\n",
    "    select(person_id, measurement_datetime, value_as_number) %>%\n",
    "    mutate_at(c('person_id'), as.character) %>%\n",
    "    mutate(across(where(is.character), ~na_if(., \"NULL\"))) %>%\n",
    "    na.omit() %>%\n",
    "    distinct() %>%\n",
    "    group_by(person_id) %>%\n",
    "    filter(value_as_number <= (10 * median(value_as_number))) %>%\n",
    "    ungroup() %>%\n",
    "    filter(keep_outliers | value_as_number >= mean(value_as_number) - (4 * sd(value_as_number))) %>%\n",
    "    filter(keep_outliers | value_as_number <= mean(value_as_number) + (4 * sd(value_as_number))) \n",
    "\n",
    "dim(labs_formatted)\n",
    "head(labs_formatted, 5)\n"
   ]
  },
  {
   "cell_type": "code",
   "execution_count": null,
   "metadata": {
    "vscode": {
     "languageId": "r"
    }
   },
   "outputs": [],
   "source": [
    "min(labs_formatted$value_as_number)\n",
    "median(labs_formatted$value_as_number)\n",
    "mean(labs_formatted$value_as_number)\n",
    "max(labs_formatted$value_as_number)\n",
    "sd(labs_formatted$value_as_number)\n",
    "\n",
    "quantile(labs_formatted$value_as_number)\n"
   ]
  },
  {
   "cell_type": "code",
   "execution_count": null,
   "metadata": {
    "vscode": {
     "languageId": "r"
    }
   },
   "outputs": [],
   "source": [
    "write.table(labs_formatted, \n",
    "    file=paste0(data_path, \"/dataframes/blood/AllofUs_v8_labs-Leukocyte-counts_wout_outliers_long_052724.txt\"), \n",
    "    row.names=FALSE, quote=FALSE, sep=\"\\t\")\n"
   ]
  },
  {
   "cell_type": "markdown",
   "metadata": {},
   "source": [
    "# Albumin"
   ]
  },
  {
   "cell_type": "markdown",
   "metadata": {},
   "source": [
    "## Extract albumin"
   ]
  },
  {
   "cell_type": "code",
   "execution_count": null,
   "metadata": {
    "vscode": {
     "languageId": "r"
    }
   },
   "outputs": [],
   "source": [
    "library(tidyverse)\n",
    "library(bigrquery)\n",
    "\n",
    "# This query represents dataset \"Pts with Albumin\" for domain \"measurement\" and was generated for All of Us Controlled Tier Dataset v8\n",
    "dataset_61770793_measurement_sql <- paste(\"\n",
    "    SELECT\n",
    "        measurement.person_id,\n",
    "        measurement.measurement_concept_id,\n",
    "        m_standard_concept.concept_name as standard_concept_name,\n",
    "        m_standard_concept.concept_code as standard_concept_code,\n",
    "        m_standard_concept.vocabulary_id as standard_vocabulary,\n",
    "        measurement.measurement_datetime,\n",
    "        measurement.measurement_type_concept_id,\n",
    "        m_type.concept_name as measurement_type_concept_name,\n",
    "        measurement.operator_concept_id,\n",
    "        m_operator.concept_name as operator_concept_name,\n",
    "        measurement.value_as_number,\n",
    "        measurement.value_as_concept_id,\n",
    "        m_value.concept_name as value_as_concept_name,\n",
    "        measurement.unit_concept_id,\n",
    "        m_unit.concept_name as unit_concept_name,\n",
    "        measurement.range_low,\n",
    "        measurement.range_high,\n",
    "        measurement.visit_occurrence_id,\n",
    "        m_visit.concept_name as visit_occurrence_concept_name,\n",
    "        measurement.measurement_source_value,\n",
    "        measurement.measurement_source_concept_id,\n",
    "        m_source_concept.concept_name as source_concept_name,\n",
    "        m_source_concept.concept_code as source_concept_code,\n",
    "        m_source_concept.vocabulary_id as source_vocabulary,\n",
    "        measurement.unit_source_value,\n",
    "        measurement.value_source_value \n",
    "    FROM\n",
    "        ( SELECT\n",
    "            * \n",
    "        FROM\n",
    "            `measurement` measurement \n",
    "        WHERE\n",
    "            (\n",
    "                measurement_concept_id IN (SELECT\n",
    "                    DISTINCT c.concept_id \n",
    "                FROM\n",
    "                    `cb_criteria` c \n",
    "                JOIN\n",
    "                    (SELECT\n",
    "                        CAST(cr.id as string) AS id       \n",
    "                    FROM\n",
    "                        `cb_criteria` cr       \n",
    "                    WHERE\n",
    "                        concept_id IN (37048896)       \n",
    "                        AND full_text LIKE '%_rank1]%'      ) a \n",
    "                        ON (c.path LIKE CONCAT('%.', a.id, '.%') \n",
    "                        OR c.path LIKE CONCAT('%.', a.id) \n",
    "                        OR c.path LIKE CONCAT(a.id, '.%') \n",
    "                        OR c.path = a.id) \n",
    "                WHERE\n",
    "                    is_standard = 1 \n",
    "                    AND is_selectable = 1)\n",
    "            )  \n",
    "            AND (\n",
    "                measurement.PERSON_ID IN (SELECT\n",
    "                    distinct person_id  \n",
    "                FROM\n",
    "                    `cb_search_person` cb_search_person  \n",
    "                WHERE\n",
    "                    cb_search_person.person_id IN (SELECT\n",
    "                        criteria.person_id \n",
    "                    FROM\n",
    "                        (SELECT\n",
    "                            DISTINCT person_id, entry_date, concept_id \n",
    "                        FROM\n",
    "                            `cb_search_all_events` \n",
    "                        WHERE\n",
    "                            (concept_id IN(SELECT\n",
    "                                DISTINCT c.concept_id \n",
    "                            FROM\n",
    "                                `cb_criteria` c \n",
    "                            JOIN\n",
    "                                (SELECT\n",
    "                                    CAST(cr.id as string) AS id       \n",
    "                                FROM\n",
    "                                    `cb_criteria` cr       \n",
    "                                WHERE\n",
    "                                    concept_id IN (37048896)       \n",
    "                                    AND full_text LIKE '%_rank1]%'      ) a \n",
    "                                    ON (c.path LIKE CONCAT('%.', a.id, '.%') \n",
    "                                    OR c.path LIKE CONCAT('%.', a.id) \n",
    "                                    OR c.path LIKE CONCAT(a.id, '.%') \n",
    "                                    OR c.path = a.id) \n",
    "                            WHERE\n",
    "                                is_standard = 1 \n",
    "                                AND is_selectable = 1) \n",
    "                            AND is_standard = 1 )) criteria ) )\n",
    "            )) measurement \n",
    "    LEFT JOIN\n",
    "        `concept` m_standard_concept \n",
    "            ON measurement.measurement_concept_id = m_standard_concept.concept_id \n",
    "    LEFT JOIN\n",
    "        `concept` m_type \n",
    "            ON measurement.measurement_type_concept_id = m_type.concept_id \n",
    "    LEFT JOIN\n",
    "        `concept` m_operator \n",
    "            ON measurement.operator_concept_id = m_operator.concept_id \n",
    "    LEFT JOIN\n",
    "        `concept` m_value \n",
    "            ON measurement.value_as_concept_id = m_value.concept_id \n",
    "    LEFT JOIN\n",
    "        `concept` m_unit \n",
    "            ON measurement.unit_concept_id = m_unit.concept_id \n",
    "    LEFT JOIn\n",
    "        `visit_occurrence` v \n",
    "            ON measurement.visit_occurrence_id = v.visit_occurrence_id \n",
    "    LEFT JOIN\n",
    "        `concept` m_visit \n",
    "            ON v.visit_concept_id = m_visit.concept_id \n",
    "    LEFT JOIN\n",
    "        `concept` m_source_concept \n",
    "            ON measurement.measurement_source_concept_id = m_source_concept.concept_id\", sep=\"\")\n",
    "\n",
    "# Formulate a Cloud Storage destination path for the data exported from BigQuery.\n",
    "# NOTE: By default data exported multiple times on the same day will overwrite older copies.\n",
    "#       But data exported on a different days will write to a new location so that historical\n",
    "#       copies can be kept as the dataset definition is changed.\n",
    "measurement_61770793_path <- file.path(\n",
    "  Sys.getenv(\"WORKSPACE_BUCKET\"),\n",
    "  \"bq_exports\",\n",
    "  Sys.getenv(\"OWNER_EMAIL\"),\n",
    "  strftime(lubridate::now(), \"%Y%m%d\"),  # Comment out this line if you want the export to always overwrite.\n",
    "  \"measurement_61770793\",\n",
    "  \"measurement_61770793_*.csv\")\n",
    "message(str_glue('The data will be written to {measurement_61770793_path}. Use this path when reading ',\n",
    "                 'the data into your notebooks in the future.'))\n",
    "\n",
    "# Perform the query and export the dataset to Cloud Storage as CSV files.\n",
    "# NOTE: You only need to run `bq_table_save` once. After that, you can\n",
    "#       just read data from the CSVs in Cloud Storage.\n",
    "bq_table_save(\n",
    "  bq_dataset_query(Sys.getenv(\"WORKSPACE_CDR\"), dataset_61770793_measurement_sql, billing = Sys.getenv(\"GOOGLE_PROJECT\")),\n",
    "  measurement_61770793_path,\n",
    "  destination_format = \"CSV\")\n",
    "\n"
   ]
  },
  {
   "cell_type": "code",
   "execution_count": null,
   "metadata": {
    "vscode": {
     "languageId": "r"
    }
   },
   "outputs": [],
   "source": [
    "# Read the data directly from Cloud Storage into memory.\n",
    "# NOTE: Alternatively you can `gsutil -m cp {measurement_61770793_path}` to copy these files\n",
    "#       to the Jupyter disk.\n",
    "read_bq_export_from_workspace_bucket <- function(export_path) {\n",
    "  col_types <- cols(standard_concept_name = col_character(), standard_concept_code = col_character(), standard_vocabulary = col_character(), measurement_type_concept_name = col_character(), operator_concept_name = col_character(), value_as_concept_name = col_character(), unit_concept_name = col_character(), visit_occurrence_concept_name = col_character(), measurement_source_value = col_character(), source_concept_name = col_character(), source_concept_code = col_character(), source_vocabulary = col_character(), unit_source_value = col_character(), value_source_value = col_character())\n",
    "  bind_rows(\n",
    "    map(system2('gsutil', args = c('ls', export_path), stdout = TRUE, stderr = TRUE),\n",
    "        function(csv) {\n",
    "          message(str_glue('Loading {csv}.'))\n",
    "          chunk <- read_csv(pipe(str_glue('gsutil cat {csv}')), col_types = col_types, show_col_types = FALSE)\n",
    "          if (is.null(col_types)) {\n",
    "            col_types <- spec(chunk)\n",
    "          }\n",
    "          chunk\n",
    "        }))\n",
    "} \n",
    "#measurement_61770793_path <- \"gs://fc-secure-b96fb036-3379-4be0-8834-e7e486f2b76e/bq_exports/davidz1@researchallofus.org/20240528/measurement_61770793/measurement_61770793_*.csv\"\n",
    "dataset_61770793_measurement_df <- read_bq_export_from_workspace_bucket(measurement_61770793_path)\n",
    "\n",
    "dim(dataset_61770793_measurement_df)\n",
    "\n",
    "head(dataset_61770793_measurement_df, 5)"
   ]
  },
  {
   "cell_type": "markdown",
   "metadata": {},
   "source": [
    "## Process albumin (g/dL)"
   ]
  },
  {
   "cell_type": "code",
   "execution_count": null,
   "metadata": {
    "vscode": {
     "languageId": "r"
    }
   },
   "outputs": [],
   "source": [
    "# Albumin \n",
    "labs <- dataset_61770793_measurement_df #%>%\n",
    "    #filter(grepl(\"volume\", standard_concept_name))\n",
    "colnames(labs)\n",
    "length(unique(labs$person_id))\n",
    "\n",
    "as.data.frame(table(labs$standard_concept_name)) %>% arrange(-Freq)\n",
    "\n",
    "#as.data.frame(table(labs$visit_occurrence_concept_name)) %>% arrange(-Freq)\n",
    "as.data.frame(table(labs$unit_concept_name)) %>% arrange(-Freq)\n",
    "quantile(labs$value_as_number[labs$unit_concept_name == \"no value\"], na.rm=T)\n",
    "\n",
    "#median(labs$value_as_number, na.rm=T)\n",
    "\n",
    "#new_labs <- labs %>%\n",
    "#    filter(!grepl(\"Emergency\", visit_occurrence_concept_name) & !grepl(\"Intensive\", visit_occurrence_concept_name) &\n",
    "#          !grepl(\"Urgent\", visit_occurrence_concept_name))\n",
    "\n",
    "#as.data.frame(table(new_labs$visit_occurrence_concept_name)) %>% arrange(-Freq)\n",
    "#new_labs <- labs %>%\n",
    "#    filter(unit_concept_name == \"square meter\")\n",
    "#length(unique(new_labs$person_id))\n"
   ]
  },
  {
   "cell_type": "code",
   "execution_count": null,
   "metadata": {
    "vscode": {
     "languageId": "r"
    }
   },
   "outputs": [],
   "source": [
    "keep_outliers = FALSE\n",
    "\n",
    "# Do all the filtering specified at the top of the file\n",
    "labs_formatted <- labs %>%\n",
    "    filter(!grepl(\"Emergency\", visit_occurrence_concept_name) & \n",
    "           !grepl(\"Intensive\", visit_occurrence_concept_name) &\n",
    "           !grepl(\"Urgent\", visit_occurrence_concept_name)) %>%\n",
    "    filter(unit_concept_name != \"milligram per liter\" &\n",
    "           unit_concept_name != \"microgram per milligram\" &\n",
    "           unit_concept_name != \"microgram per milliliter\" &\n",
    "           unit_concept_name != \"percent\" &\n",
    "           unit_concept_name != \"milligram per deciliter\" &\n",
    "           unit_concept_name != \"Percent\" &\n",
    "           unit_concept_name != \"unit per liter\" &\n",
    "           unit_concept_name != \"cells/uL\") %>%\n",
    "    mutate(value_as_number = ifelse(unit_concept_name == \"gram per liter\", value_as_number / 10, value_as_number)) %>%\n",
    "    filter(value_as_number >= 0) %>%\n",
    "    select(person_id, measurement_datetime, value_as_number) %>%\n",
    "    mutate_at(c('person_id'), as.character) %>%\n",
    "    mutate(across(where(is.character), ~na_if(., \"NULL\"))) %>%\n",
    "    na.omit() %>%\n",
    "    distinct() %>%\n",
    "    group_by(person_id) %>%\n",
    "    filter(value_as_number <= (10 * median(value_as_number))) %>%\n",
    "    ungroup() %>%\n",
    "    filter(keep_outliers | value_as_number >= mean(value_as_number) - (4 * sd(value_as_number))) %>%\n",
    "    filter(keep_outliers | value_as_number <= mean(value_as_number) + (4 * sd(value_as_number))) \n",
    "\n",
    "dim(labs_formatted)\n",
    "head(labs_formatted, 5)\n"
   ]
  },
  {
   "cell_type": "code",
   "execution_count": null,
   "metadata": {
    "vscode": {
     "languageId": "r"
    }
   },
   "outputs": [],
   "source": [
    "min(labs_formatted$value_as_number)\n",
    "median(labs_formatted$value_as_number)\n",
    "mean(labs_formatted$value_as_number)\n",
    "max(labs_formatted$value_as_number)\n",
    "sd(labs_formatted$value_as_number)\n",
    "\n",
    "quantile(labs_formatted$value_as_number)\n"
   ]
  },
  {
   "cell_type": "code",
   "execution_count": null,
   "metadata": {
    "vscode": {
     "languageId": "r"
    }
   },
   "outputs": [],
   "source": [
    "write.table(labs_formatted, \n",
    "    file=paste0(data_path, \"/dataframes/blood/AllofUs_v8_labs-Albumin_wout_outliers_long_052724.txt\"), \n",
    "    row.names=FALSE, quote=FALSE, sep=\"\\t\")\n"
   ]
  },
  {
   "cell_type": "markdown",
   "metadata": {},
   "source": [
    "# Apolipoproteins"
   ]
  },
  {
   "cell_type": "markdown",
   "metadata": {},
   "source": [
    "## Extract APOL-A, APOL-B"
   ]
  },
  {
   "cell_type": "code",
   "execution_count": null,
   "metadata": {
    "vscode": {
     "languageId": "r"
    }
   },
   "outputs": [],
   "source": [
    "library(tidyverse)\n",
    "library(bigrquery)\n",
    "\n",
    "# This query represents dataset \"Pts with Apolipoproteins\" for domain \"measurement\" and was generated for All of Us Controlled Tier Dataset v8\n",
    "dataset_03352512_measurement_sql <- paste(\"\n",
    "    SELECT\n",
    "        measurement.person_id,\n",
    "        measurement.measurement_concept_id,\n",
    "        m_standard_concept.concept_name as standard_concept_name,\n",
    "        m_standard_concept.concept_code as standard_concept_code,\n",
    "        m_standard_concept.vocabulary_id as standard_vocabulary,\n",
    "        measurement.measurement_datetime,\n",
    "        measurement.measurement_type_concept_id,\n",
    "        m_type.concept_name as measurement_type_concept_name,\n",
    "        measurement.operator_concept_id,\n",
    "        m_operator.concept_name as operator_concept_name,\n",
    "        measurement.value_as_number,\n",
    "        measurement.value_as_concept_id,\n",
    "        m_value.concept_name as value_as_concept_name,\n",
    "        measurement.unit_concept_id,\n",
    "        m_unit.concept_name as unit_concept_name,\n",
    "        measurement.range_low,\n",
    "        measurement.range_high,\n",
    "        measurement.visit_occurrence_id,\n",
    "        m_visit.concept_name as visit_occurrence_concept_name,\n",
    "        measurement.measurement_source_value,\n",
    "        measurement.measurement_source_concept_id,\n",
    "        m_source_concept.concept_name as source_concept_name,\n",
    "        m_source_concept.concept_code as source_concept_code,\n",
    "        m_source_concept.vocabulary_id as source_vocabulary,\n",
    "        measurement.unit_source_value,\n",
    "        measurement.value_source_value \n",
    "    FROM\n",
    "        ( SELECT\n",
    "            * \n",
    "        FROM\n",
    "            `measurement` measurement \n",
    "        WHERE\n",
    "            (\n",
    "                measurement_concept_id IN (SELECT\n",
    "                    DISTINCT c.concept_id \n",
    "                FROM\n",
    "                    `cb_criteria` c \n",
    "                JOIN\n",
    "                    (SELECT\n",
    "                        CAST(cr.id as string) AS id       \n",
    "                    FROM\n",
    "                        `cb_criteria` cr       \n",
    "                    WHERE\n",
    "                        concept_id IN (40772580, 40779220)       \n",
    "                        AND full_text LIKE '%_rank1]%'      ) a \n",
    "                        ON (c.path LIKE CONCAT('%.', a.id, '.%') \n",
    "                        OR c.path LIKE CONCAT('%.', a.id) \n",
    "                        OR c.path LIKE CONCAT(a.id, '.%') \n",
    "                        OR c.path = a.id) \n",
    "                WHERE\n",
    "                    is_standard = 1 \n",
    "                    AND is_selectable = 1)\n",
    "            )  \n",
    "            AND (\n",
    "                measurement.PERSON_ID IN (SELECT\n",
    "                    distinct person_id  \n",
    "                FROM\n",
    "                    `cb_search_person` cb_search_person  \n",
    "                WHERE\n",
    "                    cb_search_person.person_id IN (SELECT\n",
    "                        criteria.person_id \n",
    "                    FROM\n",
    "                        (SELECT\n",
    "                            DISTINCT person_id, entry_date, concept_id \n",
    "                        FROM\n",
    "                            `cb_search_all_events` \n",
    "                        WHERE\n",
    "                            (concept_id IN(SELECT\n",
    "                                DISTINCT c.concept_id \n",
    "                            FROM\n",
    "                                `cb_criteria` c \n",
    "                            JOIN\n",
    "                                (SELECT\n",
    "                                    CAST(cr.id as string) AS id       \n",
    "                                FROM\n",
    "                                    `cb_criteria` cr       \n",
    "                                WHERE\n",
    "                                    concept_id IN (40772580, 40779220)       \n",
    "                                    AND full_text LIKE '%_rank1]%'      ) a \n",
    "                                    ON (c.path LIKE CONCAT('%.', a.id, '.%') \n",
    "                                    OR c.path LIKE CONCAT('%.', a.id) \n",
    "                                    OR c.path LIKE CONCAT(a.id, '.%') \n",
    "                                    OR c.path = a.id) \n",
    "                            WHERE\n",
    "                                is_standard = 1 \n",
    "                                AND is_selectable = 1) \n",
    "                            AND is_standard = 1 )) criteria ) )\n",
    "            )) measurement \n",
    "    LEFT JOIN\n",
    "        `concept` m_standard_concept \n",
    "            ON measurement.measurement_concept_id = m_standard_concept.concept_id \n",
    "    LEFT JOIN\n",
    "        `concept` m_type \n",
    "            ON measurement.measurement_type_concept_id = m_type.concept_id \n",
    "    LEFT JOIN\n",
    "        `concept` m_operator \n",
    "            ON measurement.operator_concept_id = m_operator.concept_id \n",
    "    LEFT JOIN\n",
    "        `concept` m_value \n",
    "            ON measurement.value_as_concept_id = m_value.concept_id \n",
    "    LEFT JOIN\n",
    "        `concept` m_unit \n",
    "            ON measurement.unit_concept_id = m_unit.concept_id \n",
    "    LEFT JOIn\n",
    "        `visit_occurrence` v \n",
    "            ON measurement.visit_occurrence_id = v.visit_occurrence_id \n",
    "    LEFT JOIN\n",
    "        `concept` m_visit \n",
    "            ON v.visit_concept_id = m_visit.concept_id \n",
    "    LEFT JOIN\n",
    "        `concept` m_source_concept \n",
    "            ON measurement.measurement_source_concept_id = m_source_concept.concept_id\", sep=\"\")\n",
    "\n",
    "# Formulate a Cloud Storage destination path for the data exported from BigQuery.\n",
    "# NOTE: By default data exported multiple times on the same day will overwrite older copies.\n",
    "#       But data exported on a different days will write to a new location so that historical\n",
    "#       copies can be kept as the dataset definition is changed.\n",
    "measurement_03352512_path <- file.path(\n",
    "  Sys.getenv(\"WORKSPACE_BUCKET\"),\n",
    "  \"bq_exports\",\n",
    "  Sys.getenv(\"OWNER_EMAIL\"),\n",
    "  strftime(lubridate::now(), \"%Y%m%d\"),  # Comment out this line if you want the export to always overwrite.\n",
    "  \"measurement_03352512\",\n",
    "  \"measurement_03352512_*.csv\")\n",
    "message(str_glue('The data will be written to {measurement_03352512_path}. Use this path when reading ',\n",
    "                 'the data into your notebooks in the future.'))\n",
    "\n",
    "# Perform the query and export the dataset to Cloud Storage as CSV files.\n",
    "# NOTE: You only need to run `bq_table_save` once. After that, you can\n",
    "#       just read data from the CSVs in Cloud Storage.\n",
    "bq_table_save(\n",
    "  bq_dataset_query(Sys.getenv(\"WORKSPACE_CDR\"), dataset_03352512_measurement_sql, billing = Sys.getenv(\"GOOGLE_PROJECT\")),\n",
    "  measurement_03352512_path,\n",
    "  destination_format = \"CSV\")\n",
    "\n"
   ]
  },
  {
   "cell_type": "code",
   "execution_count": null,
   "metadata": {
    "vscode": {
     "languageId": "r"
    }
   },
   "outputs": [],
   "source": [
    "# Read the data directly from Cloud Storage into memory.\n",
    "# NOTE: Alternatively you can `gsutil -m cp {measurement_03352512_path}` to copy these files\n",
    "#       to the Jupyter disk.\n",
    "read_bq_export_from_workspace_bucket <- function(export_path) {\n",
    "  col_types <- cols(standard_concept_name = col_character(), standard_concept_code = col_character(), standard_vocabulary = col_character(), measurement_type_concept_name = col_character(), operator_concept_name = col_character(), value_as_concept_name = col_character(), unit_concept_name = col_character(), visit_occurrence_concept_name = col_character(), measurement_source_value = col_character(), source_concept_name = col_character(), source_concept_code = col_character(), source_vocabulary = col_character(), unit_source_value = col_character(), value_source_value = col_character())\n",
    "  bind_rows(\n",
    "    map(system2('gsutil', args = c('ls', export_path), stdout = TRUE, stderr = TRUE),\n",
    "        function(csv) {\n",
    "          message(str_glue('Loading {csv}.'))\n",
    "          chunk <- read_csv(pipe(str_glue('gsutil cat {csv}')), col_types = col_types, show_col_types = FALSE)\n",
    "          if (is.null(col_types)) {\n",
    "            col_types <- spec(chunk)\n",
    "          }\n",
    "          chunk\n",
    "        }))\n",
    "}\n",
    "#measurement_03352512_path <- \"gs://fc-secure-b96fb036-3379-4be0-8834-e7e486f2b76e/bq_exports/davidz1@researchallofus.org/20240528/measurement_03352512/measurement_03352512_*.csv\"\n",
    "dataset_03352512_measurement_df <- read_bq_export_from_workspace_bucket(measurement_03352512_path)\n",
    "\n",
    "dim(dataset_03352512_measurement_df)\n",
    "\n",
    "head(dataset_03352512_measurement_df, 5)"
   ]
  },
  {
   "cell_type": "markdown",
   "metadata": {},
   "source": [
    "## Process APOL-1A (mg/mL)"
   ]
  },
  {
   "cell_type": "code",
   "execution_count": null,
   "metadata": {
    "vscode": {
     "languageId": "r"
    }
   },
   "outputs": [],
   "source": [
    "# APOA1\n",
    "labs <- dataset_03352512_measurement_df %>%\n",
    "    filter(standard_concept_name == \"Apolipoprotein A-I [Mass/volume] in Serum or Plasma\")\n",
    "colnames(labs)\n",
    "length(unique(labs$person_id))\n",
    "\n",
    "as.data.frame(table(labs$standard_concept_name)) %>% arrange(-Freq)\n",
    "\n",
    "#as.data.frame(table(labs$visit_occurrence_concept_name)) %>% arrange(-Freq)\n",
    "as.data.frame(table(labs$unit_concept_name)) %>% arrange(-Freq)\n",
    "median(labs$value_as_number[labs$unit_concept_name == 'milligram per milliliter'], na.rm=T)\n",
    "\n",
    "#median(labs$value_as_number, na.rm=T)\n",
    "\n",
    "#new_labs <- labs %>%\n",
    "#    filter(!grepl(\"Emergency\", visit_occurrence_concept_name) & !grepl(\"Intensive\", visit_occurrence_concept_name) &\n",
    "#          !grepl(\"Urgent\", visit_occurrence_concept_name))\n",
    "\n",
    "#as.data.frame(table(new_labs$visit_occurrence_concept_name)) %>% arrange(-Freq)\n",
    "#new_labs <- labs %>%\n",
    "#    filter(unit_concept_name == \"milligram per deciliter\")\n",
    "#length(unique(new_labs$person_id))\n",
    "\n"
   ]
  },
  {
   "cell_type": "code",
   "execution_count": null,
   "metadata": {
    "vscode": {
     "languageId": "r"
    }
   },
   "outputs": [],
   "source": [
    "keep_outliers = FALSE\n",
    "\n",
    "# Do all the filtering specified at the top of the file\n",
    "labs_formatted <- labs %>%\n",
    "    filter(!grepl(\"Emergency\", visit_occurrence_concept_name) & \n",
    "           !grepl(\"Intensive\", visit_occurrence_concept_name) &\n",
    "           !grepl(\"Urgent\", visit_occurrence_concept_name)) %>%\n",
    "    filter(unit_concept_name != \"milligram per milliliter\") %>%\n",
    "    filter(value_as_number >= 0) %>%\n",
    "    mutate(value_as_number = value_as_number/100) %>%\n",
    "    select(person_id, measurement_datetime, value_as_number) %>%\n",
    "    mutate_at(c('person_id'), as.character) %>%\n",
    "    mutate(across(where(is.character), ~na_if(., \"NULL\"))) %>%\n",
    "    na.omit() %>%\n",
    "    distinct() %>%\n",
    "    group_by(person_id) %>%\n",
    "    filter(value_as_number < (10 * median(value_as_number))) %>%\n",
    "    ungroup() %>%\n",
    "    filter(keep_outliers | value_as_number >= mean(value_as_number) - (4 * sd(value_as_number))) %>%\n",
    "    filter(keep_outliers | value_as_number <= mean(value_as_number) + (4 * sd(value_as_number))) \n",
    "\n",
    "dim(labs_formatted)\n",
    "head(labs_formatted, 5)\n"
   ]
  },
  {
   "cell_type": "code",
   "execution_count": null,
   "metadata": {
    "vscode": {
     "languageId": "r"
    }
   },
   "outputs": [],
   "source": [
    "min(labs_formatted$value_as_number)\n",
    "median(labs_formatted$value_as_number)\n",
    "mean(labs_formatted$value_as_number)\n",
    "max(labs_formatted$value_as_number)\n",
    "sd(labs_formatted$value_as_number)\n"
   ]
  },
  {
   "cell_type": "code",
   "execution_count": null,
   "metadata": {
    "vscode": {
     "languageId": "r"
    }
   },
   "outputs": [],
   "source": [
    "write.table(labs_formatted, \n",
    "    file=paste0(data_path, \"/dataframes/blood/AllofUs_v8_labs-APOL-A1_wout_outliers_long_052724.txt\"), \n",
    "    row.names=FALSE, quote=FALSE, sep=\"\\t\")\n"
   ]
  },
  {
   "cell_type": "markdown",
   "metadata": {},
   "source": [
    "## Process APOL-B (mg/mL)"
   ]
  },
  {
   "cell_type": "code",
   "execution_count": null,
   "metadata": {
    "vscode": {
     "languageId": "r"
    }
   },
   "outputs": [],
   "source": [
    "# APOB\n",
    "labs <- dataset_03352512_measurement_df %>%\n",
    "    filter(standard_concept_name == \"Apolipoprotein B [Mass/volume] in Serum or Plasma\")\n",
    "colnames(labs)\n",
    "length(unique(labs$person_id))\n",
    "\n",
    "as.data.frame(table(labs$standard_concept_name)) %>% arrange(-Freq)\n",
    "\n",
    "#as.data.frame(table(labs$visit_occurrence_concept_name)) %>% arrange(-Freq)\n",
    "as.data.frame(table(labs$unit_concept_name)) %>% arrange(-Freq)\n",
    "median(labs$value_as_number[labs$unit_concept_name == 'milligram per milliliter'], na.rm=T)\n",
    "\n",
    "#median(labs$value_as_number, na.rm=T)\n",
    "\n",
    "#new_labs <- labs %>%\n",
    "#    filter(!grepl(\"Emergency\", visit_occurrence_concept_name) & !grepl(\"Intensive\", visit_occurrence_concept_name) &\n",
    "#          !grepl(\"Urgent\", visit_occurrence_concept_name))\n",
    "\n",
    "#as.data.frame(table(new_labs$visit_occurrence_concept_name)) %>% arrange(-Freq)\n",
    "#new_labs <- labs %>%\n",
    "#    filter(unit_concept_name == \"milligram per deciliter\")\n",
    "#length(unique(new_labs$person_id))\n",
    "\n"
   ]
  },
  {
   "cell_type": "code",
   "execution_count": null,
   "metadata": {
    "vscode": {
     "languageId": "r"
    }
   },
   "outputs": [],
   "source": [
    "keep_outliers = FALSE\n",
    "\n",
    "# Do all the filtering specified at the top of the file\n",
    "labs_formatted <- labs %>%\n",
    "    filter(!grepl(\"Emergency\", visit_occurrence_concept_name) & \n",
    "           !grepl(\"Intensive\", visit_occurrence_concept_name) &\n",
    "           !grepl(\"Urgent\", visit_occurrence_concept_name)) %>%\n",
    "    filter(unit_concept_name != \"milligram per milliliter\") %>%\n",
    "    filter(value_as_number >= 0) %>%\n",
    "    mutate(value_as_number = value_as_number/100) %>%\n",
    "    select(person_id, measurement_datetime, value_as_number) %>%\n",
    "    mutate_at(c('person_id'), as.character) %>%\n",
    "    mutate(across(where(is.character), ~na_if(., \"NULL\"))) %>%\n",
    "    na.omit() %>%\n",
    "    distinct() %>%\n",
    "    group_by(person_id) %>%\n",
    "    filter(value_as_number < (10 * median(value_as_number))) %>%\n",
    "    ungroup() %>%\n",
    "    filter(keep_outliers | value_as_number >= mean(value_as_number) - (4 * sd(value_as_number))) %>%\n",
    "    filter(keep_outliers | value_as_number <= mean(value_as_number) + (4 * sd(value_as_number))) \n",
    "\n",
    "dim(labs_formatted)\n",
    "head(labs_formatted, 5)\n"
   ]
  },
  {
   "cell_type": "code",
   "execution_count": null,
   "metadata": {
    "vscode": {
     "languageId": "r"
    }
   },
   "outputs": [],
   "source": [
    "min(labs_formatted$value_as_number)\n",
    "median(labs_formatted$value_as_number)\n",
    "mean(labs_formatted$value_as_number)\n",
    "max(labs_formatted$value_as_number)\n",
    "sd(labs_formatted$value_as_number)\n"
   ]
  },
  {
   "cell_type": "code",
   "execution_count": null,
   "metadata": {
    "vscode": {
     "languageId": "r"
    }
   },
   "outputs": [],
   "source": [
    "write.table(labs_formatted, \n",
    "    file=paste0(data_path, \"/dataframes/blood/AllofUs_v8_labs-APOL-B_wout_outliers_long_052724.txt\"), \n",
    "    row.names=FALSE, quote=FALSE, sep=\"\\t\")\n"
   ]
  },
  {
   "cell_type": "markdown",
   "metadata": {},
   "source": [
    "# CRP"
   ]
  },
  {
   "cell_type": "markdown",
   "metadata": {},
   "source": [
    "## Extract CRP"
   ]
  },
  {
   "cell_type": "code",
   "execution_count": null,
   "metadata": {
    "vscode": {
     "languageId": "r"
    }
   },
   "outputs": [],
   "source": [
    "library(tidyverse)\n",
    "library(bigrquery)\n",
    "\n",
    "# This query represents dataset \"Pts with CRP\" for domain \"measurement\" and was generated for All of Us Controlled Tier Dataset v8\n",
    "dataset_74918429_measurement_sql <- paste(\"\n",
    "    SELECT\n",
    "        measurement.person_id,\n",
    "        measurement.measurement_concept_id,\n",
    "        m_standard_concept.concept_name as standard_concept_name,\n",
    "        m_standard_concept.concept_code as standard_concept_code,\n",
    "        m_standard_concept.vocabulary_id as standard_vocabulary,\n",
    "        measurement.measurement_datetime,\n",
    "        measurement.measurement_type_concept_id,\n",
    "        m_type.concept_name as measurement_type_concept_name,\n",
    "        measurement.operator_concept_id,\n",
    "        m_operator.concept_name as operator_concept_name,\n",
    "        measurement.value_as_number,\n",
    "        measurement.value_as_concept_id,\n",
    "        m_value.concept_name as value_as_concept_name,\n",
    "        measurement.unit_concept_id,\n",
    "        m_unit.concept_name as unit_concept_name,\n",
    "        measurement.range_low,\n",
    "        measurement.range_high,\n",
    "        measurement.visit_occurrence_id,\n",
    "        m_visit.concept_name as visit_occurrence_concept_name,\n",
    "        measurement.measurement_source_value,\n",
    "        measurement.measurement_source_concept_id,\n",
    "        m_source_concept.concept_name as source_concept_name,\n",
    "        m_source_concept.concept_code as source_concept_code,\n",
    "        m_source_concept.vocabulary_id as source_vocabulary,\n",
    "        measurement.unit_source_value,\n",
    "        measurement.value_source_value \n",
    "    FROM\n",
    "        ( SELECT\n",
    "            * \n",
    "        FROM\n",
    "            `measurement` measurement \n",
    "        WHERE\n",
    "            (\n",
    "                measurement_concept_id IN (SELECT\n",
    "                    DISTINCT c.concept_id \n",
    "                FROM\n",
    "                    `cb_criteria` c \n",
    "                JOIN\n",
    "                    (SELECT\n",
    "                        CAST(cr.id as string) AS id       \n",
    "                    FROM\n",
    "                        `cb_criteria` cr       \n",
    "                    WHERE\n",
    "                        concept_id IN (37025552)       \n",
    "                        AND full_text LIKE '%_rank1]%'      ) a \n",
    "                        ON (c.path LIKE CONCAT('%.', a.id, '.%') \n",
    "                        OR c.path LIKE CONCAT('%.', a.id) \n",
    "                        OR c.path LIKE CONCAT(a.id, '.%') \n",
    "                        OR c.path = a.id) \n",
    "                WHERE\n",
    "                    is_standard = 1 \n",
    "                    AND is_selectable = 1)\n",
    "            )  \n",
    "            AND (\n",
    "                measurement.PERSON_ID IN (SELECT\n",
    "                    distinct person_id  \n",
    "                FROM\n",
    "                    `cb_search_person` cb_search_person  \n",
    "                WHERE\n",
    "                    cb_search_person.person_id IN (SELECT\n",
    "                        criteria.person_id \n",
    "                    FROM\n",
    "                        (SELECT\n",
    "                            DISTINCT person_id, entry_date, concept_id \n",
    "                        FROM\n",
    "                            `cb_search_all_events` \n",
    "                        WHERE\n",
    "                            (concept_id IN(SELECT\n",
    "                                DISTINCT c.concept_id \n",
    "                            FROM\n",
    "                                `cb_criteria` c \n",
    "                            JOIN\n",
    "                                (SELECT\n",
    "                                    CAST(cr.id as string) AS id       \n",
    "                                FROM\n",
    "                                    `cb_criteria` cr       \n",
    "                                WHERE\n",
    "                                    concept_id IN (37025552)       \n",
    "                                    AND full_text LIKE '%_rank1]%'      ) a \n",
    "                                    ON (c.path LIKE CONCAT('%.', a.id, '.%') \n",
    "                                    OR c.path LIKE CONCAT('%.', a.id) \n",
    "                                    OR c.path LIKE CONCAT(a.id, '.%') \n",
    "                                    OR c.path = a.id) \n",
    "                            WHERE\n",
    "                                is_standard = 1 \n",
    "                                AND is_selectable = 1) \n",
    "                            AND is_standard = 1 )) criteria ) )\n",
    "            )) measurement \n",
    "    LEFT JOIN\n",
    "        `concept` m_standard_concept \n",
    "            ON measurement.measurement_concept_id = m_standard_concept.concept_id \n",
    "    LEFT JOIN\n",
    "        `concept` m_type \n",
    "            ON measurement.measurement_type_concept_id = m_type.concept_id \n",
    "    LEFT JOIN\n",
    "        `concept` m_operator \n",
    "            ON measurement.operator_concept_id = m_operator.concept_id \n",
    "    LEFT JOIN\n",
    "        `concept` m_value \n",
    "            ON measurement.value_as_concept_id = m_value.concept_id \n",
    "    LEFT JOIN\n",
    "        `concept` m_unit \n",
    "            ON measurement.unit_concept_id = m_unit.concept_id \n",
    "    LEFT JOIn\n",
    "        `visit_occurrence` v \n",
    "            ON measurement.visit_occurrence_id = v.visit_occurrence_id \n",
    "    LEFT JOIN\n",
    "        `concept` m_visit \n",
    "            ON v.visit_concept_id = m_visit.concept_id \n",
    "    LEFT JOIN\n",
    "        `concept` m_source_concept \n",
    "            ON measurement.measurement_source_concept_id = m_source_concept.concept_id\", sep=\"\")\n",
    "\n",
    "# Formulate a Cloud Storage destination path for the data exported from BigQuery.\n",
    "# NOTE: By default data exported multiple times on the same day will overwrite older copies.\n",
    "#       But data exported on a different days will write to a new location so that historical\n",
    "#       copies can be kept as the dataset definition is changed.\n",
    "measurement_74918429_path <- file.path(\n",
    "  Sys.getenv(\"WORKSPACE_BUCKET\"),\n",
    "  \"bq_exports\",\n",
    "  Sys.getenv(\"OWNER_EMAIL\"),\n",
    "  strftime(lubridate::now(), \"%Y%m%d\"),  # Comment out this line if you want the export to always overwrite.\n",
    "  \"measurement_74918429\",\n",
    "  \"measurement_74918429_*.csv\")\n",
    "message(str_glue('The data will be written to {measurement_74918429_path}. Use this path when reading ',\n",
    "                 'the data into your notebooks in the future.'))\n",
    "\n",
    "# Perform the query and export the dataset to Cloud Storage as CSV files.\n",
    "# NOTE: You only need to run `bq_table_save` once. After that, you can\n",
    "#       just read data from the CSVs in Cloud Storage.\n",
    "bq_table_save(\n",
    "  bq_dataset_query(Sys.getenv(\"WORKSPACE_CDR\"), dataset_74918429_measurement_sql, billing = Sys.getenv(\"GOOGLE_PROJECT\")),\n",
    "  measurement_74918429_path,\n",
    "  destination_format = \"CSV\")\n",
    "\n"
   ]
  },
  {
   "cell_type": "code",
   "execution_count": null,
   "metadata": {
    "vscode": {
     "languageId": "r"
    }
   },
   "outputs": [],
   "source": [
    "# Read the data directly from Cloud Storage into memory.\n",
    "# NOTE: Alternatively you can `gsutil -m cp {measurement_74918429_path}` to copy these files\n",
    "#       to the Jupyter disk.\n",
    "read_bq_export_from_workspace_bucket <- function(export_path) {\n",
    "  col_types <- cols(standard_concept_name = col_character(), standard_concept_code = col_character(), standard_vocabulary = col_character(), measurement_type_concept_name = col_character(), operator_concept_name = col_character(), value_as_concept_name = col_character(), unit_concept_name = col_character(), visit_occurrence_concept_name = col_character(), measurement_source_value = col_character(), source_concept_name = col_character(), source_concept_code = col_character(), source_vocabulary = col_character(), unit_source_value = col_character(), value_source_value = col_character())\n",
    "  bind_rows(\n",
    "    map(system2('gsutil', args = c('ls', export_path), stdout = TRUE, stderr = TRUE),\n",
    "        function(csv) {\n",
    "          message(str_glue('Loading {csv}.'))\n",
    "          chunk <- read_csv(pipe(str_glue('gsutil cat {csv}')), col_types = col_types, show_col_types = FALSE)\n",
    "          if (is.null(col_types)) {\n",
    "            col_types <- spec(chunk)\n",
    "          }\n",
    "          chunk\n",
    "        }))\n",
    "}\n",
    "#measurement_74918429_path <- \"gs://fc-secure-b96fb036-3379-4be0-8834-e7e486f2b76e/bq_exports/davidz1@researchallofus.org/20240528/measurement_74918429/measurement_74918429_*.csv\"\n",
    "dataset_74918429_measurement_df <- read_bq_export_from_workspace_bucket(measurement_74918429_path)\n",
    "\n",
    "dim(dataset_74918429_measurement_df)\n",
    "\n",
    "head(dataset_74918429_measurement_df, 5)"
   ]
  },
  {
   "cell_type": "markdown",
   "metadata": {},
   "source": [
    "## Process CRP (mg/L)"
   ]
  },
  {
   "cell_type": "code",
   "execution_count": null,
   "metadata": {
    "vscode": {
     "languageId": "r"
    }
   },
   "outputs": [],
   "source": [
    "# CRP \n",
    "labs <- dataset_74918429_measurement_df #%>%\n",
    "    #filter(grepl(\"volume\", standard_concept_name))\n",
    "colnames(labs)\n",
    "length(unique(labs$person_id))\n",
    "\n",
    "as.data.frame(table(labs$standard_concept_name)) %>% arrange(-Freq)\n",
    "\n",
    "#as.data.frame(table(labs$visit_occurrence_concept_name)) %>% arrange(-Freq)\n",
    "as.data.frame(table(labs$unit_concept_name)) %>% arrange(-Freq)\n",
    "quantile(labs$value_as_number[labs$unit_concept_name == \"milligram per liter\"], na.rm=T)\n",
    "quantile(labs$value_as_number[labs$unit_concept_name == \"No matching concept\"], na.rm=T)\n",
    "quantile(labs$value_as_number[labs$unit_concept_name == \"no value\"], na.rm=T)\n",
    "\n",
    "#median(labs$value_as_number, na.rm=T)\n",
    "\n",
    "#new_labs <- labs %>%\n",
    "#    filter(!grepl(\"Emergency\", visit_occurrence_concept_name) & !grepl(\"Intensive\", visit_occurrence_concept_name) &\n",
    "#          !grepl(\"Urgent\", visit_occurrence_concept_name))\n",
    "\n",
    "#as.data.frame(table(new_labs$visit_occurrence_concept_name)) %>% arrange(-Freq)\n",
    "#new_labs <- labs %>%\n",
    "#    filter(unit_concept_name == \"square meter\")\n",
    "#length(unique(new_labs$person_id))\n"
   ]
  },
  {
   "cell_type": "code",
   "execution_count": null,
   "metadata": {
    "vscode": {
     "languageId": "r"
    }
   },
   "outputs": [],
   "source": [
    "keep_outliers = FALSE\n",
    "\n",
    "# Do all the filtering specified at the top of the file\n",
    "labs_formatted <- labs %>%\n",
    "    filter(!grepl(\"Emergency\", visit_occurrence_concept_name) & \n",
    "           !grepl(\"Intensive\", visit_occurrence_concept_name) &\n",
    "           !grepl(\"Urgent\", visit_occurrence_concept_name)) %>%\n",
    "    filter(unit_concept_name != \"Unit of presentation\" &\n",
    "           unit_concept_name != \"titer\" &\n",
    "           unit_concept_name != \"standardized quality unit\" &\n",
    "           unit_concept_name != \"nanogram per milliliter\" &\n",
    "           unit_concept_name != \"percent\") %>%\n",
    "    mutate(value_as_number = ifelse(unit_concept_name == \"milligram per deciliter\", value_as_number * 10, value_as_number)) %>%\n",
    "    mutate(value_as_number = ifelse(unit_concept_name == \"mg/dL\", value_as_number * 10, value_as_number)) %>%\n",
    "    filter(value_as_number >= 0) %>%\n",
    "    select(person_id, measurement_datetime, value_as_number) %>%\n",
    "    mutate_at(c('person_id'), as.character) %>%\n",
    "    mutate(across(where(is.character), ~na_if(., \"NULL\"))) %>%\n",
    "    na.omit() %>%\n",
    "    distinct() %>%\n",
    "    group_by(person_id) %>%\n",
    "    filter(value_as_number <= (10 * median(value_as_number))) %>%\n",
    "    ungroup() %>%\n",
    "    filter(keep_outliers | value_as_number >= mean(value_as_number) - (4 * sd(value_as_number))) %>%\n",
    "    filter(keep_outliers | value_as_number <= mean(value_as_number) + (4 * sd(value_as_number))) \n",
    "\n",
    "dim(labs_formatted)\n",
    "head(labs_formatted, 5)\n"
   ]
  },
  {
   "cell_type": "code",
   "execution_count": null,
   "metadata": {
    "vscode": {
     "languageId": "r"
    }
   },
   "outputs": [],
   "source": [
    "min(labs_formatted$value_as_number)\n",
    "median(labs_formatted$value_as_number)\n",
    "mean(labs_formatted$value_as_number)\n",
    "max(labs_formatted$value_as_number)\n",
    "sd(labs_formatted$value_as_number)\n",
    "\n",
    "quantile(labs_formatted$value_as_number)\n"
   ]
  },
  {
   "cell_type": "code",
   "execution_count": null,
   "metadata": {
    "vscode": {
     "languageId": "r"
    }
   },
   "outputs": [],
   "source": [
    "write.table(labs_formatted, \n",
    "    file=paste0(data_path, \"/dataframes/blood/AllofUs_v8_labs-CRP_wout_outliers_long_052724.txt\"), \n",
    "    row.names=FALSE, quote=FALSE, sep=\"\\t\")\n"
   ]
  },
  {
   "cell_type": "markdown",
   "metadata": {},
   "source": [
    "# Calcium/Phosphate"
   ]
  },
  {
   "cell_type": "markdown",
   "metadata": {},
   "source": [
    "## Extract calcium/phosphate"
   ]
  },
  {
   "cell_type": "code",
   "execution_count": null,
   "metadata": {
    "vscode": {
     "languageId": "r"
    }
   },
   "outputs": [],
   "source": [
    "library(tidyverse)\n",
    "library(bigrquery)\n",
    "\n",
    "# This query represents dataset \"Pts with Ca-Phos\" for domain \"measurement\" and was generated for All of Us Controlled Tier Dataset v8\n",
    "dataset_67813221_measurement_sql <- paste(\"\n",
    "    SELECT\n",
    "        measurement.person_id,\n",
    "        measurement.measurement_concept_id,\n",
    "        m_standard_concept.concept_name as standard_concept_name,\n",
    "        m_standard_concept.concept_code as standard_concept_code,\n",
    "        m_standard_concept.vocabulary_id as standard_vocabulary,\n",
    "        measurement.measurement_datetime,\n",
    "        measurement.measurement_type_concept_id,\n",
    "        m_type.concept_name as measurement_type_concept_name,\n",
    "        measurement.operator_concept_id,\n",
    "        m_operator.concept_name as operator_concept_name,\n",
    "        measurement.value_as_number,\n",
    "        measurement.value_as_concept_id,\n",
    "        m_value.concept_name as value_as_concept_name,\n",
    "        measurement.unit_concept_id,\n",
    "        m_unit.concept_name as unit_concept_name,\n",
    "        measurement.range_low,\n",
    "        measurement.range_high,\n",
    "        measurement.visit_occurrence_id,\n",
    "        m_visit.concept_name as visit_occurrence_concept_name,\n",
    "        measurement.measurement_source_value,\n",
    "        measurement.measurement_source_concept_id,\n",
    "        m_source_concept.concept_name as source_concept_name,\n",
    "        m_source_concept.concept_code as source_concept_code,\n",
    "        m_source_concept.vocabulary_id as source_vocabulary,\n",
    "        measurement.unit_source_value,\n",
    "        measurement.value_source_value \n",
    "    FROM\n",
    "        ( SELECT\n",
    "            * \n",
    "        FROM\n",
    "            `measurement` measurement \n",
    "        WHERE\n",
    "            (\n",
    "                measurement_concept_id IN (SELECT\n",
    "                    DISTINCT c.concept_id \n",
    "                FROM\n",
    "                    `cb_criteria` c \n",
    "                JOIN\n",
    "                    (SELECT\n",
    "                        CAST(cr.id as string) AS id       \n",
    "                    FROM\n",
    "                        `cb_criteria` cr       \n",
    "                    WHERE\n",
    "                        concept_id IN (37035164, 37062662)       \n",
    "                        AND full_text LIKE '%_rank1]%'      ) a \n",
    "                        ON (c.path LIKE CONCAT('%.', a.id, '.%') \n",
    "                        OR c.path LIKE CONCAT('%.', a.id) \n",
    "                        OR c.path LIKE CONCAT(a.id, '.%') \n",
    "                        OR c.path = a.id) \n",
    "                WHERE\n",
    "                    is_standard = 1 \n",
    "                    AND is_selectable = 1)\n",
    "            )  \n",
    "            AND (\n",
    "                measurement.PERSON_ID IN (SELECT\n",
    "                    distinct person_id  \n",
    "                FROM\n",
    "                    `cb_search_person` cb_search_person  \n",
    "                WHERE\n",
    "                    cb_search_person.person_id IN (SELECT\n",
    "                        criteria.person_id \n",
    "                    FROM\n",
    "                        (SELECT\n",
    "                            DISTINCT person_id, entry_date, concept_id \n",
    "                        FROM\n",
    "                            `cb_search_all_events` \n",
    "                        WHERE\n",
    "                            (concept_id IN(SELECT\n",
    "                                DISTINCT c.concept_id \n",
    "                            FROM\n",
    "                                `cb_criteria` c \n",
    "                            JOIN\n",
    "                                (SELECT\n",
    "                                    CAST(cr.id as string) AS id       \n",
    "                                FROM\n",
    "                                    `cb_criteria` cr       \n",
    "                                WHERE\n",
    "                                    concept_id IN (37062662, 37035164)       \n",
    "                                    AND full_text LIKE '%_rank1]%'      ) a \n",
    "                                    ON (c.path LIKE CONCAT('%.', a.id, '.%') \n",
    "                                    OR c.path LIKE CONCAT('%.', a.id) \n",
    "                                    OR c.path LIKE CONCAT(a.id, '.%') \n",
    "                                    OR c.path = a.id) \n",
    "                            WHERE\n",
    "                                is_standard = 1 \n",
    "                                AND is_selectable = 1) \n",
    "                            AND is_standard = 1 )) criteria ) )\n",
    "            )) measurement \n",
    "    LEFT JOIN\n",
    "        `concept` m_standard_concept \n",
    "            ON measurement.measurement_concept_id = m_standard_concept.concept_id \n",
    "    LEFT JOIN\n",
    "        `concept` m_type \n",
    "            ON measurement.measurement_type_concept_id = m_type.concept_id \n",
    "    LEFT JOIN\n",
    "        `concept` m_operator \n",
    "            ON measurement.operator_concept_id = m_operator.concept_id \n",
    "    LEFT JOIN\n",
    "        `concept` m_value \n",
    "            ON measurement.value_as_concept_id = m_value.concept_id \n",
    "    LEFT JOIN\n",
    "        `concept` m_unit \n",
    "            ON measurement.unit_concept_id = m_unit.concept_id \n",
    "    LEFT JOIn\n",
    "        `visit_occurrence` v \n",
    "            ON measurement.visit_occurrence_id = v.visit_occurrence_id \n",
    "    LEFT JOIN\n",
    "        `concept` m_visit \n",
    "            ON v.visit_concept_id = m_visit.concept_id \n",
    "    LEFT JOIN\n",
    "        `concept` m_source_concept \n",
    "            ON measurement.measurement_source_concept_id = m_source_concept.concept_id\", sep=\"\")\n",
    "\n",
    "# Formulate a Cloud Storage destination path for the data exported from BigQuery.\n",
    "# NOTE: By default data exported multiple times on the same day will overwrite older copies.\n",
    "#       But data exported on a different days will write to a new location so that historical\n",
    "#       copies can be kept as the dataset definition is changed.\n",
    "measurement_67813221_path <- file.path(\n",
    "  Sys.getenv(\"WORKSPACE_BUCKET\"),\n",
    "  \"bq_exports\",\n",
    "  Sys.getenv(\"OWNER_EMAIL\"),\n",
    "  strftime(lubridate::now(), \"%Y%m%d\"),  # Comment out this line if you want the export to always overwrite.\n",
    "  \"measurement_67813221\",\n",
    "  \"measurement_67813221_*.csv\")\n",
    "message(str_glue('The data will be written to {measurement_67813221_path}. Use this path when reading ',\n",
    "                 'the data into your notebooks in the future.'))\n",
    "\n",
    "# Perform the query and export the dataset to Cloud Storage as CSV files.\n",
    "# NOTE: You only need to run `bq_table_save` once. After that, you can\n",
    "#       just read data from the CSVs in Cloud Storage.\n",
    "bq_table_save(\n",
    "  bq_dataset_query(Sys.getenv(\"WORKSPACE_CDR\"), dataset_67813221_measurement_sql, billing = Sys.getenv(\"GOOGLE_PROJECT\")),\n",
    "  measurement_67813221_path,\n",
    "  destination_format = \"CSV\")\n",
    "\n"
   ]
  },
  {
   "cell_type": "code",
   "execution_count": null,
   "metadata": {
    "vscode": {
     "languageId": "r"
    }
   },
   "outputs": [],
   "source": [
    "measurement_67813221_path <- file.path(\n",
    "  Sys.getenv(\"WORKSPACE_BUCKET\"),\n",
    "  \"bq_exports\",\n",
    "  Sys.getenv(\"OWNER_EMAIL\"),\n",
    "  strftime(lubridate::now(), \"%Y%m%d\"),  # Comment out this line if you want the export to always overwrite.\n",
    "  \"measurement_67813221\",\n",
    "  \"measurement_67813221_*.csv\")\n",
    "message(str_glue('The data will be written to {measurement_67813221_path}. Use this path when reading ',\n",
    "                 'the data into your notebooks in the future.'))\n",
    "\n",
    "# Read the data directly from Cloud Storage into memory.\n",
    "# NOTE: Alternatively you can `gsutil -m cp {measurement_67813221_path}` to copy these files\n",
    "#       to the Jupyter disk.\n",
    "read_bq_export_from_workspace_bucket <- function(export_path) {\n",
    "  col_types <- cols(standard_concept_name = col_character(), standard_concept_code = col_character(), standard_vocabulary = col_character(), measurement_type_concept_name = col_character(), operator_concept_name = col_character(), value_as_concept_name = col_character(), unit_concept_name = col_character(), visit_occurrence_concept_name = col_character(), measurement_source_value = col_character(), source_concept_name = col_character(), source_concept_code = col_character(), source_vocabulary = col_character(), unit_source_value = col_character(), value_source_value = col_character())\n",
    "  bind_rows(\n",
    "    map(system2('gsutil', args = c('ls', export_path), stdout = TRUE, stderr = TRUE),\n",
    "        function(csv) {\n",
    "          message(str_glue('Loading {csv}.'))\n",
    "          chunk <- read_csv(pipe(str_glue('gsutil cat {csv}')), col_types = col_types, show_col_types = FALSE)\n",
    "          if (is.null(col_types)) {\n",
    "            col_types <- spec(chunk)\n",
    "          }\n",
    "          chunk\n",
    "        }))\n",
    "}\n",
    "#measurement_67813221_path <- \"gs://fc-secure-b96fb036-3379-4be0-8834-e7e486f2b76e/bq_exports/davidz1@researchallofus.org/20240528/measurement_67813221/measurement_67813221_*.csv\"\n",
    "dataset_67813221_measurement_df <- read_bq_export_from_workspace_bucket(measurement_67813221_path)\n",
    "\n",
    "dim(dataset_67813221_measurement_df)\n",
    "\n",
    "head(dataset_67813221_measurement_df, 5)"
   ]
  },
  {
   "cell_type": "markdown",
   "metadata": {},
   "source": [
    "## Process calcium (mg/dL)"
   ]
  },
  {
   "cell_type": "code",
   "execution_count": null,
   "metadata": {
    "vscode": {
     "languageId": "r"
    }
   },
   "outputs": [],
   "source": [
    "# Calcium \n",
    "labs <- dataset_67813221_measurement_df %>%\n",
    "    filter(grepl(\"Calcium\", standard_concept_name))\n",
    "colnames(labs)\n",
    "length(unique(labs$person_id))\n",
    "\n",
    "as.data.frame(table(labs$standard_concept_name)) %>% arrange(-Freq)\n",
    "\n",
    "#as.data.frame(table(labs$visit_occurrence_concept_name)) %>% arrange(-Freq)\n",
    "as.data.frame(table(labs$unit_concept_name)) %>% arrange(-Freq)\n",
    "quantile(labs$value_as_number[labs$unit_concept_name == \"no value\"], na.rm=T)\n",
    "\n",
    "#median(labs$value_as_number, na.rm=T)\n",
    "\n",
    "#new_labs <- labs %>%\n",
    "#    filter(!grepl(\"Emergency\", visit_occurrence_concept_name) & !grepl(\"Intensive\", visit_occurrence_concept_name) &\n",
    "#          !grepl(\"Urgent\", visit_occurrence_concept_name))\n",
    "\n",
    "#as.data.frame(table(new_labs$visit_occurrence_concept_name)) %>% arrange(-Freq)\n",
    "#new_labs <- labs %>%\n",
    "#    filter(unit_concept_name == \"square meter\")\n",
    "#length(unique(new_labs$person_id))\n"
   ]
  },
  {
   "cell_type": "code",
   "execution_count": null,
   "metadata": {
    "vscode": {
     "languageId": "r"
    }
   },
   "outputs": [],
   "source": [
    "keep_outliers = FALSE\n",
    "\n",
    "# Do all the filtering specified at the top of the file\n",
    "labs_formatted <- labs %>%\n",
    "    filter(!grepl(\"Emergency\", visit_occurrence_concept_name) & \n",
    "           !grepl(\"Intensive\", visit_occurrence_concept_name) &\n",
    "           !grepl(\"Urgent\", visit_occurrence_concept_name)) %>%\n",
    "    filter(unit_concept_name != \"milligram per milliliter\" &\n",
    "           unit_concept_name != \"milligram per deciliter calculated\" &\n",
    "           unit_concept_name != \"gram per deciliter\" &\n",
    "           unit_concept_name != \"milligram per 24 hours\") %>%\n",
    "    mutate(value_as_number = ifelse(unit_concept_name == \"millimole per liter\", value_as_number * (1/0.2495), value_as_number)) %>%\n",
    "    filter(value_as_number >= 0) %>%\n",
    "    select(person_id, measurement_datetime, value_as_number) %>%\n",
    "    mutate_at(c('person_id'), as.character) %>%\n",
    "    mutate(across(where(is.character), ~na_if(., \"NULL\"))) %>%\n",
    "    na.omit() %>%\n",
    "    distinct() %>%\n",
    "    group_by(person_id) %>%\n",
    "    filter(value_as_number <= (10 * median(value_as_number))) %>%\n",
    "    ungroup() %>%\n",
    "    filter(keep_outliers | value_as_number >= mean(value_as_number) - (4 * sd(value_as_number))) %>%\n",
    "    filter(keep_outliers | value_as_number <= mean(value_as_number) + (4 * sd(value_as_number))) \n",
    "\n",
    "dim(labs_formatted)\n",
    "head(labs_formatted, 5)\n"
   ]
  },
  {
   "cell_type": "code",
   "execution_count": null,
   "metadata": {
    "vscode": {
     "languageId": "r"
    }
   },
   "outputs": [],
   "source": [
    "min(labs_formatted$value_as_number)\n",
    "median(labs_formatted$value_as_number)\n",
    "mean(labs_formatted$value_as_number)\n",
    "max(labs_formatted$value_as_number)\n",
    "sd(labs_formatted$value_as_number)\n",
    "\n",
    "quantile(labs_formatted$value_as_number)\n"
   ]
  },
  {
   "cell_type": "code",
   "execution_count": null,
   "metadata": {
    "vscode": {
     "languageId": "r"
    }
   },
   "outputs": [],
   "source": [
    "write.table(labs_formatted, \n",
    "    file=paste0(data_path, \"/dataframes/blood/AllofUs_v8_labs-Calcium_wout_outliers_long_052724.txt\"), \n",
    "    row.names=FALSE, quote=FALSE, sep=\"\\t\")\n"
   ]
  },
  {
   "cell_type": "markdown",
   "metadata": {},
   "source": [
    "## Process phosphate (mg/dL)"
   ]
  },
  {
   "cell_type": "code",
   "execution_count": null,
   "metadata": {
    "vscode": {
     "languageId": "r"
    }
   },
   "outputs": [],
   "source": [
    "# Phosphate\n",
    "labs <- dataset_67813221_measurement_df %>%\n",
    "    filter(grepl(\"Phosphate\", standard_concept_name))\n",
    "colnames(labs)\n",
    "length(unique(labs$person_id))\n",
    "\n",
    "as.data.frame(table(labs$standard_concept_name)) %>% arrange(-Freq)\n",
    "\n",
    "#as.data.frame(table(labs$visit_occurrence_concept_name)) %>% arrange(-Freq)\n",
    "as.data.frame(table(labs$unit_concept_name)) %>% arrange(-Freq)\n",
    "quantile(labs$value_as_number[labs$unit_concept_name == \"no value\"], na.rm=T)\n",
    "\n",
    "#median(labs$value_as_number, na.rm=T)\n",
    "\n",
    "#new_labs <- labs %>%\n",
    "#    filter(!grepl(\"Emergency\", visit_occurrence_concept_name) & !grepl(\"Intensive\", visit_occurrence_concept_name) &\n",
    "#          !grepl(\"Urgent\", visit_occurrence_concept_name))\n",
    "\n",
    "#as.data.frame(table(new_labs$visit_occurrence_concept_name)) %>% arrange(-Freq)\n",
    "#new_labs <- labs %>%\n",
    "#    filter(unit_concept_name == \"square meter\")\n",
    "#length(unique(new_labs$person_id))\n"
   ]
  },
  {
   "cell_type": "code",
   "execution_count": null,
   "metadata": {
    "vscode": {
     "languageId": "r"
    }
   },
   "outputs": [],
   "source": [
    "keep_outliers = FALSE\n",
    "\n",
    "# Do all the filtering specified at the top of the file\n",
    "labs_formatted <- labs %>%\n",
    "    filter(!grepl(\"Emergency\", visit_occurrence_concept_name) & \n",
    "           !grepl(\"Intensive\", visit_occurrence_concept_name) &\n",
    "           !grepl(\"Urgent\", visit_occurrence_concept_name)) %>%\n",
    "    filter(unit_concept_name != \"milligram per gram\") %>%\n",
    "    filter(value_as_number >= 0) %>%\n",
    "    select(person_id, measurement_datetime, value_as_number) %>%\n",
    "    mutate_at(c('person_id'), as.character) %>%\n",
    "    mutate(across(where(is.character), ~na_if(., \"NULL\"))) %>%\n",
    "    na.omit() %>%\n",
    "    distinct() %>%\n",
    "    group_by(person_id) %>%\n",
    "    filter(value_as_number <= (10 * median(value_as_number))) %>%\n",
    "    ungroup() %>%\n",
    "    filter(keep_outliers | value_as_number >= mean(value_as_number) - (4 * sd(value_as_number))) %>%\n",
    "    filter(keep_outliers | value_as_number <= mean(value_as_number) + (4 * sd(value_as_number))) \n",
    "\n",
    "dim(labs_formatted)\n",
    "head(labs_formatted, 5)\n"
   ]
  },
  {
   "cell_type": "code",
   "execution_count": null,
   "metadata": {
    "vscode": {
     "languageId": "r"
    }
   },
   "outputs": [],
   "source": [
    "min(labs_formatted$value_as_number)\n",
    "median(labs_formatted$value_as_number)\n",
    "mean(labs_formatted$value_as_number)\n",
    "max(labs_formatted$value_as_number)\n",
    "sd(labs_formatted$value_as_number)\n",
    "\n",
    "quantile(labs_formatted$value_as_number)\n"
   ]
  },
  {
   "cell_type": "code",
   "execution_count": null,
   "metadata": {
    "vscode": {
     "languageId": "r"
    }
   },
   "outputs": [],
   "source": [
    "write.table(labs_formatted, \n",
    "    file=paste0(data_path, \"/dataframes/blood/AllofUs_v8_labs-Phosphate_wout_outliers_long_052724.txt\"), \n",
    "    row.names=FALSE, quote=FALSE, sep=\"\\t\")\n"
   ]
  },
  {
   "cell_type": "markdown",
   "metadata": {},
   "source": [
    "# Cystatin C"
   ]
  },
  {
   "cell_type": "markdown",
   "metadata": {},
   "source": [
    "## Extract cystatin c"
   ]
  },
  {
   "cell_type": "code",
   "execution_count": null,
   "metadata": {
    "vscode": {
     "languageId": "r"
    }
   },
   "outputs": [],
   "source": [
    "library(tidyverse)\n",
    "library(bigrquery)\n",
    "\n",
    "# This query represents dataset \"Pts with Cystatin C\" for domain \"measurement\" and was generated for All of Us Controlled Tier Dataset v8\n",
    "dataset_37766621_measurement_sql <- paste(\"\n",
    "    SELECT\n",
    "        measurement.person_id,\n",
    "        measurement.measurement_concept_id,\n",
    "        m_standard_concept.concept_name as standard_concept_name,\n",
    "        m_standard_concept.concept_code as standard_concept_code,\n",
    "        m_standard_concept.vocabulary_id as standard_vocabulary,\n",
    "        measurement.measurement_datetime,\n",
    "        measurement.measurement_type_concept_id,\n",
    "        m_type.concept_name as measurement_type_concept_name,\n",
    "        measurement.operator_concept_id,\n",
    "        m_operator.concept_name as operator_concept_name,\n",
    "        measurement.value_as_number,\n",
    "        measurement.value_as_concept_id,\n",
    "        m_value.concept_name as value_as_concept_name,\n",
    "        measurement.unit_concept_id,\n",
    "        m_unit.concept_name as unit_concept_name,\n",
    "        measurement.range_low,\n",
    "        measurement.range_high,\n",
    "        measurement.visit_occurrence_id,\n",
    "        m_visit.concept_name as visit_occurrence_concept_name,\n",
    "        measurement.measurement_source_value,\n",
    "        measurement.measurement_source_concept_id,\n",
    "        m_source_concept.concept_name as source_concept_name,\n",
    "        m_source_concept.concept_code as source_concept_code,\n",
    "        m_source_concept.vocabulary_id as source_vocabulary,\n",
    "        measurement.unit_source_value,\n",
    "        measurement.value_source_value \n",
    "    FROM\n",
    "        ( SELECT\n",
    "            * \n",
    "        FROM\n",
    "            `measurement` measurement \n",
    "        WHERE\n",
    "            (\n",
    "                measurement_concept_id IN (SELECT\n",
    "                    DISTINCT c.concept_id \n",
    "                FROM\n",
    "                    `cb_criteria` c \n",
    "                JOIN\n",
    "                    (SELECT\n",
    "                        CAST(cr.id as string) AS id       \n",
    "                    FROM\n",
    "                        `cb_criteria` cr       \n",
    "                    WHERE\n",
    "                        concept_id IN (37043215)       \n",
    "                        AND full_text LIKE '%_rank1]%'      ) a \n",
    "                        ON (c.path LIKE CONCAT('%.', a.id, '.%') \n",
    "                        OR c.path LIKE CONCAT('%.', a.id) \n",
    "                        OR c.path LIKE CONCAT(a.id, '.%') \n",
    "                        OR c.path = a.id) \n",
    "                WHERE\n",
    "                    is_standard = 1 \n",
    "                    AND is_selectable = 1)\n",
    "            )  \n",
    "            AND (\n",
    "                measurement.PERSON_ID IN (SELECT\n",
    "                    distinct person_id  \n",
    "                FROM\n",
    "                    `cb_search_person` cb_search_person  \n",
    "                WHERE\n",
    "                    cb_search_person.person_id IN (SELECT\n",
    "                        criteria.person_id \n",
    "                    FROM\n",
    "                        (SELECT\n",
    "                            DISTINCT person_id, entry_date, concept_id \n",
    "                        FROM\n",
    "                            `cb_search_all_events` \n",
    "                        WHERE\n",
    "                            (concept_id IN(SELECT\n",
    "                                DISTINCT c.concept_id \n",
    "                            FROM\n",
    "                                `cb_criteria` c \n",
    "                            JOIN\n",
    "                                (SELECT\n",
    "                                    CAST(cr.id as string) AS id       \n",
    "                                FROM\n",
    "                                    `cb_criteria` cr       \n",
    "                                WHERE\n",
    "                                    concept_id IN (37043215)       \n",
    "                                    AND full_text LIKE '%_rank1]%'      ) a \n",
    "                                    ON (c.path LIKE CONCAT('%.', a.id, '.%') \n",
    "                                    OR c.path LIKE CONCAT('%.', a.id) \n",
    "                                    OR c.path LIKE CONCAT(a.id, '.%') \n",
    "                                    OR c.path = a.id) \n",
    "                            WHERE\n",
    "                                is_standard = 1 \n",
    "                                AND is_selectable = 1) \n",
    "                            AND is_standard = 1 )) criteria ) )\n",
    "            )) measurement \n",
    "    LEFT JOIN\n",
    "        `concept` m_standard_concept \n",
    "            ON measurement.measurement_concept_id = m_standard_concept.concept_id \n",
    "    LEFT JOIN\n",
    "        `concept` m_type \n",
    "            ON measurement.measurement_type_concept_id = m_type.concept_id \n",
    "    LEFT JOIN\n",
    "        `concept` m_operator \n",
    "            ON measurement.operator_concept_id = m_operator.concept_id \n",
    "    LEFT JOIN\n",
    "        `concept` m_value \n",
    "            ON measurement.value_as_concept_id = m_value.concept_id \n",
    "    LEFT JOIN\n",
    "        `concept` m_unit \n",
    "            ON measurement.unit_concept_id = m_unit.concept_id \n",
    "    LEFT JOIn\n",
    "        `visit_occurrence` v \n",
    "            ON measurement.visit_occurrence_id = v.visit_occurrence_id \n",
    "    LEFT JOIN\n",
    "        `concept` m_visit \n",
    "            ON v.visit_concept_id = m_visit.concept_id \n",
    "    LEFT JOIN\n",
    "        `concept` m_source_concept \n",
    "            ON measurement.measurement_source_concept_id = m_source_concept.concept_id\", sep=\"\")\n",
    "\n",
    "# Formulate a Cloud Storage destination path for the data exported from BigQuery.\n",
    "# NOTE: By default data exported multiple times on the same day will overwrite older copies.\n",
    "#       But data exported on a different days will write to a new location so that historical\n",
    "#       copies can be kept as the dataset definition is changed.\n",
    "measurement_37766621_path <- file.path(\n",
    "  Sys.getenv(\"WORKSPACE_BUCKET\"),\n",
    "  \"bq_exports\",\n",
    "  Sys.getenv(\"OWNER_EMAIL\"),\n",
    "  strftime(lubridate::now(), \"%Y%m%d\"),  # Comment out this line if you want the export to always overwrite.\n",
    "  \"measurement_37766621\",\n",
    "  \"measurement_37766621_*.csv\")\n",
    "message(str_glue('The data will be written to {measurement_37766621_path}. Use this path when reading ',\n",
    "                 'the data into your notebooks in the future.'))\n",
    "\n",
    "# Perform the query and export the dataset to Cloud Storage as CSV files.\n",
    "# NOTE: You only need to run `bq_table_save` once. After that, you can\n",
    "#       just read data from the CSVs in Cloud Storage.\n",
    "bq_table_save(\n",
    "  bq_dataset_query(Sys.getenv(\"WORKSPACE_CDR\"), dataset_37766621_measurement_sql, billing = Sys.getenv(\"GOOGLE_PROJECT\")),\n",
    "  measurement_37766621_path,\n",
    "  destination_format = \"CSV\")\n",
    "\n"
   ]
  },
  {
   "cell_type": "code",
   "execution_count": null,
   "metadata": {
    "vscode": {
     "languageId": "r"
    }
   },
   "outputs": [],
   "source": [
    "measurement_37766621_path <- file.path(\n",
    "  Sys.getenv(\"WORKSPACE_BUCKET\"),\n",
    "  \"bq_exports\",\n",
    "  Sys.getenv(\"OWNER_EMAIL\"),\n",
    "  strftime(lubridate::now(), \"%Y%m%d\"),  # Comment out this line if you want the export to always overwrite.\n",
    "  \"measurement_37766621\",\n",
    "  \"measurement_37766621_*.csv\")\n",
    "message(str_glue('The data will be written to {measurement_37766621_path}. Use this path when reading ',\n",
    "                 'the data into your notebooks in the future.'))\n",
    "\n",
    "\n",
    "\n",
    "# Read the data directly from Cloud Storage into memory.\n",
    "# NOTE: Alternatively you can `gsutil -m cp {measurement_37766621_path}` to copy these files\n",
    "#       to the Jupyter disk.\n",
    "read_bq_export_from_workspace_bucket <- function(export_path) {\n",
    "  col_types <- cols(standard_concept_name = col_character(), standard_concept_code = col_character(), standard_vocabulary = col_character(), measurement_type_concept_name = col_character(), operator_concept_name = col_character(), value_as_concept_name = col_character(), unit_concept_name = col_character(), visit_occurrence_concept_name = col_character(), measurement_source_value = col_character(), source_concept_name = col_character(), source_concept_code = col_character(), source_vocabulary = col_character(), unit_source_value = col_character(), value_source_value = col_character())\n",
    "  bind_rows(\n",
    "    map(system2('gsutil', args = c('ls', export_path), stdout = TRUE, stderr = TRUE),\n",
    "        function(csv) {\n",
    "          message(str_glue('Loading {csv}.'))\n",
    "          chunk <- read_csv(pipe(str_glue('gsutil cat {csv}')), col_types = col_types, show_col_types = FALSE)\n",
    "          if (is.null(col_types)) {\n",
    "            col_types <- spec(chunk)\n",
    "          }\n",
    "          chunk\n",
    "        }))\n",
    "}\n",
    "#measurement_37766621_path <- \"gs://fc-secure-b96fb036-3379-4be0-8834-e7e486f2b76e/bq_exports/davidz1@researchallofus.org/20240528/measurement_37766621/measurement_37766621_*.csv\"\n",
    "dataset_37766621_measurement_df <- read_bq_export_from_workspace_bucket(measurement_37766621_path)\n",
    "\n",
    "dim(dataset_37766621_measurement_df)\n",
    "\n",
    "head(dataset_37766621_measurement_df, 5)"
   ]
  },
  {
   "cell_type": "markdown",
   "metadata": {},
   "source": [
    "## Process cystatin c (mg/L)"
   ]
  },
  {
   "cell_type": "code",
   "execution_count": null,
   "metadata": {
    "vscode": {
     "languageId": "r"
    }
   },
   "outputs": [],
   "source": [
    "# Cystatin C\n",
    "labs <- dataset_37766621_measurement_df #%>%\n",
    "    #filter(grepl(\"Phosphate\", standard_concept_name))\n",
    "colnames(labs)\n",
    "length(unique(labs$person_id))\n",
    "\n",
    "as.data.frame(table(labs$standard_concept_name)) %>% arrange(-Freq)\n",
    "\n",
    "#as.data.frame(table(labs$visit_occurrence_concept_name)) %>% arrange(-Freq)\n",
    "as.data.frame(table(labs$unit_concept_name)) %>% arrange(-Freq)\n",
    "quantile(labs$value_as_number[labs$unit_concept_name == \"no value\"], na.rm=T)\n",
    "\n",
    "#median(labs$value_as_number, na.rm=T)\n",
    "\n",
    "#new_labs <- labs %>%\n",
    "#    filter(!grepl(\"Emergency\", visit_occurrence_concept_name) & !grepl(\"Intensive\", visit_occurrence_concept_name) &\n",
    "#          !grepl(\"Urgent\", visit_occurrence_concept_name))\n",
    "\n",
    "#as.data.frame(table(new_labs$visit_occurrence_concept_name)) %>% arrange(-Freq)\n",
    "#new_labs <- labs %>%\n",
    "#    filter(unit_concept_name == \"square meter\")\n",
    "#length(unique(new_labs$person_id))\n"
   ]
  },
  {
   "cell_type": "code",
   "execution_count": null,
   "metadata": {
    "vscode": {
     "languageId": "r"
    }
   },
   "outputs": [],
   "source": [
    "keep_outliers = FALSE\n",
    "\n",
    "# Do all the filtering specified at the top of the file\n",
    "labs_formatted <- labs %>%\n",
    "    filter(!grepl(\"Emergency\", visit_occurrence_concept_name) & \n",
    "           !grepl(\"Intensive\", visit_occurrence_concept_name) &\n",
    "           !grepl(\"Urgent\", visit_occurrence_concept_name)) %>%\n",
    "    filter(value_as_number >= 0) %>%\n",
    "    select(person_id, measurement_datetime, value_as_number) %>%\n",
    "    mutate_at(c('person_id'), as.character) %>%\n",
    "    mutate(across(where(is.character), ~na_if(., \"NULL\"))) %>%\n",
    "    na.omit() %>%\n",
    "    distinct() %>%\n",
    "    group_by(person_id) %>%\n",
    "    filter(value_as_number <= (10 * median(value_as_number))) %>%\n",
    "    ungroup() %>%\n",
    "    filter(keep_outliers | value_as_number >= mean(value_as_number) - (4 * sd(value_as_number))) %>%\n",
    "    filter(keep_outliers | value_as_number <= mean(value_as_number) + (4 * sd(value_as_number))) \n",
    "\n",
    "dim(labs_formatted)\n",
    "head(labs_formatted, 5)\n"
   ]
  },
  {
   "cell_type": "code",
   "execution_count": null,
   "metadata": {
    "vscode": {
     "languageId": "r"
    }
   },
   "outputs": [],
   "source": [
    "min(labs_formatted$value_as_number)\n",
    "median(labs_formatted$value_as_number)\n",
    "mean(labs_formatted$value_as_number)\n",
    "max(labs_formatted$value_as_number)\n",
    "sd(labs_formatted$value_as_number)\n",
    "\n",
    "quantile(labs_formatted$value_as_number)\n"
   ]
  },
  {
   "cell_type": "code",
   "execution_count": null,
   "metadata": {
    "vscode": {
     "languageId": "r"
    }
   },
   "outputs": [],
   "source": [
    "write.table(labs_formatted, \n",
    "    file=paste0(data_path, \"/dataframes/blood/AllofUs_v8_labs-Cystatin-C_wout_outliers_long_052724.txt\"), \n",
    "    row.names=FALSE, quote=FALSE, sep=\"\\t\")\n"
   ]
  },
  {
   "cell_type": "markdown",
   "metadata": {},
   "source": [
    "# Bilirubins"
   ]
  },
  {
   "cell_type": "markdown",
   "metadata": {},
   "source": [
    "## Extract bilirubin total/direct/indirect"
   ]
  },
  {
   "cell_type": "code",
   "execution_count": null,
   "metadata": {
    "vscode": {
     "languageId": "r"
    }
   },
   "outputs": [],
   "source": [
    "library(tidyverse)\n",
    "library(bigrquery)\n",
    "\n",
    "# This query represents dataset \"Pts with Bilirubins\" for domain \"measurement\" and was generated for All of Us Controlled Tier Dataset v8\n",
    "dataset_87077757_measurement_sql <- paste(\"\n",
    "    SELECT\n",
    "        measurement.person_id,\n",
    "        measurement.measurement_concept_id,\n",
    "        m_standard_concept.concept_name as standard_concept_name,\n",
    "        m_standard_concept.concept_code as standard_concept_code,\n",
    "        m_standard_concept.vocabulary_id as standard_vocabulary,\n",
    "        measurement.measurement_datetime,\n",
    "        measurement.measurement_type_concept_id,\n",
    "        m_type.concept_name as measurement_type_concept_name,\n",
    "        measurement.operator_concept_id,\n",
    "        m_operator.concept_name as operator_concept_name,\n",
    "        measurement.value_as_number,\n",
    "        measurement.value_as_concept_id,\n",
    "        m_value.concept_name as value_as_concept_name,\n",
    "        measurement.unit_concept_id,\n",
    "        m_unit.concept_name as unit_concept_name,\n",
    "        measurement.range_low,\n",
    "        measurement.range_high,\n",
    "        measurement.visit_occurrence_id,\n",
    "        m_visit.concept_name as visit_occurrence_concept_name,\n",
    "        measurement.measurement_source_value,\n",
    "        measurement.measurement_source_concept_id,\n",
    "        m_source_concept.concept_name as source_concept_name,\n",
    "        m_source_concept.concept_code as source_concept_code,\n",
    "        m_source_concept.vocabulary_id as source_vocabulary,\n",
    "        measurement.unit_source_value,\n",
    "        measurement.value_source_value \n",
    "    FROM\n",
    "        ( SELECT\n",
    "            * \n",
    "        FROM\n",
    "            `measurement` measurement \n",
    "        WHERE\n",
    "            (\n",
    "                measurement_concept_id IN (SELECT\n",
    "                    DISTINCT c.concept_id \n",
    "                FROM\n",
    "                    `cb_criteria` c \n",
    "                JOIN\n",
    "                    (SELECT\n",
    "                        CAST(cr.id as string) AS id       \n",
    "                    FROM\n",
    "                        `cb_criteria` cr       \n",
    "                    WHERE\n",
    "                        concept_id IN (3007359, 3024128, 3027597)       \n",
    "                        AND full_text LIKE '%_rank1]%'      ) a \n",
    "                        ON (c.path LIKE CONCAT('%.', a.id, '.%') \n",
    "                        OR c.path LIKE CONCAT('%.', a.id) \n",
    "                        OR c.path LIKE CONCAT(a.id, '.%') \n",
    "                        OR c.path = a.id) \n",
    "                WHERE\n",
    "                    is_standard = 1 \n",
    "                    AND is_selectable = 1)\n",
    "            )  \n",
    "            AND (\n",
    "                measurement.PERSON_ID IN (SELECT\n",
    "                    distinct person_id  \n",
    "                FROM\n",
    "                    `cb_search_person` cb_search_person  \n",
    "                WHERE\n",
    "                    cb_search_person.person_id IN (SELECT\n",
    "                        criteria.person_id \n",
    "                    FROM\n",
    "                        (SELECT\n",
    "                            DISTINCT person_id, entry_date, concept_id \n",
    "                        FROM\n",
    "                            `cb_search_all_events` \n",
    "                        WHERE\n",
    "                            (concept_id IN (3027597, 3007359, 3024128) \n",
    "                            AND is_standard = 1 )) criteria ) )\n",
    "            )) measurement \n",
    "    LEFT JOIN\n",
    "        `concept` m_standard_concept \n",
    "            ON measurement.measurement_concept_id = m_standard_concept.concept_id \n",
    "    LEFT JOIN\n",
    "        `concept` m_type \n",
    "            ON measurement.measurement_type_concept_id = m_type.concept_id \n",
    "    LEFT JOIN\n",
    "        `concept` m_operator \n",
    "            ON measurement.operator_concept_id = m_operator.concept_id \n",
    "    LEFT JOIN\n",
    "        `concept` m_value \n",
    "            ON measurement.value_as_concept_id = m_value.concept_id \n",
    "    LEFT JOIN\n",
    "        `concept` m_unit \n",
    "            ON measurement.unit_concept_id = m_unit.concept_id \n",
    "    LEFT JOIn\n",
    "        `visit_occurrence` v \n",
    "            ON measurement.visit_occurrence_id = v.visit_occurrence_id \n",
    "    LEFT JOIN\n",
    "        `concept` m_visit \n",
    "            ON v.visit_concept_id = m_visit.concept_id \n",
    "    LEFT JOIN\n",
    "        `concept` m_source_concept \n",
    "            ON measurement.measurement_source_concept_id = m_source_concept.concept_id\", sep=\"\")\n",
    "\n",
    "# Formulate a Cloud Storage destination path for the data exported from BigQuery.\n",
    "# NOTE: By default data exported multiple times on the same day will overwrite older copies.\n",
    "#       But data exported on a different days will write to a new location so that historical\n",
    "#       copies can be kept as the dataset definition is changed.\n",
    "measurement_87077757_path <- file.path(\n",
    "  Sys.getenv(\"WORKSPACE_BUCKET\"),\n",
    "  \"bq_exports\",\n",
    "  Sys.getenv(\"OWNER_EMAIL\"),\n",
    "  strftime(lubridate::now(), \"%Y%m%d\"),  # Comment out this line if you want the export to always overwrite.\n",
    "  \"measurement_87077757\",\n",
    "  \"measurement_87077757_*.csv\")\n",
    "message(str_glue('The data will be written to {measurement_87077757_path}. Use this path when reading ',\n",
    "                 'the data into your notebooks in the future.'))\n",
    "\n",
    "# Perform the query and export the dataset to Cloud Storage as CSV files.\n",
    "# NOTE: You only need to run `bq_table_save` once. After that, you can\n",
    "#       just read data from the CSVs in Cloud Storage.\n",
    "bq_table_save(\n",
    "  bq_dataset_query(Sys.getenv(\"WORKSPACE_CDR\"), dataset_87077757_measurement_sql, billing = Sys.getenv(\"GOOGLE_PROJECT\")),\n",
    "  measurement_87077757_path,\n",
    "  destination_format = \"CSV\")\n",
    "\n"
   ]
  },
  {
   "cell_type": "code",
   "execution_count": null,
   "metadata": {
    "vscode": {
     "languageId": "r"
    }
   },
   "outputs": [],
   "source": [
    "measurement_87077757_path <- file.path(\n",
    "  Sys.getenv(\"WORKSPACE_BUCKET\"),\n",
    "  \"bq_exports\",\n",
    "  Sys.getenv(\"OWNER_EMAIL\"),\n",
    "  strftime(lubridate::now(), \"%Y%m%d\"),  # Comment out this line if you want the export to always overwrite.\n",
    "  \"measurement_87077757\",\n",
    "  \"measurement_87077757_*.csv\")\n",
    "message(str_glue('The data will be written to {measurement_87077757_path}. Use this path when reading ',\n",
    "                 'the data into your notebooks in the future.'))\n",
    "\n",
    "\n",
    "# Read the data directly from Cloud Storage into memory.\n",
    "# NOTE: Alternatively you can `gsutil -m cp {measurement_87077757_path}` to copy these files\n",
    "#       to the Jupyter disk.\n",
    "read_bq_export_from_workspace_bucket <- function(export_path) {\n",
    "  col_types <- cols(standard_concept_name = col_character(), standard_concept_code = col_character(), standard_vocabulary = col_character(), measurement_type_concept_name = col_character(), operator_concept_name = col_character(), value_as_concept_name = col_character(), unit_concept_name = col_character(), visit_occurrence_concept_name = col_character(), measurement_source_value = col_character(), source_concept_name = col_character(), source_concept_code = col_character(), source_vocabulary = col_character(), unit_source_value = col_character(), value_source_value = col_character())\n",
    "  bind_rows(\n",
    "    map(system2('gsutil', args = c('ls', export_path), stdout = TRUE, stderr = TRUE),\n",
    "        function(csv) {\n",
    "          message(str_glue('Loading {csv}.'))\n",
    "          chunk <- read_csv(pipe(str_glue('gsutil cat {csv}')), col_types = col_types, show_col_types = FALSE)\n",
    "          if (is.null(col_types)) {\n",
    "            col_types <- spec(chunk)\n",
    "          }\n",
    "          chunk\n",
    "        }))\n",
    "}\n",
    "#measurement_87077757_path <- \"gs://fc-secure-b96fb036-3379-4be0-8834-e7e486f2b76e/bq_exports/davidz1@researchallofus.org/20240528/measurement_87077757/measurement_87077757_*.csv\"\n",
    "dataset_87077757_measurement_df <- read_bq_export_from_workspace_bucket(measurement_87077757_path)\n",
    "\n",
    "dim(dataset_87077757_measurement_df)\n",
    "\n",
    "head(dataset_87077757_measurement_df, 5)"
   ]
  },
  {
   "cell_type": "markdown",
   "metadata": {},
   "source": [
    "## Process bilirubin total (mg/dL)"
   ]
  },
  {
   "cell_type": "code",
   "execution_count": null,
   "metadata": {
    "vscode": {
     "languageId": "r"
    }
   },
   "outputs": [],
   "source": [
    "# Bilirubin Total\n",
    "labs <- dataset_87077757_measurement_df %>%\n",
    "    filter(standard_concept_name == \"Bilirubin.total [Mass/volume] in Serum or Plasma\")\n",
    "colnames(labs)\n",
    "length(unique(labs$person_id))\n",
    "\n",
    "as.data.frame(table(labs$standard_concept_name)) %>% arrange(-Freq)\n",
    "\n",
    "#as.data.frame(table(labs$visit_occurrence_concept_name)) %>% arrange(-Freq)\n",
    "as.data.frame(table(labs$unit_concept_name)) %>% arrange(-Freq)\n",
    "median(labs$value_as_number[labs$unit_concept_name == 'microgram per deciliter'], na.rm=T)\n",
    "\n",
    "#max(labs$value_as_number, na.rm=T)\n",
    "\n",
    "#new_labs <- labs %>%\n",
    "#    filter(!grepl(\"Emergency\", visit_occurrence_concept_name) & !grepl(\"Intensive\", visit_occurrence_concept_name) &\n",
    "#          !grepl(\"Urgent\", visit_occurrence_concept_name))\n",
    "\n",
    "#as.data.frame(table(new_labs$visit_occurrence_concept_name)) %>% arrange(-Freq)\n",
    "#new_labs <- labs %>%\n",
    "#    filter(unit_concept_name == \"milligram per deciliter\")\n",
    "#length(unique(new_labs$person_id))\n",
    "\n"
   ]
  },
  {
   "cell_type": "code",
   "execution_count": null,
   "metadata": {
    "vscode": {
     "languageId": "r"
    }
   },
   "outputs": [],
   "source": [
    "keep_outliers = FALSE\n",
    "\n",
    "# Do all the filtering specified at the top of the file\n",
    "labs_formatted <- labs %>%\n",
    "    filter(!grepl(\"Emergency\", visit_occurrence_concept_name) & \n",
    "           !grepl(\"Intensive\", visit_occurrence_concept_name) &\n",
    "           !grepl(\"Urgent\", visit_occurrence_concept_name)) %>%\n",
    "    filter(unit_concept_name != \"microgram per deciliter\" &\n",
    "           unit_concept_name != \"gram per deciliter\" &\n",
    "           unit_concept_name != \"unit per liter\" &\n",
    "           unit_concept_name != \"mg/mL\") %>%\n",
    "    filter(value_as_number >= 0) %>%\n",
    "    select(person_id, measurement_datetime, value_as_number) %>%\n",
    "    mutate_at(c('person_id'), as.character) %>%\n",
    "    mutate(across(where(is.character), ~na_if(., \"NULL\"))) %>%\n",
    "    na.omit() %>%\n",
    "    distinct() %>%\n",
    "    group_by(person_id) %>%\n",
    "    filter(value_as_number <= (10 * median(value_as_number))) %>%\n",
    "    ungroup() %>%\n",
    "    filter(keep_outliers | value_as_number >= mean(value_as_number) - (4 * sd(value_as_number))) %>%\n",
    "    filter(keep_outliers | value_as_number <= mean(value_as_number) + (4 * sd(value_as_number))) \n",
    "\n",
    "dim(labs_formatted)\n",
    "head(labs_formatted, 5)\n"
   ]
  },
  {
   "cell_type": "code",
   "execution_count": null,
   "metadata": {
    "vscode": {
     "languageId": "r"
    }
   },
   "outputs": [],
   "source": [
    "min(labs_formatted$value_as_number)\n",
    "median(labs_formatted$value_as_number)\n",
    "mean(labs_formatted$value_as_number)\n",
    "max(labs_formatted$value_as_number)\n",
    "sd(labs_formatted$value_as_number)\n",
    "\n",
    "quantile(labs_formatted$value_as_number)\n"
   ]
  },
  {
   "cell_type": "code",
   "execution_count": null,
   "metadata": {
    "vscode": {
     "languageId": "r"
    }
   },
   "outputs": [],
   "source": [
    "write.table(labs_formatted, \n",
    "    file=paste0(data_path, \"/dataframes/blood/AllofUs_v8_labs-Bilirubin-Total_wout_outliers_long_052724.txt\"), \n",
    "    row.names=FALSE, quote=FALSE, sep=\"\\t\")\n"
   ]
  },
  {
   "cell_type": "markdown",
   "metadata": {},
   "source": [
    "## Process bilirubin direct (mg/dL)"
   ]
  },
  {
   "cell_type": "code",
   "execution_count": null,
   "metadata": {
    "vscode": {
     "languageId": "r"
    }
   },
   "outputs": [],
   "source": [
    "# Bilirubin Direct\n",
    "labs <- dataset_87077757_measurement_df %>%\n",
    "    filter(standard_concept_name == \"Bilirubin.direct [Mass/volume] in Serum or Plasma\")\n",
    "colnames(labs)\n",
    "length(unique(labs$person_id))\n",
    "\n",
    "as.data.frame(table(labs$standard_concept_name)) %>% arrange(-Freq)\n",
    "\n",
    "#as.data.frame(table(labs$visit_occurrence_concept_name)) %>% arrange(-Freq)\n",
    "as.data.frame(table(labs$unit_concept_name)) %>% arrange(-Freq)\n",
    "median(labs$value_as_number[labs$unit_concept_name == 'microgram per deciliter'], na.rm=T)\n",
    "\n",
    "#max(labs$value_as_number, na.rm=T)\n",
    "\n",
    "#new_labs <- labs %>%\n",
    "#    filter(!grepl(\"Emergency\", visit_occurrence_concept_name) & !grepl(\"Intensive\", visit_occurrence_concept_name) &\n",
    "#          !grepl(\"Urgent\", visit_occurrence_concept_name))\n",
    "\n",
    "#as.data.frame(table(new_labs$visit_occurrence_concept_name)) %>% arrange(-Freq)\n",
    "#new_labs <- labs %>%\n",
    "#    filter(unit_concept_name == \"milligram per deciliter\")\n",
    "#length(unique(new_labs$person_id))\n",
    "\n"
   ]
  },
  {
   "cell_type": "code",
   "execution_count": null,
   "metadata": {
    "vscode": {
     "languageId": "r"
    }
   },
   "outputs": [],
   "source": [
    "keep_outliers = FALSE\n",
    "\n",
    "# Do all the filtering specified at the top of the file\n",
    "labs_formatted <- labs %>%\n",
    "    filter(!grepl(\"Emergency\", visit_occurrence_concept_name) & \n",
    "           !grepl(\"Intensive\", visit_occurrence_concept_name) &\n",
    "           !grepl(\"Urgent\", visit_occurrence_concept_name)) %>%\n",
    "    filter(unit_concept_name != \"microgram per deciliter\") %>%\n",
    "    filter(value_as_number >= 0) %>%\n",
    "    select(person_id, measurement_datetime, value_as_number) %>%\n",
    "    mutate_at(c('person_id'), as.character) %>%\n",
    "    mutate(across(where(is.character), ~na_if(., \"NULL\"))) %>%\n",
    "    na.omit() %>%\n",
    "    distinct() %>%\n",
    "    group_by(person_id) %>%\n",
    "    filter(value_as_number <= (10 * median(value_as_number))) %>%\n",
    "    ungroup() %>%\n",
    "    filter(keep_outliers | value_as_number >= mean(value_as_number) - (4 * sd(value_as_number))) %>%\n",
    "    filter(keep_outliers | value_as_number <= mean(value_as_number) + (4 * sd(value_as_number))) \n",
    "\n",
    "dim(labs_formatted)\n",
    "head(labs_formatted, 5)\n"
   ]
  },
  {
   "cell_type": "code",
   "execution_count": null,
   "metadata": {
    "vscode": {
     "languageId": "r"
    }
   },
   "outputs": [],
   "source": [
    "min(labs_formatted$value_as_number)\n",
    "median(labs_formatted$value_as_number)\n",
    "mean(labs_formatted$value_as_number)\n",
    "max(labs_formatted$value_as_number)\n",
    "sd(labs_formatted$value_as_number)\n",
    "\n",
    "quantile(labs_formatted$value_as_number)\n"
   ]
  },
  {
   "cell_type": "code",
   "execution_count": null,
   "metadata": {
    "vscode": {
     "languageId": "r"
    }
   },
   "outputs": [],
   "source": [
    "write.table(labs_formatted, \n",
    "    file=paste0(data_path, \"/dataframes/blood/AllofUs_v8_labs-Bilirubin-Direct_wout_outliers_long_052724.txt\"), \n",
    "    row.names=FALSE, quote=FALSE, sep=\"\\t\")\n"
   ]
  },
  {
   "cell_type": "markdown",
   "metadata": {},
   "source": [
    "## Process bilirubin indirect (mg/dL)"
   ]
  },
  {
   "cell_type": "code",
   "execution_count": null,
   "metadata": {
    "vscode": {
     "languageId": "r"
    }
   },
   "outputs": [],
   "source": [
    "# Bilirubin Indirect\n",
    "labs <- dataset_87077757_measurement_df %>%\n",
    "    filter(standard_concept_name == \"Bilirubin.indirect [Mass/volume] in Serum or Plasma\")\n",
    "colnames(labs)\n",
    "length(unique(labs$person_id))\n",
    "\n",
    "as.data.frame(table(labs$standard_concept_name)) %>% arrange(-Freq)\n",
    "\n",
    "#as.data.frame(table(labs$visit_occurrence_concept_name)) %>% arrange(-Freq)\n",
    "as.data.frame(table(labs$unit_concept_name)) %>% arrange(-Freq)\n",
    "median(labs$value_as_number[labs$unit_concept_name == 'microgram per deciliter'], na.rm=T)\n",
    "\n",
    "#max(labs$value_as_number, na.rm=T)\n",
    "\n",
    "#new_labs <- labs %>%\n",
    "#    filter(!grepl(\"Emergency\", visit_occurrence_concept_name) & !grepl(\"Intensive\", visit_occurrence_concept_name) &\n",
    "#          !grepl(\"Urgent\", visit_occurrence_concept_name))\n",
    "\n",
    "#as.data.frame(table(new_labs$visit_occurrence_concept_name)) %>% arrange(-Freq)\n",
    "#new_labs <- labs %>%\n",
    "#    filter(unit_concept_name == \"milligram per deciliter\")\n",
    "#length(unique(new_labs$person_id))\n",
    "\n"
   ]
  },
  {
   "cell_type": "code",
   "execution_count": null,
   "metadata": {
    "vscode": {
     "languageId": "r"
    }
   },
   "outputs": [],
   "source": [
    "keep_outliers = FALSE\n",
    "\n",
    "# Do all the filtering specified at the top of the file\n",
    "labs_formatted <- labs %>%\n",
    "    filter(!grepl(\"Emergency\", visit_occurrence_concept_name) & \n",
    "           !grepl(\"Intensive\", visit_occurrence_concept_name) &\n",
    "           !grepl(\"Urgent\", visit_occurrence_concept_name)) %>%\n",
    "    filter(unit_concept_name != \"nanogram per milliliter\") %>%\n",
    "    filter(value_as_number >= 0) %>%\n",
    "    select(person_id, measurement_datetime, value_as_number) %>%\n",
    "    mutate_at(c('person_id'), as.character) %>%\n",
    "    mutate(across(where(is.character), ~na_if(., \"NULL\"))) %>%\n",
    "    na.omit() %>%\n",
    "    distinct() %>%\n",
    "    group_by(person_id) %>%\n",
    "    filter(value_as_number <= (10 * median(value_as_number))) %>%\n",
    "    ungroup() %>%\n",
    "    filter(keep_outliers | value_as_number >= mean(value_as_number) - (4 * sd(value_as_number))) %>%\n",
    "    filter(keep_outliers | value_as_number <= mean(value_as_number) + (4 * sd(value_as_number))) \n",
    "\n",
    "dim(labs_formatted)\n",
    "head(labs_formatted, 5)\n"
   ]
  },
  {
   "cell_type": "code",
   "execution_count": null,
   "metadata": {
    "vscode": {
     "languageId": "r"
    }
   },
   "outputs": [],
   "source": [
    "min(labs_formatted$value_as_number)\n",
    "median(labs_formatted$value_as_number)\n",
    "mean(labs_formatted$value_as_number)\n",
    "max(labs_formatted$value_as_number)\n",
    "sd(labs_formatted$value_as_number)\n",
    "\n",
    "quantile(labs_formatted$value_as_number)\n"
   ]
  },
  {
   "cell_type": "code",
   "execution_count": null,
   "metadata": {
    "vscode": {
     "languageId": "r"
    }
   },
   "outputs": [],
   "source": [
    "write.table(labs_formatted, \n",
    "    file=paste0(data_path, \"/dataframes/blood/AllofUs_v8_labs-Bilirubin-Indirect_wout_outliers_long_052724.txt\"), \n",
    "    row.names=FALSE, quote=FALSE, sep=\"\\t\")\n"
   ]
  },
  {
   "cell_type": "markdown",
   "metadata": {},
   "source": [
    "# IGF-1"
   ]
  },
  {
   "cell_type": "markdown",
   "metadata": {},
   "source": [
    "## Extract IGF-1"
   ]
  },
  {
   "cell_type": "code",
   "execution_count": null,
   "metadata": {
    "vscode": {
     "languageId": "r"
    }
   },
   "outputs": [],
   "source": [
    "library(tidyverse)\n",
    "library(bigrquery)\n",
    "\n",
    "# This query represents dataset \"Pts with IGF-1\" for domain \"measurement\" and was generated for All of Us Controlled Tier Dataset v8\n",
    "dataset_10238626_measurement_sql <- paste(\"\n",
    "    SELECT\n",
    "        measurement.person_id,\n",
    "        measurement.measurement_concept_id,\n",
    "        m_standard_concept.concept_name as standard_concept_name,\n",
    "        m_standard_concept.concept_code as standard_concept_code,\n",
    "        m_standard_concept.vocabulary_id as standard_vocabulary,\n",
    "        measurement.measurement_datetime,\n",
    "        measurement.measurement_type_concept_id,\n",
    "        m_type.concept_name as measurement_type_concept_name,\n",
    "        measurement.operator_concept_id,\n",
    "        m_operator.concept_name as operator_concept_name,\n",
    "        measurement.value_as_number,\n",
    "        measurement.value_as_concept_id,\n",
    "        m_value.concept_name as value_as_concept_name,\n",
    "        measurement.unit_concept_id,\n",
    "        m_unit.concept_name as unit_concept_name,\n",
    "        measurement.range_low,\n",
    "        measurement.range_high,\n",
    "        measurement.visit_occurrence_id,\n",
    "        m_visit.concept_name as visit_occurrence_concept_name,\n",
    "        measurement.measurement_source_value,\n",
    "        measurement.measurement_source_concept_id,\n",
    "        m_source_concept.concept_name as source_concept_name,\n",
    "        m_source_concept.concept_code as source_concept_code,\n",
    "        m_source_concept.vocabulary_id as source_vocabulary,\n",
    "        measurement.unit_source_value,\n",
    "        measurement.value_source_value \n",
    "    FROM\n",
    "        ( SELECT\n",
    "            * \n",
    "        FROM\n",
    "            `measurement` measurement \n",
    "        WHERE\n",
    "            (\n",
    "                measurement_concept_id IN (SELECT\n",
    "                    DISTINCT c.concept_id \n",
    "                FROM\n",
    "                    `cb_criteria` c \n",
    "                JOIN\n",
    "                    (SELECT\n",
    "                        CAST(cr.id as string) AS id       \n",
    "                    FROM\n",
    "                        `cb_criteria` cr       \n",
    "                    WHERE\n",
    "                        concept_id IN (37027959)       \n",
    "                        AND full_text LIKE '%_rank1]%'      ) a \n",
    "                        ON (c.path LIKE CONCAT('%.', a.id, '.%') \n",
    "                        OR c.path LIKE CONCAT('%.', a.id) \n",
    "                        OR c.path LIKE CONCAT(a.id, '.%') \n",
    "                        OR c.path = a.id) \n",
    "                WHERE\n",
    "                    is_standard = 1 \n",
    "                    AND is_selectable = 1)\n",
    "            )  \n",
    "            AND (\n",
    "                measurement.PERSON_ID IN (SELECT\n",
    "                    distinct person_id  \n",
    "                FROM\n",
    "                    `cb_search_person` cb_search_person  \n",
    "                WHERE\n",
    "                    cb_search_person.person_id IN (SELECT\n",
    "                        criteria.person_id \n",
    "                    FROM\n",
    "                        (SELECT\n",
    "                            DISTINCT person_id, entry_date, concept_id \n",
    "                        FROM\n",
    "                            `cb_search_all_events` \n",
    "                        WHERE\n",
    "                            (concept_id IN(SELECT\n",
    "                                DISTINCT c.concept_id \n",
    "                            FROM\n",
    "                                `cb_criteria` c \n",
    "                            JOIN\n",
    "                                (SELECT\n",
    "                                    CAST(cr.id as string) AS id       \n",
    "                                FROM\n",
    "                                    `cb_criteria` cr       \n",
    "                                WHERE\n",
    "                                    concept_id IN (37027959)       \n",
    "                                    AND full_text LIKE '%_rank1]%'      ) a \n",
    "                                    ON (c.path LIKE CONCAT('%.', a.id, '.%') \n",
    "                                    OR c.path LIKE CONCAT('%.', a.id) \n",
    "                                    OR c.path LIKE CONCAT(a.id, '.%') \n",
    "                                    OR c.path = a.id) \n",
    "                            WHERE\n",
    "                                is_standard = 1 \n",
    "                                AND is_selectable = 1) \n",
    "                            AND is_standard = 1 )) criteria ) )\n",
    "            )) measurement \n",
    "    LEFT JOIN\n",
    "        `concept` m_standard_concept \n",
    "            ON measurement.measurement_concept_id = m_standard_concept.concept_id \n",
    "    LEFT JOIN\n",
    "        `concept` m_type \n",
    "            ON measurement.measurement_type_concept_id = m_type.concept_id \n",
    "    LEFT JOIN\n",
    "        `concept` m_operator \n",
    "            ON measurement.operator_concept_id = m_operator.concept_id \n",
    "    LEFT JOIN\n",
    "        `concept` m_value \n",
    "            ON measurement.value_as_concept_id = m_value.concept_id \n",
    "    LEFT JOIN\n",
    "        `concept` m_unit \n",
    "            ON measurement.unit_concept_id = m_unit.concept_id \n",
    "    LEFT JOIn\n",
    "        `visit_occurrence` v \n",
    "            ON measurement.visit_occurrence_id = v.visit_occurrence_id \n",
    "    LEFT JOIN\n",
    "        `concept` m_visit \n",
    "            ON v.visit_concept_id = m_visit.concept_id \n",
    "    LEFT JOIN\n",
    "        `concept` m_source_concept \n",
    "            ON measurement.measurement_source_concept_id = m_source_concept.concept_id\", sep=\"\")\n",
    "\n",
    "# Formulate a Cloud Storage destination path for the data exported from BigQuery.\n",
    "# NOTE: By default data exported multiple times on the same day will overwrite older copies.\n",
    "#       But data exported on a different days will write to a new location so that historical\n",
    "#       copies can be kept as the dataset definition is changed.\n",
    "measurement_10238626_path <- file.path(\n",
    "  Sys.getenv(\"WORKSPACE_BUCKET\"),\n",
    "  \"bq_exports\",\n",
    "  Sys.getenv(\"OWNER_EMAIL\"),\n",
    "  strftime(lubridate::now(), \"%Y%m%d\"),  # Comment out this line if you want the export to always overwrite.\n",
    "  \"measurement_10238626\",\n",
    "  \"measurement_10238626_*.csv\")\n",
    "message(str_glue('The data will be written to {measurement_10238626_path}. Use this path when reading ',\n",
    "                 'the data into your notebooks in the future.'))\n",
    "\n",
    "# Perform the query and export the dataset to Cloud Storage as CSV files.\n",
    "# NOTE: You only need to run `bq_table_save` once. After that, you can\n",
    "#       just read data from the CSVs in Cloud Storage.\n",
    "bq_table_save(\n",
    "  bq_dataset_query(Sys.getenv(\"WORKSPACE_CDR\"), dataset_10238626_measurement_sql, billing = Sys.getenv(\"GOOGLE_PROJECT\")),\n",
    "  measurement_10238626_path,\n",
    "  destination_format = \"CSV\")\n",
    "\n"
   ]
  },
  {
   "cell_type": "code",
   "execution_count": null,
   "metadata": {
    "vscode": {
     "languageId": "r"
    }
   },
   "outputs": [],
   "source": [
    "# Read the data directly from Cloud Storage into memory.\n",
    "# NOTE: Alternatively you can `gsutil -m cp {measurement_10238626_path}` to copy these files\n",
    "#       to the Jupyter disk.\n",
    "read_bq_export_from_workspace_bucket <- function(export_path) {\n",
    "  col_types <- cols(standard_concept_name = col_character(), standard_concept_code = col_character(), standard_vocabulary = col_character(), measurement_type_concept_name = col_character(), operator_concept_name = col_character(), value_as_concept_name = col_character(), unit_concept_name = col_character(), visit_occurrence_concept_name = col_character(), measurement_source_value = col_character(), source_concept_name = col_character(), source_concept_code = col_character(), source_vocabulary = col_character(), unit_source_value = col_character(), value_source_value = col_character())\n",
    "  bind_rows(\n",
    "    map(system2('gsutil', args = c('ls', export_path), stdout = TRUE, stderr = TRUE),\n",
    "        function(csv) {\n",
    "          message(str_glue('Loading {csv}.'))\n",
    "          chunk <- read_csv(pipe(str_glue('gsutil cat {csv}')), col_types = col_types, show_col_types = FALSE)\n",
    "          if (is.null(col_types)) {\n",
    "            col_types <- spec(chunk)\n",
    "          }\n",
    "          chunk\n",
    "        }))\n",
    "}\n",
    "#measurement_10238626_path <- \"gs://fc-secure-b96fb036-3379-4be0-8834-e7e486f2b76e/bq_exports/davidz1@researchallofus.org/20240528/measurement_10238626/measurement_10238626_*.csv\"\n",
    "dataset_10238626_measurement_df <- read_bq_export_from_workspace_bucket(measurement_10238626_path)\n",
    "\n",
    "dim(dataset_10238626_measurement_df)\n",
    "\n",
    "head(dataset_10238626_measurement_df, 5)"
   ]
  },
  {
   "cell_type": "markdown",
   "metadata": {},
   "source": [
    "## Process IGF-1 (ng/mL)"
   ]
  },
  {
   "cell_type": "code",
   "execution_count": null,
   "metadata": {
    "vscode": {
     "languageId": "r"
    }
   },
   "outputs": [],
   "source": [
    "# IGF-1\n",
    "labs <- dataset_10238626_measurement_df #%>%\n",
    "    #filter(standard_concept_name == \"Bilirubin.indirect [Mass/volume] in Serum or Plasma\")\n",
    "colnames(labs)\n",
    "length(unique(labs$person_id))\n",
    "\n",
    "as.data.frame(table(labs$standard_concept_name)) %>% arrange(-Freq)\n",
    "\n",
    "#as.data.frame(table(labs$visit_occurrence_concept_name)) %>% arrange(-Freq)\n",
    "as.data.frame(table(labs$unit_concept_name)) %>% arrange(-Freq)\n",
    "quantile(labs$value_as_number[labs$unit_concept_name == 'no value'], na.rm=T)\n",
    "\n",
    "#max(labs$value_as_number, na.rm=T)\n",
    "\n",
    "#new_labs <- labs %>%\n",
    "#    filter(!grepl(\"Emergency\", visit_occurrence_concept_name) & !grepl(\"Intensive\", visit_occurrence_concept_name) &\n",
    "#          !grepl(\"Urgent\", visit_occurrence_concept_name))\n",
    "\n",
    "#as.data.frame(table(new_labs$visit_occurrence_concept_name)) %>% arrange(-Freq)\n",
    "#new_labs <- labs %>%\n",
    "#    filter(unit_concept_name == \"milligram per deciliter\")\n",
    "#length(unique(new_labs$person_id))\n",
    "\n"
   ]
  },
  {
   "cell_type": "code",
   "execution_count": null,
   "metadata": {
    "vscode": {
     "languageId": "r"
    }
   },
   "outputs": [],
   "source": [
    "keep_outliers = FALSE\n",
    "\n",
    "# Do all the filtering specified at the top of the file\n",
    "labs_formatted <- labs %>%\n",
    "    filter(!grepl(\"Emergency\", visit_occurrence_concept_name) & \n",
    "           !grepl(\"Intensive\", visit_occurrence_concept_name) &\n",
    "           !grepl(\"Urgent\", visit_occurrence_concept_name)) %>%\n",
    "    filter(unit_concept_name != \"No matching concept\") %>%\n",
    "    filter(value_as_number >= 0) %>%\n",
    "    select(person_id, measurement_datetime, value_as_number) %>%\n",
    "    mutate_at(c('person_id'), as.character) %>%\n",
    "    mutate(across(where(is.character), ~na_if(., \"NULL\"))) %>%\n",
    "    na.omit() %>%\n",
    "    distinct() %>%\n",
    "    group_by(person_id) %>%\n",
    "    filter(value_as_number <= (10 * median(value_as_number))) %>%\n",
    "    ungroup() %>%\n",
    "    filter(keep_outliers | value_as_number >= mean(value_as_number) - (4 * sd(value_as_number))) %>%\n",
    "    filter(keep_outliers | value_as_number <= mean(value_as_number) + (4 * sd(value_as_number))) \n",
    "\n",
    "dim(labs_formatted)\n",
    "head(labs_formatted, 5)\n"
   ]
  },
  {
   "cell_type": "code",
   "execution_count": null,
   "metadata": {
    "vscode": {
     "languageId": "r"
    }
   },
   "outputs": [],
   "source": [
    "min(labs_formatted$value_as_number)\n",
    "median(labs_formatted$value_as_number)\n",
    "mean(labs_formatted$value_as_number)\n",
    "max(labs_formatted$value_as_number)\n",
    "sd(labs_formatted$value_as_number)\n",
    "\n",
    "quantile(labs_formatted$value_as_number)\n"
   ]
  },
  {
   "cell_type": "code",
   "execution_count": null,
   "metadata": {
    "vscode": {
     "languageId": "r"
    }
   },
   "outputs": [],
   "source": [
    "write.table(labs_formatted, \n",
    "    file=paste0(data_path, \"/dataframes/blood/AllofUs_v8_labs-IGF-1_wout_outliers_long_052724.txt\"), \n",
    "    row.names=FALSE, quote=FALSE, sep=\"\\t\")\n"
   ]
  },
  {
   "cell_type": "markdown",
   "metadata": {},
   "source": [
    "# Lipoprotein A"
   ]
  },
  {
   "cell_type": "markdown",
   "metadata": {},
   "source": [
    "## Extract Lipoprotein A"
   ]
  },
  {
   "cell_type": "code",
   "execution_count": null,
   "metadata": {
    "vscode": {
     "languageId": "r"
    }
   },
   "outputs": [],
   "source": [
    "library(tidyverse)\n",
    "library(bigrquery)\n",
    "\n",
    "# This query represents dataset \"Pts with Lipoprotein A\" for domain \"measurement\" and was generated for All of Us Controlled Tier Dataset v8\n",
    "dataset_20410432_measurement_sql <- paste(\"\n",
    "    SELECT\n",
    "        measurement.person_id,\n",
    "        measurement.measurement_concept_id,\n",
    "        m_standard_concept.concept_name as standard_concept_name,\n",
    "        m_standard_concept.concept_code as standard_concept_code,\n",
    "        m_standard_concept.vocabulary_id as standard_vocabulary,\n",
    "        measurement.measurement_datetime,\n",
    "        measurement.measurement_type_concept_id,\n",
    "        m_type.concept_name as measurement_type_concept_name,\n",
    "        measurement.operator_concept_id,\n",
    "        m_operator.concept_name as operator_concept_name,\n",
    "        measurement.value_as_number,\n",
    "        measurement.value_as_concept_id,\n",
    "        m_value.concept_name as value_as_concept_name,\n",
    "        measurement.unit_concept_id,\n",
    "        m_unit.concept_name as unit_concept_name,\n",
    "        measurement.range_low,\n",
    "        measurement.range_high,\n",
    "        measurement.visit_occurrence_id,\n",
    "        m_visit.concept_name as visit_occurrence_concept_name,\n",
    "        measurement.measurement_source_value,\n",
    "        measurement.measurement_source_concept_id,\n",
    "        m_source_concept.concept_name as source_concept_name,\n",
    "        m_source_concept.concept_code as source_concept_code,\n",
    "        m_source_concept.vocabulary_id as source_vocabulary,\n",
    "        measurement.unit_source_value,\n",
    "        measurement.value_source_value \n",
    "    FROM\n",
    "        ( SELECT\n",
    "            * \n",
    "        FROM\n",
    "            `measurement` measurement \n",
    "        WHERE\n",
    "            (\n",
    "                measurement_concept_id IN (SELECT\n",
    "                    DISTINCT c.concept_id \n",
    "                FROM\n",
    "                    `cb_criteria` c \n",
    "                JOIN\n",
    "                    (SELECT\n",
    "                        CAST(cr.id as string) AS id       \n",
    "                    FROM\n",
    "                        `cb_criteria` cr       \n",
    "                    WHERE\n",
    "                        concept_id IN (37060496)       \n",
    "                        AND full_text LIKE '%_rank1]%'      ) a \n",
    "                        ON (c.path LIKE CONCAT('%.', a.id, '.%') \n",
    "                        OR c.path LIKE CONCAT('%.', a.id) \n",
    "                        OR c.path LIKE CONCAT(a.id, '.%') \n",
    "                        OR c.path = a.id) \n",
    "                WHERE\n",
    "                    is_standard = 1 \n",
    "                    AND is_selectable = 1)\n",
    "            )  \n",
    "            AND (\n",
    "                measurement.PERSON_ID IN (SELECT\n",
    "                    distinct person_id  \n",
    "                FROM\n",
    "                    `cb_search_person` cb_search_person  \n",
    "                WHERE\n",
    "                    cb_search_person.person_id IN (SELECT\n",
    "                        criteria.person_id \n",
    "                    FROM\n",
    "                        (SELECT\n",
    "                            DISTINCT person_id, entry_date, concept_id \n",
    "                        FROM\n",
    "                            `cb_search_all_events` \n",
    "                        WHERE\n",
    "                            (concept_id IN(SELECT\n",
    "                                DISTINCT c.concept_id \n",
    "                            FROM\n",
    "                                `cb_criteria` c \n",
    "                            JOIN\n",
    "                                (SELECT\n",
    "                                    CAST(cr.id as string) AS id       \n",
    "                                FROM\n",
    "                                    `cb_criteria` cr       \n",
    "                                WHERE\n",
    "                                    concept_id IN (37060496)       \n",
    "                                    AND full_text LIKE '%_rank1]%'      ) a \n",
    "                                    ON (c.path LIKE CONCAT('%.', a.id, '.%') \n",
    "                                    OR c.path LIKE CONCAT('%.', a.id) \n",
    "                                    OR c.path LIKE CONCAT(a.id, '.%') \n",
    "                                    OR c.path = a.id) \n",
    "                            WHERE\n",
    "                                is_standard = 1 \n",
    "                                AND is_selectable = 1) \n",
    "                            AND is_standard = 1 )) criteria ) )\n",
    "            )) measurement \n",
    "    LEFT JOIN\n",
    "        `concept` m_standard_concept \n",
    "            ON measurement.measurement_concept_id = m_standard_concept.concept_id \n",
    "    LEFT JOIN\n",
    "        `concept` m_type \n",
    "            ON measurement.measurement_type_concept_id = m_type.concept_id \n",
    "    LEFT JOIN\n",
    "        `concept` m_operator \n",
    "            ON measurement.operator_concept_id = m_operator.concept_id \n",
    "    LEFT JOIN\n",
    "        `concept` m_value \n",
    "            ON measurement.value_as_concept_id = m_value.concept_id \n",
    "    LEFT JOIN\n",
    "        `concept` m_unit \n",
    "            ON measurement.unit_concept_id = m_unit.concept_id \n",
    "    LEFT JOIn\n",
    "        `visit_occurrence` v \n",
    "            ON measurement.visit_occurrence_id = v.visit_occurrence_id \n",
    "    LEFT JOIN\n",
    "        `concept` m_visit \n",
    "            ON v.visit_concept_id = m_visit.concept_id \n",
    "    LEFT JOIN\n",
    "        `concept` m_source_concept \n",
    "            ON measurement.measurement_source_concept_id = m_source_concept.concept_id\", sep=\"\")\n",
    "\n",
    "# Formulate a Cloud Storage destination path for the data exported from BigQuery.\n",
    "# NOTE: By default data exported multiple times on the same day will overwrite older copies.\n",
    "#       But data exported on a different days will write to a new location so that historical\n",
    "#       copies can be kept as the dataset definition is changed.\n",
    "measurement_20410432_path <- file.path(\n",
    "  Sys.getenv(\"WORKSPACE_BUCKET\"),\n",
    "  \"bq_exports\",\n",
    "  Sys.getenv(\"OWNER_EMAIL\"),\n",
    "  strftime(lubridate::now(), \"%Y%m%d\"),  # Comment out this line if you want the export to always overwrite.\n",
    "  \"measurement_20410432\",\n",
    "  \"measurement_20410432_*.csv\")\n",
    "message(str_glue('The data will be written to {measurement_20410432_path}. Use this path when reading ',\n",
    "                 'the data into your notebooks in the future.'))\n",
    "\n",
    "# Perform the query and export the dataset to Cloud Storage as CSV files.\n",
    "# NOTE: You only need to run `bq_table_save` once. After that, you can\n",
    "#       just read data from the CSVs in Cloud Storage.\n",
    "bq_table_save(\n",
    "  bq_dataset_query(Sys.getenv(\"WORKSPACE_CDR\"), dataset_20410432_measurement_sql, billing = Sys.getenv(\"GOOGLE_PROJECT\")),\n",
    "  measurement_20410432_path,\n",
    "  destination_format = \"CSV\")\n",
    "\n"
   ]
  },
  {
   "cell_type": "code",
   "execution_count": null,
   "metadata": {
    "vscode": {
     "languageId": "r"
    }
   },
   "outputs": [],
   "source": [
    "# Read the data directly from Cloud Storage into memory.\n",
    "# NOTE: Alternatively you can `gsutil -m cp {measurement_20410432_path}` to copy these files\n",
    "#       to the Jupyter disk.\n",
    "read_bq_export_from_workspace_bucket <- function(export_path) {\n",
    "  col_types <- cols(standard_concept_name = col_character(), standard_concept_code = col_character(), standard_vocabulary = col_character(), measurement_type_concept_name = col_character(), operator_concept_name = col_character(), value_as_concept_name = col_character(), unit_concept_name = col_character(), visit_occurrence_concept_name = col_character(), measurement_source_value = col_character(), source_concept_name = col_character(), source_concept_code = col_character(), source_vocabulary = col_character(), unit_source_value = col_character(), value_source_value = col_character())\n",
    "  bind_rows(\n",
    "    map(system2('gsutil', args = c('ls', export_path), stdout = TRUE, stderr = TRUE),\n",
    "        function(csv) {\n",
    "          message(str_glue('Loading {csv}.'))\n",
    "          chunk <- read_csv(pipe(str_glue('gsutil cat {csv}')), col_types = col_types, show_col_types = FALSE)\n",
    "          if (is.null(col_types)) {\n",
    "            col_types <- spec(chunk)\n",
    "          }\n",
    "          chunk\n",
    "        }))\n",
    "}\n",
    "#measurement_20410432_path <- \"gs://fc-secure-b96fb036-3379-4be0-8834-e7e486f2b76e/bq_exports/davidz1@researchallofus.org/20240528/measurement_20410432/measurement_20410432_*.csv\"\n",
    "dataset_20410432_measurement_df <- read_bq_export_from_workspace_bucket(measurement_20410432_path)\n",
    "\n",
    "dim(dataset_20410432_measurement_df)\n",
    "\n",
    "head(dataset_20410432_measurement_df, 5)"
   ]
  },
  {
   "cell_type": "markdown",
   "metadata": {},
   "source": [
    "## Process Lipoprotein A (mg/dL)"
   ]
  },
  {
   "cell_type": "code",
   "execution_count": null,
   "metadata": {
    "vscode": {
     "languageId": "r"
    }
   },
   "outputs": [],
   "source": [
    "# Lipoprotein A\n",
    "labs <- dataset_20410432_measurement_df #%>%\n",
    "    #filter(standard_concept_name == \"Bilirubin.indirect [Mass/volume] in Serum or Plasma\")\n",
    "colnames(labs)\n",
    "length(unique(labs$person_id))\n",
    "\n",
    "as.data.frame(table(labs$standard_concept_name)) %>% arrange(-Freq)\n",
    "\n",
    "#as.data.frame(table(labs$visit_occurrence_concept_name)) %>% arrange(-Freq)\n",
    "as.data.frame(table(labs$unit_concept_name)) %>% arrange(-Freq)\n",
    "quantile(labs$value_as_number[labs$unit_concept_name == 'no value'], na.rm=T)\n",
    "\n",
    "#max(labs$value_as_number, na.rm=T)\n",
    "\n",
    "#new_labs <- labs %>%\n",
    "#    filter(!grepl(\"Emergency\", visit_occurrence_concept_name) & !grepl(\"Intensive\", visit_occurrence_concept_name) &\n",
    "#          !grepl(\"Urgent\", visit_occurrence_concept_name))\n",
    "\n",
    "#as.data.frame(table(new_labs$visit_occurrence_concept_name)) %>% arrange(-Freq)\n",
    "#new_labs <- labs %>%\n",
    "#    filter(unit_concept_name == \"milligram per deciliter\")\n",
    "#length(unique(new_labs$person_id))\n",
    "\n"
   ]
  },
  {
   "cell_type": "code",
   "execution_count": null,
   "metadata": {
    "vscode": {
     "languageId": "r"
    }
   },
   "outputs": [],
   "source": [
    "keep_outliers = FALSE\n",
    "\n",
    "# Do all the filtering specified at the top of the file\n",
    "labs_formatted <- labs %>%\n",
    "    filter(!grepl(\"Emergency\", visit_occurrence_concept_name) & \n",
    "           !grepl(\"Intensive\", visit_occurrence_concept_name) &\n",
    "           !grepl(\"Urgent\", visit_occurrence_concept_name)) %>%\n",
    "    filter(unit_concept_name != \"nanomole per liter\" &\n",
    "           unit_concept_name != \"nmol/L\") %>%\n",
    "    filter(value_as_number >= 0) %>%\n",
    "    select(person_id, measurement_datetime, value_as_number) %>%\n",
    "    mutate_at(c('person_id'), as.character) %>%\n",
    "    mutate(across(where(is.character), ~na_if(., \"NULL\"))) %>%\n",
    "    na.omit() %>%\n",
    "    distinct() %>%\n",
    "    group_by(person_id) %>%\n",
    "    filter(value_as_number <= (10 * median(value_as_number))) %>%\n",
    "    ungroup() %>%\n",
    "    filter(keep_outliers | value_as_number >= mean(value_as_number) - (4 * sd(value_as_number))) %>%\n",
    "    filter(keep_outliers | value_as_number <= mean(value_as_number) + (4 * sd(value_as_number))) \n",
    "\n",
    "dim(labs_formatted)\n",
    "head(labs_formatted, 5)\n"
   ]
  },
  {
   "cell_type": "code",
   "execution_count": null,
   "metadata": {
    "vscode": {
     "languageId": "r"
    }
   },
   "outputs": [],
   "source": [
    "min(labs_formatted$value_as_number)\n",
    "median(labs_formatted$value_as_number)\n",
    "mean(labs_formatted$value_as_number)\n",
    "max(labs_formatted$value_as_number)\n",
    "sd(labs_formatted$value_as_number)\n",
    "\n",
    "quantile(labs_formatted$value_as_number)\n"
   ]
  },
  {
   "cell_type": "code",
   "execution_count": null,
   "metadata": {
    "vscode": {
     "languageId": "r"
    }
   },
   "outputs": [],
   "source": [
    "write.table(labs_formatted, \n",
    "    file=paste0(data_path, \"/dataframes/blood/AllofUs_v8_labs-Lipoprotein-A_wout_outliers_long_052724.txt\"), \n",
    "    row.names=FALSE, quote=FALSE, sep=\"\\t\")\n"
   ]
  },
  {
   "cell_type": "markdown",
   "metadata": {},
   "source": [
    "# Testosterone"
   ]
  },
  {
   "cell_type": "markdown",
   "metadata": {},
   "source": [
    "## Extract testosterone"
   ]
  },
  {
   "cell_type": "code",
   "execution_count": null,
   "metadata": {
    "vscode": {
     "languageId": "r"
    }
   },
   "outputs": [],
   "source": [
    "library(tidyverse)\n",
    "library(bigrquery)\n",
    "\n",
    "# This query represents dataset \"Pts with Testosterone\" for domain \"measurement\" and was generated for All of Us Controlled Tier Dataset v8\n",
    "dataset_29984346_measurement_sql <- paste(\"\n",
    "    SELECT\n",
    "        measurement.person_id,\n",
    "        measurement.measurement_concept_id,\n",
    "        m_standard_concept.concept_name as standard_concept_name,\n",
    "        m_standard_concept.concept_code as standard_concept_code,\n",
    "        m_standard_concept.vocabulary_id as standard_vocabulary,\n",
    "        measurement.measurement_datetime,\n",
    "        measurement.measurement_type_concept_id,\n",
    "        m_type.concept_name as measurement_type_concept_name,\n",
    "        measurement.operator_concept_id,\n",
    "        m_operator.concept_name as operator_concept_name,\n",
    "        measurement.value_as_number,\n",
    "        measurement.value_as_concept_id,\n",
    "        m_value.concept_name as value_as_concept_name,\n",
    "        measurement.unit_concept_id,\n",
    "        m_unit.concept_name as unit_concept_name,\n",
    "        measurement.range_low,\n",
    "        measurement.range_high,\n",
    "        measurement.visit_occurrence_id,\n",
    "        m_visit.concept_name as visit_occurrence_concept_name,\n",
    "        measurement.measurement_source_value,\n",
    "        measurement.measurement_source_concept_id,\n",
    "        m_source_concept.concept_name as source_concept_name,\n",
    "        m_source_concept.concept_code as source_concept_code,\n",
    "        m_source_concept.vocabulary_id as source_vocabulary,\n",
    "        measurement.unit_source_value,\n",
    "        measurement.value_source_value \n",
    "    FROM\n",
    "        ( SELECT\n",
    "            * \n",
    "        FROM\n",
    "            `measurement` measurement \n",
    "        WHERE\n",
    "            (\n",
    "                measurement_concept_id IN (SELECT\n",
    "                    DISTINCT c.concept_id \n",
    "                FROM\n",
    "                    `cb_criteria` c \n",
    "                JOIN\n",
    "                    (SELECT\n",
    "                        CAST(cr.id as string) AS id       \n",
    "                    FROM\n",
    "                        `cb_criteria` cr       \n",
    "                    WHERE\n",
    "                        concept_id IN (37049505)       \n",
    "                        AND full_text LIKE '%_rank1]%'      ) a \n",
    "                        ON (c.path LIKE CONCAT('%.', a.id, '.%') \n",
    "                        OR c.path LIKE CONCAT('%.', a.id) \n",
    "                        OR c.path LIKE CONCAT(a.id, '.%') \n",
    "                        OR c.path = a.id) \n",
    "                WHERE\n",
    "                    is_standard = 1 \n",
    "                    AND is_selectable = 1)\n",
    "            )  \n",
    "            AND (\n",
    "                measurement.PERSON_ID IN (SELECT\n",
    "                    distinct person_id  \n",
    "                FROM\n",
    "                    `cb_search_person` cb_search_person  \n",
    "                WHERE\n",
    "                    cb_search_person.person_id IN (SELECT\n",
    "                        criteria.person_id \n",
    "                    FROM\n",
    "                        (SELECT\n",
    "                            DISTINCT person_id, entry_date, concept_id \n",
    "                        FROM\n",
    "                            `cb_search_all_events` \n",
    "                        WHERE\n",
    "                            (concept_id IN(SELECT\n",
    "                                DISTINCT c.concept_id \n",
    "                            FROM\n",
    "                                `cb_criteria` c \n",
    "                            JOIN\n",
    "                                (SELECT\n",
    "                                    CAST(cr.id as string) AS id       \n",
    "                                FROM\n",
    "                                    `cb_criteria` cr       \n",
    "                                WHERE\n",
    "                                    concept_id IN (37049505)       \n",
    "                                    AND full_text LIKE '%_rank1]%'      ) a \n",
    "                                    ON (c.path LIKE CONCAT('%.', a.id, '.%') \n",
    "                                    OR c.path LIKE CONCAT('%.', a.id) \n",
    "                                    OR c.path LIKE CONCAT(a.id, '.%') \n",
    "                                    OR c.path = a.id) \n",
    "                            WHERE\n",
    "                                is_standard = 1 \n",
    "                                AND is_selectable = 1) \n",
    "                            AND is_standard = 1 )) criteria ) )\n",
    "            )) measurement \n",
    "    LEFT JOIN\n",
    "        `concept` m_standard_concept \n",
    "            ON measurement.measurement_concept_id = m_standard_concept.concept_id \n",
    "    LEFT JOIN\n",
    "        `concept` m_type \n",
    "            ON measurement.measurement_type_concept_id = m_type.concept_id \n",
    "    LEFT JOIN\n",
    "        `concept` m_operator \n",
    "            ON measurement.operator_concept_id = m_operator.concept_id \n",
    "    LEFT JOIN\n",
    "        `concept` m_value \n",
    "            ON measurement.value_as_concept_id = m_value.concept_id \n",
    "    LEFT JOIN\n",
    "        `concept` m_unit \n",
    "            ON measurement.unit_concept_id = m_unit.concept_id \n",
    "    LEFT JOIn\n",
    "        `visit_occurrence` v \n",
    "            ON measurement.visit_occurrence_id = v.visit_occurrence_id \n",
    "    LEFT JOIN\n",
    "        `concept` m_visit \n",
    "            ON v.visit_concept_id = m_visit.concept_id \n",
    "    LEFT JOIN\n",
    "        `concept` m_source_concept \n",
    "            ON measurement.measurement_source_concept_id = m_source_concept.concept_id\", sep=\"\")\n",
    "\n",
    "# Formulate a Cloud Storage destination path for the data exported from BigQuery.\n",
    "# NOTE: By default data exported multiple times on the same day will overwrite older copies.\n",
    "#       But data exported on a different days will write to a new location so that historical\n",
    "#       copies can be kept as the dataset definition is changed.\n",
    "measurement_29984346_path <- file.path(\n",
    "  Sys.getenv(\"WORKSPACE_BUCKET\"),\n",
    "  \"bq_exports\",\n",
    "  Sys.getenv(\"OWNER_EMAIL\"),\n",
    "  strftime(lubridate::now(), \"%Y%m%d\"),  # Comment out this line if you want the export to always overwrite.\n",
    "  \"measurement_29984346\",\n",
    "  \"measurement_29984346_*.csv\")\n",
    "message(str_glue('The data will be written to {measurement_29984346_path}. Use this path when reading ',\n",
    "                 'the data into your notebooks in the future.'))\n",
    "\n",
    "# Perform the query and export the dataset to Cloud Storage as CSV files.\n",
    "# NOTE: You only need to run `bq_table_save` once. After that, you can\n",
    "#       just read data from the CSVs in Cloud Storage.\n",
    "bq_table_save(\n",
    "  bq_dataset_query(Sys.getenv(\"WORKSPACE_CDR\"), dataset_29984346_measurement_sql, billing = Sys.getenv(\"GOOGLE_PROJECT\")),\n",
    "  measurement_29984346_path,\n",
    "  destination_format = \"CSV\")\n",
    "\n"
   ]
  },
  {
   "cell_type": "code",
   "execution_count": null,
   "metadata": {
    "vscode": {
     "languageId": "r"
    }
   },
   "outputs": [],
   "source": [
    "# Read the data directly from Cloud Storage into memory.\n",
    "# NOTE: Alternatively you can `gsutil -m cp {measurement_29984346_path}` to copy these files\n",
    "#       to the Jupyter disk.\n",
    "read_bq_export_from_workspace_bucket <- function(export_path) {\n",
    "  col_types <- cols(standard_concept_name = col_character(), standard_concept_code = col_character(), standard_vocabulary = col_character(), measurement_type_concept_name = col_character(), operator_concept_name = col_character(), value_as_concept_name = col_character(), unit_concept_name = col_character(), visit_occurrence_concept_name = col_character(), measurement_source_value = col_character(), source_concept_name = col_character(), source_concept_code = col_character(), source_vocabulary = col_character(), unit_source_value = col_character(), value_source_value = col_character())\n",
    "  bind_rows(\n",
    "    map(system2('gsutil', args = c('ls', export_path), stdout = TRUE, stderr = TRUE),\n",
    "        function(csv) {\n",
    "          message(str_glue('Loading {csv}.'))\n",
    "          chunk <- read_csv(pipe(str_glue('gsutil cat {csv}')), col_types = col_types, show_col_types = FALSE)\n",
    "          if (is.null(col_types)) {\n",
    "            col_types <- spec(chunk)\n",
    "          }\n",
    "          chunk\n",
    "        }))\n",
    "}\n",
    "#measurement_29984346_path <- \"gs://fc-secure-b96fb036-3379-4be0-8834-e7e486f2b76e/bq_exports/davidz1@researchallofus.org/20240528/measurement_29984346/measurement_29984346_*.csv\"\n",
    "dataset_29984346_measurement_df <- read_bq_export_from_workspace_bucket(measurement_29984346_path)\n",
    "\n",
    "dim(dataset_29984346_measurement_df)\n",
    "\n",
    "head(dataset_29984346_measurement_df, 5)"
   ]
  },
  {
   "cell_type": "markdown",
   "metadata": {},
   "source": [
    "## Process testosterone (ng/dL)"
   ]
  },
  {
   "cell_type": "code",
   "execution_count": null,
   "metadata": {
    "vscode": {
     "languageId": "r"
    }
   },
   "outputs": [],
   "source": [
    "# Testosterone\n",
    "labs <- dataset_29984346_measurement_df #%>%\n",
    "    #filter(grepl(\"Phosphate\", standard_concept_name))\n",
    "colnames(labs)\n",
    "length(unique(labs$person_id))\n",
    "\n",
    "as.data.frame(table(labs$standard_concept_name)) %>% arrange(-Freq)\n",
    "\n",
    "#as.data.frame(table(labs$visit_occurrence_concept_name)) %>% arrange(-Freq)\n",
    "as.data.frame(table(labs$unit_concept_name)) %>% arrange(-Freq)\n",
    "quantile(labs$value_as_number[labs$unit_concept_name == \"picogram per milliliter\"], na.rm=T)\n",
    "\n",
    "#median(labs$value_as_number, na.rm=T)\n",
    "\n",
    "#new_labs <- labs %>%\n",
    "#    filter(!grepl(\"Emergency\", visit_occurrence_concept_name) & !grepl(\"Intensive\", visit_occurrence_concept_name) &\n",
    "#          !grepl(\"Urgent\", visit_occurrence_concept_name))\n",
    "\n",
    "#as.data.frame(table(new_labs$visit_occurrence_concept_name)) %>% arrange(-Freq)\n",
    "#new_labs <- labs %>%\n",
    "#    filter(unit_concept_name == \"square meter\")\n",
    "#length(unique(new_labs$person_id))\n"
   ]
  },
  {
   "cell_type": "code",
   "execution_count": null,
   "metadata": {
    "vscode": {
     "languageId": "r"
    }
   },
   "outputs": [],
   "source": [
    "keep_outliers = FALSE\n",
    "\n",
    "# Do all the filtering specified at the top of the file\n",
    "labs_formatted <- labs %>%\n",
    "    filter(!grepl(\"Emergency\", visit_occurrence_concept_name) & \n",
    "           !grepl(\"Intensive\", visit_occurrence_concept_name) &\n",
    "           !grepl(\"Urgent\", visit_occurrence_concept_name)) %>%\n",
    "    filter(unit_concept_name != \"nanomole per liter\" &\n",
    "           unit_concept_name != \"percent\" &\n",
    "           unit_concept_name != \"microgram per deciliter\" &\n",
    "           unit_concept_name != \"picogram per milliliter\") %>%\n",
    "    filter(value_as_number >= 0) %>%\n",
    "    mutate(value_as_number = ifelse(unit_concept_name == \"nanogram per milliliter\", value_as_number * 100, value_as_number)) %>%\n",
    "    select(person_id, measurement_datetime, value_as_number) %>%\n",
    "    mutate_at(c('person_id'), as.character) %>%\n",
    "    mutate(across(where(is.character), ~na_if(., \"NULL\"))) %>%\n",
    "    na.omit() %>%\n",
    "    distinct() %>%\n",
    "    group_by(person_id) %>%\n",
    "    filter(value_as_number <= (10 * median(value_as_number))) %>%\n",
    "    ungroup() %>%\n",
    "    filter(keep_outliers | value_as_number >= mean(value_as_number) - (4 * sd(value_as_number))) %>%\n",
    "    filter(keep_outliers | value_as_number <= mean(value_as_number) + (4 * sd(value_as_number))) \n",
    "\n",
    "dim(labs_formatted)\n",
    "head(labs_formatted, 5)\n"
   ]
  },
  {
   "cell_type": "code",
   "execution_count": null,
   "metadata": {
    "vscode": {
     "languageId": "r"
    }
   },
   "outputs": [],
   "source": [
    "min(labs_formatted$value_as_number)\n",
    "median(labs_formatted$value_as_number)\n",
    "mean(labs_formatted$value_as_number)\n",
    "max(labs_formatted$value_as_number)\n",
    "sd(labs_formatted$value_as_number)\n",
    "\n",
    "quantile(labs_formatted$value_as_number)\n"
   ]
  },
  {
   "cell_type": "code",
   "execution_count": null,
   "metadata": {
    "vscode": {
     "languageId": "r"
    }
   },
   "outputs": [],
   "source": [
    "write.table(labs_formatted, \n",
    "    file=paste0(data_path, \"/dataframes/blood/AllofUs_v8_labs-Testosterone_wout_outliers_long_052724.txt\"), \n",
    "    row.names=FALSE, quote=FALSE, sep=\"\\t\")\n"
   ]
  },
  {
   "cell_type": "markdown",
   "metadata": {},
   "source": [
    "# Total Protein"
   ]
  },
  {
   "cell_type": "markdown",
   "metadata": {},
   "source": [
    "## Extract total protein"
   ]
  },
  {
   "cell_type": "code",
   "execution_count": null,
   "metadata": {
    "vscode": {
     "languageId": "r"
    }
   },
   "outputs": [],
   "source": [
    "library(tidyverse)\n",
    "library(bigrquery)\n",
    "\n",
    "# This query represents dataset \"Pts with Total Protein\" for domain \"measurement\" and was generated for All of Us Controlled Tier Dataset v8\n",
    "dataset_62703067_measurement_sql <- paste(\"\n",
    "    SELECT\n",
    "        measurement.person_id,\n",
    "        measurement.measurement_concept_id,\n",
    "        m_standard_concept.concept_name as standard_concept_name,\n",
    "        m_standard_concept.concept_code as standard_concept_code,\n",
    "        m_standard_concept.vocabulary_id as standard_vocabulary,\n",
    "        measurement.measurement_datetime,\n",
    "        measurement.measurement_type_concept_id,\n",
    "        m_type.concept_name as measurement_type_concept_name,\n",
    "        measurement.operator_concept_id,\n",
    "        m_operator.concept_name as operator_concept_name,\n",
    "        measurement.value_as_number,\n",
    "        measurement.value_as_concept_id,\n",
    "        m_value.concept_name as value_as_concept_name,\n",
    "        measurement.unit_concept_id,\n",
    "        m_unit.concept_name as unit_concept_name,\n",
    "        measurement.range_low,\n",
    "        measurement.range_high,\n",
    "        measurement.visit_occurrence_id,\n",
    "        m_visit.concept_name as visit_occurrence_concept_name,\n",
    "        measurement.measurement_source_value,\n",
    "        measurement.measurement_source_concept_id,\n",
    "        m_source_concept.concept_name as source_concept_name,\n",
    "        m_source_concept.concept_code as source_concept_code,\n",
    "        m_source_concept.vocabulary_id as source_vocabulary,\n",
    "        measurement.unit_source_value,\n",
    "        measurement.value_source_value \n",
    "    FROM\n",
    "        ( SELECT\n",
    "            * \n",
    "        FROM\n",
    "            `measurement` measurement \n",
    "        WHERE\n",
    "            (\n",
    "                measurement_concept_id IN (SELECT\n",
    "                    DISTINCT c.concept_id \n",
    "                FROM\n",
    "                    `cb_criteria` c \n",
    "                JOIN\n",
    "                    (SELECT\n",
    "                        CAST(cr.id as string) AS id       \n",
    "                    FROM\n",
    "                        `cb_criteria` cr       \n",
    "                    WHERE\n",
    "                        concept_id IN (4152983)       \n",
    "                        AND full_text LIKE '%_rank1]%'      ) a \n",
    "                        ON (c.path LIKE CONCAT('%.', a.id, '.%') \n",
    "                        OR c.path LIKE CONCAT('%.', a.id) \n",
    "                        OR c.path LIKE CONCAT(a.id, '.%') \n",
    "                        OR c.path = a.id) \n",
    "                WHERE\n",
    "                    is_standard = 1 \n",
    "                    AND is_selectable = 1)\n",
    "            )  \n",
    "            AND (\n",
    "                measurement.PERSON_ID IN (SELECT\n",
    "                    distinct person_id  \n",
    "                FROM\n",
    "                    `cb_search_person` cb_search_person  \n",
    "                WHERE\n",
    "                    cb_search_person.person_id IN (SELECT\n",
    "                        criteria.person_id \n",
    "                    FROM\n",
    "                        (SELECT\n",
    "                            DISTINCT person_id, entry_date, concept_id \n",
    "                        FROM\n",
    "                            `cb_search_all_events` \n",
    "                        WHERE\n",
    "                            (concept_id IN (4152983) \n",
    "                            AND is_standard = 1 )) criteria ) )\n",
    "            )) measurement \n",
    "    LEFT JOIN\n",
    "        `concept` m_standard_concept \n",
    "            ON measurement.measurement_concept_id = m_standard_concept.concept_id \n",
    "    LEFT JOIN\n",
    "        `concept` m_type \n",
    "            ON measurement.measurement_type_concept_id = m_type.concept_id \n",
    "    LEFT JOIN\n",
    "        `concept` m_operator \n",
    "            ON measurement.operator_concept_id = m_operator.concept_id \n",
    "    LEFT JOIN\n",
    "        `concept` m_value \n",
    "            ON measurement.value_as_concept_id = m_value.concept_id \n",
    "    LEFT JOIN\n",
    "        `concept` m_unit \n",
    "            ON measurement.unit_concept_id = m_unit.concept_id \n",
    "    LEFT JOIn\n",
    "        `visit_occurrence` v \n",
    "            ON measurement.visit_occurrence_id = v.visit_occurrence_id \n",
    "    LEFT JOIN\n",
    "        `concept` m_visit \n",
    "            ON v.visit_concept_id = m_visit.concept_id \n",
    "    LEFT JOIN\n",
    "        `concept` m_source_concept \n",
    "            ON measurement.measurement_source_concept_id = m_source_concept.concept_id\", sep=\"\")\n",
    "\n",
    "# Formulate a Cloud Storage destination path for the data exported from BigQuery.\n",
    "# NOTE: By default data exported multiple times on the same day will overwrite older copies.\n",
    "#       But data exported on a different days will write to a new location so that historical\n",
    "#       copies can be kept as the dataset definition is changed.\n",
    "measurement_62703067_path <- file.path(\n",
    "  Sys.getenv(\"WORKSPACE_BUCKET\"),\n",
    "  \"bq_exports\",\n",
    "  Sys.getenv(\"OWNER_EMAIL\"),\n",
    "  strftime(lubridate::now(), \"%Y%m%d\"),  # Comment out this line if you want the export to always overwrite.\n",
    "  \"measurement_62703067\",\n",
    "  \"measurement_62703067_*.csv\")\n",
    "message(str_glue('The data will be written to {measurement_62703067_path}. Use this path when reading ',\n",
    "                 'the data into your notebooks in the future.'))\n",
    "\n",
    "# Perform the query and export the dataset to Cloud Storage as CSV files.\n",
    "# NOTE: You only need to run `bq_table_save` once. After that, you can\n",
    "#       just read data from the CSVs in Cloud Storage.\n",
    "bq_table_save(\n",
    "  bq_dataset_query(Sys.getenv(\"WORKSPACE_CDR\"), dataset_62703067_measurement_sql, billing = Sys.getenv(\"GOOGLE_PROJECT\")),\n",
    "  measurement_62703067_path,\n",
    "  destination_format = \"CSV\")\n",
    "\n"
   ]
  },
  {
   "cell_type": "code",
   "execution_count": null,
   "metadata": {
    "vscode": {
     "languageId": "r"
    }
   },
   "outputs": [],
   "source": [
    "# Read the data directly from Cloud Storage into memory.\n",
    "# NOTE: Alternatively you can `gsutil -m cp {measurement_62703067_path}` to copy these files\n",
    "#       to the Jupyter disk.\n",
    "read_bq_export_from_workspace_bucket <- function(export_path) {\n",
    "  col_types <- cols(standard_concept_name = col_character(), standard_concept_code = col_character(), standard_vocabulary = col_character(), measurement_type_concept_name = col_character(), operator_concept_name = col_character(), value_as_concept_name = col_character(), unit_concept_name = col_character(), visit_occurrence_concept_name = col_character(), measurement_source_value = col_character(), source_concept_name = col_character(), source_concept_code = col_character(), source_vocabulary = col_character(), unit_source_value = col_character(), value_source_value = col_character())\n",
    "  bind_rows(\n",
    "    map(system2('gsutil', args = c('ls', export_path), stdout = TRUE, stderr = TRUE),\n",
    "        function(csv) {\n",
    "          message(str_glue('Loading {csv}.'))\n",
    "          chunk <- read_csv(pipe(str_glue('gsutil cat {csv}')), col_types = col_types, show_col_types = FALSE)\n",
    "          if (is.null(col_types)) {\n",
    "            col_types <- spec(chunk)\n",
    "          }\n",
    "          chunk\n",
    "        }))\n",
    "}\n",
    "#measurement_62703067_path <- \"gs://fc-secure-b96fb036-3379-4be0-8834-e7e486f2b76e/bq_exports/davidz1@researchallofus.org/20240528/measurement_62703067/measurement_62703067_*.csv\"\n",
    "dataset_62703067_measurement_df <- read_bq_export_from_workspace_bucket(measurement_62703067_path)\n",
    "\n",
    "dim(dataset_62703067_measurement_df)\n",
    "\n",
    "head(dataset_62703067_measurement_df, 5)"
   ]
  },
  {
   "cell_type": "markdown",
   "metadata": {},
   "source": [
    "## Process total protein (g/dL)"
   ]
  },
  {
   "cell_type": "code",
   "execution_count": null,
   "metadata": {
    "vscode": {
     "languageId": "r"
    }
   },
   "outputs": [],
   "source": [
    "# Total Protein\n",
    "labs <- dataset_62703067_measurement_df #%>%\n",
    "    #filter(grepl(\"Phosphate\", standard_concept_name))\n",
    "colnames(labs)\n",
    "length(unique(labs$person_id))\n",
    "\n",
    "as.data.frame(table(labs$standard_concept_name)) %>% arrange(-Freq)\n",
    "\n",
    "#as.data.frame(table(labs$visit_occurrence_concept_name)) %>% arrange(-Freq)\n",
    "as.data.frame(table(labs$unit_concept_name)) %>% arrange(-Freq)\n",
    "quantile(labs$value_as_number[labs$unit_concept_name == \"g/dL\"], na.rm=T)\n",
    "\n",
    "#median(labs$value_as_number, na.rm=T)\n",
    "\n",
    "#new_labs <- labs %>%\n",
    "#    filter(!grepl(\"Emergency\", visit_occurrence_concept_name) & !grepl(\"Intensive\", visit_occurrence_concept_name) &\n",
    "#          !grepl(\"Urgent\", visit_occurrence_concept_name))\n",
    "\n",
    "#as.data.frame(table(new_labs$visit_occurrence_concept_name)) %>% arrange(-Freq)\n",
    "#new_labs <- labs %>%\n",
    "#    filter(unit_concept_name == \"square meter\")\n",
    "#length(unique(new_labs$person_id))\n"
   ]
  },
  {
   "cell_type": "code",
   "execution_count": null,
   "metadata": {
    "vscode": {
     "languageId": "r"
    }
   },
   "outputs": [],
   "source": [
    "keep_outliers = FALSE\n",
    "\n",
    "# Do all the filtering specified at the top of the file\n",
    "labs_formatted <- labs %>%\n",
    "    filter(!grepl(\"Emergency\", visit_occurrence_concept_name) & \n",
    "           !grepl(\"Intensive\", visit_occurrence_concept_name) &\n",
    "           !grepl(\"Urgent\", visit_occurrence_concept_name)) %>%\n",
    "    filter(unit_concept_name != \"nanomole per liter\" &\n",
    "           unit_concept_name != \"percent\" &\n",
    "           unit_concept_name != \"microgram per deciliter\" &\n",
    "           unit_concept_name != \"picogram per milliliter\") %>%\n",
    "    filter(value_as_number >= 0) %>%\n",
    "    select(person_id, measurement_datetime, value_as_number) %>%\n",
    "    mutate_at(c('person_id'), as.character) %>%\n",
    "    mutate(across(where(is.character), ~na_if(., \"NULL\"))) %>%\n",
    "    na.omit() %>%\n",
    "    distinct() %>%\n",
    "    group_by(person_id) %>%\n",
    "    filter(value_as_number <= (10 * median(value_as_number))) %>%\n",
    "    ungroup() %>%\n",
    "    filter(keep_outliers | value_as_number >= mean(value_as_number) - (4 * sd(value_as_number))) %>%\n",
    "    filter(keep_outliers | value_as_number <= mean(value_as_number) + (4 * sd(value_as_number))) \n",
    "\n",
    "dim(labs_formatted)\n",
    "head(labs_formatted, 5)\n"
   ]
  },
  {
   "cell_type": "code",
   "execution_count": null,
   "metadata": {
    "vscode": {
     "languageId": "r"
    }
   },
   "outputs": [],
   "source": [
    "min(labs_formatted$value_as_number)\n",
    "median(labs_formatted$value_as_number)\n",
    "mean(labs_formatted$value_as_number)\n",
    "max(labs_formatted$value_as_number)\n",
    "sd(labs_formatted$value_as_number)\n",
    "\n",
    "quantile(labs_formatted$value_as_number)\n"
   ]
  },
  {
   "cell_type": "code",
   "execution_count": null,
   "metadata": {
    "vscode": {
     "languageId": "r"
    }
   },
   "outputs": [],
   "source": [
    "write.table(labs_formatted, \n",
    "    file=paste0(data_path, \"/dataframes/blood/AllofUs_v8_labs-Total-Protein_wout_outliers_long_052724.txt\"), \n",
    "    row.names=FALSE, quote=FALSE, sep=\"\\t\")\n"
   ]
  },
  {
   "cell_type": "markdown",
   "metadata": {},
   "source": [
    "# Urate/Urea"
   ]
  },
  {
   "cell_type": "markdown",
   "metadata": {},
   "source": [
    "## Extract urate/urea"
   ]
  },
  {
   "cell_type": "code",
   "execution_count": null,
   "metadata": {
    "vscode": {
     "languageId": "r"
    }
   },
   "outputs": [],
   "source": [
    "library(tidyverse)\n",
    "library(bigrquery)\n",
    "\n",
    "# This query represents dataset \"Pts with Urate_Urea\" for domain \"measurement\" and was generated for All of Us Controlled Tier Dataset v8\n",
    "dataset_32274867_measurement_sql <- paste(\"\n",
    "    SELECT\n",
    "        measurement.person_id,\n",
    "        measurement.measurement_concept_id,\n",
    "        m_standard_concept.concept_name as standard_concept_name,\n",
    "        m_standard_concept.concept_code as standard_concept_code,\n",
    "        m_standard_concept.vocabulary_id as standard_vocabulary,\n",
    "        measurement.measurement_datetime,\n",
    "        measurement.measurement_type_concept_id,\n",
    "        m_type.concept_name as measurement_type_concept_name,\n",
    "        measurement.operator_concept_id,\n",
    "        m_operator.concept_name as operator_concept_name,\n",
    "        measurement.value_as_number,\n",
    "        measurement.value_as_concept_id,\n",
    "        m_value.concept_name as value_as_concept_name,\n",
    "        measurement.unit_concept_id,\n",
    "        m_unit.concept_name as unit_concept_name,\n",
    "        measurement.range_low,\n",
    "        measurement.range_high,\n",
    "        measurement.visit_occurrence_id,\n",
    "        m_visit.concept_name as visit_occurrence_concept_name,\n",
    "        measurement.measurement_source_value,\n",
    "        measurement.measurement_source_concept_id,\n",
    "        m_source_concept.concept_name as source_concept_name,\n",
    "        m_source_concept.concept_code as source_concept_code,\n",
    "        m_source_concept.vocabulary_id as source_vocabulary,\n",
    "        measurement.unit_source_value,\n",
    "        measurement.value_source_value \n",
    "    FROM\n",
    "        ( SELECT\n",
    "            * \n",
    "        FROM\n",
    "            `measurement` measurement \n",
    "        WHERE\n",
    "            (\n",
    "                measurement_concept_id IN (SELECT\n",
    "                    DISTINCT c.concept_id \n",
    "                FROM\n",
    "                    `cb_criteria` c \n",
    "                JOIN\n",
    "                    (SELECT\n",
    "                        CAST(cr.id as string) AS id       \n",
    "                    FROM\n",
    "                        `cb_criteria` cr       \n",
    "                    WHERE\n",
    "                        concept_id IN (37027482, 37029793)       \n",
    "                        AND full_text LIKE '%_rank1]%'      ) a \n",
    "                        ON (c.path LIKE CONCAT('%.', a.id, '.%') \n",
    "                        OR c.path LIKE CONCAT('%.', a.id) \n",
    "                        OR c.path LIKE CONCAT(a.id, '.%') \n",
    "                        OR c.path = a.id) \n",
    "                WHERE\n",
    "                    is_standard = 1 \n",
    "                    AND is_selectable = 1)\n",
    "            )  \n",
    "            AND (\n",
    "                measurement.PERSON_ID IN (SELECT\n",
    "                    distinct person_id  \n",
    "                FROM\n",
    "                    `cb_search_person` cb_search_person  \n",
    "                WHERE\n",
    "                    cb_search_person.person_id IN (SELECT\n",
    "                        criteria.person_id \n",
    "                    FROM\n",
    "                        (SELECT\n",
    "                            DISTINCT person_id, entry_date, concept_id \n",
    "                        FROM\n",
    "                            `cb_search_all_events` \n",
    "                        WHERE\n",
    "                            (concept_id IN(SELECT\n",
    "                                DISTINCT c.concept_id \n",
    "                            FROM\n",
    "                                `cb_criteria` c \n",
    "                            JOIN\n",
    "                                (SELECT\n",
    "                                    CAST(cr.id as string) AS id       \n",
    "                                FROM\n",
    "                                    `cb_criteria` cr       \n",
    "                                WHERE\n",
    "                                    concept_id IN (3034204, 37029793)       \n",
    "                                    AND full_text LIKE '%_rank1]%'      ) a \n",
    "                                    ON (c.path LIKE CONCAT('%.', a.id, '.%') \n",
    "                                    OR c.path LIKE CONCAT('%.', a.id) \n",
    "                                    OR c.path LIKE CONCAT(a.id, '.%') \n",
    "                                    OR c.path = a.id) \n",
    "                            WHERE\n",
    "                                is_standard = 1 \n",
    "                                AND is_selectable = 1) \n",
    "                            AND is_standard = 1 )) criteria ) )\n",
    "            )) measurement \n",
    "    LEFT JOIN\n",
    "        `concept` m_standard_concept \n",
    "            ON measurement.measurement_concept_id = m_standard_concept.concept_id \n",
    "    LEFT JOIN\n",
    "        `concept` m_type \n",
    "            ON measurement.measurement_type_concept_id = m_type.concept_id \n",
    "    LEFT JOIN\n",
    "        `concept` m_operator \n",
    "            ON measurement.operator_concept_id = m_operator.concept_id \n",
    "    LEFT JOIN\n",
    "        `concept` m_value \n",
    "            ON measurement.value_as_concept_id = m_value.concept_id \n",
    "    LEFT JOIN\n",
    "        `concept` m_unit \n",
    "            ON measurement.unit_concept_id = m_unit.concept_id \n",
    "    LEFT JOIn\n",
    "        `visit_occurrence` v \n",
    "            ON measurement.visit_occurrence_id = v.visit_occurrence_id \n",
    "    LEFT JOIN\n",
    "        `concept` m_visit \n",
    "            ON v.visit_concept_id = m_visit.concept_id \n",
    "    LEFT JOIN\n",
    "        `concept` m_source_concept \n",
    "            ON measurement.measurement_source_concept_id = m_source_concept.concept_id\", sep=\"\")\n",
    "\n",
    "# Formulate a Cloud Storage destination path for the data exported from BigQuery.\n",
    "# NOTE: By default data exported multiple times on the same day will overwrite older copies.\n",
    "#       But data exported on a different days will write to a new location so that historical\n",
    "#       copies can be kept as the dataset definition is changed.\n",
    "measurement_32274867_path <- file.path(\n",
    "  Sys.getenv(\"WORKSPACE_BUCKET\"),\n",
    "  \"bq_exports\",\n",
    "  Sys.getenv(\"OWNER_EMAIL\"),\n",
    "  strftime(lubridate::now(), \"%Y%m%d\"),  # Comment out this line if you want the export to always overwrite.\n",
    "  \"measurement_32274867\",\n",
    "  \"measurement_32274867_*.csv\")\n",
    "message(str_glue('The data will be written to {measurement_32274867_path}. Use this path when reading ',\n",
    "                 'the data into your notebooks in the future.'))\n",
    "\n",
    "# Perform the query and export the dataset to Cloud Storage as CSV files.\n",
    "# NOTE: You only need to run `bq_table_save` once. After that, you can\n",
    "#       just read data from the CSVs in Cloud Storage.\n",
    "bq_table_save(\n",
    "  bq_dataset_query(Sys.getenv(\"WORKSPACE_CDR\"), dataset_32274867_measurement_sql, billing = Sys.getenv(\"GOOGLE_PROJECT\")),\n",
    "  measurement_32274867_path,\n",
    "  destination_format = \"CSV\")\n",
    "\n"
   ]
  },
  {
   "cell_type": "code",
   "execution_count": null,
   "metadata": {
    "vscode": {
     "languageId": "r"
    }
   },
   "outputs": [],
   "source": [
    "# Read the data directly from Cloud Storage into memory.\n",
    "# NOTE: Alternatively you can `gsutil -m cp {measurement_32274867_path}` to copy these files\n",
    "#       to the Jupyter disk.\n",
    "read_bq_export_from_workspace_bucket <- function(export_path) {\n",
    "  col_types <- cols(standard_concept_name = col_character(), standard_concept_code = col_character(), standard_vocabulary = col_character(), measurement_type_concept_name = col_character(), operator_concept_name = col_character(), value_as_concept_name = col_character(), unit_concept_name = col_character(), visit_occurrence_concept_name = col_character(), measurement_source_value = col_character(), source_concept_name = col_character(), source_concept_code = col_character(), source_vocabulary = col_character(), unit_source_value = col_character(), value_source_value = col_character())\n",
    "  bind_rows(\n",
    "    map(system2('gsutil', args = c('ls', export_path), stdout = TRUE, stderr = TRUE),\n",
    "        function(csv) {\n",
    "          message(str_glue('Loading {csv}.'))\n",
    "          chunk <- read_csv(pipe(str_glue('gsutil cat {csv}')), col_types = col_types, show_col_types = FALSE)\n",
    "          if (is.null(col_types)) {\n",
    "            col_types <- spec(chunk)\n",
    "          }\n",
    "          chunk\n",
    "        }))\n",
    "}\n",
    "#measurement_32274867_path <- \"gs://fc-secure-b96fb036-3379-4be0-8834-e7e486f2b76e/bq_exports/davidz1@researchallofus.org/20240528/measurement_32274867/measurement_32274867_*.csv\"\n",
    "dataset_32274867_measurement_df <- read_bq_export_from_workspace_bucket(measurement_32274867_path)\n",
    "\n",
    "dim(dataset_32274867_measurement_df)\n",
    "\n",
    "head(dataset_32274867_measurement_df, 5)"
   ]
  },
  {
   "cell_type": "markdown",
   "metadata": {},
   "source": [
    "## Process urate (mg/dL)"
   ]
  },
  {
   "cell_type": "code",
   "execution_count": null,
   "metadata": {
    "vscode": {
     "languageId": "r"
    }
   },
   "outputs": [],
   "source": [
    "# Urate\n",
    "labs <- dataset_32274867_measurement_df %>%\n",
    "    filter(grepl(\"Urate\", standard_concept_name))\n",
    "colnames(labs)\n",
    "length(unique(labs$person_id))\n",
    "\n",
    "as.data.frame(table(labs$standard_concept_name)) %>% arrange(-Freq)\n",
    "\n",
    "#as.data.frame(table(labs$visit_occurrence_concept_name)) %>% arrange(-Freq)\n",
    "as.data.frame(table(labs$unit_concept_name)) %>% arrange(-Freq)\n",
    "quantile(labs$value_as_number[labs$unit_concept_name == \"no value\"], na.rm=T)\n",
    "\n",
    "#median(labs$value_as_number, na.rm=T)\n",
    "\n",
    "#new_labs <- labs %>%\n",
    "#    filter(!grepl(\"Emergency\", visit_occurrence_concept_name) & !grepl(\"Intensive\", visit_occurrence_concept_name) &\n",
    "#          !grepl(\"Urgent\", visit_occurrence_concept_name))\n",
    "\n",
    "#as.data.frame(table(new_labs$visit_occurrence_concept_name)) %>% arrange(-Freq)\n",
    "#new_labs <- labs %>%\n",
    "#    filter(unit_concept_name == \"square meter\")\n",
    "#length(unique(new_labs$person_id))\n"
   ]
  },
  {
   "cell_type": "code",
   "execution_count": null,
   "metadata": {
    "vscode": {
     "languageId": "r"
    }
   },
   "outputs": [],
   "source": [
    "keep_outliers = FALSE\n",
    "\n",
    "# Do all the filtering specified at the top of the file\n",
    "labs_formatted <- labs %>%\n",
    "    filter(!grepl(\"Emergency\", visit_occurrence_concept_name) & \n",
    "           !grepl(\"Intensive\", visit_occurrence_concept_name) &\n",
    "           !grepl(\"Urgent\", visit_occurrence_concept_name)) %>%\n",
    "    filter(unit_concept_name != \"microgram per deciliter\" &\n",
    "           unit_concept_name != \"percent\") %>%\n",
    "    filter(value_as_number >= 0) %>%\n",
    "    select(person_id, measurement_datetime, value_as_number) %>%\n",
    "    mutate_at(c('person_id'), as.character) %>%\n",
    "    mutate(across(where(is.character), ~na_if(., \"NULL\"))) %>%\n",
    "    na.omit() %>%\n",
    "    distinct() %>%\n",
    "    group_by(person_id) %>%\n",
    "    filter(value_as_number <= (10 * median(value_as_number))) %>%\n",
    "    ungroup() %>%\n",
    "    filter(keep_outliers | value_as_number >= mean(value_as_number) - (4 * sd(value_as_number))) %>%\n",
    "    filter(keep_outliers | value_as_number <= mean(value_as_number) + (4 * sd(value_as_number))) \n",
    "\n",
    "dim(labs_formatted)\n",
    "head(labs_formatted, 5)\n"
   ]
  },
  {
   "cell_type": "code",
   "execution_count": null,
   "metadata": {
    "vscode": {
     "languageId": "r"
    }
   },
   "outputs": [],
   "source": [
    "min(labs_formatted$value_as_number)\n",
    "median(labs_formatted$value_as_number)\n",
    "mean(labs_formatted$value_as_number)\n",
    "max(labs_formatted$value_as_number)\n",
    "sd(labs_formatted$value_as_number)\n",
    "\n",
    "quantile(labs_formatted$value_as_number)\n"
   ]
  },
  {
   "cell_type": "code",
   "execution_count": null,
   "metadata": {
    "vscode": {
     "languageId": "r"
    }
   },
   "outputs": [],
   "source": [
    "write.table(labs_formatted, \n",
    "    file=paste0(data_path, \"/dataframes/blood/AllofUs_v8_labs-Urate_wout_outliers_long_052724.txt\"), \n",
    "    row.names=FALSE, quote=FALSE, sep=\"\\t\")\n"
   ]
  },
  {
   "cell_type": "markdown",
   "metadata": {},
   "source": [
    "## Process urea (mg/dL)"
   ]
  },
  {
   "cell_type": "code",
   "execution_count": null,
   "metadata": {
    "vscode": {
     "languageId": "r"
    }
   },
   "outputs": [],
   "source": [
    "# Urea\n",
    "labs <- dataset_32274867_measurement_df %>%\n",
    "    filter(grepl(\"Urea\", standard_concept_name))\n",
    "colnames(labs)\n",
    "length(unique(labs$person_id))\n",
    "\n",
    "as.data.frame(table(labs$standard_concept_name)) %>% arrange(-Freq)\n",
    "\n",
    "#as.data.frame(table(labs$visit_occurrence_concept_name)) %>% arrange(-Freq)\n",
    "as.data.frame(table(labs$unit_concept_name)) %>% arrange(-Freq)\n",
    "quantile(labs$value_as_number[labs$unit_concept_name == \"milligram per deciliter\"], na.rm=T)\n",
    "\n",
    "#median(labs$value_as_number, na.rm=T)\n",
    "\n",
    "#new_labs <- labs %>%\n",
    "#    filter(!grepl(\"Emergency\", visit_occurrence_concept_name) & !grepl(\"Intensive\", visit_occurrence_concept_name) &\n",
    "#          !grepl(\"Urgent\", visit_occurrence_concept_name))\n",
    "\n",
    "#as.data.frame(table(new_labs$visit_occurrence_concept_name)) %>% arrange(-Freq)\n",
    "#new_labs <- labs %>%\n",
    "#    filter(unit_concept_name == \"square meter\")\n",
    "#length(unique(new_labs$person_id))\n"
   ]
  },
  {
   "cell_type": "code",
   "execution_count": null,
   "metadata": {
    "vscode": {
     "languageId": "r"
    }
   },
   "outputs": [],
   "source": [
    "keep_outliers = FALSE\n",
    "\n",
    "# Do all the filtering specified at the top of the file\n",
    "labs_formatted <- labs %>%\n",
    "    filter(!grepl(\"Emergency\", visit_occurrence_concept_name) & \n",
    "           !grepl(\"Intensive\", visit_occurrence_concept_name) &\n",
    "           !grepl(\"Urgent\", visit_occurrence_concept_name)) %>%\n",
    "    filter(value_as_number >= 0) %>%\n",
    "    select(person_id, measurement_datetime, value_as_number) %>%\n",
    "    mutate_at(c('person_id'), as.character) %>%\n",
    "    mutate(across(where(is.character), ~na_if(., \"NULL\"))) %>%\n",
    "    na.omit() %>%\n",
    "    distinct() %>%\n",
    "    group_by(person_id) %>%\n",
    "    filter(value_as_number <= (10 * median(value_as_number))) %>%\n",
    "    ungroup() %>%\n",
    "    filter(keep_outliers | value_as_number >= mean(value_as_number) - (4 * sd(value_as_number))) %>%\n",
    "    filter(keep_outliers | value_as_number <= mean(value_as_number) + (4 * sd(value_as_number))) \n",
    "\n",
    "dim(labs_formatted)\n",
    "head(labs_formatted, 5)\n"
   ]
  },
  {
   "cell_type": "code",
   "execution_count": null,
   "metadata": {
    "vscode": {
     "languageId": "r"
    }
   },
   "outputs": [],
   "source": [
    "min(labs_formatted$value_as_number)\n",
    "median(labs_formatted$value_as_number)\n",
    "mean(labs_formatted$value_as_number)\n",
    "max(labs_formatted$value_as_number)\n",
    "sd(labs_formatted$value_as_number)\n",
    "\n",
    "quantile(labs_formatted$value_as_number)\n"
   ]
  },
  {
   "cell_type": "code",
   "execution_count": null,
   "metadata": {
    "vscode": {
     "languageId": "r"
    }
   },
   "outputs": [],
   "source": [
    "write.table(labs_formatted, \n",
    "    file=paste0(data_path, \"/dataframes/blood/AllofUs_v8_labs-Urea_wout_outliers_long_052724.txt\"), \n",
    "    row.names=FALSE, quote=FALSE, sep=\"\\t\")\n"
   ]
  },
  {
   "cell_type": "markdown",
   "metadata": {},
   "source": [
    "# Vitamin D"
   ]
  },
  {
   "cell_type": "markdown",
   "metadata": {},
   "source": [
    "## Extract vitamin D"
   ]
  },
  {
   "cell_type": "code",
   "execution_count": null,
   "metadata": {
    "vscode": {
     "languageId": "r"
    }
   },
   "outputs": [],
   "source": [
    "library(tidyverse)\n",
    "library(bigrquery)\n",
    "\n",
    "# This query represents dataset \"Pts with VitD\" for domain \"measurement\" and was generated for All of Us Controlled Tier Dataset v8\n",
    "dataset_63812257_measurement_sql <- paste(\"\n",
    "    SELECT\n",
    "        measurement.person_id,\n",
    "        measurement.measurement_concept_id,\n",
    "        m_standard_concept.concept_name as standard_concept_name,\n",
    "        m_standard_concept.concept_code as standard_concept_code,\n",
    "        m_standard_concept.vocabulary_id as standard_vocabulary,\n",
    "        measurement.measurement_datetime,\n",
    "        measurement.measurement_type_concept_id,\n",
    "        m_type.concept_name as measurement_type_concept_name,\n",
    "        measurement.operator_concept_id,\n",
    "        m_operator.concept_name as operator_concept_name,\n",
    "        measurement.value_as_number,\n",
    "        measurement.value_as_concept_id,\n",
    "        m_value.concept_name as value_as_concept_name,\n",
    "        measurement.unit_concept_id,\n",
    "        m_unit.concept_name as unit_concept_name,\n",
    "        measurement.range_low,\n",
    "        measurement.range_high,\n",
    "        measurement.visit_occurrence_id,\n",
    "        m_visit.concept_name as visit_occurrence_concept_name,\n",
    "        measurement.measurement_source_value,\n",
    "        measurement.measurement_source_concept_id,\n",
    "        m_source_concept.concept_name as source_concept_name,\n",
    "        m_source_concept.concept_code as source_concept_code,\n",
    "        m_source_concept.vocabulary_id as source_vocabulary,\n",
    "        measurement.unit_source_value,\n",
    "        measurement.value_source_value \n",
    "    FROM\n",
    "        ( SELECT\n",
    "            * \n",
    "        FROM\n",
    "            `measurement` measurement \n",
    "        WHERE\n",
    "            (\n",
    "                measurement_concept_id IN (SELECT\n",
    "                    DISTINCT c.concept_id \n",
    "                FROM\n",
    "                    `cb_criteria` c \n",
    "                JOIN\n",
    "                    (SELECT\n",
    "                        CAST(cr.id as string) AS id       \n",
    "                    FROM\n",
    "                        `cb_criteria` cr       \n",
    "                    WHERE\n",
    "                        concept_id IN (37036354)       \n",
    "                        AND full_text LIKE '%_rank1]%'      ) a \n",
    "                        ON (c.path LIKE CONCAT('%.', a.id, '.%') \n",
    "                        OR c.path LIKE CONCAT('%.', a.id) \n",
    "                        OR c.path LIKE CONCAT(a.id, '.%') \n",
    "                        OR c.path = a.id) \n",
    "                WHERE\n",
    "                    is_standard = 1 \n",
    "                    AND is_selectable = 1)\n",
    "            )  \n",
    "            AND (\n",
    "                measurement.PERSON_ID IN (SELECT\n",
    "                    distinct person_id  \n",
    "                FROM\n",
    "                    `cb_search_person` cb_search_person  \n",
    "                WHERE\n",
    "                    cb_search_person.person_id IN (SELECT\n",
    "                        criteria.person_id \n",
    "                    FROM\n",
    "                        (SELECT\n",
    "                            DISTINCT person_id, entry_date, concept_id \n",
    "                        FROM\n",
    "                            `cb_search_all_events` \n",
    "                        WHERE\n",
    "                            (concept_id IN(SELECT\n",
    "                                DISTINCT c.concept_id \n",
    "                            FROM\n",
    "                                `cb_criteria` c \n",
    "                            JOIN\n",
    "                                (SELECT\n",
    "                                    CAST(cr.id as string) AS id       \n",
    "                                FROM\n",
    "                                    `cb_criteria` cr       \n",
    "                                WHERE\n",
    "                                    concept_id IN (37036354)       \n",
    "                                    AND full_text LIKE '%_rank1]%'      ) a \n",
    "                                    ON (c.path LIKE CONCAT('%.', a.id, '.%') \n",
    "                                    OR c.path LIKE CONCAT('%.', a.id) \n",
    "                                    OR c.path LIKE CONCAT(a.id, '.%') \n",
    "                                    OR c.path = a.id) \n",
    "                            WHERE\n",
    "                                is_standard = 1 \n",
    "                                AND is_selectable = 1) \n",
    "                            AND is_standard = 1 )) criteria ) )\n",
    "            )) measurement \n",
    "    LEFT JOIN\n",
    "        `concept` m_standard_concept \n",
    "            ON measurement.measurement_concept_id = m_standard_concept.concept_id \n",
    "    LEFT JOIN\n",
    "        `concept` m_type \n",
    "            ON measurement.measurement_type_concept_id = m_type.concept_id \n",
    "    LEFT JOIN\n",
    "        `concept` m_operator \n",
    "            ON measurement.operator_concept_id = m_operator.concept_id \n",
    "    LEFT JOIN\n",
    "        `concept` m_value \n",
    "            ON measurement.value_as_concept_id = m_value.concept_id \n",
    "    LEFT JOIN\n",
    "        `concept` m_unit \n",
    "            ON measurement.unit_concept_id = m_unit.concept_id \n",
    "    LEFT JOIn\n",
    "        `visit_occurrence` v \n",
    "            ON measurement.visit_occurrence_id = v.visit_occurrence_id \n",
    "    LEFT JOIN\n",
    "        `concept` m_visit \n",
    "            ON v.visit_concept_id = m_visit.concept_id \n",
    "    LEFT JOIN\n",
    "        `concept` m_source_concept \n",
    "            ON measurement.measurement_source_concept_id = m_source_concept.concept_id\", sep=\"\")\n",
    "\n",
    "# Formulate a Cloud Storage destination path for the data exported from BigQuery.\n",
    "# NOTE: By default data exported multiple times on the same day will overwrite older copies.\n",
    "#       But data exported on a different days will write to a new location so that historical\n",
    "#       copies can be kept as the dataset definition is changed.\n",
    "measurement_63812257_path <- file.path(\n",
    "  Sys.getenv(\"WORKSPACE_BUCKET\"),\n",
    "  \"bq_exports\",\n",
    "  Sys.getenv(\"OWNER_EMAIL\"),\n",
    "  strftime(lubridate::now(), \"%Y%m%d\"),  # Comment out this line if you want the export to always overwrite.\n",
    "  \"measurement_63812257\",\n",
    "  \"measurement_63812257_*.csv\")\n",
    "message(str_glue('The data will be written to {measurement_63812257_path}. Use this path when reading ',\n",
    "                 'the data into your notebooks in the future.'))\n",
    "\n",
    "# Perform the query and export the dataset to Cloud Storage as CSV files.\n",
    "# NOTE: You only need to run `bq_table_save` once. After that, you can\n",
    "#       just read data from the CSVs in Cloud Storage.\n",
    "bq_table_save(\n",
    "  bq_dataset_query(Sys.getenv(\"WORKSPACE_CDR\"), dataset_63812257_measurement_sql, billing = Sys.getenv(\"GOOGLE_PROJECT\")),\n",
    "  measurement_63812257_path,\n",
    "  destination_format = \"CSV\")\n",
    "\n"
   ]
  },
  {
   "cell_type": "code",
   "execution_count": null,
   "metadata": {
    "vscode": {
     "languageId": "r"
    }
   },
   "outputs": [],
   "source": [
    "# Read the data directly from Cloud Storage into memory.\n",
    "# NOTE: Alternatively you can `gsutil -m cp {measurement_63812257_path}` to copy these files\n",
    "#       to the Jupyter disk.\n",
    "read_bq_export_from_workspace_bucket <- function(export_path) {\n",
    "  col_types <- cols(standard_concept_name = col_character(), standard_concept_code = col_character(), standard_vocabulary = col_character(), measurement_type_concept_name = col_character(), operator_concept_name = col_character(), value_as_concept_name = col_character(), unit_concept_name = col_character(), visit_occurrence_concept_name = col_character(), measurement_source_value = col_character(), source_concept_name = col_character(), source_concept_code = col_character(), source_vocabulary = col_character(), unit_source_value = col_character(), value_source_value = col_character())\n",
    "  bind_rows(\n",
    "    map(system2('gsutil', args = c('ls', export_path), stdout = TRUE, stderr = TRUE),\n",
    "        function(csv) {\n",
    "          message(str_glue('Loading {csv}.'))\n",
    "          chunk <- read_csv(pipe(str_glue('gsutil cat {csv}')), col_types = col_types, show_col_types = FALSE)\n",
    "          if (is.null(col_types)) {\n",
    "            col_types <- spec(chunk)\n",
    "          }\n",
    "          chunk\n",
    "        }))\n",
    "}\n",
    "#measurement_63812257_path <- \"gs://fc-secure-b96fb036-3379-4be0-8834-e7e486f2b76e/bq_exports/davidz1@researchallofus.org/20240528/measurement_63812257/measurement_63812257_*.csv\"\n",
    "dataset_63812257_measurement_df <- read_bq_export_from_workspace_bucket(measurement_63812257_path)\n",
    "\n",
    "dim(dataset_63812257_measurement_df)\n",
    "\n",
    "head(dataset_63812257_measurement_df, 5)"
   ]
  },
  {
   "cell_type": "markdown",
   "metadata": {},
   "source": [
    "## Process vitamin D (ng/mL)"
   ]
  },
  {
   "cell_type": "code",
   "execution_count": null,
   "metadata": {
    "vscode": {
     "languageId": "r"
    }
   },
   "outputs": [],
   "source": [
    "# Vitamin D\n",
    "labs <- dataset_63812257_measurement_df #%>%\n",
    "    #filter(grepl(\"Urate\", standard_concept_name))\n",
    "colnames(labs)\n",
    "length(unique(labs$person_id))\n",
    "\n",
    "as.data.frame(table(labs$standard_concept_name)) %>% arrange(-Freq)\n",
    "\n",
    "#as.data.frame(table(labs$visit_occurrence_concept_name)) %>% arrange(-Freq)\n",
    "as.data.frame(table(labs$unit_concept_name)) %>% arrange(-Freq)\n",
    "quantile(labs$value_as_number[labs$unit_concept_name == \"no value\"], na.rm=T)\n",
    "\n",
    "#median(labs$value_as_number, na.rm=T)\n",
    "\n",
    "#new_labs <- labs %>%\n",
    "#    filter(!grepl(\"Emergency\", visit_occurrence_concept_name) & !grepl(\"Intensive\", visit_occurrence_concept_name) &\n",
    "#          !grepl(\"Urgent\", visit_occurrence_concept_name))\n",
    "\n",
    "#as.data.frame(table(new_labs$visit_occurrence_concept_name)) %>% arrange(-Freq)\n",
    "#new_labs <- labs %>%\n",
    "#    filter(unit_concept_name == \"square meter\")\n",
    "#length(unique(new_labs$person_id))\n"
   ]
  },
  {
   "cell_type": "code",
   "execution_count": null,
   "metadata": {
    "vscode": {
     "languageId": "r"
    }
   },
   "outputs": [],
   "source": [
    "keep_outliers = FALSE\n",
    "\n",
    "# Do all the filtering specified at the top of the file\n",
    "labs_formatted <- labs %>%\n",
    "    filter(!grepl(\"Emergency\", visit_occurrence_concept_name) & \n",
    "           !grepl(\"Intensive\", visit_occurrence_concept_name) &\n",
    "           !grepl(\"Urgent\", visit_occurrence_concept_name)) %>%\n",
    "    filter(unit_concept_name != \"pg/mL\" &\n",
    "           unit_concept_name != \"mg/mL\") %>%\n",
    "    filter(value_as_number >= 0) %>%\n",
    "    select(person_id, measurement_datetime, value_as_number) %>%\n",
    "    mutate_at(c('person_id'), as.character) %>%\n",
    "    mutate(across(where(is.character), ~na_if(., \"NULL\"))) %>%\n",
    "    na.omit() %>%\n",
    "    distinct() %>%\n",
    "    group_by(person_id) %>%\n",
    "    filter(value_as_number <= (10 * median(value_as_number))) %>%\n",
    "    ungroup() %>%\n",
    "    filter(keep_outliers | value_as_number >= mean(value_as_number) - (4 * sd(value_as_number))) %>%\n",
    "    filter(keep_outliers | value_as_number <= mean(value_as_number) + (4 * sd(value_as_number))) \n",
    "\n",
    "dim(labs_formatted)\n",
    "head(labs_formatted, 5)\n"
   ]
  },
  {
   "cell_type": "code",
   "execution_count": null,
   "metadata": {
    "vscode": {
     "languageId": "r"
    }
   },
   "outputs": [],
   "source": [
    "min(labs_formatted$value_as_number)\n",
    "median(labs_formatted$value_as_number)\n",
    "mean(labs_formatted$value_as_number)\n",
    "max(labs_formatted$value_as_number)\n",
    "sd(labs_formatted$value_as_number)\n",
    "\n",
    "quantile(labs_formatted$value_as_number)\n"
   ]
  },
  {
   "cell_type": "code",
   "execution_count": null,
   "metadata": {
    "vscode": {
     "languageId": "r"
    }
   },
   "outputs": [],
   "source": [
    "write.table(labs_formatted, \n",
    "    file=paste0(data_path, \"/dataframes/blood/AllofUs_v8_labs-Vitamin-D_wout_outliers_long_052724.txt\"), \n",
    "    row.names=FALSE, quote=FALSE, sep=\"\\t\")\n"
   ]
  }
 ],
 "metadata": {
  "kernelspec": {
   "display_name": "R",
   "language": "R",
   "name": "ir"
  },
  "language_info": {
   "codemirror_mode": "r",
   "file_extension": ".r",
   "mimetype": "text/x-r-source",
   "name": "R",
   "pygments_lexer": "r",
   "version": "4.5.0"
  },
  "toc": {
   "base_numbering": 1,
   "nav_menu": {},
   "number_sections": true,
   "sideBar": true,
   "skip_h1_title": false,
   "title_cell": "Table of Contents",
   "title_sidebar": "Contents",
   "toc_cell": false,
   "toc_position": {
    "height": "calc(100% - 180px)",
    "left": "10px",
    "top": "150px",
    "width": "221px"
   },
   "toc_section_display": true,
   "toc_window_display": true
  }
 },
 "nbformat": 4,
 "nbformat_minor": 2
}
