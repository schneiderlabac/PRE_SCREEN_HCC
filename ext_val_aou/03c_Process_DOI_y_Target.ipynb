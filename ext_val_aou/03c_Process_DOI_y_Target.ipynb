{
 "cells": [
  {
   "cell_type": "markdown",
   "id": "0",
   "metadata": {},
   "source": [
    "# Helper"
   ]
  },
  {
   "cell_type": "code",
   "execution_count": null,
   "id": "1",
   "metadata": {},
   "outputs": [],
   "source": [
    "# Load \"config.R\" for utility functions. \n",
    "#Will also triggger loading of \n",
    "    \n",
    "    # user_config.JSON (including key for project_config)\n",
    "    # project_config.JSON\n",
    "    # preprocessing_visualizations.R\n",
    "    # preprocessing_functions.R\n",
    "\n",
    "user <- \"Jan\" \n",
    "source(\"config.r\")\n",
    "\n",
    "\n",
    "\n",
    "#If certain packages not installed yet via requirements.txt, install them here via\n",
    "# install.packages(\"package_name\")"
   ]
  },
  {
   "cell_type": "code",
   "execution_count": null,
   "id": "2",
   "metadata": {},
   "outputs": [],
   "source": [
    "IOIs"
   ]
  },
  {
   "cell_type": "code",
   "execution_count": null,
   "id": "3",
   "metadata": {},
   "outputs": [],
   "source": [
    "timeframe"
   ]
  },
  {
   "cell_type": "markdown",
   "id": "4",
   "metadata": {},
   "source": [
    "# Dataloader"
   ]
  },
  {
   "cell_type": "markdown",
   "id": "5",
   "metadata": {},
   "source": [
    "## Load Metadata"
   ]
  },
  {
   "cell_type": "code",
   "execution_count": null,
   "id": "6",
   "metadata": {},
   "outputs": [],
   "source": [
    "# Load metadata (file with columns/ICD codes to investigate)\n",
    "icd_dict_path <- paste0(data_path, \"/Features_AOU.xlsx\")\n",
    "\n",
    "ICD_Groups <- read_excel(icd_dict_path, sheet = \"ICD_Groups\") %>% select(-c(\"n\", \"Summe\"))\n",
    "ICD_Singles <- read_excel(icd_dict_path, sheet = \"ICD_Singles\") %>% select(-c(\"n\", \"Summe\"))"
   ]
  },
  {
   "cell_type": "markdown",
   "id": "7",
   "metadata": {},
   "source": [
    "## Load df_diagnosis (reduced to first instance per diag per patient)¶"
   ]
  },
  {
   "cell_type": "code",
   "execution_count": null,
   "id": "8",
   "metadata": {},
   "outputs": [],
   "source": [
    "df_diagnosis <- read_csv(paste0(data_path, \"/dataframes/df_diagnosis_reduced.csv\"))\n",
    "df_diagnosis$source_concept_code <- gsub(\"\\\\.\", \"\", df_diagnosis$source_concept_code) #removes the dot in the ICD codes\n",
    "head(df_diagnosis)\n",
    "dim(df_diagnosis)\n",
    "\n",
    "\n"
   ]
  },
  {
   "cell_type": "markdown",
   "id": "9",
   "metadata": {},
   "source": [
    "# Subset dataset "
   ]
  },
  {
   "cell_type": "markdown",
   "id": "10",
   "metadata": {},
   "source": [
    "## Filter dataset for all DOI combined"
   ]
  },
  {
   "cell_type": "code",
   "execution_count": null,
   "id": "11",
   "metadata": {},
   "outputs": [],
   "source": [
    "# =============================================================================\n",
    "# STEP 1: FILTER DIAGNOSIS DATA FOR RELEVANT ICD CODES ONLY\n",
    "# =============================================================================\n",
    "\n",
    "cat(\"\\nOriginal diagnosis data dimensions:\", nrow(df_diagnosis), \"rows\\n\")\n",
    "\n",
    "# Create pattern for filtering (codes that START WITH any of our ICD codes)\n",
    "pattern <- paste0(\"^(\", paste(IOIs, collapse = \"|\"), \")\")\n",
    "\n",
    "# Filter diagnosis data\n",
    "df_diagnosis_filtered <- df_diagnosis %>%\n",
    "  filter(grepl(pattern, source_concept_code, perl = TRUE))\n",
    "\n",
    "cat(\"Filtered diagnosis data dimensions:\", nrow(df_diagnosis_filtered), \"rows\\n\")\n",
    "cat(\"Reduction:\", round((1 - nrow(df_diagnosis_filtered)/nrow(df_diagnosis)) * 100, 1), \"% removed\\n\")\n",
    "\n",
    "# Show what ICD codes we actually have in the filtered data\n",
    "filtered_codes <- unique(df_diagnosis_filtered$source_concept_code)\n",
    "cat(\"Unique ICD codes found in filtered data:\", length(filtered_codes), \"\\n\")\n",
    "\n",
    "df_diagnosis_filtered"
   ]
  },
  {
   "cell_type": "markdown",
   "id": "12",
   "metadata": {},
   "source": [
    "## Create separate columns for DOIs"
   ]
  },
  {
   "cell_type": "code",
   "execution_count": null,
   "id": "13",
   "metadata": {},
   "outputs": [],
   "source": [
    "summary_df <- data.frame(icd_code = character(), amount = numeric())\n",
    "\n",
    "# Define a function that loops through the ICD codes and creates separate dataframes for them\n",
    "subset_df <- function(df_diagnosis_filtered, IOI, DOI, summary_df) {\n",
    "      #Subset for only rows in hesin with icd-code of interest (IOI)\n",
    "      sub_icd <- subset(df_diagnosis_filtered, source_concept_code == IOI)\n",
    "      print(paste(\"Amount of \", IOI, \" in AOU: \", length(unique(sub_icd$person_id))))\n",
    "      sub_icd$condition_start_datetime <- as.Date(sub_icd$condition_start_datetime, format=\"%d/%m/%Y\") #transform to date       object\n",
    "      sub_icd$year <- as.numeric(format(sub_icd$condition_start_datetime, \"%Y\"))\n",
    "      sub_icd$icd_code <- IOI\n",
    "    \n",
    "    return(sub_icd)\n",
    "    \n",
    "}    \n",
    "\n",
    "df_list <- list()\n",
    "for(IOI in IOIs) {\n",
    "  name <- paste0(\"sub_\", IOI) # Dynamically create a variable name\n",
    "  df_list[[name]] <- subset_df(df_diagnosis_filtered, IOI, DOI, summary_df)\n",
    "}\n"
   ]
  },
  {
   "cell_type": "markdown",
   "id": "14",
   "metadata": {},
   "source": [
    "## Inspect dataframes"
   ]
  },
  {
   "cell_type": "code",
   "execution_count": null,
   "id": "15",
   "metadata": {},
   "outputs": [],
   "source": [
    "# The code above creates a list of dataframes for every single ICD code in IOIs.\n",
    "# These can be accessed via\n",
    "\n",
    "for (nm in names(df_list)) {\n",
    "  cat(\"\\n###\", nm, \"###\\n\")\n",
    "  print(head(df_list[[nm]]))\n",
    "}"
   ]
  },
  {
   "cell_type": "markdown",
   "id": "16",
   "metadata": {},
   "source": [
    "# Merge DOI with instance data"
   ]
  },
  {
   "cell_type": "markdown",
   "id": "17",
   "metadata": {},
   "source": [
    "## Concatenate the df per DOI to one df and inspect duplicates"
   ]
  },
  {
   "cell_type": "code",
   "execution_count": null,
   "id": "18",
   "metadata": {},
   "outputs": [],
   "source": [
    "df_combined <- bind_rows(df_list)\n",
    "\n",
    "# 2) Print any duplicate rows (based on all columns)\n",
    "dup_rows <- df_combined %>%\n",
    "  filter(duplicated(.) | duplicated(., fromLast = TRUE))\n",
    "print(dup_rows)\n",
    "\n",
    "# 3) Create df_y with status = 1 and rename person_id → eid\n",
    "df_y <- df_combined %>%\n",
    "  mutate(status = 1) \n",
    "\n",
    "df_y"
   ]
  },
  {
   "cell_type": "markdown",
   "id": "19",
   "metadata": {},
   "source": [
    "## Load all IDs"
   ]
  },
  {
   "cell_type": "code",
   "execution_count": null,
   "id": "20",
   "metadata": {},
   "outputs": [],
   "source": [
    "df_basic_id <- data.table::fread(file.path(data_path, \"dataframes/df_covariates_1.1.txt\"), sep=\"\\t\") %>% select(\"person_id\")\n",
    "\n",
    "df_basic_id"
   ]
  },
  {
   "cell_type": "markdown",
   "id": "21",
   "metadata": {},
   "source": [
    "## Merge IDs with status data"
   ]
  },
  {
   "cell_type": "code",
   "execution_count": null,
   "id": "22",
   "metadata": {},
   "outputs": [],
   "source": [
    "df_y <- merge(df_basic_id, df_y, by=\"person_id\", all.x=TRUE) %>%\n",
    "    mutate(status = if_else(is.na(status), 0, status))\n",
    "\n",
    "df_y"
   ]
  },
  {
   "cell_type": "markdown",
   "id": "23",
   "metadata": {},
   "source": [
    "# Export"
   ]
  },
  {
   "cell_type": "code",
   "execution_count": null,
   "id": "24",
   "metadata": {},
   "outputs": [],
   "source": [
    "write_csv(df_y, paste0(data_path, \"/dataframes/df_y.csv\"))"
   ]
  },
  {
   "cell_type": "markdown",
   "id": "25",
   "metadata": {},
   "source": [
    "# Plots (not copied over from ukb_scripts properly yet)"
   ]
  },
  {
   "cell_type": "code",
   "execution_count": null,
   "id": "26",
   "metadata": {},
   "outputs": [],
   "source": [
    "if (!requireNamespace(\"systemfonts\", quietly = TRUE)) install.packages(\"systemfonts\")\n",
    "if (!requireNamespace(\"showtext\", quietly = TRUE)) install.packages(\"showtext\")\n",
    "\n",
    "n_total <- nrow(df_y) #Assess absolute number\n",
    "\n",
    "plot_included_discarded_cases(cases_first_visit, base_size=30, n_total = n_total)\n",
    "\n"
   ]
  },
  {
   "cell_type": "markdown",
   "id": "27",
   "metadata": {},
   "source": [
    "# HCC Only: Explore diseases underlying DOI cases"
   ]
  },
  {
   "cell_type": "code",
   "execution_count": null,
   "id": "28",
   "metadata": {},
   "outputs": [],
   "source": []
  },
  {
   "cell_type": "code",
   "execution_count": null,
   "id": "29",
   "metadata": {},
   "outputs": [],
   "source": [
    "\n",
    "\n",
    "\n",
    "### Rank priority of diagnosis\n",
    "\n",
    "priority_order <- c(\"Cirrhosis\", \"Viral Hepatitis\", \"CLD\", \"No Liver disease\")\n",
    "\n",
    "pat_cld <- pat_icds[pat_icds$diag_icd10 %in% par_icd_codes | pat_icds$diag_icd9 %in% par_icd_codes, ] %>%\n",
    "  select(c(\"eid\", \"diag_icd9\", \"diag_icd10\", \"epistart\")) %>%\n",
    "  left_join(Patients_at_risk, by = c(\"diag_icd10\" = \"ICD10\")) %>%\n",
    "  right_join(df_y, by = \"eid\") %>%\n",
    "  subset(status==1) %>%\n",
    "  select(-c(\"location_name\", \"location_code\", \"location_nr\", \"location_country\", \"country_code\", \"split_ext\", \"split_int\"))\n",
    "\n",
    "pat_cld$epistart[is.na(pat_cld$Group)] <- as.Date(pat_cld$date_of_diag)\n",
    "\n",
    "pat_cld$Group[is.na(pat_cld$Group)] <- \"No Liver disease\"\n",
    "pat_cld$Group[!pat_cld$Group %in% par_subset] <- \"No Liver disease\" #Replace all non-matching groups with \"No LD\"\n",
    "pat_cld$Group <- factor(pat_cld$Group, levels=priority_order)\n",
    "\n",
    "summary(pat_cld$Group)\n",
    "\n",
    "priority <- function(diagnosis) {\n",
    "  case_when(\n",
    "    diagnosis == \"Cirrhosis\" ~ 1,\n",
    "    diagnosis == \"Viral Hepatitis\" ~ 2,\n",
    "    diagnosis == \"CLD\" ~ 3,\n",
    "    diagnosis == \"No Liver disease\" ~ 4,\n",
    "    TRUE ~ 5  # Assign a lower priority to other diagnoses\n",
    "  )\n",
    "}\n",
    "\n",
    "\n",
    "pat_cld <- pat_cld %>%\n",
    "  group_by(eid)\n",
    "\n",
    "# Node 0 represents first visit to hospital after assessment\n",
    "pat_cld_node0 <- pat_cld %>%\n",
    "  mutate(Priority = priority(Group)) %>%\n",
    "  group_by(eid) %>%\n",
    "  filter(epistart == min(epistart)) %>%\n",
    "  arrange(eid, Priority) %>%\n",
    "  filter(row_number() == 1) %>%\n",
    "  ungroup() %>%\n",
    "  select(-Priority)\n",
    "\n",
    "summary_node0 <- pat_cld_node0 %>%\n",
    "  group_by(Group) %>%\n",
    "  summarize(Count = n(), .groups = 'drop') %>%\n",
    "  mutate(Time = \"First \\nEHR\") %>%\n",
    "  mutate(Order = 1 ) %>%\n",
    "  mutate(Priority = priority(Group)) %>%\n",
    "  arrange(Priority) %>%\n",
    "  mutate(Percentage = round(Count / sum(Count) * 100)) \n",
    "\n",
    "\n",
    "\n",
    "pat_cld_node1 <- pat_cld %>%\n",
    "  mutate(Priority = priority(Group)) %>%\n",
    "  group_by(eid) %>%\n",
    "  #filter(epistart == max(epistart)) %>%   #better to take all incidents than just the last, as not all diags get coded everytime\n",
    "  arrange(eid, Priority) %>%\n",
    "  filter(row_number() == 1) %>%\n",
    "  ungroup() %>%\n",
    "  select(-Priority)\n",
    "\n",
    "summary_node1 <- pat_cld_node1 %>%\n",
    "  group_by(Group) %>%\n",
    "  summarize(Count = n(), .groups = 'drop') %>%\n",
    "  mutate(Time = paste0(\"Prior to\\n\", DOI)) %>%\n",
    "  mutate(Order = 2 ) %>%\n",
    "  mutate(Priority = priority(Group)) %>%\n",
    "  arrange(Priority) %>%\n",
    "  mutate(Percentage = round(Count / sum(Count) * 100))\n",
    "\n",
    "\n",
    "# View the summaries\n",
    "print(summary_node0)\n",
    "print(summary_node1)\n",
    "\n",
    "\n",
    "# Merge timepoints\n",
    "combined_data <- rbind(summary_node0, summary_node1)\n",
    "\n",
    "\n",
    "stacked_bars_time_comparison(combined_data, base_size=22)\n",
    "\n",
    "\n"
   ]
  },
  {
   "cell_type": "code",
   "execution_count": null,
   "id": "30",
   "metadata": {},
   "outputs": [],
   "source": [
    "## Explore Cirrhosis\n",
    "\n",
    "check_unique_participants <- function(df, name) {\n",
    "  total_rows <- nrow(df)\n",
    "  unique_participants <- n_distinct(df$person_id)\n",
    "  print(paste(\"Checking\", name))\n",
    "  print(paste(\"Total rows:\", total_rows))\n",
    "  print(paste(\"Unique participants:\", unique_participants))\n",
    "}\n",
    "\n",
    "\n",
    "# Check cirrhosis_cases and HCC_cases\n",
    "check_unique_participants(cirrhosis_cases, \"Cirrhosis Cases\")\n",
    "check_unique_participants(HCC_cases, \"HCC Cases\")\n",
    "\n",
    "\n",
    "process_icd_codes <- function(icd_codes_subset, codes, disease_name, select_visits = \"first\") {\n",
    "  # Filter for the specified ICD codes\n",
    "  cases <- icd_codes_subset[icd_codes_subset$source_concept_code %in% codes, ]\n",
    "  \n",
    "  # Convert condition_start_datetime to datetime format\n",
    "  cases <- cases %>%\n",
    "    mutate(condition_start_datetime = ymd_hms(condition_start_datetime))\n",
    "  \n",
    "  # Function to extract year from datetime\n",
    "  extract_year <- function(date) {\n",
    "    return(year(date))\n",
    "  }\n",
    "  \n",
    "  # Process based on select_visits option\n",
    "  if (select_visits == \"first\") {\n",
    "    # Filter for the first visit per unique person_id\n",
    "    processed_cases <- cases %>%\n",
    "      group_by(person_id) %>%\n",
    "      arrange(condition_start_datetime) %>%\n",
    "      slice(1) %>%\n",
    "      ungroup()\n",
    "  } else if (select_visits == \"all\") {\n",
    "    # Keep all visits\n",
    "    processed_cases <- cases\n",
    "  } else {\n",
    "    stop(\"Invalid select_visits option. Use 'first' or 'all'.\")\n",
    "  }\n",
    "  \n",
    "  # Add year and date_of_diag columns\n",
    "  processed_cases <- processed_cases %>%\n",
    "    mutate(\n",
    "      year = sapply(condition_start_datetime, extract_year),\n",
    "      date_of_diag = as.Date(condition_start_datetime)\n",
    "    )\n",
    "  \n",
    "  # Add disease name column\n",
    "  processed_cases$disease <- disease_name\n",
    "  \n",
    "  # Print summary information\n",
    "  print(paste(\"Processing\", disease_name, \"cases:\"))\n",
    "  print(paste(\"ICD codes used:\", paste(codes, collapse = \", \")))\n",
    "  print(paste(\"Original number of rows:\", nrow(cases)))\n",
    "  print(paste(\"Number of rows after processing:\", nrow(processed_cases)))\n",
    "  print(paste(\"Number of unique person_ids:\", n_distinct(processed_cases$person_id)))\n",
    "  \n",
    "  # Optional: Count of cases per ICD code\n",
    "  if (length(codes) > 1) {\n",
    "    code_counts <- processed_cases %>%\n",
    "      group_by(source_concept_code) %>%\n",
    "      summarise(count = n()) %>%\n",
    "      arrange(desc(count))\n",
    "    print(\"Cases per ICD code:\")\n",
    "    print(code_counts)\n",
    "  }\n",
    "    \n",
    "  processed_cases <- processed_cases %>% select(c(\"person_id\", \"source_concept_code\", \"date_of_diag\", \"disease\"))\n",
    "  return(processed_cases)\n",
    "}\n",
    "\n",
    "cirrhosis_codes <- c(\"K703\", \"K743\", \"K745\", \"K746\", \"K767\", \"I850\", \"I859\", \"R18\")\n",
    "\n",
    "\n",
    "cirrhosis_cases <- process_icd_codes(icd_codes_subset, cirrhosis_codes, \"Cirrhosis\", \"first\")\n",
    "\n",
    "HCC_cases <- process_icd_codes(icd_codes_subset, \"C220\", DOI, \"first\")\n",
    "\n",
    "\n",
    "check_unique_participants(cirrhosis_cases, \"Cirrhosis Cases\")\n",
    "check_unique_participants(HCC_cases, paste0(\"Cases with\", DOI))\n",
    "\n",
    "\n",
    "head(cirrhosis_cases)\n",
    "head(HCC_cases)\n",
    "dim(cirrhosis_cases)\n",
    "dim(HCC_cases)\n",
    "\n",
    "\n",
    "time_threshold = 90\n",
    "print(time_threshold)\n",
    "\n",
    "cirrhosis_cases <- cirrhosis_cases %>%\n",
    "    mutate(date_of_diag = as.Date(date_of_diag))\n",
    "  \n",
    "HCC_cases <- HCC_cases %>%\n",
    "    mutate(date_of_diag = as.Date(date_of_diag))\n",
    "\n",
    "early_cirrhosis_cases <- merge(cirrhosis_cases, HCC_cases, by=\"person_id\", suffix = c(\"_cirrhosis\", \"_HCC\"), all=TRUE)\n",
    "\n",
    "sum(is.na(early_cirrhosis_cases$date_of_diag_HCC))\n",
    "\n",
    "early_cirrhosis_cases <- early_cirrhosis_cases %>%\n",
    "  mutate(\n",
    "    time_to_hcc = case_when(\n",
    "      !is.na(date_of_diag_HCC) & !is.na(date_of_diag_cirrhosis) ~ \n",
    "        as.numeric(difftime(date_of_diag_HCC, date_of_diag_cirrhosis, units = \"days\")),\n",
    "      TRUE ~ NA_real_\n",
    "    ),\n",
    "    cirrhosis_status = case_when(\n",
    "      is.na(date_of_diag_cirrhosis) & is.na(date_of_diag_HCC) ~ \"Neither Cirrhosis nor HCC\",\n",
    "      is.na(date_of_diag_HCC) ~ \"Cirrhosis but No HCC\",\n",
    "      is.na(date_of_diag_cirrhosis) ~ \"HCC but No Cirrhosis\",\n",
    "      time_to_hcc > time_threshold ~ \"Cirrhosis prior to HCC\",\n",
    "      time_to_hcc >= -time_threshold & time_to_hcc <= time_threshold ~ \"Simultaneous Cirrhosis + HCC\",\n",
    "      time_to_hcc < -time_threshold ~ \"Cirrhosis after HCC\",\n",
    "      TRUE ~ \"Error in date calculation\"\n",
    "    )\n",
    "  )\n",
    "\n",
    "\n",
    "early_cirrhosis_cases\n",
    "\n",
    "\n",
    "\n",
    "\n",
    "case_analysis <- early_cirrhosis_cases %>%\n",
    "    group_by(cirrhosis_status) %>%\n",
    "    summarize(count = n()) %>%\n",
    "    mutate(percentage = count / sum(count) * 100)\n",
    "  \n",
    "  print(\"Cirrhosis cases analysis:\")\n",
    "  print(case_analysis)\n",
    "\n",
    "early_cirrhosis_only <- early_cirrhosis_cases %>%\n",
    "  filter(cirrhosis_status %in% c(\"Cirrhosis but No HCC\", \"Cirrhosis prior to HCC\"))\n",
    "\n",
    "df_early_cirrhosis <- early_cirrhosis_only %>%\n",
    "  select(person_id) %>%\n",
    "  mutate(cirrhosis = 1) %>%\n",
    "  distinct()  \n",
    "\n",
    "write_csv(df_early_cirrhosis, \"data/df_early_cirrhosis.csv\")\n",
    "\n",
    "early_cirrhosis_only\n",
    "\n",
    "df_cirrhosis <- early_cirrhosis_only %>% select(\"person_id\")"
   ]
  }
 ],
 "metadata": {
  "kernelspec": {
   "display_name": "R",
   "language": "R",
   "name": "ir"
  },
  "language_info": {
   "codemirror_mode": "r",
   "file_extension": ".r",
   "mimetype": "text/x-r-source",
   "name": "R",
   "pygments_lexer": "r",
   "version": "4.5.0"
  },
  "toc": {
   "base_numbering": 1,
   "nav_menu": {},
   "number_sections": true,
   "sideBar": true,
   "skip_h1_title": false,
   "title_cell": "Table of Contents",
   "title_sidebar": "Contents",
   "toc_cell": false,
   "toc_position": {},
   "toc_section_display": true,
   "toc_window_display": false
  }
 },
 "nbformat": 4,
 "nbformat_minor": 5
}
