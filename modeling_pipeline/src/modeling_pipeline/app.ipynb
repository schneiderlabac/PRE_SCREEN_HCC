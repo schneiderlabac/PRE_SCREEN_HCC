{
 "cells": [
  {
   "cell_type": "code",
   "execution_count": 1,
   "metadata": {},
   "outputs": [],
   "source": [
    "# TODO: What to do wit the split_int variable?\n",
    "# so far set to 1, but implies a specific center?\n",
    "# so far the waterfall only comes from the first of the 5 models in the ensemble\n",
    "# DONE: Adjust the scaling to the UKB scale\n",
    "# choose a theme from https://www.gradio.app/docs/gradio/themes\n",
    "# add disclaimer that the results are not to be used for clinical purposes!!!!!!!!!!!!!!!!!!!!!!!!!!!!!!!!"
   ]
  },
  {
   "cell_type": "code",
   "execution_count": 2,
   "metadata": {},
   "outputs": [
    {
     "name": "stdout",
     "output_type": "stream",
     "text": [
      "Debug: userpath called with user=phkoop, project=hcc\n",
      "Debug: Loaded user_settings.json: {'phkoop': {'hcc': '/Users/phkoop/Library/CloudStorage/OneDrive-UniklinikRWTHAachen/drive/public/projects/hcc', 'public_online': '/Users/phkoop/Library/CloudStorage/OneDrive-UniklinikRWTHAachen/drive/public', 'drive_disc': '', 'modeling_pipeline': '/Users/phkoop/Documents/GitHub/modeling_pipeline/src/modeling_pipeline'}, 'janni': {'hcc': 'C:/Users/janni/Uniklinik RWTH Aachen/CRC-1382-A11 - public/projects/hcc', 'facs_aml': 'C:/Users/janni/OneDrive/Dokumente/PostDoc/Data/FACS_AML'}, 'pkoop': {'hcc': 'C:/Users/pkoop/OneDrive - Uniklinik RWTH Aachen/drive/public/projects/hcc'}, 'felix': {'cca': 'C:/Users/felix/OneDrive - Uniklinik RWTH Aachen/public/projects/cca'}, 'david': {'hcc': '...'}}\n",
      "Debug: Found path for user phkoop and project hcc: /Users/phkoop/Library/CloudStorage/OneDrive-UniklinikRWTHAachen/drive/public/projects/hcc\n"
     ]
    }
   ],
   "source": [
    "#%load_ext autoreload\n",
    "#%autoreload 2\n",
    "#%pip install gradio\n",
    "#%pip install shap\n",
    "\n",
    "import gradio as gr\n",
    "import numpy as np\n",
    "import matplotlib.pyplot as plt\n",
    "import pandas as pd\n",
    "import ast\n",
    "from pipeline import * #Load our package with classes pipeline, models, pp (preprocessing), plot, and more\n",
    "path= userpath(os.environ.get(\"USER\", os.environ.get(\"USERNAME\")), project=\"hcc\") # Choose your own project here, only works if you added specific project in user_settings.json"
   ]
  },
  {
   "cell_type": "code",
   "execution_count": 3,
   "metadata": {},
   "outputs": [
    {
     "data": {
      "text/plain": [
       "'3.7.1'"
      ]
     },
     "execution_count": 3,
     "metadata": {},
     "output_type": "execute_result"
    }
   ],
   "source": [
    "import matplotlib as plttt\n",
    "plttt.__version__"
   ]
  },
  {
   "cell_type": "code",
   "execution_count": 4,
   "metadata": {},
   "outputs": [],
   "source": [
    "pl=load_Pipeline('./.app_temp/orig_plot/model/Pipeline_HCC_all_Model_TOP15_RFC_external_val.joblib')"
   ]
  },
  {
   "cell_type": "code",
   "execution_count": 5,
   "metadata": {},
   "outputs": [],
   "source": [
    "#TODO: encoding UKB to AOU SEX?\n",
    "encodings={'SEX': {'female':0,'male':1,'else':0}} ##### to be discussed!\n",
    "#replace the value of a column of a dataframe by a dictionary\n"
   ]
  },
  {
   "cell_type": "code",
   "execution_count": 6,
   "metadata": {},
   "outputs": [],
   "source": [
    "## CHange file path to reduce columns and Adjust_AOU_UKB_MinMax Manual Adjustements.xlsx\"\n",
    "f1 = os.path.join(\"./.app_temp/orig_plot/model/reduce_columns.xlsx\")\n",
    "f2 = os.path.join(\"./.app_temp/orig_plot/model/Adjust_AOU_UKB_MinMax Manual Adjustements.xlsx\")\n",
    "df1 = pd.read_excel(f1)\n",
    "df2 = pd.read_excel(f2)\n",
    "model = \"top15\""
   ]
  },
  {
   "cell_type": "code",
   "execution_count": 7,
   "metadata": {},
   "outputs": [
    {
     "data": {
      "text/plain": [
       "93623"
      ]
     },
     "execution_count": 7,
     "metadata": {},
     "output_type": "execute_result"
    }
   ],
   "source": [
    "pred_val_df=pd.read_csv('./.app_temp/orig_plot/model/pred_values_top15.csv')\n",
    "pred_val_df.__len__()"
   ]
  },
  {
   "cell_type": "code",
   "execution_count": 8,
   "metadata": {},
   "outputs": [
    {
     "name": "stdout",
     "output_type": "stream",
     "text": [
      "Running on local URL:  http://127.0.0.1:7860\n",
      "Running on public URL: https://b77d0fb0d5bb64788f.gradio.live\n",
      "\n",
      "This share link expires in 72 hours. For free permanent hosting and GPU upgrades, run `gradio deploy` from Terminal to deploy to Spaces (https://huggingface.co/spaces)\n"
     ]
    },
    {
     "data": {
      "text/html": [
       "<div><iframe src=\"https://b77d0fb0d5bb64788f.gradio.live\" width=\"100%\" height=\"500\" allow=\"autoplay; camera; microphone; clipboard-read; clipboard-write;\" frameborder=\"0\" allowfullscreen></iframe></div>"
      ],
      "text/plain": [
       "<IPython.core.display.HTML object>"
      ]
     },
     "metadata": {},
     "output_type": "display_data"
    },
    {
     "data": {
      "text/plain": []
     },
     "execution_count": 8,
     "metadata": {},
     "output_type": "execute_result"
    }
   ],
   "source": [
    "variables = df1.Feature[df1[model]==1].unique()\n",
    "variable_names = list(df1[df1[model]==True][\"Feature\"].unique())\n",
    "\n",
    "\n",
    "units = df2.set_index(\"column\")[[\"Unit_ukb\",\"Unit_aou\"]].copy() #get both units from file . Important UKB first!!! \n",
    "units.fillna(\"\",inplace=True) # replace nans \n",
    "\n",
    "units_dict = units.apply(lambda row: list(row), axis=1).to_dict() #create dict for units \n",
    "units_factor_dict  = df2.set_index(\"column\")[\"adjust_unit\"].copy() .to_dict() #create dict for unit factor \n",
    "\n",
    "# Example data: variable names and corresponding units\n",
    "def random_AUC_plot(filename ):\n",
    "    # Generate random data for false positive rate (FPR) and true positive rate (TPR)\n",
    "    fpr = np.linspace(0, 1, 100)  # FPR values from 0 to 1\n",
    "    tpr = np.random.uniform(0, 1, 100)  # Random TPR values between 0 and 1\n",
    "\n",
    "    # Sort TPR values to make it look like a ROC curve\n",
    "    tpr = np.sort(tpr)\n",
    "\n",
    "    # Plot the random ROC-like curve\n",
    "    plt.figure(figsize=(6, 6))\n",
    "    plt.plot(fpr, tpr, label='Random ROC-like Curve')\n",
    "    plt.plot([0, 1], [0, 1], 'k--', label='Random Guess (AUC=0.5)')  # Diagonal line for reference\n",
    "    plt.xlabel('False Positive Rate')\n",
    "    plt.ylabel('True Positive Rate')\n",
    "    plt.title('ROC Curve (Random Data)')\n",
    "    plt.legend(loc='lower right')\n",
    "\n",
    "    # Save the plot to a file\n",
    "    plot_filename = filename \n",
    "    plt.savefig(plot_filename)\n",
    "    plt.close()\n",
    "\n",
    "\n",
    "\n",
    "# Function to update the unit for a specific variable when its button is clicked\n",
    "def update_unit(variable):\n",
    "    # Get the units for the selected variable\n",
    "    units = units_dict[variable]\n",
    "    \n",
    "    # Get the current index and update it\n",
    "    index = current_unit_index[variable]\n",
    "    new_index = (index + 1) % len(units)\n",
    "    current_unit = units[new_index]\n",
    "    \n",
    "    # Increment the index and wrap around if needed\n",
    "    current_unit_index[variable] = new_index\n",
    "    \n",
    "    return current_unit\n",
    "\n",
    "def process_variables(variables):\n",
    "    df=pd.DataFrame(variables.values(), index=variables.keys()).T\n",
    "    df=df[sorted(df.columns, key=lambda x: [i.replace('remainder__','') for i in pl.ohe.feature_names_in_.tolist()].index(x))]\n",
    "    df['split_int']=[1]\n",
    "\n",
    "    # replace the data by the encodings\n",
    "    for key in encodings.keys():\n",
    "        if key in df.columns:\n",
    "            df[key]=df[key].map(encodings[key])\n",
    "    df=df.astype(float)\n",
    "\n",
    "    # scale the data -> bisher nur für einzelne Values\n",
    "    def scale_minmax(column,x):\n",
    "        i=df2[df2.column==column]\n",
    "        return (x-i.min_ukb)/(i.max_ukb-i.min_ukb)\n",
    "\n",
    "    df_scaled=df.copy()\n",
    "    for col in df_scaled.columns:\n",
    "        try:\n",
    "            df_scaled[col]=[scale_minmax(col,df[col].values[0]).values[0]]\n",
    "        except:\n",
    "            print(f\"Could not scale {col}\")\n",
    "            df_scaled[col]=df[col][0]\n",
    "\n",
    "    # create the waterfall plot and the prediction\n",
    "    def plot_waterfall(df=df_scaled, pl=pl):\n",
    "        plt.close('all')\n",
    "        idx=0\n",
    "        X=df\n",
    "        for estimator in pl.trained_model.models:\n",
    "            estimator=estimator[0].best_estimator_\n",
    "\n",
    "            explainer = shap.explainers.TreeExplainer(estimator)\n",
    "            sv = explainer(X)\n",
    "            exp = shap.Explanation(sv.values[:,:,1], \n",
    "                            sv.base_values[:,1], \n",
    "                            data=X.values, \n",
    "                            feature_names=X.columns,)\n",
    "            ax=shap.plots.waterfall(exp[idx],show=False)\n",
    "            plt.tight_layout()\n",
    "            os.makedirs('./.app_temp/', exist_ok=True)\n",
    "            plt.savefig('./.app_temp/waterfall.png', bbox_inches='tight')\n",
    "            return './.app_temp/waterfall.png'\n",
    "    plot_waterfall=plot_waterfall(df_scaled, pl)\n",
    "\n",
    "    def violin_plot_w_hline(output_path:str='./.app_temp/violin.png',prediction:float=0.5):\n",
    "        pred_val_df=pd.read_csv('./.app_temp/orig_plot/model/pred_values_top15.csv')\n",
    "        plt.close('all')\n",
    "        fig,ax =plot.create_violin_plot(pl,X_val=pred_val_df,y_val=pred_val_df,model=pl.master_RFC,ohe=pl.ohe, gap=-0.1, width=0.8, thresholds_choice=[0,.35,.55,1],y_pred=pred_val_df.y_pred,save_fig=False)\n",
    "        ax.axhline(y=prediction, color='r', linestyle='--', linewidth=2)\n",
    "        plt.title('')\n",
    "        fig.savefig(output_path)\n",
    "        return output_path\n",
    "\n",
    "\n",
    "    prediction=pl.master_RFC.predict_proba(pl.ohe.transform(df_scaled))[0]\n",
    "\n",
    "    plot_violin =violin_plot_w_hline(output_path='./.app_temp/violin.png', prediction=prediction)\n",
    "\n",
    "\n",
    "    return f'Input:\\n{variables}\\nScaled:\\n{dict(df_scaled)}', round(prediction,ndigits=2),  plot_waterfall, plot_violin\n",
    "\n",
    "\n",
    "\n",
    "def apply_factors(vars,variable_names,current_unit_index):\n",
    "    factored_vars = []\n",
    "    for var,name in zip(vars,variable_names):\n",
    "        unit_index = current_unit_index[name]\n",
    "        if unit_index: # ==1 -> All of us -> use factor to transform into ukb units \n",
    "            factor = units_factor_dict[name]\n",
    "            var_new = (lambda x : eval(factor))(var)\n",
    "        else:\n",
    "            var_new = var\n",
    "        factored_vars.append(var_new)\n",
    "    return factored_vars\n",
    "\n",
    "\n",
    "# Gradio interface function\n",
    "def create_interface(current_unit_index):\n",
    "    \n",
    "    # Define a Blocks context\n",
    "    with gr.Blocks(css=\".align-bottom { display: flex; align-items: flex-end; }\",theme='default') as demo:\n",
    "        size_image=100\n",
    "        #gr.Image(\"/Users/phkoop/Library/CloudStorage/OneDrive-UniklinikRWTHAachen/drive/public/orga/Presentations/Schneider_lab_logo_round_with_text.png\",width=size_image,height=size_image,show_label=False,show_download_button=False,show_fullscreen_button=False,show_share_button=False)\n",
    "        gr.Markdown(f'<center>Try our new Model for the prediction of HCC risk.\\nThe prediction is based on the following training Pipeline: {pl.name}</center>')\n",
    "        gr.Markdown(f'<p align=\"center\">\\n<b>Disclaimer:</b><br>\\nThis tool has been developed solely for demonstration purposes and is not intended for use as a medical device under any circumstances. It is not designed to diagnose, treat, or manage any medical condition. The predictions generated by this tool should not be used as a basis for any medical or clinical decisions. The authors and developers disclaim any responsibility or liability for decisions or actions influenced by the use of this tool. Users are strongly advised to consult with qualified healthcare professionals for any medical concerns or decisions.\\n</p>')\n",
    "        gr.Markdown(\"<center>The Pipeline was developed by JC, PHK and TS in the Group of Prof. Carolin Schneider at RWTH Aachen University.</center>\")\n",
    "        \n",
    "        # Create a row for inputs\n",
    "        with gr.Column():\n",
    "            vars = []\n",
    "            for variable in variable_names:\n",
    "                with gr.Row(elem_classes=\"align-bottom\"):  # Group input and button in a row\n",
    "                    if variable in units_dict.keys():\n",
    "                        initial_unit = units_dict[variable][0]\n",
    "                        if len(list(set(units_dict[variable]))) > 1:\n",
    "                            with gr.Column(scale=2):\n",
    "                                # Create a number input for each variable\n",
    "                                var = gr.Number(label=f\"{variable}\", interactive=True)\n",
    "                            with gr.Column(scale=1):\n",
    "                                unit_button = gr.Button(f\"{initial_unit}\")\n",
    "                                # Set up the button to update the unit when clicked\n",
    "                                unit_button.click(fn=update_unit, inputs=gr.State(variable), outputs=unit_button)\n",
    "                        else:\n",
    "                            var = gr.Number(label=f\"{variable}\"+(f\"[{initial_unit}]\" if initial_unit != \"\" else \"\"), interactive=True)\n",
    "                    else:\n",
    "                        choices = [\"True\", \"False\"] if variable != \"SEX\" else [\"male\",\"female\",\"else\"]\n",
    "                        var = gr.Dropdown(label=f\"{variable}\", choices = choices)   \n",
    "                vars.append(var)\n",
    "            # Button to trigger the calculation and generate output\n",
    "            submit_button = gr.Button(\"Generate Output\")\n",
    "            \n",
    "        # Outputs\n",
    "        gr.Markdown(f'<p align=\"center\">\\n<b>Disclaimer:</b><br>\\nThis tool has been developed solely for demonstration purposes and is not intended for use as a medical device under any circumstances. It is not designed to diagnose, treat, or manage any medical condition. The predictions generated by this tool should not be used as a basis for any medical or clinical decisions. The authors and developers disclaim any responsibility or liability for decisions or actions influenced by the use of this tool. Users are strongly advised to consult with qualified healthcare professionals for any medical concerns or decisions.\\n\\n</p>')\n",
    "        output_text = gr.Text(label=\"Showing the chosen parameters\")\n",
    "        output_value_1 = gr.Number(label=\"Prediction Value\")\n",
    "        #output_value_2 = gr.Number(label=\"Metric 2\")\n",
    "        output_plot2=gr.Image(label=\"Violin plot of the predictions on the internal validation cohort from the UKBiobank, with the individual prediction as the red dashed line.\")\n",
    "        gr.Markdown(f'*Violin plot of the prediction values of the UKBiobank (n={pred_val_df.__len__()}) internal validation cohort, with the individual prediction displayed as the red dashed line.\\n *')\n",
    "        output_plot1 = gr.Image(label=\"Waterfall plot based on the SHAP-value estimation\")\n",
    "        gr.Markdown('*Waterfall plot based on the SHAP-value estimation. The plot shows the contribution of each feature to the overall prediction. The base value is the average prediction of the model. The prediction is the sum of the base value and the contributions of the contributing features. The plot is based on the first model of the ensemble classifier.*')\n",
    "        \n",
    "    \n",
    "        def on_submit(*vars):\n",
    "            variables = {}\n",
    "            vars_factored = apply_factors(vars,variable_names,current_unit_index)\n",
    "            for var_names,var in zip(variable_names,vars_factored):\n",
    "                try:\n",
    "                    variables[var_names] = ast.literal_eval(var)\n",
    "                except:\n",
    "                    variables[var_names] = var\n",
    "            return process_variables(variables)\n",
    "        \n",
    "        # Set up the button to trigger the output generation\n",
    "        submit_button.click(fn=on_submit, inputs=vars, outputs=[output_text,output_value_1,output_plot1,output_plot2])#,output_value_2,output_plot])\n",
    "    return demo\n",
    "\n",
    "# Track the current index of the unit for each variable\n",
    "current_unit_index = {var: 0 for var in variable_names}\n",
    "# Launching the app\n",
    "create_interface(current_unit_index).launch(share=True)"
   ]
  },
  {
   "cell_type": "code",
   "execution_count": null,
   "metadata": {},
   "outputs": [],
   "source": []
  }
 ],
 "metadata": {
  "kernelspec": {
   "display_name": "base",
   "language": "python",
   "name": "python3"
  },
  "language_info": {
   "codemirror_mode": {
    "name": "ipython",
    "version": 3
   },
   "file_extension": ".py",
   "mimetype": "text/x-python",
   "name": "python",
   "nbconvert_exporter": "python",
   "pygments_lexer": "ipython3",
   "version": "3.9.7"
  }
 },
 "nbformat": 4,
 "nbformat_minor": 2
}
